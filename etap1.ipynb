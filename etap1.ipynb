{
 "cells": [
  {
   "cell_type": "markdown",
   "id": "MMAl5OinYKIr",
   "metadata": {
    "id": "MMAl5OinYKIr"
   },
   "source": [
    "# IUM - Etap 1\n",
    "Wiktor Kulesza 304050\n",
    "\n",
    "Jakub Tomaszewski 307322"
   ]
  },
  {
   "cell_type": "markdown",
   "id": "44SbBkW2Ya5W",
   "metadata": {
    "id": "44SbBkW2Ya5W"
   },
   "source": [
    "## Wstęp\n",
    "Aktualnie właściciel sklepu zmaga się z problemem magazynowania produktów. Pracownicy magazynu nie są w stanie przewidzieć nadchodzącej ilości zwrotów co negatywnie wpływa na ich czas realizacji. \n",
    "\n",
    "---\n",
    "\n",
    "\n",
    "## Zadanie\n",
    "„Chyba w lepszy sposób musimy zacząć obsługiwać zwroty zakupionych u nas towarów. Konsultanci narzekają, że nie są w stanie tego inaczej zorganizować w magazynie nie mając pojęcia ilu takich przypadków mogą się spodziewać – trzeba im jakoś pomóc.”\n",
    "\n",
    "---\n",
    "\n",
    "\n",
    "## Definicja problemu biznesowego\n",
    "\n",
    "Optymalizacja czasu potrzebnego na obsługę zwrotów w magazynie.\n",
    "\n",
    "---\n",
    "\n",
    "\n",
    "## Definicja zadania modelowania\n",
    "Bazując na charakterystyce problemu nękającego firmę wiemy, że utworzymy model szeregów czasowych. Będziemy przewidywać ilość nadchodzacych zwrotów na podstawie przeszłości.\n",
    "\n",
    "\n",
    "---\n",
    "\n",
    "\n",
    "## Kryteria sukcesu\n",
    "### Biznesowe\n",
    "Zmniejszenie czasu realizacji zwrotów.\n",
    "### Analityczne\n",
    "Przewidywanie ilości zwrotów z dokładnością do 15 zwrotów na 2 tyg.\n",
    "\n",
    "\n",
    "---\n",
    "\n",
    "\n",
    "## Założenia\n",
    "*   Dokładność predykcji do 1 dnia\n",
    "*   Przewidywanie zwrotów na 2 tygodnie wprzód \n",
    "*   Zwroty mogą być realizowane do 30 dni\n",
    "*   Model powinien posiadać możliwość cyklicznego douczenia się\n",
    "*   Rozważamy jedynie zalogowanych użytkowników\n",
    "*   Przyjęty średni czas dostawy wynoszący alfa (który będzie średnią arytmetyczną albo medianą czasu wszystkich dostaw)\n",
    "\n",
    "\n",
    "---\n",
    "\n",
    "\n",
    "## Dostępne dane:\n",
    "1.   baza użytkowników,\n",
    "2.   katalog produktów,\n",
    "3.   historia sesji użytkowników,\n",
    "4.   dane dotyczące wysyłki zakupionych produktów.\n",
    "\n",
    "\n",
    "## Wstępne dane wejściowe:\n",
    "*   Sessions:\n",
    "> *   timestamp\n",
    "> *   event_type\n",
    "*   Products:\n",
    "> *   category_path\n",
    "> *   price\n",
    "> *   brand\n",
    "> *   weight_kg\n",
    "> *   optional_attributes\n",
    "*   Users:\n",
    "> *   city\n",
    "\n",
    "Dodatkowe dane wejściowe, które zostaną wykorzystane w przypadku nie uzyskania zadowalających wyników przez model:\n",
    "*   Products:\n",
    "> *   product_id\n",
    "*   Users:\n",
    "> *   user_id\n",
    "\n",
    "Powyższe atrybuty mogą nieść informację o zwrotach, gdyż niektórzy klienci mogą dokonywać zwrotów częściej. Podobnie tez w przypadku poszczególnych produktów, które mogą być zwracane częściej od innych. \n",
    "Wspomniane atrybuty będą musiały zostać zakodowane w formacie OneHotEncoding. Może to spowodować problem znacznego zwiększenia wymiarowości danych. W celu zmniejszenia tego zjawiska, zostanie zastosowana jedna z następujących technik redukcji wymiarowości:\n",
    "- Feature Hashing\n",
    "- Principal Component Analysis (PCA)\n",
    "\n",
    "\n",
    "## Dane wyjściowe:\n",
    "Lista dni oraz miesięcy wraz z liczbą przewidywanych zwrotów\n",
    "\n"
   ]
  },
  {
   "cell_type": "markdown",
   "id": "oJptUFBVmruH",
   "metadata": {
    "id": "oJptUFBVmruH"
   },
   "source": [
    "# Wczytanie danych"
   ]
  },
  {
   "cell_type": "markdown",
   "id": "3I1v0VW1zNcV",
   "metadata": {
    "id": "3I1v0VW1zNcV"
   },
   "source": [
    "W tym miejscu wczytujemy do zmiennych najnowsze udostępnione nam dane."
   ]
  },
  {
   "cell_type": "code",
   "execution_count": 2,
   "id": "2a9ce845",
   "metadata": {
    "executionInfo": {
     "elapsed": 625,
     "status": "ok",
     "timestamp": 1649970852951,
     "user": {
      "displayName": "Wiktor Kulesza",
      "userId": "00692131125282556945"
     },
     "user_tz": -120
    },
    "id": "2a9ce845"
   },
   "outputs": [],
   "source": [
    "import os\n",
    "import numpy as np\n",
    "import pandas as pd\n",
    "import matplotlib.pyplot as plt\n",
    "import seaborn as sns"
   ]
  },
  {
   "cell_type": "code",
   "execution_count": 3,
   "id": "320fca0a",
   "metadata": {
    "executionInfo": {
     "elapsed": 23,
     "status": "ok",
     "timestamp": 1649970853402,
     "user": {
      "displayName": "Wiktor Kulesza",
      "userId": "00692131125282556945"
     },
     "user_tz": -120
    },
    "id": "320fca0a"
   },
   "outputs": [],
   "source": [
    "DATA_DIR = 'data'"
   ]
  },
  {
   "cell_type": "code",
   "execution_count": 4,
   "id": "b29543de",
   "metadata": {
    "colab": {
     "base_uri": "https://localhost:8080/"
    },
    "executionInfo": {
     "elapsed": 21,
     "status": "ok",
     "timestamp": 1649970853403,
     "user": {
      "displayName": "Wiktor Kulesza",
      "userId": "00692131125282556945"
     },
     "user_tz": -120
    },
    "id": "b29543de",
    "outputId": "0fe8d403-5b65-4fb9-c912-fa1947decec0"
   },
   "outputs": [
    {
     "data": {
      "text/plain": [
       "['users.jsonl', 'deliveries.jsonl', 'sessions.jsonl', 'products.jsonl']"
      ]
     },
     "execution_count": 4,
     "metadata": {},
     "output_type": "execute_result"
    }
   ],
   "source": [
    "data_files = os.listdir(DATA_DIR)\n",
    "data_files"
   ]
  },
  {
   "cell_type": "code",
   "execution_count": 5,
   "id": "db6dc7b5",
   "metadata": {
    "colab": {
     "base_uri": "https://localhost:8080/",
     "height": 35
    },
    "executionInfo": {
     "elapsed": 17,
     "status": "ok",
     "timestamp": 1649970853404,
     "user": {
      "displayName": "Wiktor Kulesza",
      "userId": "00692131125282556945"
     },
     "user_tz": -120
    },
    "id": "db6dc7b5",
    "outputId": "43ff3664-c3c7-4f2e-f7e6-4c9a375ab203"
   },
   "outputs": [
    {
     "data": {
      "text/plain": [
       "'data/users.jsonl'"
      ]
     },
     "execution_count": 5,
     "metadata": {},
     "output_type": "execute_result"
    }
   ],
   "source": [
    "os.path.join(DATA_DIR, data_files[0])"
   ]
  },
  {
   "cell_type": "code",
   "execution_count": 6,
   "id": "8ecfc589",
   "metadata": {
    "executionInfo": {
     "elapsed": 638,
     "status": "ok",
     "timestamp": 1649970854027,
     "user": {
      "displayName": "Wiktor Kulesza",
      "userId": "00692131125282556945"
     },
     "user_tz": -120
    },
    "id": "8ecfc589"
   },
   "outputs": [],
   "source": [
    "df_users = pd.read_json(os.path.join(DATA_DIR, data_files[0]), lines=True)\n",
    "df_deliveries = pd.read_json(os.path.join(DATA_DIR, data_files[1]), lines=True)\n",
    "df_sessions = pd.read_json(os.path.join(DATA_DIR, data_files[2]), lines=True)\n",
    "df_products = pd.read_json(os.path.join(DATA_DIR, data_files[3]), lines=True)"
   ]
  },
  {
   "cell_type": "markdown",
   "id": "GzUUhNvRdvJe",
   "metadata": {
    "id": "GzUUhNvRdvJe"
   },
   "source": [
    "# Analiza danych"
   ]
  },
  {
   "cell_type": "markdown",
   "id": "AovimXQmelsh",
   "metadata": {
    "id": "AovimXQmelsh"
   },
   "source": [
    "Pierwsza analiza danych uwidoczniła braki oraz niepoprawne wartości atrybutów takie jak:\n",
    "\n",
    "*   ceny oraz wagi produktów, które często były ujemne, zerowe bądź nierozsądnie duże\n",
    "*   niektóre rekordy dostaw nie miały podanej firmy odpowiedzialnej za tę dostawę\n",
    "*   znaczna częśc dostaw nie miała wpisanej daty dostarczenia, co po analizie z klientem uznaliśmy za bląd danych\n",
    "\n",
    "Następnie otrzymaliśmy poprawione dane, które poddaliśmy ponownej analizie.\n",
    "Analizę tę rozpoczęliśmy od produktów."
   ]
  },
  {
   "cell_type": "markdown",
   "id": "ff6d8650",
   "metadata": {
    "id": "ff6d8650"
   },
   "source": [
    "- ## Products"
   ]
  },
  {
   "cell_type": "code",
   "execution_count": 7,
   "id": "550c2ead",
   "metadata": {
    "colab": {
     "base_uri": "https://localhost:8080/",
     "height": 206
    },
    "executionInfo": {
     "elapsed": 70,
     "status": "ok",
     "timestamp": 1649970854029,
     "user": {
      "displayName": "Wiktor Kulesza",
      "userId": "00692131125282556945"
     },
     "user_tz": -120
    },
    "id": "550c2ead",
    "outputId": "c21479f4-1dd5-4021-a43f-5ff14ddc8259"
   },
   "outputs": [
    {
     "data": {
      "text/html": [
       "<div>\n",
       "<style scoped>\n",
       "    .dataframe tbody tr th:only-of-type {\n",
       "        vertical-align: middle;\n",
       "    }\n",
       "\n",
       "    .dataframe tbody tr th {\n",
       "        vertical-align: top;\n",
       "    }\n",
       "\n",
       "    .dataframe thead th {\n",
       "        text-align: right;\n",
       "    }\n",
       "</style>\n",
       "<table border=\"1\" class=\"dataframe\">\n",
       "  <thead>\n",
       "    <tr style=\"text-align: right;\">\n",
       "      <th></th>\n",
       "      <th>product_id</th>\n",
       "      <th>product_name</th>\n",
       "      <th>category_path</th>\n",
       "      <th>price</th>\n",
       "      <th>brand</th>\n",
       "      <th>weight_kg</th>\n",
       "      <th>optional_attributes</th>\n",
       "    </tr>\n",
       "  </thead>\n",
       "  <tbody>\n",
       "    <tr>\n",
       "      <th>0</th>\n",
       "      <td>1001</td>\n",
       "      <td>Fotel gamingowy Sofotel Cerber</td>\n",
       "      <td>Akcesoria (Laptop, PC);Fotele gamingowe</td>\n",
       "      <td>619.99</td>\n",
       "      <td>Sofotel</td>\n",
       "      <td>19.0</td>\n",
       "      <td>{}</td>\n",
       "    </tr>\n",
       "    <tr>\n",
       "      <th>1</th>\n",
       "      <td>1002</td>\n",
       "      <td>Fotel gamingowy Sofotel Cerber</td>\n",
       "      <td>Akcesoria (Laptop, PC);Fotele gamingowe</td>\n",
       "      <td>599.99</td>\n",
       "      <td>Sofotel</td>\n",
       "      <td>19.0</td>\n",
       "      <td>{}</td>\n",
       "    </tr>\n",
       "    <tr>\n",
       "      <th>2</th>\n",
       "      <td>1003</td>\n",
       "      <td>Fotel gamingowy TopEshop DORY</td>\n",
       "      <td>Akcesoria (Laptop, PC);Fotele gamingowe</td>\n",
       "      <td>379.00</td>\n",
       "      <td>TopEshop</td>\n",
       "      <td>30.0</td>\n",
       "      <td>{}</td>\n",
       "    </tr>\n",
       "    <tr>\n",
       "      <th>3</th>\n",
       "      <td>1004</td>\n",
       "      <td>Fotel gamingowy Diablo Chairs WHITE BIEL BIAŁY</td>\n",
       "      <td>Akcesoria (Laptop, PC);Fotele gamingowe</td>\n",
       "      <td>197.00</td>\n",
       "      <td>Diablo Chairs</td>\n",
       "      <td>30.0</td>\n",
       "      <td>{}</td>\n",
       "    </tr>\n",
       "    <tr>\n",
       "      <th>4</th>\n",
       "      <td>1005</td>\n",
       "      <td>Fotel gamingowy STERNHOFF SDH 162 B+B</td>\n",
       "      <td>Akcesoria (Laptop, PC);Fotele gamingowe</td>\n",
       "      <td>399.00</td>\n",
       "      <td>STERNHOFF</td>\n",
       "      <td>17.0</td>\n",
       "      <td>{}</td>\n",
       "    </tr>\n",
       "  </tbody>\n",
       "</table>\n",
       "</div>"
      ],
      "text/plain": [
       "   product_id                                    product_name  \\\n",
       "0        1001                  Fotel gamingowy Sofotel Cerber   \n",
       "1        1002                  Fotel gamingowy Sofotel Cerber   \n",
       "2        1003                   Fotel gamingowy TopEshop DORY   \n",
       "3        1004  Fotel gamingowy Diablo Chairs WHITE BIEL BIAŁY   \n",
       "4        1005           Fotel gamingowy STERNHOFF SDH 162 B+B   \n",
       "\n",
       "                             category_path   price          brand  weight_kg  \\\n",
       "0  Akcesoria (Laptop, PC);Fotele gamingowe  619.99        Sofotel       19.0   \n",
       "1  Akcesoria (Laptop, PC);Fotele gamingowe  599.99        Sofotel       19.0   \n",
       "2  Akcesoria (Laptop, PC);Fotele gamingowe  379.00       TopEshop       30.0   \n",
       "3  Akcesoria (Laptop, PC);Fotele gamingowe  197.00  Diablo Chairs       30.0   \n",
       "4  Akcesoria (Laptop, PC);Fotele gamingowe  399.00      STERNHOFF       17.0   \n",
       "\n",
       "  optional_attributes  \n",
       "0                  {}  \n",
       "1                  {}  \n",
       "2                  {}  \n",
       "3                  {}  \n",
       "4                  {}  "
      ]
     },
     "execution_count": 7,
     "metadata": {},
     "output_type": "execute_result"
    }
   ],
   "source": [
    "df_products.head()"
   ]
  },
  {
   "cell_type": "code",
   "execution_count": 8,
   "id": "2e1ad404",
   "metadata": {
    "colab": {
     "base_uri": "https://localhost:8080/",
     "height": 300
    },
    "executionInfo": {
     "elapsed": 65,
     "status": "ok",
     "timestamp": 1649970854030,
     "user": {
      "displayName": "Wiktor Kulesza",
      "userId": "00692131125282556945"
     },
     "user_tz": -120
    },
    "id": "2e1ad404",
    "outputId": "b230611b-38b4-41c0-de5d-cd95bfdd4ef8"
   },
   "outputs": [
    {
     "data": {
      "text/html": [
       "<div>\n",
       "<style scoped>\n",
       "    .dataframe tbody tr th:only-of-type {\n",
       "        vertical-align: middle;\n",
       "    }\n",
       "\n",
       "    .dataframe tbody tr th {\n",
       "        vertical-align: top;\n",
       "    }\n",
       "\n",
       "    .dataframe thead th {\n",
       "        text-align: right;\n",
       "    }\n",
       "</style>\n",
       "<table border=\"1\" class=\"dataframe\">\n",
       "  <thead>\n",
       "    <tr style=\"text-align: right;\">\n",
       "      <th></th>\n",
       "      <th>product_id</th>\n",
       "      <th>price</th>\n",
       "      <th>weight_kg</th>\n",
       "    </tr>\n",
       "  </thead>\n",
       "  <tbody>\n",
       "    <tr>\n",
       "      <th>count</th>\n",
       "      <td>653.000000</td>\n",
       "      <td>653.000000</td>\n",
       "      <td>653.000000</td>\n",
       "    </tr>\n",
       "    <tr>\n",
       "      <th>mean</th>\n",
       "      <td>1327.000000</td>\n",
       "      <td>283.225804</td>\n",
       "      <td>3.923240</td>\n",
       "    </tr>\n",
       "    <tr>\n",
       "      <th>std</th>\n",
       "      <td>188.649145</td>\n",
       "      <td>264.330061</td>\n",
       "      <td>16.456905</td>\n",
       "    </tr>\n",
       "    <tr>\n",
       "      <th>min</th>\n",
       "      <td>1001.000000</td>\n",
       "      <td>0.000000</td>\n",
       "      <td>0.000000</td>\n",
       "    </tr>\n",
       "    <tr>\n",
       "      <th>25%</th>\n",
       "      <td>1164.000000</td>\n",
       "      <td>68.600000</td>\n",
       "      <td>0.114000</td>\n",
       "    </tr>\n",
       "    <tr>\n",
       "      <th>50%</th>\n",
       "      <td>1327.000000</td>\n",
       "      <td>174.950000</td>\n",
       "      <td>0.300000</td>\n",
       "    </tr>\n",
       "    <tr>\n",
       "      <th>75%</th>\n",
       "      <td>1490.000000</td>\n",
       "      <td>429.000000</td>\n",
       "      <td>3.580000</td>\n",
       "    </tr>\n",
       "    <tr>\n",
       "      <th>max</th>\n",
       "      <td>1653.000000</td>\n",
       "      <td>999.000000</td>\n",
       "      <td>300.000000</td>\n",
       "    </tr>\n",
       "  </tbody>\n",
       "</table>\n",
       "</div>"
      ],
      "text/plain": [
       "        product_id       price   weight_kg\n",
       "count   653.000000  653.000000  653.000000\n",
       "mean   1327.000000  283.225804    3.923240\n",
       "std     188.649145  264.330061   16.456905\n",
       "min    1001.000000    0.000000    0.000000\n",
       "25%    1164.000000   68.600000    0.114000\n",
       "50%    1327.000000  174.950000    0.300000\n",
       "75%    1490.000000  429.000000    3.580000\n",
       "max    1653.000000  999.000000  300.000000"
      ]
     },
     "execution_count": 8,
     "metadata": {},
     "output_type": "execute_result"
    }
   ],
   "source": [
    "df_products.describe()"
   ]
  },
  {
   "cell_type": "markdown",
   "id": "a1cf6c1c",
   "metadata": {
    "id": "a1cf6c1c"
   },
   "source": [
    "Jak udało nam się zauważyć nowo dostarczone dane nie posiadają już wartości ujemnych oraz ceny wydają się być racjonalne (brak bardzo wysokich cen). Dodatkowo nie brakuje żadnych danych atrybutów oraz wiemy z jakim typem danych będziemy pracować, co widać w niżej załączonej komórce "
   ]
  },
  {
   "cell_type": "code",
   "execution_count": 9,
   "id": "ff4d6982",
   "metadata": {
    "colab": {
     "base_uri": "https://localhost:8080/"
    },
    "executionInfo": {
     "elapsed": 62,
     "status": "ok",
     "timestamp": 1649970854032,
     "user": {
      "displayName": "Wiktor Kulesza",
      "userId": "00692131125282556945"
     },
     "user_tz": -120
    },
    "id": "ff4d6982",
    "outputId": "d9b50144-cf5a-49b2-b4d9-fe8dec8749f2",
    "scrolled": true
   },
   "outputs": [
    {
     "name": "stdout",
     "output_type": "stream",
     "text": [
      "<class 'pandas.core.frame.DataFrame'>\n",
      "RangeIndex: 653 entries, 0 to 652\n",
      "Data columns (total 7 columns):\n",
      " #   Column               Non-Null Count  Dtype  \n",
      "---  ------               --------------  -----  \n",
      " 0   product_id           653 non-null    int64  \n",
      " 1   product_name         653 non-null    object \n",
      " 2   category_path        653 non-null    object \n",
      " 3   price                653 non-null    float64\n",
      " 4   brand                653 non-null    object \n",
      " 5   weight_kg            653 non-null    float64\n",
      " 6   optional_attributes  653 non-null    object \n",
      "dtypes: float64(2), int64(1), object(4)\n",
      "memory usage: 35.8+ KB\n"
     ]
    }
   ],
   "source": [
    "df_products.info()"
   ]
  },
  {
   "cell_type": "code",
   "execution_count": 10,
   "id": "25052a61",
   "metadata": {
    "colab": {
     "base_uri": "https://localhost:8080/"
    },
    "executionInfo": {
     "elapsed": 47,
     "status": "ok",
     "timestamp": 1649970854033,
     "user": {
      "displayName": "Wiktor Kulesza",
      "userId": "00692131125282556945"
     },
     "user_tz": -120
    },
    "id": "25052a61",
    "outputId": "c87f47e2-4301-4fa1-8ae7-bb1af2d484bc",
    "scrolled": true
   },
   "outputs": [
    {
     "data": {
      "text/plain": [
       "['A4TECH',\n",
       " 'A4Tech',\n",
       " 'ADATA',\n",
       " 'AOC',\n",
       " 'ART',\n",
       " 'ASUS',\n",
       " 'Acer',\n",
       " 'Alio',\n",
       " 'Angel',\n",
       " 'Apacer',\n",
       " 'Apple',\n",
       " 'Asus',\n",
       " 'BenQ',\n",
       " 'Blow',\n",
       " 'Brother',\n",
       " 'CRUCIAL',\n",
       " 'Cooler Master',\n",
       " 'Corsair',\n",
       " 'Creative',\n",
       " 'Defender',\n",
       " 'Dell',\n",
       " 'Diablo Chairs',\n",
       " 'ELPIDA',\n",
       " 'Epson',\n",
       " 'Esperanza',\n",
       " 'Fury',\n",
       " 'G.SKILL',\n",
       " 'GIGABYTE',\n",
       " 'GOODRAM',\n",
       " 'Gembird',\n",
       " 'Genesis',\n",
       " 'Giosedio',\n",
       " 'Goodram',\n",
       " 'HP',\n",
       " 'Hikvision',\n",
       " 'Huawei',\n",
       " 'Huzaro',\n",
       " 'HyperX',\n",
       " 'IMILAB',\n",
       " 'Ipega',\n",
       " 'Jabra',\n",
       " 'Kingston',\n",
       " 'LG',\n",
       " 'Lenovo',\n",
       " 'Logitech',\n",
       " 'MSI',\n",
       " 'Malatec',\n",
       " 'Marvo',\n",
       " 'Media-Tech',\n",
       " 'Micron',\n",
       " 'Microsoft',\n",
       " 'Modecom',\n",
       " 'Mozos',\n",
       " 'Natec',\n",
       " 'Onikuma',\n",
       " 'PNY',\n",
       " 'Patriot',\n",
       " 'Philips',\n",
       " 'Qoltec',\n",
       " 'Ramaxel',\n",
       " 'Rapoo',\n",
       " 'Razer',\n",
       " 'Red Fighter',\n",
       " 'Roccat',\n",
       " 'SK Hynix',\n",
       " 'SPC GEAR',\n",
       " 'SPC Gear',\n",
       " 'STERNHOFF',\n",
       " 'Samsung',\n",
       " 'SanDisk',\n",
       " 'Sennheiser',\n",
       " 'Sharkoon',\n",
       " 'Sofotel',\n",
       " 'SpeedLink',\n",
       " 'SteelSeries',\n",
       " 'Thrustmaster',\n",
       " 'Titanum',\n",
       " 'TopEshop',\n",
       " 'Tracer',\n",
       " 'Trust',\n",
       " 'Unitek',\n",
       " 'Xiaomi',\n",
       " 'eHokery',\n",
       " 'iBox',\n",
       " 'iMICE',\n",
       " 'iiyama',\n",
       " 'retoo',\n",
       " 'uGo']"
      ]
     },
     "execution_count": 10,
     "metadata": {},
     "output_type": "execute_result"
    }
   ],
   "source": [
    "sorted(df_products.brand.unique())"
   ]
  },
  {
   "cell_type": "markdown",
   "id": "525a29e0",
   "metadata": {
    "id": "525a29e0"
   },
   "source": [
    "Problem, którego nie udało się wyeliminować w nowej paczce danych były powtarzające się nazwy firm produkujących dostępne w sklepie produkty. Problem ten zamierzamy rozwiązać sprowadzając nazwy firm do małych liter. Poniżej lista powtarzających się firm: \n",
    "- `A4TECH`\n",
    "- `A4Tech`\n",
    "- `ASUS`\n",
    "- `asus`\n",
    "- `GOODRAM`\n",
    "- `Goodram`\n",
    "- `SPC GEAR`\n",
    "- `SPC Gear`\n",
    "\n",
    "Funkcja - toLower()"
   ]
  },
  {
   "cell_type": "code",
   "execution_count": 11,
   "id": "662c75fc",
   "metadata": {
    "executionInfo": {
     "elapsed": 35,
     "status": "ok",
     "timestamp": 1649970854035,
     "user": {
      "displayName": "Wiktor Kulesza",
      "userId": "00692131125282556945"
     },
     "user_tz": -120
    },
    "id": "662c75fc"
   },
   "outputs": [],
   "source": [
    "df_products['brand'] = df_products['brand'].apply(lambda x: x.lower())"
   ]
  },
  {
   "cell_type": "code",
   "execution_count": 12,
   "id": "b2aacc4b",
   "metadata": {
    "colab": {
     "base_uri": "https://localhost:8080/"
    },
    "executionInfo": {
     "elapsed": 803,
     "status": "ok",
     "timestamp": 1649970854806,
     "user": {
      "displayName": "Wiktor Kulesza",
      "userId": "00692131125282556945"
     },
     "user_tz": -120
    },
    "id": "b2aacc4b",
    "outputId": "f601f2e8-db33-408e-e5ed-5890bd18f44d"
   },
   "outputs": [
    {
     "data": {
      "text/plain": [
       "array(['Akcesoria (Laptop, PC);Fotele gamingowe',\n",
       "       'Akcesoria (Laptop, PC);Kamery internetowe',\n",
       "       'Części do laptopów;Pamięć RAM', 'Części i akcesoria;Matryce LCD',\n",
       "       'Części i akcesoria;Zasilacze LCD',\n",
       "       'Kable i przedłużacze;DisplayPort', 'Klawiatury;Bezprzewodowe',\n",
       "       'Klawiatury;Przewodowe', 'Komputery;Komputery stacjonarne',\n",
       "       'Mikrofony i słuchawki;Słuchawki bezprzewodowe',\n",
       "       'Mikrofony i słuchawki;Słuchawki przewodowe',\n",
       "       'Monitory komputerowe;Monitory', 'Myszki;Bezprzewodowe',\n",
       "       'Myszki;Przewodowe', 'Pamięci przenośne;Pendrive',\n",
       "       'Podzespoły komputerowe;Pamięć RAM', 'Skanery;Płaskie USB',\n",
       "       'Skanery;Profesjonalne', 'Tablety;Urządzenia',\n",
       "       'Urządzenia VR;Gogle VR', 'Urządzenia wskazujące;Pady',\n",
       "       'Zestaw klawiatura i mysz;Bezprzewodowe',\n",
       "       'Zestaw klawiatura i mysz;Przewodowe'], dtype=object)"
      ]
     },
     "execution_count": 12,
     "metadata": {},
     "output_type": "execute_result"
    }
   ],
   "source": [
    "df_products['category_path'].unique()"
   ]
  },
  {
   "cell_type": "markdown",
   "id": "6tZFs26NpSE_",
   "metadata": {
    "id": "6tZFs26NpSE_"
   },
   "source": [
    "Podobne porównanie w celu wykrycia duplikatów przeprowadziliśmy na kategoriach produktów, lecz w tym przypadków nie spotkaliśmy się z podobnym problemem."
   ]
  },
  {
   "cell_type": "markdown",
   "id": "2b6f30cb",
   "metadata": {
    "id": "2b6f30cb"
   },
   "source": [
    "- ## Sessions data"
   ]
  },
  {
   "cell_type": "markdown",
   "id": "GMDD8T9jpj6_",
   "metadata": {
    "id": "GMDD8T9jpj6_"
   },
   "source": [
    "Następnie zabraliśmy się za analizę rekordów sesji, w szczególności będziemy chcieli przyjrzeć się sesjom zwrotów, które mogą być bardzo przydatne w późniejszej estymacji ilości zwrotów."
   ]
  },
  {
   "cell_type": "code",
   "execution_count": 13,
   "id": "c0800fb3",
   "metadata": {
    "colab": {
     "base_uri": "https://localhost:8080/",
     "height": 206
    },
    "executionInfo": {
     "elapsed": 99,
     "status": "ok",
     "timestamp": 1649970854807,
     "user": {
      "displayName": "Wiktor Kulesza",
      "userId": "00692131125282556945"
     },
     "user_tz": -120
    },
    "id": "c0800fb3",
    "outputId": "ab3cde05-4bda-4263-97f7-914434172980",
    "scrolled": true
   },
   "outputs": [
    {
     "data": {
      "text/html": [
       "<div>\n",
       "<style scoped>\n",
       "    .dataframe tbody tr th:only-of-type {\n",
       "        vertical-align: middle;\n",
       "    }\n",
       "\n",
       "    .dataframe tbody tr th {\n",
       "        vertical-align: top;\n",
       "    }\n",
       "\n",
       "    .dataframe thead th {\n",
       "        text-align: right;\n",
       "    }\n",
       "</style>\n",
       "<table border=\"1\" class=\"dataframe\">\n",
       "  <thead>\n",
       "    <tr style=\"text-align: right;\">\n",
       "      <th></th>\n",
       "      <th>session_id</th>\n",
       "      <th>timestamp</th>\n",
       "      <th>user_id</th>\n",
       "      <th>product_id</th>\n",
       "      <th>event_type</th>\n",
       "      <th>offered_discount</th>\n",
       "      <th>purchase_id</th>\n",
       "    </tr>\n",
       "  </thead>\n",
       "  <tbody>\n",
       "    <tr>\n",
       "      <th>0</th>\n",
       "      <td>124</td>\n",
       "      <td>2020-01-25 19:25:15</td>\n",
       "      <td>102</td>\n",
       "      <td>1538</td>\n",
       "      <td>VIEW_PRODUCT</td>\n",
       "      <td>5.0</td>\n",
       "      <td>NaN</td>\n",
       "    </tr>\n",
       "    <tr>\n",
       "      <th>1</th>\n",
       "      <td>124</td>\n",
       "      <td>2020-01-25 19:26:12</td>\n",
       "      <td>102</td>\n",
       "      <td>1542</td>\n",
       "      <td>VIEW_PRODUCT</td>\n",
       "      <td>5.0</td>\n",
       "      <td>NaN</td>\n",
       "    </tr>\n",
       "    <tr>\n",
       "      <th>2</th>\n",
       "      <td>124</td>\n",
       "      <td>2020-01-25 19:30:49</td>\n",
       "      <td>102</td>\n",
       "      <td>1539</td>\n",
       "      <td>VIEW_PRODUCT</td>\n",
       "      <td>5.0</td>\n",
       "      <td>NaN</td>\n",
       "    </tr>\n",
       "    <tr>\n",
       "      <th>3</th>\n",
       "      <td>124</td>\n",
       "      <td>2020-01-25 19:35:40</td>\n",
       "      <td>102</td>\n",
       "      <td>1541</td>\n",
       "      <td>VIEW_PRODUCT</td>\n",
       "      <td>5.0</td>\n",
       "      <td>NaN</td>\n",
       "    </tr>\n",
       "    <tr>\n",
       "      <th>4</th>\n",
       "      <td>124</td>\n",
       "      <td>2020-01-25 19:39:26</td>\n",
       "      <td>102</td>\n",
       "      <td>1547</td>\n",
       "      <td>VIEW_PRODUCT</td>\n",
       "      <td>5.0</td>\n",
       "      <td>NaN</td>\n",
       "    </tr>\n",
       "  </tbody>\n",
       "</table>\n",
       "</div>"
      ],
      "text/plain": [
       "   session_id           timestamp  user_id  product_id    event_type  \\\n",
       "0         124 2020-01-25 19:25:15      102        1538  VIEW_PRODUCT   \n",
       "1         124 2020-01-25 19:26:12      102        1542  VIEW_PRODUCT   \n",
       "2         124 2020-01-25 19:30:49      102        1539  VIEW_PRODUCT   \n",
       "3         124 2020-01-25 19:35:40      102        1541  VIEW_PRODUCT   \n",
       "4         124 2020-01-25 19:39:26      102        1547  VIEW_PRODUCT   \n",
       "\n",
       "   offered_discount  purchase_id  \n",
       "0               5.0          NaN  \n",
       "1               5.0          NaN  \n",
       "2               5.0          NaN  \n",
       "3               5.0          NaN  \n",
       "4               5.0          NaN  "
      ]
     },
     "execution_count": 13,
     "metadata": {},
     "output_type": "execute_result"
    }
   ],
   "source": [
    "df_sessions.head()"
   ]
  },
  {
   "cell_type": "markdown",
   "id": "AbGQrGifzkzO",
   "metadata": {
    "id": "AbGQrGifzkzO"
   },
   "source": [
    "Postanowiliśmy również tym razem sprawdzić z jakim typem danych mamy doczynienia oraz czy nie brakuje jakichkolwiek wartości atrybutów w nowej paczce danych."
   ]
  },
  {
   "cell_type": "code",
   "execution_count": 14,
   "id": "cadb58d3",
   "metadata": {
    "colab": {
     "base_uri": "https://localhost:8080/"
    },
    "executionInfo": {
     "elapsed": 98,
     "status": "ok",
     "timestamp": 1649970854809,
     "user": {
      "displayName": "Wiktor Kulesza",
      "userId": "00692131125282556945"
     },
     "user_tz": -120
    },
    "id": "cadb58d3",
    "outputId": "06829736-edbf-48b5-b0bb-69973582e83d"
   },
   "outputs": [
    {
     "name": "stdout",
     "output_type": "stream",
     "text": [
      "<class 'pandas.core.frame.DataFrame'>\n",
      "RangeIndex: 99204 entries, 0 to 99203\n",
      "Data columns (total 7 columns):\n",
      " #   Column            Non-Null Count  Dtype         \n",
      "---  ------            --------------  -----         \n",
      " 0   session_id        99204 non-null  int64         \n",
      " 1   timestamp         99204 non-null  datetime64[ns]\n",
      " 2   user_id           99204 non-null  int64         \n",
      " 3   product_id        99204 non-null  int64         \n",
      " 4   event_type        99204 non-null  object        \n",
      " 5   offered_discount  97543 non-null  float64       \n",
      " 6   purchase_id       15859 non-null  float64       \n",
      "dtypes: datetime64[ns](1), float64(2), int64(3), object(1)\n",
      "memory usage: 5.3+ MB\n"
     ]
    }
   ],
   "source": [
    "df_sessions.info()"
   ]
  },
  {
   "cell_type": "code",
   "execution_count": 15,
   "id": "419085b5",
   "metadata": {
    "colab": {
     "base_uri": "https://localhost:8080/"
    },
    "executionInfo": {
     "elapsed": 96,
     "status": "ok",
     "timestamp": 1649970854810,
     "user": {
      "displayName": "Wiktor Kulesza",
      "userId": "00692131125282556945"
     },
     "user_tz": -120
    },
    "id": "419085b5",
    "outputId": "249dd9ad-b9f3-4a3b-95a1-b89f24be2263"
   },
   "outputs": [
    {
     "data": {
      "text/plain": [
       "VIEW_PRODUCT      83345\n",
       "BUY_PRODUCT       14198\n",
       "RETURN_PRODUCT     1661\n",
       "Name: event_type, dtype: int64"
      ]
     },
     "execution_count": 15,
     "metadata": {},
     "output_type": "execute_result"
    }
   ],
   "source": [
    "df_sessions['event_type'].value_counts()"
   ]
  },
  {
   "cell_type": "markdown",
   "id": "KUDolcgrpvzF",
   "metadata": {
    "id": "KUDolcgrpvzF"
   },
   "source": [
    "Jak widzimy wyżej dane dotyczące sesji nie mają brakujących wartości atrybutów oraz posiadają rekordy dotyczące zwrotów które stanowią około 1,5% wszystkich sesji. Postanowiliśmy przyjrzeć się bliżej temu typowi sesji."
   ]
  },
  {
   "cell_type": "code",
   "execution_count": 16,
   "id": "ffe51240",
   "metadata": {
    "colab": {
     "base_uri": "https://localhost:8080/",
     "height": 363
    },
    "executionInfo": {
     "elapsed": 94,
     "status": "ok",
     "timestamp": 1649970854811,
     "user": {
      "displayName": "Wiktor Kulesza",
      "userId": "00692131125282556945"
     },
     "user_tz": -120
    },
    "id": "ffe51240",
    "outputId": "555c1982-cfa1-4a6a-adf6-1bc244e57e01",
    "scrolled": true
   },
   "outputs": [
    {
     "data": {
      "text/html": [
       "<div>\n",
       "<style scoped>\n",
       "    .dataframe tbody tr th:only-of-type {\n",
       "        vertical-align: middle;\n",
       "    }\n",
       "\n",
       "    .dataframe tbody tr th {\n",
       "        vertical-align: top;\n",
       "    }\n",
       "\n",
       "    .dataframe thead th {\n",
       "        text-align: right;\n",
       "    }\n",
       "</style>\n",
       "<table border=\"1\" class=\"dataframe\">\n",
       "  <thead>\n",
       "    <tr style=\"text-align: right;\">\n",
       "      <th></th>\n",
       "      <th>session_id</th>\n",
       "      <th>timestamp</th>\n",
       "      <th>user_id</th>\n",
       "      <th>product_id</th>\n",
       "      <th>event_type</th>\n",
       "      <th>offered_discount</th>\n",
       "      <th>purchase_id</th>\n",
       "    </tr>\n",
       "  </thead>\n",
       "  <tbody>\n",
       "    <tr>\n",
       "      <th>7</th>\n",
       "      <td>125</td>\n",
       "      <td>2020-02-08 09:00:56.623825</td>\n",
       "      <td>102</td>\n",
       "      <td>1546</td>\n",
       "      <td>RETURN_PRODUCT</td>\n",
       "      <td>NaN</td>\n",
       "      <td>20001.0</td>\n",
       "    </tr>\n",
       "    <tr>\n",
       "      <th>49</th>\n",
       "      <td>139</td>\n",
       "      <td>2020-10-14 15:36:40.396254</td>\n",
       "      <td>102</td>\n",
       "      <td>1603</td>\n",
       "      <td>RETURN_PRODUCT</td>\n",
       "      <td>NaN</td>\n",
       "      <td>20010.0</td>\n",
       "    </tr>\n",
       "    <tr>\n",
       "      <th>134</th>\n",
       "      <td>163</td>\n",
       "      <td>2021-11-27 14:01:22.948100</td>\n",
       "      <td>103</td>\n",
       "      <td>1330</td>\n",
       "      <td>RETURN_PRODUCT</td>\n",
       "      <td>NaN</td>\n",
       "      <td>20024.0</td>\n",
       "    </tr>\n",
       "    <tr>\n",
       "      <th>164</th>\n",
       "      <td>170</td>\n",
       "      <td>2021-12-07 22:33:20.878858</td>\n",
       "      <td>103</td>\n",
       "      <td>1200</td>\n",
       "      <td>RETURN_PRODUCT</td>\n",
       "      <td>NaN</td>\n",
       "      <td>20028.0</td>\n",
       "    </tr>\n",
       "    <tr>\n",
       "      <th>177</th>\n",
       "      <td>174</td>\n",
       "      <td>2020-10-18 19:58:58.170940</td>\n",
       "      <td>103</td>\n",
       "      <td>1543</td>\n",
       "      <td>RETURN_PRODUCT</td>\n",
       "      <td>NaN</td>\n",
       "      <td>20031.0</td>\n",
       "    </tr>\n",
       "    <tr>\n",
       "      <th>278</th>\n",
       "      <td>197</td>\n",
       "      <td>2021-11-29 13:08:58.459805</td>\n",
       "      <td>103</td>\n",
       "      <td>1610</td>\n",
       "      <td>RETURN_PRODUCT</td>\n",
       "      <td>NaN</td>\n",
       "      <td>20046.0</td>\n",
       "    </tr>\n",
       "    <tr>\n",
       "      <th>297</th>\n",
       "      <td>202</td>\n",
       "      <td>2022-02-16 17:40:07.485396</td>\n",
       "      <td>103</td>\n",
       "      <td>1095</td>\n",
       "      <td>RETURN_PRODUCT</td>\n",
       "      <td>NaN</td>\n",
       "      <td>20049.0</td>\n",
       "    </tr>\n",
       "    <tr>\n",
       "      <th>319</th>\n",
       "      <td>209</td>\n",
       "      <td>2021-11-30 05:57:00.968747</td>\n",
       "      <td>103</td>\n",
       "      <td>1610</td>\n",
       "      <td>RETURN_PRODUCT</td>\n",
       "      <td>NaN</td>\n",
       "      <td>20053.0</td>\n",
       "    </tr>\n",
       "    <tr>\n",
       "      <th>336</th>\n",
       "      <td>213</td>\n",
       "      <td>2021-02-21 04:05:53.790189</td>\n",
       "      <td>103</td>\n",
       "      <td>1608</td>\n",
       "      <td>RETURN_PRODUCT</td>\n",
       "      <td>NaN</td>\n",
       "      <td>20056.0</td>\n",
       "    </tr>\n",
       "    <tr>\n",
       "      <th>544</th>\n",
       "      <td>252</td>\n",
       "      <td>2022-01-27 01:15:15.171814</td>\n",
       "      <td>105</td>\n",
       "      <td>1616</td>\n",
       "      <td>RETURN_PRODUCT</td>\n",
       "      <td>NaN</td>\n",
       "      <td>20084.0</td>\n",
       "    </tr>\n",
       "  </tbody>\n",
       "</table>\n",
       "</div>"
      ],
      "text/plain": [
       "     session_id                  timestamp  user_id  product_id  \\\n",
       "7           125 2020-02-08 09:00:56.623825      102        1546   \n",
       "49          139 2020-10-14 15:36:40.396254      102        1603   \n",
       "134         163 2021-11-27 14:01:22.948100      103        1330   \n",
       "164         170 2021-12-07 22:33:20.878858      103        1200   \n",
       "177         174 2020-10-18 19:58:58.170940      103        1543   \n",
       "278         197 2021-11-29 13:08:58.459805      103        1610   \n",
       "297         202 2022-02-16 17:40:07.485396      103        1095   \n",
       "319         209 2021-11-30 05:57:00.968747      103        1610   \n",
       "336         213 2021-02-21 04:05:53.790189      103        1608   \n",
       "544         252 2022-01-27 01:15:15.171814      105        1616   \n",
       "\n",
       "         event_type  offered_discount  purchase_id  \n",
       "7    RETURN_PRODUCT               NaN      20001.0  \n",
       "49   RETURN_PRODUCT               NaN      20010.0  \n",
       "134  RETURN_PRODUCT               NaN      20024.0  \n",
       "164  RETURN_PRODUCT               NaN      20028.0  \n",
       "177  RETURN_PRODUCT               NaN      20031.0  \n",
       "278  RETURN_PRODUCT               NaN      20046.0  \n",
       "297  RETURN_PRODUCT               NaN      20049.0  \n",
       "319  RETURN_PRODUCT               NaN      20053.0  \n",
       "336  RETURN_PRODUCT               NaN      20056.0  \n",
       "544  RETURN_PRODUCT               NaN      20084.0  "
      ]
     },
     "execution_count": 16,
     "metadata": {},
     "output_type": "execute_result"
    }
   ],
   "source": [
    "\n",
    "df_return_sessions = df_sessions[df_sessions['event_type'] == 'RETURN_PRODUCT']\n",
    "df_return_sessions.head(10)"
   ]
  },
  {
   "cell_type": "code",
   "execution_count": 17,
   "id": "117bab48",
   "metadata": {
    "colab": {
     "base_uri": "https://localhost:8080/"
    },
    "executionInfo": {
     "elapsed": 93,
     "status": "ok",
     "timestamp": 1649970854812,
     "user": {
      "displayName": "Wiktor Kulesza",
      "userId": "00692131125282556945"
     },
     "user_tz": -120
    },
    "id": "117bab48",
    "outputId": "73aaaa74-6b89-4bbd-9870-e857d781b7fc",
    "scrolled": true
   },
   "outputs": [
    {
     "name": "stdout",
     "output_type": "stream",
     "text": [
      "<class 'pandas.core.frame.DataFrame'>\n",
      "Int64Index: 1661 entries, 7 to 99139\n",
      "Data columns (total 7 columns):\n",
      " #   Column            Non-Null Count  Dtype         \n",
      "---  ------            --------------  -----         \n",
      " 0   session_id        1661 non-null   int64         \n",
      " 1   timestamp         1661 non-null   datetime64[ns]\n",
      " 2   user_id           1661 non-null   int64         \n",
      " 3   product_id        1661 non-null   int64         \n",
      " 4   event_type        1661 non-null   object        \n",
      " 5   offered_discount  0 non-null      float64       \n",
      " 6   purchase_id       1661 non-null   float64       \n",
      "dtypes: datetime64[ns](1), float64(2), int64(3), object(1)\n",
      "memory usage: 103.8+ KB\n"
     ]
    }
   ],
   "source": [
    "df_return_sessions.info()"
   ]
  },
  {
   "cell_type": "code",
   "execution_count": 18,
   "id": "06caca24",
   "metadata": {
    "colab": {
     "base_uri": "https://localhost:8080/"
    },
    "executionInfo": {
     "elapsed": 93,
     "status": "ok",
     "timestamp": 1649970854817,
     "user": {
      "displayName": "Wiktor Kulesza",
      "userId": "00692131125282556945"
     },
     "user_tz": -120
    },
    "id": "06caca24",
    "outputId": "11ad94f3-18aa-4032-fd69-fb657fc9b72b"
   },
   "outputs": [
    {
     "data": {
      "text/plain": [
       "session_id             0\n",
       "timestamp              0\n",
       "user_id                0\n",
       "product_id             0\n",
       "event_type             0\n",
       "offered_discount    1661\n",
       "purchase_id            0\n",
       "dtype: int64"
      ]
     },
     "execution_count": 18,
     "metadata": {},
     "output_type": "execute_result"
    }
   ],
   "source": [
    "df_return_sessions.isna().sum()"
   ]
  },
  {
   "cell_type": "markdown",
   "id": "LX6drS3-uDj0",
   "metadata": {
    "id": "LX6drS3-uDj0"
   },
   "source": [
    "Postanowiliśmy również sprawdzić liczbę rodzajów produktów, które ulegają zwrotom oraz zakupom. Przy budowaniu modelu trzeba będzie zwrócić uwagę na to jaki procent kupionego danego produktu podlega zwrotowi."
   ]
  },
  {
   "cell_type": "code",
   "execution_count": 19,
   "id": "ibIolXD4t7OY",
   "metadata": {
    "colab": {
     "base_uri": "https://localhost:8080/"
    },
    "executionInfo": {
     "elapsed": 91,
     "status": "ok",
     "timestamp": 1649970854818,
     "user": {
      "displayName": "Wiktor Kulesza",
      "userId": "00692131125282556945"
     },
     "user_tz": -120
    },
    "id": "ibIolXD4t7OY",
    "outputId": "a77bc669-544d-4e0f-9958-d98b1f86a1ac"
   },
   "outputs": [
    {
     "data": {
      "text/plain": [
       "164"
      ]
     },
     "execution_count": 19,
     "metadata": {},
     "output_type": "execute_result"
    }
   ],
   "source": [
    "#sprawdzamy ile różnych produktów jest oglądanych/zamawianych/zwracanych\n",
    "df_sessions['product_id'].nunique()"
   ]
  },
  {
   "cell_type": "code",
   "execution_count": 20,
   "id": "9DoUw_fzufoy",
   "metadata": {
    "colab": {
     "base_uri": "https://localhost:8080/"
    },
    "executionInfo": {
     "elapsed": 88,
     "status": "ok",
     "timestamp": 1649970854819,
     "user": {
      "displayName": "Wiktor Kulesza",
      "userId": "00692131125282556945"
     },
     "user_tz": -120
    },
    "id": "9DoUw_fzufoy",
    "outputId": "1efc89e0-da8e-4725-ea79-b0458b11661f"
   },
   "outputs": [
    {
     "data": {
      "text/plain": [
       "164"
      ]
     },
     "execution_count": 20,
     "metadata": {},
     "output_type": "execute_result"
    }
   ],
   "source": [
    "#sprawdzamy ile różnych produktów jest zwracanych\n",
    "df_return_sessions['product_id'].nunique()"
   ]
  },
  {
   "cell_type": "markdown",
   "id": "256d62f5",
   "metadata": {
    "id": "256d62f5"
   },
   "source": [
    "Możemy zauważyć, że rekordy dotyczące zwrotu są poprawne. Wszystkie jednak posiadają kolumnę dotyczącą zaoferowanej zniżki, która w tym kontekście nie ma żadnego sensu, dlatego w ramach dalszej analizy zwrotów postanowiliśmy pominąć tę kolumnę."
   ]
  },
  {
   "cell_type": "markdown",
   "id": "97075856",
   "metadata": {
    "id": "97075856"
   },
   "source": [
    "Removing redundant `offered discount` column"
   ]
  },
  {
   "cell_type": "code",
   "execution_count": 21,
   "id": "ecbc9739",
   "metadata": {
    "colab": {
     "base_uri": "https://localhost:8080/",
     "height": 206
    },
    "executionInfo": {
     "elapsed": 86,
     "status": "ok",
     "timestamp": 1649970854820,
     "user": {
      "displayName": "Wiktor Kulesza",
      "userId": "00692131125282556945"
     },
     "user_tz": -120
    },
    "id": "ecbc9739",
    "outputId": "caf34716-b973-4345-b453-868e32e5d283"
   },
   "outputs": [
    {
     "data": {
      "text/html": [
       "<div>\n",
       "<style scoped>\n",
       "    .dataframe tbody tr th:only-of-type {\n",
       "        vertical-align: middle;\n",
       "    }\n",
       "\n",
       "    .dataframe tbody tr th {\n",
       "        vertical-align: top;\n",
       "    }\n",
       "\n",
       "    .dataframe thead th {\n",
       "        text-align: right;\n",
       "    }\n",
       "</style>\n",
       "<table border=\"1\" class=\"dataframe\">\n",
       "  <thead>\n",
       "    <tr style=\"text-align: right;\">\n",
       "      <th></th>\n",
       "      <th>session_id</th>\n",
       "      <th>timestamp</th>\n",
       "      <th>user_id</th>\n",
       "      <th>product_id</th>\n",
       "      <th>event_type</th>\n",
       "      <th>purchase_id</th>\n",
       "    </tr>\n",
       "  </thead>\n",
       "  <tbody>\n",
       "    <tr>\n",
       "      <th>0</th>\n",
       "      <td>124</td>\n",
       "      <td>2020-01-25 19:25:15</td>\n",
       "      <td>102</td>\n",
       "      <td>1538</td>\n",
       "      <td>VIEW_PRODUCT</td>\n",
       "      <td>NaN</td>\n",
       "    </tr>\n",
       "    <tr>\n",
       "      <th>1</th>\n",
       "      <td>124</td>\n",
       "      <td>2020-01-25 19:26:12</td>\n",
       "      <td>102</td>\n",
       "      <td>1542</td>\n",
       "      <td>VIEW_PRODUCT</td>\n",
       "      <td>NaN</td>\n",
       "    </tr>\n",
       "    <tr>\n",
       "      <th>2</th>\n",
       "      <td>124</td>\n",
       "      <td>2020-01-25 19:30:49</td>\n",
       "      <td>102</td>\n",
       "      <td>1539</td>\n",
       "      <td>VIEW_PRODUCT</td>\n",
       "      <td>NaN</td>\n",
       "    </tr>\n",
       "    <tr>\n",
       "      <th>3</th>\n",
       "      <td>124</td>\n",
       "      <td>2020-01-25 19:35:40</td>\n",
       "      <td>102</td>\n",
       "      <td>1541</td>\n",
       "      <td>VIEW_PRODUCT</td>\n",
       "      <td>NaN</td>\n",
       "    </tr>\n",
       "    <tr>\n",
       "      <th>4</th>\n",
       "      <td>124</td>\n",
       "      <td>2020-01-25 19:39:26</td>\n",
       "      <td>102</td>\n",
       "      <td>1547</td>\n",
       "      <td>VIEW_PRODUCT</td>\n",
       "      <td>NaN</td>\n",
       "    </tr>\n",
       "  </tbody>\n",
       "</table>\n",
       "</div>"
      ],
      "text/plain": [
       "   session_id           timestamp  user_id  product_id    event_type  \\\n",
       "0         124 2020-01-25 19:25:15      102        1538  VIEW_PRODUCT   \n",
       "1         124 2020-01-25 19:26:12      102        1542  VIEW_PRODUCT   \n",
       "2         124 2020-01-25 19:30:49      102        1539  VIEW_PRODUCT   \n",
       "3         124 2020-01-25 19:35:40      102        1541  VIEW_PRODUCT   \n",
       "4         124 2020-01-25 19:39:26      102        1547  VIEW_PRODUCT   \n",
       "\n",
       "   purchase_id  \n",
       "0          NaN  \n",
       "1          NaN  \n",
       "2          NaN  \n",
       "3          NaN  \n",
       "4          NaN  "
      ]
     },
     "execution_count": 21,
     "metadata": {},
     "output_type": "execute_result"
    }
   ],
   "source": [
    "df_sessions = df_sessions.drop('offered_discount', axis=1)\n",
    "df_sessions.head()"
   ]
  },
  {
   "cell_type": "markdown",
   "id": "doMQ94t_0mB6",
   "metadata": {
    "id": "doMQ94t_0mB6"
   },
   "source": [
    "Zmieniliśmy również kolumnę z datą w celu dalszej analizy"
   ]
  },
  {
   "cell_type": "code",
   "execution_count": 22,
   "id": "-I9yeRVm0zXC",
   "metadata": {
    "colab": {
     "base_uri": "https://localhost:8080/",
     "height": 206
    },
    "executionInfo": {
     "elapsed": 85,
     "status": "ok",
     "timestamp": 1649970854821,
     "user": {
      "displayName": "Wiktor Kulesza",
      "userId": "00692131125282556945"
     },
     "user_tz": -120
    },
    "id": "-I9yeRVm0zXC",
    "outputId": "f9d79294-7ef0-469f-e37a-a7b91e213307"
   },
   "outputs": [
    {
     "data": {
      "text/html": [
       "<div>\n",
       "<style scoped>\n",
       "    .dataframe tbody tr th:only-of-type {\n",
       "        vertical-align: middle;\n",
       "    }\n",
       "\n",
       "    .dataframe tbody tr th {\n",
       "        vertical-align: top;\n",
       "    }\n",
       "\n",
       "    .dataframe thead th {\n",
       "        text-align: right;\n",
       "    }\n",
       "</style>\n",
       "<table border=\"1\" class=\"dataframe\">\n",
       "  <thead>\n",
       "    <tr style=\"text-align: right;\">\n",
       "      <th></th>\n",
       "      <th>session_id</th>\n",
       "      <th>timestamp</th>\n",
       "      <th>user_id</th>\n",
       "      <th>product_id</th>\n",
       "      <th>event_type</th>\n",
       "      <th>purchase_id</th>\n",
       "    </tr>\n",
       "  </thead>\n",
       "  <tbody>\n",
       "    <tr>\n",
       "      <th>0</th>\n",
       "      <td>124</td>\n",
       "      <td>2020-01-25</td>\n",
       "      <td>102</td>\n",
       "      <td>1538</td>\n",
       "      <td>VIEW_PRODUCT</td>\n",
       "      <td>NaN</td>\n",
       "    </tr>\n",
       "    <tr>\n",
       "      <th>1</th>\n",
       "      <td>124</td>\n",
       "      <td>2020-01-25</td>\n",
       "      <td>102</td>\n",
       "      <td>1542</td>\n",
       "      <td>VIEW_PRODUCT</td>\n",
       "      <td>NaN</td>\n",
       "    </tr>\n",
       "    <tr>\n",
       "      <th>2</th>\n",
       "      <td>124</td>\n",
       "      <td>2020-01-25</td>\n",
       "      <td>102</td>\n",
       "      <td>1539</td>\n",
       "      <td>VIEW_PRODUCT</td>\n",
       "      <td>NaN</td>\n",
       "    </tr>\n",
       "    <tr>\n",
       "      <th>3</th>\n",
       "      <td>124</td>\n",
       "      <td>2020-01-25</td>\n",
       "      <td>102</td>\n",
       "      <td>1541</td>\n",
       "      <td>VIEW_PRODUCT</td>\n",
       "      <td>NaN</td>\n",
       "    </tr>\n",
       "    <tr>\n",
       "      <th>4</th>\n",
       "      <td>124</td>\n",
       "      <td>2020-01-25</td>\n",
       "      <td>102</td>\n",
       "      <td>1547</td>\n",
       "      <td>VIEW_PRODUCT</td>\n",
       "      <td>NaN</td>\n",
       "    </tr>\n",
       "  </tbody>\n",
       "</table>\n",
       "</div>"
      ],
      "text/plain": [
       "   session_id  timestamp  user_id  product_id    event_type  purchase_id\n",
       "0         124 2020-01-25      102        1538  VIEW_PRODUCT          NaN\n",
       "1         124 2020-01-25      102        1542  VIEW_PRODUCT          NaN\n",
       "2         124 2020-01-25      102        1539  VIEW_PRODUCT          NaN\n",
       "3         124 2020-01-25      102        1541  VIEW_PRODUCT          NaN\n",
       "4         124 2020-01-25      102        1547  VIEW_PRODUCT          NaN"
      ]
     },
     "execution_count": 22,
     "metadata": {},
     "output_type": "execute_result"
    }
   ],
   "source": [
    "df_sessions['timestamp'] = pd.to_datetime(df_sessions['timestamp']).dt.date.astype('datetime64[ns]')\n",
    "df_sessions.head()"
   ]
  },
  {
   "cell_type": "code",
   "execution_count": 23,
   "id": "Qfl_SRjq036P",
   "metadata": {
    "colab": {
     "base_uri": "https://localhost:8080/"
    },
    "executionInfo": {
     "elapsed": 85,
     "status": "ok",
     "timestamp": 1649970854822,
     "user": {
      "displayName": "Wiktor Kulesza",
      "userId": "00692131125282556945"
     },
     "user_tz": -120
    },
    "id": "Qfl_SRjq036P",
    "outputId": "21b7e096-c7f7-4d38-ef0d-fdf45b5a48d3"
   },
   "outputs": [
    {
     "name": "stdout",
     "output_type": "stream",
     "text": [
      "<class 'pandas.core.frame.DataFrame'>\n",
      "RangeIndex: 99204 entries, 0 to 99203\n",
      "Data columns (total 6 columns):\n",
      " #   Column       Non-Null Count  Dtype         \n",
      "---  ------       --------------  -----         \n",
      " 0   session_id   99204 non-null  int64         \n",
      " 1   timestamp    99204 non-null  datetime64[ns]\n",
      " 2   user_id      99204 non-null  int64         \n",
      " 3   product_id   99204 non-null  int64         \n",
      " 4   event_type   99204 non-null  object        \n",
      " 5   purchase_id  15859 non-null  float64       \n",
      "dtypes: datetime64[ns](1), float64(1), int64(3), object(1)\n",
      "memory usage: 4.5+ MB\n"
     ]
    }
   ],
   "source": [
    "df_sessions.info()"
   ]
  },
  {
   "cell_type": "markdown",
   "id": "cd7bd4e8",
   "metadata": {
    "id": "cd7bd4e8"
   },
   "source": [
    "- ## Users"
   ]
  },
  {
   "cell_type": "markdown",
   "id": "iSJDlLrJswzX",
   "metadata": {
    "id": "iSJDlLrJswzX"
   },
   "source": [
    "Nastepnie postanowiliśmy sprawdzić dane o klientach oraz ich poprawność. Mamy przeczucie, że miejsce zamieszkania klientów może mieć wpływ na ilość zwrotów (nawet jeżeli nie bezpośredni)"
   ]
  },
  {
   "cell_type": "code",
   "execution_count": 24,
   "id": "be9aa4c3",
   "metadata": {
    "colab": {
     "base_uri": "https://localhost:8080/",
     "height": 1000
    },
    "executionInfo": {
     "elapsed": 82,
     "status": "ok",
     "timestamp": 1649970854823,
     "user": {
      "displayName": "Wiktor Kulesza",
      "userId": "00692131125282556945"
     },
     "user_tz": -120
    },
    "id": "be9aa4c3",
    "outputId": "c06665ba-c39f-4ae4-e933-35b70080559f"
   },
   "outputs": [
    {
     "data": {
      "text/html": [
       "<div>\n",
       "<style scoped>\n",
       "    .dataframe tbody tr th:only-of-type {\n",
       "        vertical-align: middle;\n",
       "    }\n",
       "\n",
       "    .dataframe tbody tr th {\n",
       "        vertical-align: top;\n",
       "    }\n",
       "\n",
       "    .dataframe thead th {\n",
       "        text-align: right;\n",
       "    }\n",
       "</style>\n",
       "<table border=\"1\" class=\"dataframe\">\n",
       "  <thead>\n",
       "    <tr style=\"text-align: right;\">\n",
       "      <th></th>\n",
       "      <th>user_id</th>\n",
       "      <th>name</th>\n",
       "      <th>city</th>\n",
       "      <th>street</th>\n",
       "    </tr>\n",
       "  </thead>\n",
       "  <tbody>\n",
       "    <tr>\n",
       "      <th>0</th>\n",
       "      <td>102</td>\n",
       "      <td>Sebastian Młyńczak</td>\n",
       "      <td>Szczecin</td>\n",
       "      <td>pl. Pałacowa 584</td>\n",
       "    </tr>\n",
       "    <tr>\n",
       "      <th>1</th>\n",
       "      <td>103</td>\n",
       "      <td>Karina Dąbrowicz</td>\n",
       "      <td>Radom</td>\n",
       "      <td>plac Polna 13</td>\n",
       "    </tr>\n",
       "    <tr>\n",
       "      <th>2</th>\n",
       "      <td>104</td>\n",
       "      <td>Konrad Żelazek</td>\n",
       "      <td>Wrocław</td>\n",
       "      <td>al. Młyńska 53/86</td>\n",
       "    </tr>\n",
       "    <tr>\n",
       "      <th>3</th>\n",
       "      <td>105</td>\n",
       "      <td>Bruno Baumgart</td>\n",
       "      <td>Szczecin</td>\n",
       "      <td>plac Narcyzowa 29</td>\n",
       "    </tr>\n",
       "    <tr>\n",
       "      <th>4</th>\n",
       "      <td>106</td>\n",
       "      <td>Karina Grygorowicz</td>\n",
       "      <td>Poznań</td>\n",
       "      <td>ul. Chopina 24</td>\n",
       "    </tr>\n",
       "    <tr>\n",
       "      <th>...</th>\n",
       "      <td>...</td>\n",
       "      <td>...</td>\n",
       "      <td>...</td>\n",
       "      <td>...</td>\n",
       "    </tr>\n",
       "    <tr>\n",
       "      <th>395</th>\n",
       "      <td>497</td>\n",
       "      <td>Dagmara Macek</td>\n",
       "      <td>Szczecin</td>\n",
       "      <td>al. Sowia 32/70</td>\n",
       "    </tr>\n",
       "    <tr>\n",
       "      <th>396</th>\n",
       "      <td>498</td>\n",
       "      <td>Hubert Kamela</td>\n",
       "      <td>Kraków</td>\n",
       "      <td>ul. Jana III Sobieskiego 38/78</td>\n",
       "    </tr>\n",
       "    <tr>\n",
       "      <th>397</th>\n",
       "      <td>499</td>\n",
       "      <td>Sonia Szabla</td>\n",
       "      <td>Radom</td>\n",
       "      <td>ulica Strażacka 43</td>\n",
       "    </tr>\n",
       "    <tr>\n",
       "      <th>398</th>\n",
       "      <td>500</td>\n",
       "      <td>Natasza Kułach</td>\n",
       "      <td>Warszawa</td>\n",
       "      <td>plac Poniatowskiego 382</td>\n",
       "    </tr>\n",
       "    <tr>\n",
       "      <th>399</th>\n",
       "      <td>501</td>\n",
       "      <td>Stefan Świergiel</td>\n",
       "      <td>Radom</td>\n",
       "      <td>ul. Cegielniana 04</td>\n",
       "    </tr>\n",
       "  </tbody>\n",
       "</table>\n",
       "<p>400 rows × 4 columns</p>\n",
       "</div>"
      ],
      "text/plain": [
       "     user_id                name      city                          street\n",
       "0        102  Sebastian Młyńczak  Szczecin                pl. Pałacowa 584\n",
       "1        103    Karina Dąbrowicz     Radom                   plac Polna 13\n",
       "2        104      Konrad Żelazek   Wrocław               al. Młyńska 53/86\n",
       "3        105      Bruno Baumgart  Szczecin               plac Narcyzowa 29\n",
       "4        106  Karina Grygorowicz    Poznań                  ul. Chopina 24\n",
       "..       ...                 ...       ...                             ...\n",
       "395      497       Dagmara Macek  Szczecin                 al. Sowia 32/70\n",
       "396      498       Hubert Kamela    Kraków  ul. Jana III Sobieskiego 38/78\n",
       "397      499        Sonia Szabla     Radom              ulica Strażacka 43\n",
       "398      500      Natasza Kułach  Warszawa         plac Poniatowskiego 382\n",
       "399      501    Stefan Świergiel     Radom              ul. Cegielniana 04\n",
       "\n",
       "[400 rows x 4 columns]"
      ]
     },
     "execution_count": 24,
     "metadata": {},
     "output_type": "execute_result"
    }
   ],
   "source": [
    "df_users"
   ]
  },
  {
   "cell_type": "markdown",
   "id": "afbc1055",
   "metadata": {
    "id": "afbc1055"
   },
   "source": [
    "Wartościowe atrybuty:\n",
    "- user_id\n",
    "- city (optional)"
   ]
  },
  {
   "cell_type": "code",
   "execution_count": 25,
   "id": "9d5bf5e1",
   "metadata": {
    "colab": {
     "base_uri": "https://localhost:8080/"
    },
    "executionInfo": {
     "elapsed": 78,
     "status": "ok",
     "timestamp": 1649970854823,
     "user": {
      "displayName": "Wiktor Kulesza",
      "userId": "00692131125282556945"
     },
     "user_tz": -120
    },
    "id": "9d5bf5e1",
    "outputId": "2036cf8c-8adc-4c1e-8ed0-5fb61de91a3f"
   },
   "outputs": [
    {
     "name": "stdout",
     "output_type": "stream",
     "text": [
      "<class 'pandas.core.frame.DataFrame'>\n",
      "RangeIndex: 400 entries, 0 to 399\n",
      "Data columns (total 4 columns):\n",
      " #   Column   Non-Null Count  Dtype \n",
      "---  ------   --------------  ----- \n",
      " 0   user_id  400 non-null    int64 \n",
      " 1   name     400 non-null    object\n",
      " 2   city     400 non-null    object\n",
      " 3   street   400 non-null    object\n",
      "dtypes: int64(1), object(3)\n",
      "memory usage: 12.6+ KB\n"
     ]
    }
   ],
   "source": [
    "df_users.info()"
   ]
  },
  {
   "cell_type": "markdown",
   "id": "MCAgnYBwtGo0",
   "metadata": {
    "id": "MCAgnYBwtGo0"
   },
   "source": [
    "Jak widzimy nie brakuje danych o miejscu zamieszkania ani o identyfikatorach użytkowników."
   ]
  },
  {
   "cell_type": "markdown",
   "id": "8106d14b",
   "metadata": {
    "id": "8106d14b"
   },
   "source": [
    "- ## Deliveries"
   ]
  },
  {
   "cell_type": "markdown",
   "id": "Inn8lXsjvV9X",
   "metadata": {
    "id": "Inn8lXsjvV9X"
   },
   "source": [
    "Uważamy, że dane dotyczące dostaw mogą mieć znaczy wpływ na estymację ilości zwrotów w przyszłości. Przede wszystkim na podstawie tych danych określimy średni czas dostarczenia zwrotów który posłuży nam do przybliżenia czasu dotarcia zwrotu do magazynu "
   ]
  },
  {
   "cell_type": "code",
   "execution_count": 26,
   "id": "1c05dbbe",
   "metadata": {
    "executionInfo": {
     "elapsed": 74,
     "status": "ok",
     "timestamp": 1649970854824,
     "user": {
      "displayName": "Wiktor Kulesza",
      "userId": "00692131125282556945"
     },
     "user_tz": -120
    },
    "id": "1c05dbbe"
   },
   "outputs": [],
   "source": [
    "pd.set_option('display.max_rows', 500)"
   ]
  },
  {
   "cell_type": "code",
   "execution_count": 27,
   "id": "4603032c",
   "metadata": {
    "colab": {
     "base_uri": "https://localhost:8080/",
     "height": 424
    },
    "executionInfo": {
     "elapsed": 75,
     "status": "ok",
     "timestamp": 1649970854825,
     "user": {
      "displayName": "Wiktor Kulesza",
      "userId": "00692131125282556945"
     },
     "user_tz": -120
    },
    "id": "4603032c",
    "outputId": "598dd5ca-a3ad-4d50-9598-2de74cc4d541"
   },
   "outputs": [
    {
     "data": {
      "text/html": [
       "<div>\n",
       "<style scoped>\n",
       "    .dataframe tbody tr th:only-of-type {\n",
       "        vertical-align: middle;\n",
       "    }\n",
       "\n",
       "    .dataframe tbody tr th {\n",
       "        vertical-align: top;\n",
       "    }\n",
       "\n",
       "    .dataframe thead th {\n",
       "        text-align: right;\n",
       "    }\n",
       "</style>\n",
       "<table border=\"1\" class=\"dataframe\">\n",
       "  <thead>\n",
       "    <tr style=\"text-align: right;\">\n",
       "      <th></th>\n",
       "      <th>purchase_id</th>\n",
       "      <th>purchase_timestamp</th>\n",
       "      <th>delivery_timestamp</th>\n",
       "      <th>delivery_company</th>\n",
       "    </tr>\n",
       "  </thead>\n",
       "  <tbody>\n",
       "    <tr>\n",
       "      <th>0</th>\n",
       "      <td>20001</td>\n",
       "      <td>2020-01-25T19:40:37</td>\n",
       "      <td>2020-01-30T19:40:44</td>\n",
       "      <td>516</td>\n",
       "    </tr>\n",
       "    <tr>\n",
       "      <th>1</th>\n",
       "      <td>20002</td>\n",
       "      <td>2019-12-29T16:12:47</td>\n",
       "      <td>2019-12-31T16:13:40</td>\n",
       "      <td>516</td>\n",
       "    </tr>\n",
       "    <tr>\n",
       "      <th>2</th>\n",
       "      <td>20003</td>\n",
       "      <td>2020-12-30T07:28:26</td>\n",
       "      <td>2021-01-01T07:29:45</td>\n",
       "      <td>516</td>\n",
       "    </tr>\n",
       "    <tr>\n",
       "      <th>3</th>\n",
       "      <td>20004</td>\n",
       "      <td>2020-04-13T06:30:14</td>\n",
       "      <td>2020-04-16T06:33:45</td>\n",
       "      <td>620</td>\n",
       "    </tr>\n",
       "    <tr>\n",
       "      <th>4</th>\n",
       "      <td>20005</td>\n",
       "      <td>2022-03-15T11:36:49</td>\n",
       "      <td>2022-03-20T11:38:02</td>\n",
       "      <td>516</td>\n",
       "    </tr>\n",
       "    <tr>\n",
       "      <th>...</th>\n",
       "      <td>...</td>\n",
       "      <td>...</td>\n",
       "      <td>...</td>\n",
       "      <td>...</td>\n",
       "    </tr>\n",
       "    <tr>\n",
       "      <th>14193</th>\n",
       "      <td>34194</td>\n",
       "      <td>2020-09-27T02:52:41</td>\n",
       "      <td>2020-09-29T02:54:11</td>\n",
       "      <td>620</td>\n",
       "    </tr>\n",
       "    <tr>\n",
       "      <th>14194</th>\n",
       "      <td>34195</td>\n",
       "      <td>2021-07-30T06:49:04</td>\n",
       "      <td>2021-08-03T06:51:27</td>\n",
       "      <td>360</td>\n",
       "    </tr>\n",
       "    <tr>\n",
       "      <th>14195</th>\n",
       "      <td>34196</td>\n",
       "      <td>2020-04-02T19:13:41</td>\n",
       "      <td>2020-04-07T19:18:14</td>\n",
       "      <td>620</td>\n",
       "    </tr>\n",
       "    <tr>\n",
       "      <th>14196</th>\n",
       "      <td>34197</td>\n",
       "      <td>2021-08-05T02:16:49</td>\n",
       "      <td>2021-08-10T02:18:11</td>\n",
       "      <td>620</td>\n",
       "    </tr>\n",
       "    <tr>\n",
       "      <th>14197</th>\n",
       "      <td>34198</td>\n",
       "      <td>2021-03-13T09:10:49</td>\n",
       "      <td>2021-03-15T09:13:17</td>\n",
       "      <td>620</td>\n",
       "    </tr>\n",
       "  </tbody>\n",
       "</table>\n",
       "<p>14198 rows × 4 columns</p>\n",
       "</div>"
      ],
      "text/plain": [
       "       purchase_id   purchase_timestamp   delivery_timestamp  delivery_company\n",
       "0            20001  2020-01-25T19:40:37  2020-01-30T19:40:44               516\n",
       "1            20002  2019-12-29T16:12:47  2019-12-31T16:13:40               516\n",
       "2            20003  2020-12-30T07:28:26  2021-01-01T07:29:45               516\n",
       "3            20004  2020-04-13T06:30:14  2020-04-16T06:33:45               620\n",
       "4            20005  2022-03-15T11:36:49  2022-03-20T11:38:02               516\n",
       "...            ...                  ...                  ...               ...\n",
       "14193        34194  2020-09-27T02:52:41  2020-09-29T02:54:11               620\n",
       "14194        34195  2021-07-30T06:49:04  2021-08-03T06:51:27               360\n",
       "14195        34196  2020-04-02T19:13:41  2020-04-07T19:18:14               620\n",
       "14196        34197  2021-08-05T02:16:49  2021-08-10T02:18:11               620\n",
       "14197        34198  2021-03-13T09:10:49  2021-03-15T09:13:17               620\n",
       "\n",
       "[14198 rows x 4 columns]"
      ]
     },
     "execution_count": 27,
     "metadata": {},
     "output_type": "execute_result"
    }
   ],
   "source": [
    "df_deliveries"
   ]
  },
  {
   "cell_type": "code",
   "execution_count": 28,
   "id": "b6c0fca4",
   "metadata": {
    "colab": {
     "base_uri": "https://localhost:8080/"
    },
    "executionInfo": {
     "elapsed": 74,
     "status": "ok",
     "timestamp": 1649970854826,
     "user": {
      "displayName": "Wiktor Kulesza",
      "userId": "00692131125282556945"
     },
     "user_tz": -120
    },
    "id": "b6c0fca4",
    "outputId": "15d63a34-5079-4edd-c006-3147dfb02790"
   },
   "outputs": [
    {
     "name": "stdout",
     "output_type": "stream",
     "text": [
      "<class 'pandas.core.frame.DataFrame'>\n",
      "RangeIndex: 14198 entries, 0 to 14197\n",
      "Data columns (total 4 columns):\n",
      " #   Column              Non-Null Count  Dtype \n",
      "---  ------              --------------  ----- \n",
      " 0   purchase_id         14198 non-null  int64 \n",
      " 1   purchase_timestamp  14198 non-null  object\n",
      " 2   delivery_timestamp  14198 non-null  object\n",
      " 3   delivery_company    14198 non-null  int64 \n",
      "dtypes: int64(2), object(2)\n",
      "memory usage: 443.8+ KB\n"
     ]
    }
   ],
   "source": [
    "df_deliveries.info()"
   ]
  },
  {
   "cell_type": "markdown",
   "id": "Ra9skiKMwG8P",
   "metadata": {
    "id": "Ra9skiKMwG8P"
   },
   "source": [
    "Jak widzimy po aktualizacji danych nie brakuje żadnych danych dotyczących przesyłek w tym, czasu dostarczenia paczki oraz numeru firmy przewozowej."
   ]
  },
  {
   "cell_type": "markdown",
   "id": "ooVLWy6f1VhQ",
   "metadata": {
    "id": "ooVLWy6f1VhQ"
   },
   "source": [
    "Dodatkowo konwertujemy kolumny do typu datetime z samą datą."
   ]
  },
  {
   "cell_type": "code",
   "execution_count": 29,
   "id": "52b-TogM1aVh",
   "metadata": {
    "colab": {
     "base_uri": "https://localhost:8080/",
     "height": 206
    },
    "executionInfo": {
     "elapsed": 71,
     "status": "ok",
     "timestamp": 1649970854827,
     "user": {
      "displayName": "Wiktor Kulesza",
      "userId": "00692131125282556945"
     },
     "user_tz": -120
    },
    "id": "52b-TogM1aVh",
    "outputId": "a319b3a0-e26b-4ac9-f100-87b2fbe57709"
   },
   "outputs": [
    {
     "data": {
      "text/html": [
       "<div>\n",
       "<style scoped>\n",
       "    .dataframe tbody tr th:only-of-type {\n",
       "        vertical-align: middle;\n",
       "    }\n",
       "\n",
       "    .dataframe tbody tr th {\n",
       "        vertical-align: top;\n",
       "    }\n",
       "\n",
       "    .dataframe thead th {\n",
       "        text-align: right;\n",
       "    }\n",
       "</style>\n",
       "<table border=\"1\" class=\"dataframe\">\n",
       "  <thead>\n",
       "    <tr style=\"text-align: right;\">\n",
       "      <th></th>\n",
       "      <th>purchase_id</th>\n",
       "      <th>purchase_timestamp</th>\n",
       "      <th>delivery_timestamp</th>\n",
       "      <th>delivery_company</th>\n",
       "    </tr>\n",
       "  </thead>\n",
       "  <tbody>\n",
       "    <tr>\n",
       "      <th>0</th>\n",
       "      <td>20001</td>\n",
       "      <td>2020-01-25</td>\n",
       "      <td>2020-01-30</td>\n",
       "      <td>516</td>\n",
       "    </tr>\n",
       "    <tr>\n",
       "      <th>1</th>\n",
       "      <td>20002</td>\n",
       "      <td>2019-12-29</td>\n",
       "      <td>2019-12-31</td>\n",
       "      <td>516</td>\n",
       "    </tr>\n",
       "    <tr>\n",
       "      <th>2</th>\n",
       "      <td>20003</td>\n",
       "      <td>2020-12-30</td>\n",
       "      <td>2021-01-01</td>\n",
       "      <td>516</td>\n",
       "    </tr>\n",
       "    <tr>\n",
       "      <th>3</th>\n",
       "      <td>20004</td>\n",
       "      <td>2020-04-13</td>\n",
       "      <td>2020-04-16</td>\n",
       "      <td>620</td>\n",
       "    </tr>\n",
       "    <tr>\n",
       "      <th>4</th>\n",
       "      <td>20005</td>\n",
       "      <td>2022-03-15</td>\n",
       "      <td>2022-03-20</td>\n",
       "      <td>516</td>\n",
       "    </tr>\n",
       "  </tbody>\n",
       "</table>\n",
       "</div>"
      ],
      "text/plain": [
       "   purchase_id purchase_timestamp delivery_timestamp  delivery_company\n",
       "0        20001         2020-01-25         2020-01-30               516\n",
       "1        20002         2019-12-29         2019-12-31               516\n",
       "2        20003         2020-12-30         2021-01-01               516\n",
       "3        20004         2020-04-13         2020-04-16               620\n",
       "4        20005         2022-03-15         2022-03-20               516"
      ]
     },
     "execution_count": 29,
     "metadata": {},
     "output_type": "execute_result"
    }
   ],
   "source": [
    "df_deliveries[['purchase_timestamp', 'delivery_timestamp']] = df_deliveries[['purchase_timestamp', 'delivery_timestamp']].apply(pd.to_datetime)\n",
    "df_deliveries['purchase_timestamp'] = df_deliveries['purchase_timestamp'].dt.date\n",
    "df_deliveries['delivery_timestamp'] = df_deliveries['delivery_timestamp'].dt.date\n",
    "df_deliveries.head()"
   ]
  },
  {
   "cell_type": "markdown",
   "id": "QH6B5R-e1mDg",
   "metadata": {
    "id": "QH6B5R-e1mDg"
   },
   "source": [
    "Sprawdzamy czasy poszczególnych przesyłek"
   ]
  },
  {
   "cell_type": "code",
   "execution_count": 30,
   "id": "QYQOcrW81e9C",
   "metadata": {
    "colab": {
     "base_uri": "https://localhost:8080/"
    },
    "executionInfo": {
     "elapsed": 70,
     "status": "ok",
     "timestamp": 1649970854828,
     "user": {
      "displayName": "Wiktor Kulesza",
      "userId": "00692131125282556945"
     },
     "user_tz": -120
    },
    "id": "QYQOcrW81e9C",
    "outputId": "070761a5-6660-403c-8756-60fd051aaaab"
   },
   "outputs": [
    {
     "data": {
      "text/plain": [
       "0       5 days\n",
       "1       2 days\n",
       "2       2 days\n",
       "3       3 days\n",
       "4       5 days\n",
       "         ...  \n",
       "14193   2 days\n",
       "14194   4 days\n",
       "14195   5 days\n",
       "14196   5 days\n",
       "14197   2 days\n",
       "Length: 14198, dtype: timedelta64[ns]"
      ]
     },
     "execution_count": 30,
     "metadata": {},
     "output_type": "execute_result"
    }
   ],
   "source": [
    "df_deliveries['delivery_timestamp'] - df_deliveries['purchase_timestamp']"
   ]
  },
  {
   "cell_type": "code",
   "execution_count": 31,
   "id": "ccae307c",
   "metadata": {
    "colab": {
     "base_uri": "https://localhost:8080/",
     "height": 175
    },
    "executionInfo": {
     "elapsed": 66,
     "status": "ok",
     "timestamp": 1649970854828,
     "user": {
      "displayName": "Wiktor Kulesza",
      "userId": "00692131125282556945"
     },
     "user_tz": -120
    },
    "id": "ccae307c",
    "outputId": "5789a93a-77cb-45e2-c884-a41c8f411ed1"
   },
   "outputs": [
    {
     "data": {
      "text/html": [
       "<div>\n",
       "<style scoped>\n",
       "    .dataframe tbody tr th:only-of-type {\n",
       "        vertical-align: middle;\n",
       "    }\n",
       "\n",
       "    .dataframe tbody tr th {\n",
       "        vertical-align: top;\n",
       "    }\n",
       "\n",
       "    .dataframe thead th {\n",
       "        text-align: right;\n",
       "    }\n",
       "</style>\n",
       "<table border=\"1\" class=\"dataframe\">\n",
       "  <thead>\n",
       "    <tr style=\"text-align: right;\">\n",
       "      <th></th>\n",
       "      <th>purchase_id</th>\n",
       "      <th>purchase_timestamp</th>\n",
       "      <th>delivery_timestamp</th>\n",
       "    </tr>\n",
       "    <tr>\n",
       "      <th>delivery_company</th>\n",
       "      <th></th>\n",
       "      <th></th>\n",
       "      <th></th>\n",
       "    </tr>\n",
       "  </thead>\n",
       "  <tbody>\n",
       "    <tr>\n",
       "      <th>360</th>\n",
       "      <td>4881</td>\n",
       "      <td>4881</td>\n",
       "      <td>4881</td>\n",
       "    </tr>\n",
       "    <tr>\n",
       "      <th>516</th>\n",
       "      <td>4554</td>\n",
       "      <td>4554</td>\n",
       "      <td>4554</td>\n",
       "    </tr>\n",
       "    <tr>\n",
       "      <th>620</th>\n",
       "      <td>4763</td>\n",
       "      <td>4763</td>\n",
       "      <td>4763</td>\n",
       "    </tr>\n",
       "  </tbody>\n",
       "</table>\n",
       "</div>"
      ],
      "text/plain": [
       "                  purchase_id  purchase_timestamp  delivery_timestamp\n",
       "delivery_company                                                     \n",
       "360                      4881                4881                4881\n",
       "516                      4554                4554                4554\n",
       "620                      4763                4763                4763"
      ]
     },
     "execution_count": 31,
     "metadata": {},
     "output_type": "execute_result"
    }
   ],
   "source": [
    "df_deliveries.groupby('delivery_company').count()"
   ]
  },
  {
   "cell_type": "markdown",
   "id": "cU7M8sFJwUrt",
   "metadata": {
    "id": "cU7M8sFJwUrt"
   },
   "source": [
    "Myśleliśmy, że dobrym pomysłem będzie wyliczenie średniej ważonej czasu trwania dostarczania paczek, lecz wszystkie firmy odpowiedzialne są praktycznie za ten sam procent przesyłek przez co postanowiliśmy zrezygnować z tego pomysłu i pozostać przy zwykłej średniej arytmetycznej, bądź medianie."
   ]
  },
  {
   "cell_type": "markdown",
   "id": "BlKZGYXww8P_",
   "metadata": {
    "id": "BlKZGYXww8P_"
   },
   "source": [
    "## Dalsza analiza danych\n",
    "Po wstępnym określeniu poprawności danych postanowiliśmy przyjrzeć się rozkładom niektórych atrybutów oraz sprawdzić czy dostarczone dane wystarczą by utworzyć wiarygodny model."
   ]
  },
  {
   "cell_type": "code",
   "execution_count": 32,
   "id": "091231a4",
   "metadata": {
    "colab": {
     "base_uri": "https://localhost:8080/",
     "height": 333
    },
    "executionInfo": {
     "elapsed": 597,
     "status": "ok",
     "timestamp": 1649970855362,
     "user": {
      "displayName": "Wiktor Kulesza",
      "userId": "00692131125282556945"
     },
     "user_tz": -120
    },
    "id": "091231a4",
    "outputId": "0dbf564d-5303-4096-c286-19128fa691ce"
   },
   "outputs": [
    {
     "data": {
      "image/png": "[encoded data removed]",
      "text/plain": [
       "<Figure size 1080x432 with 2 Axes>"
      ]
     },
     "metadata": {
      "needs_background": "light"
     },
     "output_type": "display_data"
    }
   ],
   "source": [
    "ax = df_products[['price', 'weight_kg']].hist(bins=20, figsize=(15, 6))\n",
    "plt.suptitle('Distribution of attribute values')\n",
    "for axis in ax.flatten():\n",
    "    axis.set_ylabel('count')\n",
    "plt.show()"
   ]
  },
  {
   "cell_type": "markdown",
   "id": "LepyqeexyS9e",
   "metadata": {
    "id": "LepyqeexyS9e"
   },
   "source": [
    "Widzimy wyżej że ceny produktów mają najprawdopodobniej rozkład wykładniczy. Natomiast wagi produktów skupione są głównie w 1 małym przedziale w którym znajduje się znaczna większość produktów."
   ]
  },
  {
   "cell_type": "markdown",
   "id": "3xug02n52jDJ",
   "metadata": {
    "id": "3xug02n52jDJ"
   },
   "source": [
    "Dodatkowo sprawdziliśmy okres jakiego dotyczą nasze dane dotyczące sesji. W celu zbudowania wiarygodnego modelu potrzebujemy danych z całego roku, a najlepiej z kilku lat. Po sprawdzeniu tego, dowiedzieliśmy się że nasze dane dotyczą tylko 4 miesięcy, dlatego zwróciliśmy się do klienta z prośbą o dostarczenie większej ilości danych historycznych. Następnie ponownie sprawdziliśmy czy mamy doczynienia z danymi z  minimum całego roku."
   ]
  },
  {
   "cell_type": "markdown",
   "id": "3256e70a",
   "metadata": {
    "id": "3256e70a"
   },
   "source": [
    "## Ilość zamówień i zwrotów w każdym miesiącu"
   ]
  },
  {
   "cell_type": "markdown",
   "id": "wxDSjb_912A9",
   "metadata": {
    "id": "wxDSjb_912A9"
   },
   "source": [
    "Sprawdzamy najwcześniejszą oraz najpóźniejszą datę zamówienia wraz z dostawą"
   ]
  },
  {
   "cell_type": "code",
   "execution_count": 33,
   "id": "383ca486",
   "metadata": {
    "colab": {
     "base_uri": "https://localhost:8080/"
    },
    "executionInfo": {
     "elapsed": 54,
     "status": "ok",
     "timestamp": 1649970855363,
     "user": {
      "displayName": "Wiktor Kulesza",
      "userId": "00692131125282556945"
     },
     "user_tz": -120
    },
    "id": "383ca486",
    "outputId": "9dc84d63-65e7-41b9-f64e-ad34fe27038a"
   },
   "outputs": [
    {
     "data": {
      "text/plain": [
       "purchase_timestamp    2019-08-01\n",
       "delivery_timestamp    2019-08-03\n",
       "dtype: object"
      ]
     },
     "execution_count": 33,
     "metadata": {},
     "output_type": "execute_result"
    }
   ],
   "source": [
    "df_deliveries[['purchase_timestamp', 'delivery_timestamp']].min()"
   ]
  },
  {
   "cell_type": "code",
   "execution_count": 34,
   "id": "d8e58f99",
   "metadata": {
    "colab": {
     "base_uri": "https://localhost:8080/"
    },
    "executionInfo": {
     "elapsed": 49,
     "status": "ok",
     "timestamp": 1649970855364,
     "user": {
      "displayName": "Wiktor Kulesza",
      "userId": "00692131125282556945"
     },
     "user_tz": -120
    },
    "id": "d8e58f99",
    "outputId": "f4b93be6-e560-4803-d41c-5b7252d98209"
   },
   "outputs": [
    {
     "data": {
      "text/plain": [
       "purchase_timestamp    2022-04-12\n",
       "delivery_timestamp    2022-04-17\n",
       "dtype: object"
      ]
     },
     "execution_count": 34,
     "metadata": {},
     "output_type": "execute_result"
    }
   ],
   "source": [
    "df_deliveries[['purchase_timestamp', 'delivery_timestamp']].max()"
   ]
  },
  {
   "cell_type": "markdown",
   "id": "uw7LXAIT2Gm7",
   "metadata": {
    "id": "uw7LXAIT2Gm7"
   },
   "source": [
    "Jak widzimy mamy dane z prawie 3 lat, co pozwoli nam zbudować wiarygodny model"
   ]
  },
  {
   "cell_type": "code",
   "execution_count": 35,
   "id": "d799ff4f",
   "metadata": {
    "colab": {
     "base_uri": "https://localhost:8080/",
     "height": 424
    },
    "executionInfo": {
     "elapsed": 45,
     "status": "ok",
     "timestamp": 1649970855364,
     "user": {
      "displayName": "Wiktor Kulesza",
      "userId": "00692131125282556945"
     },
     "user_tz": -120
    },
    "id": "d799ff4f",
    "outputId": "8613ae6f-a3ee-49af-a2a8-1020ed8dc390"
   },
   "outputs": [
    {
     "data": {
      "text/html": [
       "<div>\n",
       "<style scoped>\n",
       "    .dataframe tbody tr th:only-of-type {\n",
       "        vertical-align: middle;\n",
       "    }\n",
       "\n",
       "    .dataframe tbody tr th {\n",
       "        vertical-align: top;\n",
       "    }\n",
       "\n",
       "    .dataframe thead th {\n",
       "        text-align: right;\n",
       "    }\n",
       "</style>\n",
       "<table border=\"1\" class=\"dataframe\">\n",
       "  <thead>\n",
       "    <tr style=\"text-align: right;\">\n",
       "      <th></th>\n",
       "      <th>timestamp</th>\n",
       "      <th>event_type</th>\n",
       "    </tr>\n",
       "  </thead>\n",
       "  <tbody>\n",
       "    <tr>\n",
       "      <th>6</th>\n",
       "      <td>2020-01-25</td>\n",
       "      <td>BUY_PRODUCT</td>\n",
       "    </tr>\n",
       "    <tr>\n",
       "      <th>7</th>\n",
       "      <td>2020-02-08</td>\n",
       "      <td>RETURN_PRODUCT</td>\n",
       "    </tr>\n",
       "    <tr>\n",
       "      <th>14</th>\n",
       "      <td>2019-12-29</td>\n",
       "      <td>BUY_PRODUCT</td>\n",
       "    </tr>\n",
       "    <tr>\n",
       "      <th>16</th>\n",
       "      <td>2020-12-30</td>\n",
       "      <td>BUY_PRODUCT</td>\n",
       "    </tr>\n",
       "    <tr>\n",
       "      <th>20</th>\n",
       "      <td>2020-04-13</td>\n",
       "      <td>BUY_PRODUCT</td>\n",
       "    </tr>\n",
       "    <tr>\n",
       "      <th>...</th>\n",
       "      <td>...</td>\n",
       "      <td>...</td>\n",
       "    </tr>\n",
       "    <tr>\n",
       "      <th>99159</th>\n",
       "      <td>2020-09-27</td>\n",
       "      <td>BUY_PRODUCT</td>\n",
       "    </tr>\n",
       "    <tr>\n",
       "      <th>99176</th>\n",
       "      <td>2021-07-30</td>\n",
       "      <td>BUY_PRODUCT</td>\n",
       "    </tr>\n",
       "    <tr>\n",
       "      <th>99188</th>\n",
       "      <td>2020-04-02</td>\n",
       "      <td>BUY_PRODUCT</td>\n",
       "    </tr>\n",
       "    <tr>\n",
       "      <th>99197</th>\n",
       "      <td>2021-08-05</td>\n",
       "      <td>BUY_PRODUCT</td>\n",
       "    </tr>\n",
       "    <tr>\n",
       "      <th>99203</th>\n",
       "      <td>2021-03-13</td>\n",
       "      <td>BUY_PRODUCT</td>\n",
       "    </tr>\n",
       "  </tbody>\n",
       "</table>\n",
       "<p>15859 rows × 2 columns</p>\n",
       "</div>"
      ],
      "text/plain": [
       "       timestamp      event_type\n",
       "6     2020-01-25     BUY_PRODUCT\n",
       "7     2020-02-08  RETURN_PRODUCT\n",
       "14    2019-12-29     BUY_PRODUCT\n",
       "16    2020-12-30     BUY_PRODUCT\n",
       "20    2020-04-13     BUY_PRODUCT\n",
       "...          ...             ...\n",
       "99159 2020-09-27     BUY_PRODUCT\n",
       "99176 2021-07-30     BUY_PRODUCT\n",
       "99188 2020-04-02     BUY_PRODUCT\n",
       "99197 2021-08-05     BUY_PRODUCT\n",
       "99203 2021-03-13     BUY_PRODUCT\n",
       "\n",
       "[15859 rows x 2 columns]"
      ]
     },
     "execution_count": 35,
     "metadata": {},
     "output_type": "execute_result"
    }
   ],
   "source": [
    "df_sessions_analysis = df_sessions[['timestamp', 'event_type']]\n",
    "df_sessions_analysis[(df_sessions_analysis['event_type'] == 'RETURN_PRODUCT') | (df_sessions_analysis['event_type'] == 'BUY_PRODUCT')]"
   ]
  },
  {
   "cell_type": "code",
   "execution_count": 36,
   "id": "2ed8f1b8",
   "metadata": {
    "colab": {
     "base_uri": "https://localhost:8080/",
     "height": 528
    },
    "executionInfo": {
     "elapsed": 44,
     "status": "ok",
     "timestamp": 1649970855365,
     "user": {
      "displayName": "Wiktor Kulesza",
      "userId": "00692131125282556945"
     },
     "user_tz": -120
    },
    "id": "2ed8f1b8",
    "outputId": "731b6522-d5ac-4b8f-c4fc-311d88c9615e"
   },
   "outputs": [
    {
     "name": "stderr",
     "output_type": "stream",
     "text": [
      "/var/folders/_1/grmv219n3mzbyfj882m03j3c0000gn/T/ipykernel_11730/1009867569.py:1: SettingWithCopyWarning: \n",
      "A value is trying to be set on a copy of a slice from a DataFrame.\n",
      "Try using .loc[row_indexer,col_indexer] = value instead\n",
      "\n",
      "See the caveats in the documentation: https://pandas.pydata.org/pandas-docs/stable/user_guide/indexing.html#returning-a-view-versus-a-copy\n",
      "  df_sessions_analysis['month'] = df_sessions_analysis['timestamp'].dt.month\n"
     ]
    },
    {
     "data": {
      "text/html": [
       "<div>\n",
       "<style scoped>\n",
       "    .dataframe tbody tr th:only-of-type {\n",
       "        vertical-align: middle;\n",
       "    }\n",
       "\n",
       "    .dataframe tbody tr th {\n",
       "        vertical-align: top;\n",
       "    }\n",
       "\n",
       "    .dataframe thead th {\n",
       "        text-align: right;\n",
       "    }\n",
       "</style>\n",
       "<table border=\"1\" class=\"dataframe\">\n",
       "  <thead>\n",
       "    <tr style=\"text-align: right;\">\n",
       "      <th></th>\n",
       "      <th>timestamp</th>\n",
       "      <th>event_type</th>\n",
       "      <th>month</th>\n",
       "    </tr>\n",
       "  </thead>\n",
       "  <tbody>\n",
       "    <tr>\n",
       "      <th>0</th>\n",
       "      <td>2020-01-25</td>\n",
       "      <td>VIEW_PRODUCT</td>\n",
       "      <td>1</td>\n",
       "    </tr>\n",
       "    <tr>\n",
       "      <th>1</th>\n",
       "      <td>2020-01-25</td>\n",
       "      <td>VIEW_PRODUCT</td>\n",
       "      <td>1</td>\n",
       "    </tr>\n",
       "    <tr>\n",
       "      <th>2</th>\n",
       "      <td>2020-01-25</td>\n",
       "      <td>VIEW_PRODUCT</td>\n",
       "      <td>1</td>\n",
       "    </tr>\n",
       "    <tr>\n",
       "      <th>3</th>\n",
       "      <td>2020-01-25</td>\n",
       "      <td>VIEW_PRODUCT</td>\n",
       "      <td>1</td>\n",
       "    </tr>\n",
       "    <tr>\n",
       "      <th>4</th>\n",
       "      <td>2020-01-25</td>\n",
       "      <td>VIEW_PRODUCT</td>\n",
       "      <td>1</td>\n",
       "    </tr>\n",
       "    <tr>\n",
       "      <th>...</th>\n",
       "      <td>...</td>\n",
       "      <td>...</td>\n",
       "      <td>...</td>\n",
       "    </tr>\n",
       "    <tr>\n",
       "      <th>99199</th>\n",
       "      <td>2021-03-13</td>\n",
       "      <td>VIEW_PRODUCT</td>\n",
       "      <td>3</td>\n",
       "    </tr>\n",
       "    <tr>\n",
       "      <th>99200</th>\n",
       "      <td>2021-03-13</td>\n",
       "      <td>VIEW_PRODUCT</td>\n",
       "      <td>3</td>\n",
       "    </tr>\n",
       "    <tr>\n",
       "      <th>99201</th>\n",
       "      <td>2021-03-13</td>\n",
       "      <td>VIEW_PRODUCT</td>\n",
       "      <td>3</td>\n",
       "    </tr>\n",
       "    <tr>\n",
       "      <th>99202</th>\n",
       "      <td>2021-03-13</td>\n",
       "      <td>VIEW_PRODUCT</td>\n",
       "      <td>3</td>\n",
       "    </tr>\n",
       "    <tr>\n",
       "      <th>99203</th>\n",
       "      <td>2021-03-13</td>\n",
       "      <td>BUY_PRODUCT</td>\n",
       "      <td>3</td>\n",
       "    </tr>\n",
       "  </tbody>\n",
       "</table>\n",
       "<p>99204 rows × 3 columns</p>\n",
       "</div>"
      ],
      "text/plain": [
       "       timestamp    event_type  month\n",
       "0     2020-01-25  VIEW_PRODUCT      1\n",
       "1     2020-01-25  VIEW_PRODUCT      1\n",
       "2     2020-01-25  VIEW_PRODUCT      1\n",
       "3     2020-01-25  VIEW_PRODUCT      1\n",
       "4     2020-01-25  VIEW_PRODUCT      1\n",
       "...          ...           ...    ...\n",
       "99199 2021-03-13  VIEW_PRODUCT      3\n",
       "99200 2021-03-13  VIEW_PRODUCT      3\n",
       "99201 2021-03-13  VIEW_PRODUCT      3\n",
       "99202 2021-03-13  VIEW_PRODUCT      3\n",
       "99203 2021-03-13   BUY_PRODUCT      3\n",
       "\n",
       "[99204 rows x 3 columns]"
      ]
     },
     "execution_count": 36,
     "metadata": {},
     "output_type": "execute_result"
    }
   ],
   "source": [
    "df_sessions_analysis['month'] = df_sessions_analysis['timestamp'].dt.month\n",
    "df_sessions_analysis"
   ]
  },
  {
   "cell_type": "markdown",
   "id": "HBR5ddTs2lVR",
   "metadata": {
    "id": "HBR5ddTs2lVR"
   },
   "source": [
    "Pogrupowaliśmy dane ze względu na datę by sprawdzić ilość danych na przestrzeni czasu"
   ]
  },
  {
   "cell_type": "code",
   "execution_count": 37,
   "id": "36127a01",
   "metadata": {
    "colab": {
     "base_uri": "https://localhost:8080/",
     "height": 424
    },
    "executionInfo": {
     "elapsed": 37,
     "status": "ok",
     "timestamp": 1649970855366,
     "user": {
      "displayName": "Wiktor Kulesza",
      "userId": "00692131125282556945"
     },
     "user_tz": -120
    },
    "id": "36127a01",
    "outputId": "30bc629b-f9d9-4558-e15e-733378b57439"
   },
   "outputs": [
    {
     "data": {
      "text/html": [
       "<div>\n",
       "<style scoped>\n",
       "    .dataframe tbody tr th:only-of-type {\n",
       "        vertical-align: middle;\n",
       "    }\n",
       "\n",
       "    .dataframe tbody tr th {\n",
       "        vertical-align: top;\n",
       "    }\n",
       "\n",
       "    .dataframe thead th {\n",
       "        text-align: right;\n",
       "    }\n",
       "</style>\n",
       "<table border=\"1\" class=\"dataframe\">\n",
       "  <thead>\n",
       "    <tr style=\"text-align: right;\">\n",
       "      <th></th>\n",
       "      <th>event_type</th>\n",
       "      <th>month</th>\n",
       "    </tr>\n",
       "  </thead>\n",
       "  <tbody>\n",
       "    <tr>\n",
       "      <th>0</th>\n",
       "      <td>VIEW_PRODUCT</td>\n",
       "      <td>1</td>\n",
       "    </tr>\n",
       "    <tr>\n",
       "      <th>1</th>\n",
       "      <td>VIEW_PRODUCT</td>\n",
       "      <td>1</td>\n",
       "    </tr>\n",
       "    <tr>\n",
       "      <th>2</th>\n",
       "      <td>VIEW_PRODUCT</td>\n",
       "      <td>1</td>\n",
       "    </tr>\n",
       "    <tr>\n",
       "      <th>3</th>\n",
       "      <td>VIEW_PRODUCT</td>\n",
       "      <td>1</td>\n",
       "    </tr>\n",
       "    <tr>\n",
       "      <th>4</th>\n",
       "      <td>VIEW_PRODUCT</td>\n",
       "      <td>1</td>\n",
       "    </tr>\n",
       "    <tr>\n",
       "      <th>...</th>\n",
       "      <td>...</td>\n",
       "      <td>...</td>\n",
       "    </tr>\n",
       "    <tr>\n",
       "      <th>99199</th>\n",
       "      <td>VIEW_PRODUCT</td>\n",
       "      <td>3</td>\n",
       "    </tr>\n",
       "    <tr>\n",
       "      <th>99200</th>\n",
       "      <td>VIEW_PRODUCT</td>\n",
       "      <td>3</td>\n",
       "    </tr>\n",
       "    <tr>\n",
       "      <th>99201</th>\n",
       "      <td>VIEW_PRODUCT</td>\n",
       "      <td>3</td>\n",
       "    </tr>\n",
       "    <tr>\n",
       "      <th>99202</th>\n",
       "      <td>VIEW_PRODUCT</td>\n",
       "      <td>3</td>\n",
       "    </tr>\n",
       "    <tr>\n",
       "      <th>99203</th>\n",
       "      <td>BUY_PRODUCT</td>\n",
       "      <td>3</td>\n",
       "    </tr>\n",
       "  </tbody>\n",
       "</table>\n",
       "<p>99204 rows × 2 columns</p>\n",
       "</div>"
      ],
      "text/plain": [
       "         event_type  month\n",
       "0      VIEW_PRODUCT      1\n",
       "1      VIEW_PRODUCT      1\n",
       "2      VIEW_PRODUCT      1\n",
       "3      VIEW_PRODUCT      1\n",
       "4      VIEW_PRODUCT      1\n",
       "...             ...    ...\n",
       "99199  VIEW_PRODUCT      3\n",
       "99200  VIEW_PRODUCT      3\n",
       "99201  VIEW_PRODUCT      3\n",
       "99202  VIEW_PRODUCT      3\n",
       "99203   BUY_PRODUCT      3\n",
       "\n",
       "[99204 rows x 2 columns]"
      ]
     },
     "execution_count": 37,
     "metadata": {},
     "output_type": "execute_result"
    }
   ],
   "source": [
    "df_sessions_analysis[['event_type', 'month']]"
   ]
  },
  {
   "cell_type": "code",
   "execution_count": 38,
   "id": "dcfcc28c",
   "metadata": {
    "colab": {
     "base_uri": "https://localhost:8080/",
     "height": 424
    },
    "executionInfo": {
     "elapsed": 36,
     "status": "ok",
     "timestamp": 1649970855367,
     "user": {
      "displayName": "Wiktor Kulesza",
      "userId": "00692131125282556945"
     },
     "user_tz": -120
    },
    "id": "dcfcc28c",
    "outputId": "b27e42a3-256d-4580-8035-dd5d01b63291"
   },
   "outputs": [
    {
     "data": {
      "text/html": [
       "<div>\n",
       "<style scoped>\n",
       "    .dataframe tbody tr th:only-of-type {\n",
       "        vertical-align: middle;\n",
       "    }\n",
       "\n",
       "    .dataframe tbody tr th {\n",
       "        vertical-align: top;\n",
       "    }\n",
       "\n",
       "    .dataframe thead th {\n",
       "        text-align: right;\n",
       "    }\n",
       "</style>\n",
       "<table border=\"1\" class=\"dataframe\">\n",
       "  <thead>\n",
       "    <tr style=\"text-align: right;\">\n",
       "      <th></th>\n",
       "      <th>month</th>\n",
       "      <th>event_type_BUY_PRODUCT</th>\n",
       "      <th>event_type_RETURN_PRODUCT</th>\n",
       "      <th>event_type_VIEW_PRODUCT</th>\n",
       "    </tr>\n",
       "  </thead>\n",
       "  <tbody>\n",
       "    <tr>\n",
       "      <th>0</th>\n",
       "      <td>1</td>\n",
       "      <td>0</td>\n",
       "      <td>0</td>\n",
       "      <td>1</td>\n",
       "    </tr>\n",
       "    <tr>\n",
       "      <th>1</th>\n",
       "      <td>1</td>\n",
       "      <td>0</td>\n",
       "      <td>0</td>\n",
       "      <td>1</td>\n",
       "    </tr>\n",
       "    <tr>\n",
       "      <th>2</th>\n",
       "      <td>1</td>\n",
       "      <td>0</td>\n",
       "      <td>0</td>\n",
       "      <td>1</td>\n",
       "    </tr>\n",
       "    <tr>\n",
       "      <th>3</th>\n",
       "      <td>1</td>\n",
       "      <td>0</td>\n",
       "      <td>0</td>\n",
       "      <td>1</td>\n",
       "    </tr>\n",
       "    <tr>\n",
       "      <th>4</th>\n",
       "      <td>1</td>\n",
       "      <td>0</td>\n",
       "      <td>0</td>\n",
       "      <td>1</td>\n",
       "    </tr>\n",
       "    <tr>\n",
       "      <th>...</th>\n",
       "      <td>...</td>\n",
       "      <td>...</td>\n",
       "      <td>...</td>\n",
       "      <td>...</td>\n",
       "    </tr>\n",
       "    <tr>\n",
       "      <th>99199</th>\n",
       "      <td>3</td>\n",
       "      <td>0</td>\n",
       "      <td>0</td>\n",
       "      <td>1</td>\n",
       "    </tr>\n",
       "    <tr>\n",
       "      <th>99200</th>\n",
       "      <td>3</td>\n",
       "      <td>0</td>\n",
       "      <td>0</td>\n",
       "      <td>1</td>\n",
       "    </tr>\n",
       "    <tr>\n",
       "      <th>99201</th>\n",
       "      <td>3</td>\n",
       "      <td>0</td>\n",
       "      <td>0</td>\n",
       "      <td>1</td>\n",
       "    </tr>\n",
       "    <tr>\n",
       "      <th>99202</th>\n",
       "      <td>3</td>\n",
       "      <td>0</td>\n",
       "      <td>0</td>\n",
       "      <td>1</td>\n",
       "    </tr>\n",
       "    <tr>\n",
       "      <th>99203</th>\n",
       "      <td>3</td>\n",
       "      <td>1</td>\n",
       "      <td>0</td>\n",
       "      <td>0</td>\n",
       "    </tr>\n",
       "  </tbody>\n",
       "</table>\n",
       "<p>99204 rows × 4 columns</p>\n",
       "</div>"
      ],
      "text/plain": [
       "       month  event_type_BUY_PRODUCT  event_type_RETURN_PRODUCT  \\\n",
       "0          1                       0                          0   \n",
       "1          1                       0                          0   \n",
       "2          1                       0                          0   \n",
       "3          1                       0                          0   \n",
       "4          1                       0                          0   \n",
       "...      ...                     ...                        ...   \n",
       "99199      3                       0                          0   \n",
       "99200      3                       0                          0   \n",
       "99201      3                       0                          0   \n",
       "99202      3                       0                          0   \n",
       "99203      3                       1                          0   \n",
       "\n",
       "       event_type_VIEW_PRODUCT  \n",
       "0                            1  \n",
       "1                            1  \n",
       "2                            1  \n",
       "3                            1  \n",
       "4                            1  \n",
       "...                        ...  \n",
       "99199                        1  \n",
       "99200                        1  \n",
       "99201                        1  \n",
       "99202                        1  \n",
       "99203                        0  \n",
       "\n",
       "[99204 rows x 4 columns]"
      ]
     },
     "execution_count": 38,
     "metadata": {},
     "output_type": "execute_result"
    }
   ],
   "source": [
    "monthly_analysis = pd.get_dummies(df_sessions_analysis[['event_type', 'month']], columns=['event_type'])\n",
    "monthly_analysis"
   ]
  },
  {
   "cell_type": "markdown",
   "id": "y4yjQJxY2uqz",
   "metadata": {
    "id": "y4yjQJxY2uqz"
   },
   "source": [
    "Stworzyliśmy kolejną zmienną która pomoże wyliczyć nam ilość wszelkiego rodzaju zamówień ze względu na miesiąc. Poniżej wykres przedstawiający ilość wszystkich sesji ze względu na miesiąc. Jak widzimu okres od maja do lipca charakteryzuje się najmniejszą ilością sesji."
   ]
  },
  {
   "cell_type": "code",
   "execution_count": 39,
   "id": "fa58c930",
   "metadata": {
    "colab": {
     "base_uri": "https://localhost:8080/",
     "height": 296
    },
    "executionInfo": {
     "elapsed": 34,
     "status": "ok",
     "timestamp": 1649970855368,
     "user": {
      "displayName": "Wiktor Kulesza",
      "userId": "00692131125282556945"
     },
     "user_tz": -120
    },
    "id": "fa58c930",
    "outputId": "63177f59-6f1b-491a-82b5-bdb2f37356b9"
   },
   "outputs": [
    {
     "data": {
      "image/png": "[encoded data removed]",
      "text/plain": [
       "<Figure size 720x360 with 1 Axes>"
      ]
     },
     "metadata": {
      "needs_background": "light"
     },
     "output_type": "display_data"
    }
   ],
   "source": [
    "plt.figure(figsize=(10, 5))\n",
    "sns.countplot(x='month', data=monthly_analysis)\n",
    "plt.title('Number of sessions each month')\n",
    "plt.show()"
   ]
  },
  {
   "cell_type": "markdown",
   "id": "8640d318",
   "metadata": {},
   "source": [
    "---"
   ]
  },
  {
   "cell_type": "code",
   "execution_count": 40,
   "id": "93131f3b",
   "metadata": {},
   "outputs": [
    {
     "data": {
      "text/html": [
       "<div>\n",
       "<style scoped>\n",
       "    .dataframe tbody tr th:only-of-type {\n",
       "        vertical-align: middle;\n",
       "    }\n",
       "\n",
       "    .dataframe tbody tr th {\n",
       "        vertical-align: top;\n",
       "    }\n",
       "\n",
       "    .dataframe thead th {\n",
       "        text-align: right;\n",
       "    }\n",
       "</style>\n",
       "<table border=\"1\" class=\"dataframe\">\n",
       "  <thead>\n",
       "    <tr style=\"text-align: right;\">\n",
       "      <th></th>\n",
       "      <th>timestamp</th>\n",
       "      <th>event_type</th>\n",
       "    </tr>\n",
       "  </thead>\n",
       "  <tbody>\n",
       "    <tr>\n",
       "      <th>0</th>\n",
       "      <td>2020-01-25</td>\n",
       "      <td>VIEW_PRODUCT</td>\n",
       "    </tr>\n",
       "    <tr>\n",
       "      <th>1</th>\n",
       "      <td>2020-01-25</td>\n",
       "      <td>VIEW_PRODUCT</td>\n",
       "    </tr>\n",
       "    <tr>\n",
       "      <th>2</th>\n",
       "      <td>2020-01-25</td>\n",
       "      <td>VIEW_PRODUCT</td>\n",
       "    </tr>\n",
       "    <tr>\n",
       "      <th>3</th>\n",
       "      <td>2020-01-25</td>\n",
       "      <td>VIEW_PRODUCT</td>\n",
       "    </tr>\n",
       "    <tr>\n",
       "      <th>4</th>\n",
       "      <td>2020-01-25</td>\n",
       "      <td>VIEW_PRODUCT</td>\n",
       "    </tr>\n",
       "    <tr>\n",
       "      <th>...</th>\n",
       "      <td>...</td>\n",
       "      <td>...</td>\n",
       "    </tr>\n",
       "    <tr>\n",
       "      <th>99199</th>\n",
       "      <td>2021-03-13</td>\n",
       "      <td>VIEW_PRODUCT</td>\n",
       "    </tr>\n",
       "    <tr>\n",
       "      <th>99200</th>\n",
       "      <td>2021-03-13</td>\n",
       "      <td>VIEW_PRODUCT</td>\n",
       "    </tr>\n",
       "    <tr>\n",
       "      <th>99201</th>\n",
       "      <td>2021-03-13</td>\n",
       "      <td>VIEW_PRODUCT</td>\n",
       "    </tr>\n",
       "    <tr>\n",
       "      <th>99202</th>\n",
       "      <td>2021-03-13</td>\n",
       "      <td>VIEW_PRODUCT</td>\n",
       "    </tr>\n",
       "    <tr>\n",
       "      <th>99203</th>\n",
       "      <td>2021-03-13</td>\n",
       "      <td>BUY_PRODUCT</td>\n",
       "    </tr>\n",
       "  </tbody>\n",
       "</table>\n",
       "<p>99204 rows × 2 columns</p>\n",
       "</div>"
      ],
      "text/plain": [
       "       timestamp    event_type\n",
       "0     2020-01-25  VIEW_PRODUCT\n",
       "1     2020-01-25  VIEW_PRODUCT\n",
       "2     2020-01-25  VIEW_PRODUCT\n",
       "3     2020-01-25  VIEW_PRODUCT\n",
       "4     2020-01-25  VIEW_PRODUCT\n",
       "...          ...           ...\n",
       "99199 2021-03-13  VIEW_PRODUCT\n",
       "99200 2021-03-13  VIEW_PRODUCT\n",
       "99201 2021-03-13  VIEW_PRODUCT\n",
       "99202 2021-03-13  VIEW_PRODUCT\n",
       "99203 2021-03-13   BUY_PRODUCT\n",
       "\n",
       "[99204 rows x 2 columns]"
      ]
     },
     "execution_count": 40,
     "metadata": {},
     "output_type": "execute_result"
    }
   ],
   "source": [
    "df_sessions_analysis.drop('month', axis=1)"
   ]
  },
  {
   "cell_type": "code",
   "execution_count": 41,
   "id": "161dc26a",
   "metadata": {},
   "outputs": [
    {
     "data": {
      "text/html": [
       "<div>\n",
       "<style scoped>\n",
       "    .dataframe tbody tr th:only-of-type {\n",
       "        vertical-align: middle;\n",
       "    }\n",
       "\n",
       "    .dataframe tbody tr th {\n",
       "        vertical-align: top;\n",
       "    }\n",
       "\n",
       "    .dataframe thead th {\n",
       "        text-align: right;\n",
       "    }\n",
       "</style>\n",
       "<table border=\"1\" class=\"dataframe\">\n",
       "  <thead>\n",
       "    <tr style=\"text-align: right;\">\n",
       "      <th></th>\n",
       "      <th>event_type_BUY_PRODUCT</th>\n",
       "      <th>event_type_RETURN_PRODUCT</th>\n",
       "      <th>event_type_VIEW_PRODUCT</th>\n",
       "    </tr>\n",
       "    <tr>\n",
       "      <th>timestamp</th>\n",
       "      <th></th>\n",
       "      <th></th>\n",
       "      <th></th>\n",
       "    </tr>\n",
       "  </thead>\n",
       "  <tbody>\n",
       "    <tr>\n",
       "      <th>2019-08-01</th>\n",
       "      <td>15</td>\n",
       "      <td>0</td>\n",
       "      <td>91</td>\n",
       "    </tr>\n",
       "    <tr>\n",
       "      <th>2019-08-02</th>\n",
       "      <td>19</td>\n",
       "      <td>0</td>\n",
       "      <td>100</td>\n",
       "    </tr>\n",
       "    <tr>\n",
       "      <th>2019-08-03</th>\n",
       "      <td>14</td>\n",
       "      <td>0</td>\n",
       "      <td>75</td>\n",
       "    </tr>\n",
       "    <tr>\n",
       "      <th>2019-08-04</th>\n",
       "      <td>17</td>\n",
       "      <td>0</td>\n",
       "      <td>87</td>\n",
       "    </tr>\n",
       "    <tr>\n",
       "      <th>2019-08-05</th>\n",
       "      <td>15</td>\n",
       "      <td>0</td>\n",
       "      <td>96</td>\n",
       "    </tr>\n",
       "  </tbody>\n",
       "</table>\n",
       "</div>"
      ],
      "text/plain": [
       "            event_type_BUY_PRODUCT  event_type_RETURN_PRODUCT  \\\n",
       "timestamp                                                       \n",
       "2019-08-01                      15                          0   \n",
       "2019-08-02                      19                          0   \n",
       "2019-08-03                      14                          0   \n",
       "2019-08-04                      17                          0   \n",
       "2019-08-05                      15                          0   \n",
       "\n",
       "            event_type_VIEW_PRODUCT  \n",
       "timestamp                            \n",
       "2019-08-01                       91  \n",
       "2019-08-02                      100  \n",
       "2019-08-03                       75  \n",
       "2019-08-04                       87  \n",
       "2019-08-05                       96  "
      ]
     },
     "execution_count": 41,
     "metadata": {},
     "output_type": "execute_result"
    }
   ],
   "source": [
    "num_events_by_month = pd.get_dummies(df_sessions_analysis.drop('month', axis=1)).groupby('timestamp').sum()\n",
    "num_events_by_month.head()"
   ]
  },
  {
   "cell_type": "code",
   "execution_count": 42,
   "id": "878b71ec",
   "metadata": {},
   "outputs": [
    {
     "data": {
      "image/png": "[encoded data removed]",
      "text/plain": [
       "<Figure size 1080x504 with 1 Axes>"
      ]
     },
     "metadata": {
      "needs_background": "light"
     },
     "output_type": "display_data"
    }
   ],
   "source": [
    "num_events_by_month.plot(figsize=(15, 7))\n",
    "plt.title('Number of events each month')\n",
    "plt.ylabel('Num events')\n",
    "plt.xlabel('Date')\n",
    "plt.show()"
   ]
  },
  {
   "cell_type": "markdown",
   "id": "ee7eccf6",
   "metadata": {},
   "source": [
    "Na podstawie powyższego wykresu można zauważyć, że zwroty są najrzadzieć zdarząjącymi się operacjami.\n",
    "Można ponadto zauważyć, że najwięcej zwrotów ma miejsce pod koniec i na początku każdego roku. Jest to wielokrotnie powtarzająca się zależność."
   ]
  },
  {
   "cell_type": "markdown",
   "id": "27075a0d",
   "metadata": {},
   "source": [
    "---"
   ]
  },
  {
   "cell_type": "markdown",
   "id": "s466sbip25J3",
   "metadata": {
    "id": "s466sbip25J3"
   },
   "source": [
    "Na końcu postanowiliśmy oddzielnie sprawdzić każdy rodzaj transakcji tzn. sesje kupna oraz zwrotu."
   ]
  },
  {
   "cell_type": "code",
   "execution_count": 43,
   "id": "aef3721b",
   "metadata": {
    "colab": {
     "base_uri": "https://localhost:8080/",
     "height": 457
    },
    "executionInfo": {
     "elapsed": 536,
     "status": "ok",
     "timestamp": 1649970855876,
     "user": {
      "displayName": "Wiktor Kulesza",
      "userId": "00692131125282556945"
     },
     "user_tz": -120
    },
    "id": "aef3721b",
    "outputId": "910df8b8-3be5-4f8a-f5f5-ebb2a849ab47"
   },
   "outputs": [
    {
     "data": {
      "text/html": [
       "<div>\n",
       "<style scoped>\n",
       "    .dataframe tbody tr th:only-of-type {\n",
       "        vertical-align: middle;\n",
       "    }\n",
       "\n",
       "    .dataframe tbody tr th {\n",
       "        vertical-align: top;\n",
       "    }\n",
       "\n",
       "    .dataframe thead th {\n",
       "        text-align: right;\n",
       "    }\n",
       "</style>\n",
       "<table border=\"1\" class=\"dataframe\">\n",
       "  <thead>\n",
       "    <tr style=\"text-align: right;\">\n",
       "      <th></th>\n",
       "      <th>event_type_BUY_PRODUCT</th>\n",
       "      <th>event_type_RETURN_PRODUCT</th>\n",
       "      <th>event_type_VIEW_PRODUCT</th>\n",
       "    </tr>\n",
       "    <tr>\n",
       "      <th>month</th>\n",
       "      <th></th>\n",
       "      <th></th>\n",
       "      <th></th>\n",
       "    </tr>\n",
       "  </thead>\n",
       "  <tbody>\n",
       "    <tr>\n",
       "      <th>1</th>\n",
       "      <td>1337.0</td>\n",
       "      <td>169.0</td>\n",
       "      <td>7882.0</td>\n",
       "    </tr>\n",
       "    <tr>\n",
       "      <th>2</th>\n",
       "      <td>1225.0</td>\n",
       "      <td>279.0</td>\n",
       "      <td>6959.0</td>\n",
       "    </tr>\n",
       "    <tr>\n",
       "      <th>3</th>\n",
       "      <td>1330.0</td>\n",
       "      <td>75.0</td>\n",
       "      <td>7795.0</td>\n",
       "    </tr>\n",
       "    <tr>\n",
       "      <th>4</th>\n",
       "      <td>1009.0</td>\n",
       "      <td>57.0</td>\n",
       "      <td>5894.0</td>\n",
       "    </tr>\n",
       "    <tr>\n",
       "      <th>5</th>\n",
       "      <td>891.0</td>\n",
       "      <td>46.0</td>\n",
       "      <td>5250.0</td>\n",
       "    </tr>\n",
       "    <tr>\n",
       "      <th>6</th>\n",
       "      <td>835.0</td>\n",
       "      <td>54.0</td>\n",
       "      <td>5215.0</td>\n",
       "    </tr>\n",
       "    <tr>\n",
       "      <th>7</th>\n",
       "      <td>879.0</td>\n",
       "      <td>46.0</td>\n",
       "      <td>5361.0</td>\n",
       "    </tr>\n",
       "    <tr>\n",
       "      <th>8</th>\n",
       "      <td>1357.0</td>\n",
       "      <td>58.0</td>\n",
       "      <td>7861.0</td>\n",
       "    </tr>\n",
       "    <tr>\n",
       "      <th>9</th>\n",
       "      <td>1299.0</td>\n",
       "      <td>81.0</td>\n",
       "      <td>7641.0</td>\n",
       "    </tr>\n",
       "    <tr>\n",
       "      <th>10</th>\n",
       "      <td>1319.0</td>\n",
       "      <td>82.0</td>\n",
       "      <td>7762.0</td>\n",
       "    </tr>\n",
       "    <tr>\n",
       "      <th>11</th>\n",
       "      <td>1329.0</td>\n",
       "      <td>226.0</td>\n",
       "      <td>7718.0</td>\n",
       "    </tr>\n",
       "    <tr>\n",
       "      <th>12</th>\n",
       "      <td>1388.0</td>\n",
       "      <td>488.0</td>\n",
       "      <td>8007.0</td>\n",
       "    </tr>\n",
       "  </tbody>\n",
       "</table>\n",
       "</div>"
      ],
      "text/plain": [
       "       event_type_BUY_PRODUCT  event_type_RETURN_PRODUCT  \\\n",
       "month                                                      \n",
       "1                      1337.0                      169.0   \n",
       "2                      1225.0                      279.0   \n",
       "3                      1330.0                       75.0   \n",
       "4                      1009.0                       57.0   \n",
       "5                       891.0                       46.0   \n",
       "6                       835.0                       54.0   \n",
       "7                       879.0                       46.0   \n",
       "8                      1357.0                       58.0   \n",
       "9                      1299.0                       81.0   \n",
       "10                     1319.0                       82.0   \n",
       "11                     1329.0                      226.0   \n",
       "12                     1388.0                      488.0   \n",
       "\n",
       "       event_type_VIEW_PRODUCT  \n",
       "month                           \n",
       "1                       7882.0  \n",
       "2                       6959.0  \n",
       "3                       7795.0  \n",
       "4                       5894.0  \n",
       "5                       5250.0  \n",
       "6                       5215.0  \n",
       "7                       5361.0  \n",
       "8                       7861.0  \n",
       "9                       7641.0  \n",
       "10                      7762.0  \n",
       "11                      7718.0  \n",
       "12                      8007.0  "
      ]
     },
     "execution_count": 43,
     "metadata": {},
     "output_type": "execute_result"
    }
   ],
   "source": [
    "monthly_analysis = pd.get_dummies(df_sessions_analysis[['event_type', 'month']], columns=['event_type'])\n",
    "grouped_monthly_analysis = monthly_analysis.groupby('month').sum()\n",
    "grouped_monthly_analysis"
   ]
  },
  {
   "cell_type": "code",
   "execution_count": 44,
   "id": "7e4d611f",
   "metadata": {
    "colab": {
     "base_uri": "https://localhost:8080/",
     "height": 457
    },
    "executionInfo": {
     "elapsed": 31,
     "status": "ok",
     "timestamp": 1649970855877,
     "user": {
      "displayName": "Wiktor Kulesza",
      "userId": "00692131125282556945"
     },
     "user_tz": -120
    },
    "id": "7e4d611f",
    "outputId": "b9fa2089-d658-4d61-ecc1-8ee177e7b3d3"
   },
   "outputs": [
    {
     "data": {
      "text/html": [
       "<div>\n",
       "<style scoped>\n",
       "    .dataframe tbody tr th:only-of-type {\n",
       "        vertical-align: middle;\n",
       "    }\n",
       "\n",
       "    .dataframe tbody tr th {\n",
       "        vertical-align: top;\n",
       "    }\n",
       "\n",
       "    .dataframe thead th {\n",
       "        text-align: right;\n",
       "    }\n",
       "</style>\n",
       "<table border=\"1\" class=\"dataframe\">\n",
       "  <thead>\n",
       "    <tr style=\"text-align: right;\">\n",
       "      <th></th>\n",
       "      <th>event_type_BUY_PRODUCT</th>\n",
       "      <th>event_type_RETURN_PRODUCT</th>\n",
       "      <th>event_type_VIEW_PRODUCT</th>\n",
       "    </tr>\n",
       "    <tr>\n",
       "      <th>month</th>\n",
       "      <th></th>\n",
       "      <th></th>\n",
       "      <th></th>\n",
       "    </tr>\n",
       "  </thead>\n",
       "  <tbody>\n",
       "    <tr>\n",
       "      <th>1</th>\n",
       "      <td>1337.0</td>\n",
       "      <td>169.0</td>\n",
       "      <td>7882.0</td>\n",
       "    </tr>\n",
       "    <tr>\n",
       "      <th>2</th>\n",
       "      <td>1225.0</td>\n",
       "      <td>279.0</td>\n",
       "      <td>6959.0</td>\n",
       "    </tr>\n",
       "    <tr>\n",
       "      <th>3</th>\n",
       "      <td>1330.0</td>\n",
       "      <td>75.0</td>\n",
       "      <td>7795.0</td>\n",
       "    </tr>\n",
       "    <tr>\n",
       "      <th>4</th>\n",
       "      <td>1009.0</td>\n",
       "      <td>57.0</td>\n",
       "      <td>5894.0</td>\n",
       "    </tr>\n",
       "    <tr>\n",
       "      <th>5</th>\n",
       "      <td>891.0</td>\n",
       "      <td>46.0</td>\n",
       "      <td>5250.0</td>\n",
       "    </tr>\n",
       "    <tr>\n",
       "      <th>6</th>\n",
       "      <td>835.0</td>\n",
       "      <td>54.0</td>\n",
       "      <td>5215.0</td>\n",
       "    </tr>\n",
       "    <tr>\n",
       "      <th>7</th>\n",
       "      <td>879.0</td>\n",
       "      <td>46.0</td>\n",
       "      <td>5361.0</td>\n",
       "    </tr>\n",
       "    <tr>\n",
       "      <th>8</th>\n",
       "      <td>1357.0</td>\n",
       "      <td>58.0</td>\n",
       "      <td>7861.0</td>\n",
       "    </tr>\n",
       "    <tr>\n",
       "      <th>9</th>\n",
       "      <td>1299.0</td>\n",
       "      <td>81.0</td>\n",
       "      <td>7641.0</td>\n",
       "    </tr>\n",
       "    <tr>\n",
       "      <th>10</th>\n",
       "      <td>1319.0</td>\n",
       "      <td>82.0</td>\n",
       "      <td>7762.0</td>\n",
       "    </tr>\n",
       "    <tr>\n",
       "      <th>11</th>\n",
       "      <td>1329.0</td>\n",
       "      <td>226.0</td>\n",
       "      <td>7718.0</td>\n",
       "    </tr>\n",
       "    <tr>\n",
       "      <th>12</th>\n",
       "      <td>1388.0</td>\n",
       "      <td>488.0</td>\n",
       "      <td>8007.0</td>\n",
       "    </tr>\n",
       "  </tbody>\n",
       "</table>\n",
       "</div>"
      ],
      "text/plain": [
       "       event_type_BUY_PRODUCT  event_type_RETURN_PRODUCT  \\\n",
       "month                                                      \n",
       "1                      1337.0                      169.0   \n",
       "2                      1225.0                      279.0   \n",
       "3                      1330.0                       75.0   \n",
       "4                      1009.0                       57.0   \n",
       "5                       891.0                       46.0   \n",
       "6                       835.0                       54.0   \n",
       "7                       879.0                       46.0   \n",
       "8                      1357.0                       58.0   \n",
       "9                      1299.0                       81.0   \n",
       "10                     1319.0                       82.0   \n",
       "11                     1329.0                      226.0   \n",
       "12                     1388.0                      488.0   \n",
       "\n",
       "       event_type_VIEW_PRODUCT  \n",
       "month                           \n",
       "1                       7882.0  \n",
       "2                       6959.0  \n",
       "3                       7795.0  \n",
       "4                       5894.0  \n",
       "5                       5250.0  \n",
       "6                       5215.0  \n",
       "7                       5361.0  \n",
       "8                       7861.0  \n",
       "9                       7641.0  \n",
       "10                      7762.0  \n",
       "11                      7718.0  \n",
       "12                      8007.0  "
      ]
     },
     "execution_count": 44,
     "metadata": {},
     "output_type": "execute_result"
    }
   ],
   "source": [
    "grouped_monthly_analysis"
   ]
  },
  {
   "cell_type": "code",
   "execution_count": 45,
   "id": "15112d7a",
   "metadata": {
    "colab": {
     "base_uri": "https://localhost:8080/",
     "height": 299
    },
    "executionInfo": {
     "elapsed": 31,
     "status": "ok",
     "timestamp": 1649970855879,
     "user": {
      "displayName": "Wiktor Kulesza",
      "userId": "00692131125282556945"
     },
     "user_tz": -120
    },
    "id": "15112d7a",
    "outputId": "34e14a61-9b31-4a8c-96a8-03700e13944c"
   },
   "outputs": [
    {
     "data": {
      "image/png": "[encoded data removed]",
      "text/plain": [
       "<Figure size 432x288 with 1 Axes>"
      ]
     },
     "metadata": {
      "needs_background": "light"
     },
     "output_type": "display_data"
    }
   ],
   "source": [
    "grouped_monthly_analysis[['event_type_BUY_PRODUCT']].plot(kind='bar')\n",
    "plt.title('Number of purchases each month')\n",
    "plt.ylabel('Num purchases')\n",
    "plt.show()"
   ]
  },
  {
   "cell_type": "code",
   "execution_count": 46,
   "id": "f6ed952c",
   "metadata": {
    "colab": {
     "base_uri": "https://localhost:8080/",
     "height": 299
    },
    "executionInfo": {
     "elapsed": 26,
     "status": "ok",
     "timestamp": 1649970855880,
     "user": {
      "displayName": "Wiktor Kulesza",
      "userId": "00692131125282556945"
     },
     "user_tz": -120
    },
    "id": "f6ed952c",
    "outputId": "b7377797-3be8-40c0-9bdb-6771d71a973a"
   },
   "outputs": [
    {
     "data": {
      "image/png": "[encoded data removed]",
      "text/plain": [
       "<Figure size 432x288 with 1 Axes>"
      ]
     },
     "metadata": {
      "needs_background": "light"
     },
     "output_type": "display_data"
    }
   ],
   "source": [
    "grouped_monthly_analysis[['event_type_RETURN_PRODUCT']].plot(kind='bar')\n",
    "plt.title('Number of returns each month')\n",
    "plt.ylabel('Num returns')\n",
    "plt.show()"
   ]
  },
  {
   "cell_type": "markdown",
   "id": "yaV2x3I73Cx2",
   "metadata": {
    "id": "yaV2x3I73Cx2"
   },
   "source": [
    "Jak możemy zauważyć grudzień oraz luty są miesiącami w których najwięcej paczek zostaje zwróconych co wydaje się logiczne ze względu na zakupy świąteczne oraz walentynki"
   ]
  },
  {
   "cell_type": "markdown",
   "id": "S_1jiAav20GB",
   "metadata": {
    "id": "S_1jiAav20GB"
   },
   "source": [
    "Jak widzimy wyżej nasza analiza dostarczonych danych pozwoli nam wziąć odpowiednie atrybuty pod uwagę przy budowie modelu i lepiej estymować ilość nadchodzących zwrotów."
   ]
  }
 ],
 "metadata": {
  "colab": {
   "collapsed_sections": [],
   "name": "etap1.ipynb",
   "provenance": []
  },
  "interpreter": {
   "hash": "db3a1a8fc265099731cf2ee3a64a9103a8b08ffbb49783f7eea49698cade0183"
  },
  "kernelspec": {
   "display_name": "Python 3.8.13 ('ML')",
   "language": "python",
   "name": "python3"
  },
  "language_info": {
   "codemirror_mode": {
    "name": "ipython",
    "version": 3
   },
   "file_extension": ".py",
   "mimetype": "text/x-python",
   "name": "python",
   "nbconvert_exporter": "python",
   "pygments_lexer": "ipython3",
   "version": "3.8.13"
  },
  "toc": {
   "base_numbering": 1,
   "nav_menu": {},
   "number_sections": true,
   "sideBar": true,
   "skip_h1_title": false,
   "title_cell": "Table of Contents",
   "title_sidebar": "Contents",
   "toc_cell": false,
   "toc_position": {},
   "toc_section_display": true,
   "toc_window_display": false
  }
 },
 "nbformat": 4,
 "nbformat_minor": 5
}

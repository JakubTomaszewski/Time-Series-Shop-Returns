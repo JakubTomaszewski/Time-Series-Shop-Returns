{
 "cells": [
  {
   "cell_type": "markdown",
   "metadata": {},
   "source": [
    "# Wczytywanie danych"
   ]
  },
  {
   "cell_type": "code",
   "execution_count": 849,
   "metadata": {},
   "outputs": [],
   "source": [
    "import os\n",
    "import numpy as np\n",
    "import pandas as pd\n",
    "import matplotlib.pyplot as plt\n",
    "import seaborn as sns\n",
    "\n",
    "from datetime import timedelta\n",
    "\n",
    "import plotly.express as px\n",
    "from plotly.subplots import make_subplots\n",
    "import plotly.graph_objects as go\n"
   ]
  },
  {
   "cell_type": "code",
   "execution_count": 850,
   "metadata": {},
   "outputs": [],
   "source": [
    "DATA_DIR = 'data'\n",
    "MAX_MONTH_DAYS = 31\n",
    "NUM_MONTHS = 12"
   ]
  },
  {
   "cell_type": "code",
   "execution_count": 851,
   "metadata": {},
   "outputs": [
    {
     "data": {
      "text/plain": [
       "['users.jsonl', 'deliveries.jsonl', 'sessions.jsonl', 'products.jsonl']"
      ]
     },
     "execution_count": 851,
     "metadata": {},
     "output_type": "execute_result"
    }
   ],
   "source": [
    "data_files = os.listdir(DATA_DIR)\n",
    "data_files"
   ]
  },
  {
   "cell_type": "code",
   "execution_count": 852,
   "metadata": {},
   "outputs": [],
   "source": [
    "df_users = pd.read_json(os.path.join(DATA_DIR, data_files[0]), lines=True)\n",
    "df_deliveries = pd.read_json(os.path.join(DATA_DIR, data_files[1]), lines=True)\n",
    "df_sessions = pd.read_json(os.path.join(DATA_DIR, data_files[2]), lines=True)\n",
    "df_products = pd.read_json(os.path.join(DATA_DIR, data_files[3]), lines=True)"
   ]
  },
  {
   "cell_type": "markdown",
   "metadata": {},
   "source": [
    "# Wybór danych"
   ]
  },
  {
   "cell_type": "code",
   "execution_count": 853,
   "metadata": {},
   "outputs": [
    {
     "data": {
      "text/html": [
       "<div>\n",
       "<style scoped>\n",
       "    .dataframe tbody tr th:only-of-type {\n",
       "        vertical-align: middle;\n",
       "    }\n",
       "\n",
       "    .dataframe tbody tr th {\n",
       "        vertical-align: top;\n",
       "    }\n",
       "\n",
       "    .dataframe thead th {\n",
       "        text-align: right;\n",
       "    }\n",
       "</style>\n",
       "<table border=\"1\" class=\"dataframe\">\n",
       "  <thead>\n",
       "    <tr style=\"text-align: right;\">\n",
       "      <th></th>\n",
       "      <th>session_id</th>\n",
       "      <th>timestamp</th>\n",
       "      <th>user_id</th>\n",
       "      <th>product_id</th>\n",
       "      <th>event_type</th>\n",
       "      <th>offered_discount</th>\n",
       "      <th>purchase_id</th>\n",
       "    </tr>\n",
       "  </thead>\n",
       "  <tbody>\n",
       "    <tr>\n",
       "      <th>0</th>\n",
       "      <td>124</td>\n",
       "      <td>2020-01-25 19:25:15</td>\n",
       "      <td>102</td>\n",
       "      <td>1538</td>\n",
       "      <td>VIEW_PRODUCT</td>\n",
       "      <td>5.0</td>\n",
       "      <td>NaN</td>\n",
       "    </tr>\n",
       "    <tr>\n",
       "      <th>1</th>\n",
       "      <td>124</td>\n",
       "      <td>2020-01-25 19:26:12</td>\n",
       "      <td>102</td>\n",
       "      <td>1542</td>\n",
       "      <td>VIEW_PRODUCT</td>\n",
       "      <td>5.0</td>\n",
       "      <td>NaN</td>\n",
       "    </tr>\n",
       "    <tr>\n",
       "      <th>2</th>\n",
       "      <td>124</td>\n",
       "      <td>2020-01-25 19:30:49</td>\n",
       "      <td>102</td>\n",
       "      <td>1539</td>\n",
       "      <td>VIEW_PRODUCT</td>\n",
       "      <td>5.0</td>\n",
       "      <td>NaN</td>\n",
       "    </tr>\n",
       "    <tr>\n",
       "      <th>3</th>\n",
       "      <td>124</td>\n",
       "      <td>2020-01-25 19:35:40</td>\n",
       "      <td>102</td>\n",
       "      <td>1541</td>\n",
       "      <td>VIEW_PRODUCT</td>\n",
       "      <td>5.0</td>\n",
       "      <td>NaN</td>\n",
       "    </tr>\n",
       "    <tr>\n",
       "      <th>4</th>\n",
       "      <td>124</td>\n",
       "      <td>2020-01-25 19:39:26</td>\n",
       "      <td>102</td>\n",
       "      <td>1547</td>\n",
       "      <td>VIEW_PRODUCT</td>\n",
       "      <td>5.0</td>\n",
       "      <td>NaN</td>\n",
       "    </tr>\n",
       "  </tbody>\n",
       "</table>\n",
       "</div>"
      ],
      "text/plain": [
       "   session_id           timestamp  user_id  product_id    event_type  \\\n",
       "0         124 2020-01-25 19:25:15      102        1538  VIEW_PRODUCT   \n",
       "1         124 2020-01-25 19:26:12      102        1542  VIEW_PRODUCT   \n",
       "2         124 2020-01-25 19:30:49      102        1539  VIEW_PRODUCT   \n",
       "3         124 2020-01-25 19:35:40      102        1541  VIEW_PRODUCT   \n",
       "4         124 2020-01-25 19:39:26      102        1547  VIEW_PRODUCT   \n",
       "\n",
       "   offered_discount  purchase_id  \n",
       "0               5.0          NaN  \n",
       "1               5.0          NaN  \n",
       "2               5.0          NaN  \n",
       "3               5.0          NaN  \n",
       "4               5.0          NaN  "
      ]
     },
     "execution_count": 853,
     "metadata": {},
     "output_type": "execute_result"
    }
   ],
   "source": [
    "df_sessions.head()"
   ]
  },
  {
   "cell_type": "markdown",
   "metadata": {},
   "source": [
    "- Users"
   ]
  },
  {
   "cell_type": "code",
   "execution_count": 854,
   "metadata": {},
   "outputs": [
    {
     "data": {
      "text/html": [
       "<div>\n",
       "<style scoped>\n",
       "    .dataframe tbody tr th:only-of-type {\n",
       "        vertical-align: middle;\n",
       "    }\n",
       "\n",
       "    .dataframe tbody tr th {\n",
       "        vertical-align: top;\n",
       "    }\n",
       "\n",
       "    .dataframe thead th {\n",
       "        text-align: right;\n",
       "    }\n",
       "</style>\n",
       "<table border=\"1\" class=\"dataframe\">\n",
       "  <thead>\n",
       "    <tr style=\"text-align: right;\">\n",
       "      <th></th>\n",
       "      <th>user_id</th>\n",
       "      <th>name</th>\n",
       "      <th>city</th>\n",
       "      <th>street</th>\n",
       "    </tr>\n",
       "  </thead>\n",
       "  <tbody>\n",
       "    <tr>\n",
       "      <th>0</th>\n",
       "      <td>102</td>\n",
       "      <td>Sebastian Młyńczak</td>\n",
       "      <td>Szczecin</td>\n",
       "      <td>pl. Pałacowa 584</td>\n",
       "    </tr>\n",
       "    <tr>\n",
       "      <th>1</th>\n",
       "      <td>103</td>\n",
       "      <td>Karina Dąbrowicz</td>\n",
       "      <td>Radom</td>\n",
       "      <td>plac Polna 13</td>\n",
       "    </tr>\n",
       "    <tr>\n",
       "      <th>2</th>\n",
       "      <td>104</td>\n",
       "      <td>Konrad Żelazek</td>\n",
       "      <td>Wrocław</td>\n",
       "      <td>al. Młyńska 53/86</td>\n",
       "    </tr>\n",
       "    <tr>\n",
       "      <th>3</th>\n",
       "      <td>105</td>\n",
       "      <td>Bruno Baumgart</td>\n",
       "      <td>Szczecin</td>\n",
       "      <td>plac Narcyzowa 29</td>\n",
       "    </tr>\n",
       "    <tr>\n",
       "      <th>4</th>\n",
       "      <td>106</td>\n",
       "      <td>Karina Grygorowicz</td>\n",
       "      <td>Poznań</td>\n",
       "      <td>ul. Chopina 24</td>\n",
       "    </tr>\n",
       "  </tbody>\n",
       "</table>\n",
       "</div>"
      ],
      "text/plain": [
       "   user_id                name      city             street\n",
       "0      102  Sebastian Młyńczak  Szczecin   pl. Pałacowa 584\n",
       "1      103    Karina Dąbrowicz     Radom      plac Polna 13\n",
       "2      104      Konrad Żelazek   Wrocław  al. Młyńska 53/86\n",
       "3      105      Bruno Baumgart  Szczecin  plac Narcyzowa 29\n",
       "4      106  Karina Grygorowicz    Poznań     ul. Chopina 24"
      ]
     },
     "execution_count": 854,
     "metadata": {},
     "output_type": "execute_result"
    }
   ],
   "source": [
    "df_users.head()"
   ]
  },
  {
   "cell_type": "code",
   "execution_count": 855,
   "metadata": {},
   "outputs": [
    {
     "data": {
      "text/html": [
       "<div>\n",
       "<style scoped>\n",
       "    .dataframe tbody tr th:only-of-type {\n",
       "        vertical-align: middle;\n",
       "    }\n",
       "\n",
       "    .dataframe tbody tr th {\n",
       "        vertical-align: top;\n",
       "    }\n",
       "\n",
       "    .dataframe thead th {\n",
       "        text-align: right;\n",
       "    }\n",
       "</style>\n",
       "<table border=\"1\" class=\"dataframe\">\n",
       "  <thead>\n",
       "    <tr style=\"text-align: right;\">\n",
       "      <th></th>\n",
       "      <th>purchase_id</th>\n",
       "      <th>purchase_timestamp</th>\n",
       "      <th>delivery_timestamp</th>\n",
       "      <th>delivery_company</th>\n",
       "    </tr>\n",
       "  </thead>\n",
       "  <tbody>\n",
       "    <tr>\n",
       "      <th>0</th>\n",
       "      <td>20001</td>\n",
       "      <td>2020-01-25T19:40:37</td>\n",
       "      <td>2020-01-30T19:40:44</td>\n",
       "      <td>516</td>\n",
       "    </tr>\n",
       "    <tr>\n",
       "      <th>1</th>\n",
       "      <td>20002</td>\n",
       "      <td>2019-12-29T16:12:47</td>\n",
       "      <td>2019-12-31T16:13:40</td>\n",
       "      <td>516</td>\n",
       "    </tr>\n",
       "    <tr>\n",
       "      <th>2</th>\n",
       "      <td>20003</td>\n",
       "      <td>2020-12-30T07:28:26</td>\n",
       "      <td>2021-01-01T07:29:45</td>\n",
       "      <td>516</td>\n",
       "    </tr>\n",
       "    <tr>\n",
       "      <th>3</th>\n",
       "      <td>20004</td>\n",
       "      <td>2020-04-13T06:30:14</td>\n",
       "      <td>2020-04-16T06:33:45</td>\n",
       "      <td>620</td>\n",
       "    </tr>\n",
       "    <tr>\n",
       "      <th>4</th>\n",
       "      <td>20005</td>\n",
       "      <td>2022-03-15T11:36:49</td>\n",
       "      <td>2022-03-20T11:38:02</td>\n",
       "      <td>516</td>\n",
       "    </tr>\n",
       "  </tbody>\n",
       "</table>\n",
       "</div>"
      ],
      "text/plain": [
       "   purchase_id   purchase_timestamp   delivery_timestamp  delivery_company\n",
       "0        20001  2020-01-25T19:40:37  2020-01-30T19:40:44               516\n",
       "1        20002  2019-12-29T16:12:47  2019-12-31T16:13:40               516\n",
       "2        20003  2020-12-30T07:28:26  2021-01-01T07:29:45               516\n",
       "3        20004  2020-04-13T06:30:14  2020-04-16T06:33:45               620\n",
       "4        20005  2022-03-15T11:36:49  2022-03-20T11:38:02               516"
      ]
     },
     "execution_count": 855,
     "metadata": {},
     "output_type": "execute_result"
    }
   ],
   "source": [
    "df_deliveries.head()"
   ]
  },
  {
   "cell_type": "markdown",
   "metadata": {},
   "source": [
    "- Products"
   ]
  },
  {
   "cell_type": "code",
   "execution_count": 856,
   "metadata": {},
   "outputs": [
    {
     "data": {
      "text/html": [
       "<div>\n",
       "<style scoped>\n",
       "    .dataframe tbody tr th:only-of-type {\n",
       "        vertical-align: middle;\n",
       "    }\n",
       "\n",
       "    .dataframe tbody tr th {\n",
       "        vertical-align: top;\n",
       "    }\n",
       "\n",
       "    .dataframe thead th {\n",
       "        text-align: right;\n",
       "    }\n",
       "</style>\n",
       "<table border=\"1\" class=\"dataframe\">\n",
       "  <thead>\n",
       "    <tr style=\"text-align: right;\">\n",
       "      <th></th>\n",
       "      <th>product_id</th>\n",
       "      <th>product_name</th>\n",
       "      <th>category_path</th>\n",
       "      <th>price</th>\n",
       "      <th>brand</th>\n",
       "      <th>weight_kg</th>\n",
       "      <th>optional_attributes</th>\n",
       "    </tr>\n",
       "  </thead>\n",
       "  <tbody>\n",
       "    <tr>\n",
       "      <th>0</th>\n",
       "      <td>1001</td>\n",
       "      <td>Fotel gamingowy Sofotel Cerber</td>\n",
       "      <td>Akcesoria (Laptop, PC);Fotele gamingowe</td>\n",
       "      <td>619.99</td>\n",
       "      <td>Sofotel</td>\n",
       "      <td>19.0</td>\n",
       "      <td>{}</td>\n",
       "    </tr>\n",
       "    <tr>\n",
       "      <th>1</th>\n",
       "      <td>1002</td>\n",
       "      <td>Fotel gamingowy Sofotel Cerber</td>\n",
       "      <td>Akcesoria (Laptop, PC);Fotele gamingowe</td>\n",
       "      <td>599.99</td>\n",
       "      <td>Sofotel</td>\n",
       "      <td>19.0</td>\n",
       "      <td>{}</td>\n",
       "    </tr>\n",
       "    <tr>\n",
       "      <th>2</th>\n",
       "      <td>1003</td>\n",
       "      <td>Fotel gamingowy TopEshop DORY</td>\n",
       "      <td>Akcesoria (Laptop, PC);Fotele gamingowe</td>\n",
       "      <td>379.00</td>\n",
       "      <td>TopEshop</td>\n",
       "      <td>30.0</td>\n",
       "      <td>{}</td>\n",
       "    </tr>\n",
       "    <tr>\n",
       "      <th>3</th>\n",
       "      <td>1004</td>\n",
       "      <td>Fotel gamingowy Diablo Chairs WHITE BIEL BIAŁY</td>\n",
       "      <td>Akcesoria (Laptop, PC);Fotele gamingowe</td>\n",
       "      <td>197.00</td>\n",
       "      <td>Diablo Chairs</td>\n",
       "      <td>30.0</td>\n",
       "      <td>{}</td>\n",
       "    </tr>\n",
       "    <tr>\n",
       "      <th>4</th>\n",
       "      <td>1005</td>\n",
       "      <td>Fotel gamingowy STERNHOFF SDH 162 B+B</td>\n",
       "      <td>Akcesoria (Laptop, PC);Fotele gamingowe</td>\n",
       "      <td>399.00</td>\n",
       "      <td>STERNHOFF</td>\n",
       "      <td>17.0</td>\n",
       "      <td>{}</td>\n",
       "    </tr>\n",
       "  </tbody>\n",
       "</table>\n",
       "</div>"
      ],
      "text/plain": [
       "   product_id                                    product_name  \\\n",
       "0        1001                  Fotel gamingowy Sofotel Cerber   \n",
       "1        1002                  Fotel gamingowy Sofotel Cerber   \n",
       "2        1003                   Fotel gamingowy TopEshop DORY   \n",
       "3        1004  Fotel gamingowy Diablo Chairs WHITE BIEL BIAŁY   \n",
       "4        1005           Fotel gamingowy STERNHOFF SDH 162 B+B   \n",
       "\n",
       "                             category_path   price          brand  weight_kg  \\\n",
       "0  Akcesoria (Laptop, PC);Fotele gamingowe  619.99        Sofotel       19.0   \n",
       "1  Akcesoria (Laptop, PC);Fotele gamingowe  599.99        Sofotel       19.0   \n",
       "2  Akcesoria (Laptop, PC);Fotele gamingowe  379.00       TopEshop       30.0   \n",
       "3  Akcesoria (Laptop, PC);Fotele gamingowe  197.00  Diablo Chairs       30.0   \n",
       "4  Akcesoria (Laptop, PC);Fotele gamingowe  399.00      STERNHOFF       17.0   \n",
       "\n",
       "  optional_attributes  \n",
       "0                  {}  \n",
       "1                  {}  \n",
       "2                  {}  \n",
       "3                  {}  \n",
       "4                  {}  "
      ]
     },
     "execution_count": 856,
     "metadata": {},
     "output_type": "execute_result"
    }
   ],
   "source": [
    "df_products.head()"
   ]
  },
  {
   "cell_type": "markdown",
   "metadata": {},
   "source": [
    "## Zbadanie rozkładu danych"
   ]
  },
  {
   "cell_type": "markdown",
   "metadata": {},
   "source": [
    "Sprawdzenie, czy wszystkie przeglądane produkty znajdują się w bazie"
   ]
  },
  {
   "cell_type": "code",
   "execution_count": 857,
   "metadata": {},
   "outputs": [],
   "source": [
    "for prod_id in df_sessions['product_id'].unique():\n",
    "    if prod_id not in df_products['product_id'].unique():\n",
    "        print('Product not in database', prod_id)"
   ]
  },
  {
   "cell_type": "code",
   "execution_count": 858,
   "metadata": {},
   "outputs": [
    {
     "data": {
      "application/vnd.plotly.v1+json": {
       "config": {
        "plotlyServerURL": "https://plot.ly"
       },
       "data": [
        {
         "name": "price",
         "type": "histogram",
         "x": [
          619.99,
          599.99,
          379,
          197,
          399,
          728,
          439,
          247,
          247,
          147,
          797,
          797,
          419,
          566.03,
          671,
          479,
          419,
          459,
          189,
          449,
          97,
          380.03,
          74.99,
          313.85,
          348,
          399,
          118.88,
          179,
          179.1,
          79,
          79.9,
          199.99,
          98,
          469.98,
          494.9,
          335.99,
          930,
          953,
          339.41,
          89.5,
          259,
          758,
          96.76,
          449.99,
          365,
          349,
          109,
          733.99,
          0,
          610,
          359,
          349,
          619,
          199.99,
          206.99,
          90,
          69,
          54.98,
          361.99,
          639,
          114,
          59.99,
          382.66,
          139,
          64.5,
          57,
          69,
          56,
          119.5,
          115,
          140,
          115.5,
          135,
          139.39,
          179,
          54.98,
          64,
          59.99,
          189.7,
          166.57,
          170.99,
          149,
          329,
          295.83,
          349,
          308.18,
          149,
          116.98,
          146.37,
          145.55,
          162.99,
          99.99,
          680,
          43.99,
          58.99,
          125,
          155.44,
          79,
          379.36,
          775.18,
          385,
          288.44,
          97.99,
          719,
          89.99,
          854.04,
          710.39,
          409.74,
          87,
          220.07,
          105,
          169,
          99,
          139,
          129,
          35.99,
          22.99,
          45,
          440,
          239,
          169,
          364.99,
          41.9,
          249,
          847,
          14.79,
          129,
          54.7,
          169,
          254.99,
          639,
          33,
          137.89,
          575.31,
          89.9,
          199.99,
          299,
          168,
          559,
          47.99,
          149,
          499.99,
          267.99,
          229,
          43,
          168.19,
          229,
          118.95,
          49.98,
          773,
          629.74,
          255,
          648.9,
          655.3,
          299,
          670.83,
          279.99,
          259,
          449,
          359,
          129.55,
          99,
          40,
          188,
          69,
          429,
          225.99,
          129.75,
          29.99,
          54.8,
          279.99,
          239,
          449,
          79,
          89,
          159,
          269,
          209,
          279,
          215,
          129,
          20.95,
          121,
          128.9,
          632.99,
          41,
          145,
          81.18,
          100,
          147.85,
          119,
          299,
          449,
          610,
          939.23,
          599,
          939,
          573.05,
          763,
          869,
          19,
          129,
          389,
          999,
          499,
          99,
          729,
          699,
          699,
          999,
          549,
          639.99,
          999,
          799,
          600,
          849,
          300,
          585,
          32,
          999,
          449,
          399,
          599,
          178.95,
          345,
          249,
          167,
          719,
          789,
          549,
          879,
          37,
          819,
          189,
          994,
          299,
          599,
          598,
          689,
          799.01,
          828.5,
          115.39,
          648.24,
          979,
          818,
          954.36,
          397.75,
          199,
          929,
          579,
          839.99,
          159,
          58,
          879.16,
          633,
          999,
          749,
          445,
          825,
          238.23,
          291.17,
          385,
          489.99,
          479,
          58,
          629,
          359,
          289,
          939,
          500,
          45,
          991,
          83,
          499,
          979,
          893.76,
          405.99,
          400.26,
          599,
          627,
          541.14,
          615,
          99,
          884.47,
          699.99,
          890,
          939,
          999,
          129,
          135.64,
          785,
          74.99,
          72.27,
          699.99,
          230,
          99,
          868.95,
          625,
          917.62,
          397,
          49.01,
          399,
          258.3,
          59,
          639,
          39,
          649,
          748.99,
          519,
          736,
          799,
          219.38,
          949,
          580,
          561.99,
          247,
          515,
          550,
          829,
          458,
          549,
          69.99,
          59,
          68.99,
          319,
          162.52,
          116.99,
          239,
          269,
          247.27,
          44.89,
          531,
          189,
          79,
          429,
          89,
          169,
          373,
          339,
          399,
          39,
          219,
          45,
          40,
          14.79,
          325.14,
          132.5,
          106.99,
          558.99,
          153.57,
          399.98,
          35.19,
          489,
          99,
          69.9,
          108.97,
          18.9,
          299,
          323.86,
          358,
          489,
          489,
          40,
          444,
          129.15,
          259,
          189,
          107.99,
          222.22,
          499,
          193.88,
          298,
          109,
          449,
          399,
          29.9,
          51,
          44.99,
          89,
          316.73,
          364.99,
          42.99,
          229,
          324.29,
          349,
          45,
          18.65,
          63.98,
          44.12,
          49,
          179.89,
          177.99,
          179.99,
          539,
          40,
          56.99,
          58.65,
          196.99,
          16.49,
          12.25,
          23.39,
          59,
          129,
          169,
          14.5,
          48.5,
          79,
          54.99,
          89.99,
          149.89,
          47.08,
          65.99,
          49.99,
          49.9,
          20,
          62,
          49,
          119.99,
          59,
          40.69,
          64.9,
          74.9,
          149,
          48.99,
          129,
          54,
          206.53,
          109,
          49,
          35.95,
          60.9,
          69,
          44,
          45,
          140.99,
          103,
          199,
          277,
          41.94,
          112,
          249,
          159,
          149,
          299,
          84.95,
          349,
          44.99,
          89.9,
          31.42,
          9.5,
          25,
          16.87,
          79.9,
          99,
          6.91,
          29,
          67.99,
          79.92,
          85.43,
          129.99,
          98.96,
          23.2,
          27.9,
          35,
          179.99,
          26.8,
          43.99,
          71.4,
          68.09,
          159.99,
          111.13,
          390,
          19.9,
          14.6,
          13.95,
          25.8,
          15.99,
          12.99,
          51.99,
          89.16,
          36.99,
          335,
          161.99,
          159,
          51.99,
          336.05,
          65.9,
          25.37,
          29.99,
          24.42,
          158.98,
          40,
          103.39,
          59.77,
          74.99,
          54.99,
          119.9,
          17.78,
          26.85,
          18.8,
          22.99,
          40,
          23.75,
          68,
          44.97,
          17.6,
          14.74,
          18.3,
          60.64,
          46,
          24.99,
          28.99,
          69.99,
          54.99,
          23.35,
          33.9,
          107.43,
          31.99,
          159.49,
          20,
          64.95,
          49.5,
          14.38,
          34.8,
          28.41,
          29,
          30.2,
          20,
          28.99,
          65.7,
          42.99,
          29,
          57.66,
          25.99,
          58.99,
          25.99,
          19.94,
          589,
          788.4,
          689,
          175,
          179,
          158,
          299.8,
          295.55,
          278.99,
          789.13,
          379,
          599,
          347.9,
          869,
          218.99,
          381.81,
          412.99,
          139,
          853.12,
          325,
          518.69,
          359,
          325.29,
          183.99,
          371.97,
          373.46,
          299,
          173.99,
          99,
          589,
          172.9,
          432.99,
          579.43,
          389,
          379,
          309,
          158.99,
          153.33,
          139.9,
          284.37,
          190.94,
          209.99,
          290,
          169,
          699,
          379,
          319,
          329,
          628.5,
          109,
          389,
          319,
          149.99,
          158.99,
          85.62,
          479,
          699,
          429,
          670,
          630,
          680,
          548.97,
          849,
          799,
          499,
          99,
          677,
          799,
          689,
          909.99,
          59,
          95,
          34.9,
          97,
          138.99,
          14.23,
          188,
          29.38,
          29.19,
          40,
          34.98,
          94.9,
          79,
          109,
          129,
          79,
          17.9,
          31.09,
          37.9,
          229,
          148.48,
          148.48,
          298.99,
          45,
          174.95,
          197,
          277,
          619,
          34.94,
          209.99,
          147.99,
          165,
          438.89,
          64.89,
          59.89,
          57.2,
          68.6,
          421.9,
          146,
          142.99,
          277.57,
          349,
          178.9,
          129,
          96.99,
          77
         ],
         "xaxis": "x",
         "yaxis": "y"
        },
        {
         "name": "weight",
         "type": "histogram",
         "x": [
          19,
          19,
          30,
          30,
          17,
          25,
          20,
          30,
          30,
          25,
          25,
          25,
          25,
          25,
          25,
          19,
          19.8,
          20,
          30,
          21,
          25,
          14,
          0.30000000000000004,
          0.5,
          0.213,
          0.30000000000000004,
          0.2,
          5,
          0.2,
          0.2,
          0.185,
          0.20500000000000002,
          0.115,
          0.322,
          0.336,
          0.17,
          2.06,
          1.04,
          0.34,
          0.17,
          0.241,
          1.12,
          0.195,
          0,
          0.35000000000000003,
          0.38,
          0.22,
          0.063,
          4.02,
          1.58,
          0.24,
          0.025,
          0.018000000000000002,
          0.01,
          0.15,
          0.01,
          0.01,
          1,
          0.15,
          0.15,
          0.01,
          0.01,
          0.06,
          0.01,
          0.2,
          0.01,
          0.2,
          0.2,
          0.01,
          0.2,
          0.1,
          0.01,
          0.01,
          0.01,
          0.2,
          0.01,
          0.01,
          0.30000000000000004,
          0.15,
          0.019,
          0.1,
          0.019,
          0.014,
          0.02,
          0.185,
          0.05,
          0.021,
          0.02,
          0.018000000000000002,
          0.01,
          0.019,
          5,
          5,
          0.26,
          0.055,
          0.41200000000000003,
          2.27,
          0.15,
          1.581,
          1.3599999999999999,
          0.15,
          1.5,
          0.30000000000000004,
          1.49,
          1.33,
          1.6600000000000001,
          1.5390000000000001,
          1.06,
          0.446,
          0.754,
          0.52,
          0.76,
          0.77,
          0.71,
          1.1,
          1.4,
          0.495,
          0.30000000000000004,
          1.72,
          1.1,
          0.15,
          1.72,
          0.58,
          0.15,
          2.2,
          0.56,
          0.9,
          0.52,
          1.1,
          1.32,
          1.8599999999999999,
          0.182,
          0.8,
          1.208,
          1,
          0.189,
          1.11,
          1.4100000000000001,
          1.52,
          2,
          1.75,
          1.98,
          1.08,
          1.1,
          0.6000000000000001,
          0.99,
          1.56,
          0.8300000000000001,
          0.52,
          12.5,
          0,
          0.8,
          1,
          0.88,
          0.58,
          0.85,
          0.78,
          0.68,
          0.379,
          0.92,
          0.049,
          0.4,
          0.04,
          0.77,
          0.1,
          0.32,
          0.6000000000000001,
          0.58,
          0,
          0.45,
          0.78,
          1.06,
          0.857,
          0.45,
          0.2,
          0.52,
          0.7000000000000001,
          0.58,
          0.59,
          0.22,
          0.496,
          0.293,
          0.4,
          0.545,
          0.317,
          0.26,
          0.188,
          0.158,
          0.18,
          0.139,
          0.356,
          1.34,
          18,
          4.14,
          7.53,
          20.4,
          5.8,
          8.72,
          10.9,
          9.6,
          7.8,
          6.8,
          7.8,
          14.1,
          8.1,
          6.5,
          8.4,
          8.1,
          9.12,
          8.9,
          8,
          4,
          9.2,
          5.5,
          10.8,
          6.2,
          8,
          4.7,
          13.9,
          7.9,
          10.6,
          10.5,
          12.3,
          7.8,
          8.3,
          8.4,
          9.3,
          4.9,
          6.1,
          11.9,
          6.42,
          6.2,
          4.87,
          4.8,
          10.4,
          8.89,
          5.5,
          4.2,
          4.5,
          5.1,
          6.1,
          7.5,
          4.25,
          9.8,
          8.7,
          6.4,
          9.9,
          6.1,
          6.47,
          10.7,
          6.59,
          7.8,
          8.3,
          6.11,
          5,
          10,
          5,
          8.53,
          3.65,
          9,
          9.1,
          13.7,
          10.4,
          11.1,
          7.27,
          9.3,
          9.9,
          7.8,
          3.79,
          13.1,
          10,
          6.6,
          10,
          7.5,
          6.4,
          5,
          7.53,
          7.8,
          8.2,
          5.5,
          10.2,
          4.8,
          9.2,
          10,
          6.1,
          16.5,
          6.25,
          13.5,
          12.8,
          10,
          6.2,
          5.71,
          3.7,
          20.5,
          7.2,
          8.88,
          5.41,
          14.3,
          6.3,
          3.26,
          8.2,
          7.4,
          4.28,
          6.55,
          4.7,
          9.6,
          4.04,
          4.82,
          4.11,
          11.86,
          5.94,
          8.5,
          8.5,
          3.58,
          6.9,
          9.3,
          7.6,
          3.7199999999999998,
          7.52,
          2.7,
          3.87,
          225,
          0.29,
          0.9,
          0.188,
          91,
          0.25,
          0.25,
          0.17,
          0.18,
          110,
          0.371,
          0.4,
          0.127,
          0.26,
          0.127,
          0.18,
          0.24,
          0.24,
          0.24,
          0.14,
          0.92,
          0.13,
          0.15,
          0.08,
          0.24,
          0,
          0.12,
          0.43,
          0.9,
          0.39,
          0.09,
          0.32,
          0.1,
          0.13,
          0.126,
          0.099,
          0.13,
          0.26,
          0.23,
          0.333,
          0.334,
          0.1,
          0.224,
          0.16,
          300,
          0.157,
          0.19,
          0.182,
          0.39,
          0.182,
          0.23,
          0.20400000000000001,
          0.36,
          0.371,
          0.165,
          0.167,
          0.131,
          0.14,
          0.23500000000000001,
          0.33,
          0.148,
          0.266,
          0.25,
          0.28600000000000003,
          0.1,
          0.1,
          0.13,
          0.18,
          0.105,
          0.08,
          0.101,
          0.26,
          0.106,
          0.1,
          0.13,
          0.14,
          0.18,
          0.06,
          0.06,
          0.099,
          0.147,
          0.125,
          0.125,
          0.065,
          0.14300000000000002,
          0.125,
          0.181,
          0.125,
          0.32,
          0.12,
          0.12,
          0.12,
          0.121,
          0.16,
          0.241,
          51.9,
          0.186,
          0.14200000000000002,
          0.14100000000000001,
          0.215,
          0.18,
          0.212,
          0.07,
          0.21,
          0.18,
          0.4,
          0.26,
          0.07,
          0.12,
          0.185,
          0.17,
          0.22,
          0.1,
          0.161,
          0.1,
          0.2,
          0.13,
          0.12,
          0.213,
          0.30000000000000004,
          0.26,
          0.18,
          0.32,
          0.4,
          0.37,
          0.23,
          0.22,
          0.121,
          0.1,
          0.183,
          0.183,
          0.326,
          0.30000000000000004,
          0.08,
          0.18,
          0.36,
          0.36,
          0.34500000000000003,
          0.31,
          0.30000000000000004,
          0.12,
          0.12,
          0.189,
          0.014,
          0.014,
          0.014,
          0.014,
          0.03,
          0.024,
          0.022,
          0.024,
          0.02,
          0.01,
          0.01,
          0.02,
          0.01,
          0.01,
          0,
          0.015,
          0,
          0.06,
          0,
          0,
          0.02,
          0.057,
          0.008,
          0.008,
          0,
          0,
          0.009000000000000001,
          0,
          0,
          0,
          0.006,
          0.012,
          0.04,
          0.01,
          0.018000000000000002,
          0.017,
          0.009000000000000001,
          0.001,
          0.018000000000000002,
          0.022,
          0.015,
          0.024,
          0.016,
          0.016,
          0.02,
          0.024,
          0.013000000000000001,
          0.025,
          0.015,
          0.023,
          0.023,
          0.001,
          0.02,
          0.019,
          0.04,
          0.012,
          0.02,
          0.019,
          0.02,
          0.025,
          0.018000000000000002,
          0.018000000000000002,
          0.018000000000000002,
          0.02,
          0.001,
          0.001,
          0.015,
          0.02,
          0.02,
          0.015,
          0.025,
          0.02,
          0.02,
          0.15,
          0.052000000000000005,
          0.052000000000000005,
          0.058,
          0.052000000000000005,
          0.052000000000000005,
          0.091,
          0.025,
          0.029,
          0.029,
          0.15,
          0.09,
          0.12,
          0.13,
          0.15,
          0.162,
          0.162,
          0.01,
          0.189,
          0.15,
          0.162,
          0.11800000000000001,
          0.162,
          0.114,
          0.029,
          0.105,
          0.15,
          0.035,
          0.02,
          0.15,
          0.2,
          0.179,
          0.07,
          0.13,
          0.127,
          0.12,
          0.037,
          0.037,
          0.015,
          0.073,
          0.157,
          0.06,
          0.035,
          0.061,
          0.14,
          0.1,
          0.111,
          0.101,
          0.13,
          0.03,
          0.14,
          0.1,
          0.025,
          0.026000000000000002,
          0.025,
          5.6,
          10,
          3.7,
          2,
          1.22,
          6.2,
          2.5,
          1.35,
          0.608,
          0.48,
          0.93,
          0.8,
          0.495,
          0.48,
          0.84,
          0.2,
          0.44,
          0.376,
          0.30000000000000004,
          1,
          8,
          0.332,
          0.24,
          0.30000000000000004,
          0.30000000000000004,
          0.30000000000000004,
          0.30000000000000004,
          0.405,
          0.30000000000000004,
          0.323,
          0.30000000000000004,
          0.242,
          0.304,
          0.6000000000000001,
          0.88,
          0.75,
          0.75,
          0.7000000000000001,
          0.605,
          0.54,
          0.875,
          1.45,
          1.6400000000000001,
          0.58,
          0.98,
          0.741,
          0.658,
          1.38,
          0.43,
          0.68,
          0.68,
          0.30000000000000004,
          2.06,
          1.19,
          0.9400000000000001,
          1.48,
          0.92,
          0.983,
          0.6900000000000001,
          0.624,
          0.9560000000000001
         ],
         "xaxis": "x2",
         "yaxis": "y2"
        }
       ],
       "layout": {
        "annotations": [
         {
          "font": {
           "size": 16
          },
          "showarrow": false,
          "text": "Price [PLN]",
          "x": 0.225,
          "xanchor": "center",
          "xref": "paper",
          "y": 1,
          "yanchor": "bottom",
          "yref": "paper"
         },
         {
          "font": {
           "size": 16
          },
          "showarrow": false,
          "text": "Weight [kg]",
          "x": 0.775,
          "xanchor": "center",
          "xref": "paper",
          "y": 1,
          "yanchor": "bottom",
          "yref": "paper"
         }
        ],
        "template": {
         "data": {
          "bar": [
           {
            "error_x": {
             "color": "#2a3f5f"
            },
            "error_y": {
             "color": "#2a3f5f"
            },
            "marker": {
             "line": {
              "color": "#E5ECF6",
              "width": 0.5
             },
             "pattern": {
              "fillmode": "overlay",
              "size": 10,
              "solidity": 0.2
             }
            },
            "type": "bar"
           }
          ],
          "barpolar": [
           {
            "marker": {
             "line": {
              "color": "#E5ECF6",
              "width": 0.5
             },
             "pattern": {
              "fillmode": "overlay",
              "size": 10,
              "solidity": 0.2
             }
            },
            "type": "barpolar"
           }
          ],
          "carpet": [
           {
            "aaxis": {
             "endlinecolor": "#2a3f5f",
             "gridcolor": "white",
             "linecolor": "white",
             "minorgridcolor": "white",
             "startlinecolor": "#2a3f5f"
            },
            "baxis": {
             "endlinecolor": "#2a3f5f",
             "gridcolor": "white",
             "linecolor": "white",
             "minorgridcolor": "white",
             "startlinecolor": "#2a3f5f"
            },
            "type": "carpet"
           }
          ],
          "choropleth": [
           {
            "colorbar": {
             "outlinewidth": 0,
             "ticks": ""
            },
            "type": "choropleth"
           }
          ],
          "contour": [
           {
            "colorbar": {
             "outlinewidth": 0,
             "ticks": ""
            },
            "colorscale": [
             [
              0,
              "#0d0887"
             ],
             [
              0.1111111111111111,
              "#46039f"
             ],
             [
              0.2222222222222222,
              "#7201a8"
             ],
             [
              0.3333333333333333,
              "#9c179e"
             ],
             [
              0.4444444444444444,
              "#bd3786"
             ],
             [
              0.5555555555555556,
              "#d8576b"
             ],
             [
              0.6666666666666666,
              "#ed7953"
             ],
             [
              0.7777777777777778,
              "#fb9f3a"
             ],
             [
              0.8888888888888888,
              "#fdca26"
             ],
             [
              1,
              "#f0f921"
             ]
            ],
            "type": "contour"
           }
          ],
          "contourcarpet": [
           {
            "colorbar": {
             "outlinewidth": 0,
             "ticks": ""
            },
            "type": "contourcarpet"
           }
          ],
          "heatmap": [
           {
            "colorbar": {
             "outlinewidth": 0,
             "ticks": ""
            },
            "colorscale": [
             [
              0,
              "#0d0887"
             ],
             [
              0.1111111111111111,
              "#46039f"
             ],
             [
              0.2222222222222222,
              "#7201a8"
             ],
             [
              0.3333333333333333,
              "#9c179e"
             ],
             [
              0.4444444444444444,
              "#bd3786"
             ],
             [
              0.5555555555555556,
              "#d8576b"
             ],
             [
              0.6666666666666666,
              "#ed7953"
             ],
             [
              0.7777777777777778,
              "#fb9f3a"
             ],
             [
              0.8888888888888888,
              "#fdca26"
             ],
             [
              1,
              "#f0f921"
             ]
            ],
            "type": "heatmap"
           }
          ],
          "heatmapgl": [
           {
            "colorbar": {
             "outlinewidth": 0,
             "ticks": ""
            },
            "colorscale": [
             [
              0,
              "#0d0887"
             ],
             [
              0.1111111111111111,
              "#46039f"
             ],
             [
              0.2222222222222222,
              "#7201a8"
             ],
             [
              0.3333333333333333,
              "#9c179e"
             ],
             [
              0.4444444444444444,
              "#bd3786"
             ],
             [
              0.5555555555555556,
              "#d8576b"
             ],
             [
              0.6666666666666666,
              "#ed7953"
             ],
             [
              0.7777777777777778,
              "#fb9f3a"
             ],
             [
              0.8888888888888888,
              "#fdca26"
             ],
             [
              1,
              "#f0f921"
             ]
            ],
            "type": "heatmapgl"
           }
          ],
          "histogram": [
           {
            "marker": {
             "pattern": {
              "fillmode": "overlay",
              "size": 10,
              "solidity": 0.2
             }
            },
            "type": "histogram"
           }
          ],
          "histogram2d": [
           {
            "colorbar": {
             "outlinewidth": 0,
             "ticks": ""
            },
            "colorscale": [
             [
              0,
              "#0d0887"
             ],
             [
              0.1111111111111111,
              "#46039f"
             ],
             [
              0.2222222222222222,
              "#7201a8"
             ],
             [
              0.3333333333333333,
              "#9c179e"
             ],
             [
              0.4444444444444444,
              "#bd3786"
             ],
             [
              0.5555555555555556,
              "#d8576b"
             ],
             [
              0.6666666666666666,
              "#ed7953"
             ],
             [
              0.7777777777777778,
              "#fb9f3a"
             ],
             [
              0.8888888888888888,
              "#fdca26"
             ],
             [
              1,
              "#f0f921"
             ]
            ],
            "type": "histogram2d"
           }
          ],
          "histogram2dcontour": [
           {
            "colorbar": {
             "outlinewidth": 0,
             "ticks": ""
            },
            "colorscale": [
             [
              0,
              "#0d0887"
             ],
             [
              0.1111111111111111,
              "#46039f"
             ],
             [
              0.2222222222222222,
              "#7201a8"
             ],
             [
              0.3333333333333333,
              "#9c179e"
             ],
             [
              0.4444444444444444,
              "#bd3786"
             ],
             [
              0.5555555555555556,
              "#d8576b"
             ],
             [
              0.6666666666666666,
              "#ed7953"
             ],
             [
              0.7777777777777778,
              "#fb9f3a"
             ],
             [
              0.8888888888888888,
              "#fdca26"
             ],
             [
              1,
              "#f0f921"
             ]
            ],
            "type": "histogram2dcontour"
           }
          ],
          "mesh3d": [
           {
            "colorbar": {
             "outlinewidth": 0,
             "ticks": ""
            },
            "type": "mesh3d"
           }
          ],
          "parcoords": [
           {
            "line": {
             "colorbar": {
              "outlinewidth": 0,
              "ticks": ""
             }
            },
            "type": "parcoords"
           }
          ],
          "pie": [
           {
            "automargin": true,
            "type": "pie"
           }
          ],
          "scatter": [
           {
            "fillpattern": {
             "fillmode": "overlay",
             "size": 10,
             "solidity": 0.2
            },
            "type": "scatter"
           }
          ],
          "scatter3d": [
           {
            "line": {
             "colorbar": {
              "outlinewidth": 0,
              "ticks": ""
             }
            },
            "marker": {
             "colorbar": {
              "outlinewidth": 0,
              "ticks": ""
             }
            },
            "type": "scatter3d"
           }
          ],
          "scattercarpet": [
           {
            "marker": {
             "colorbar": {
              "outlinewidth": 0,
              "ticks": ""
             }
            },
            "type": "scattercarpet"
           }
          ],
          "scattergeo": [
           {
            "marker": {
             "colorbar": {
              "outlinewidth": 0,
              "ticks": ""
             }
            },
            "type": "scattergeo"
           }
          ],
          "scattergl": [
           {
            "marker": {
             "colorbar": {
              "outlinewidth": 0,
              "ticks": ""
             }
            },
            "type": "scattergl"
           }
          ],
          "scattermapbox": [
           {
            "marker": {
             "colorbar": {
              "outlinewidth": 0,
              "ticks": ""
             }
            },
            "type": "scattermapbox"
           }
          ],
          "scatterpolar": [
           {
            "marker": {
             "colorbar": {
              "outlinewidth": 0,
              "ticks": ""
             }
            },
            "type": "scatterpolar"
           }
          ],
          "scatterpolargl": [
           {
            "marker": {
             "colorbar": {
              "outlinewidth": 0,
              "ticks": ""
             }
            },
            "type": "scatterpolargl"
           }
          ],
          "scatterternary": [
           {
            "marker": {
             "colorbar": {
              "outlinewidth": 0,
              "ticks": ""
             }
            },
            "type": "scatterternary"
           }
          ],
          "surface": [
           {
            "colorbar": {
             "outlinewidth": 0,
             "ticks": ""
            },
            "colorscale": [
             [
              0,
              "#0d0887"
             ],
             [
              0.1111111111111111,
              "#46039f"
             ],
             [
              0.2222222222222222,
              "#7201a8"
             ],
             [
              0.3333333333333333,
              "#9c179e"
             ],
             [
              0.4444444444444444,
              "#bd3786"
             ],
             [
              0.5555555555555556,
              "#d8576b"
             ],
             [
              0.6666666666666666,
              "#ed7953"
             ],
             [
              0.7777777777777778,
              "#fb9f3a"
             ],
             [
              0.8888888888888888,
              "#fdca26"
             ],
             [
              1,
              "#f0f921"
             ]
            ],
            "type": "surface"
           }
          ],
          "table": [
           {
            "cells": {
             "fill": {
              "color": "#EBF0F8"
             },
             "line": {
              "color": "white"
             }
            },
            "header": {
             "fill": {
              "color": "#C8D4E3"
             },
             "line": {
              "color": "white"
             }
            },
            "type": "table"
           }
          ]
         },
         "layout": {
          "annotationdefaults": {
           "arrowcolor": "#2a3f5f",
           "arrowhead": 0,
           "arrowwidth": 1
          },
          "autotypenumbers": "strict",
          "coloraxis": {
           "colorbar": {
            "outlinewidth": 0,
            "ticks": ""
           }
          },
          "colorscale": {
           "diverging": [
            [
             0,
             "#8e0152"
            ],
            [
             0.1,
             "#c51b7d"
            ],
            [
             0.2,
             "#de77ae"
            ],
            [
             0.3,
             "#f1b6da"
            ],
            [
             0.4,
             "#fde0ef"
            ],
            [
             0.5,
             "#f7f7f7"
            ],
            [
             0.6,
             "#e6f5d0"
            ],
            [
             0.7,
             "#b8e186"
            ],
            [
             0.8,
             "#7fbc41"
            ],
            [
             0.9,
             "#4d9221"
            ],
            [
             1,
             "#276419"
            ]
           ],
           "sequential": [
            [
             0,
             "#0d0887"
            ],
            [
             0.1111111111111111,
             "#46039f"
            ],
            [
             0.2222222222222222,
             "#7201a8"
            ],
            [
             0.3333333333333333,
             "#9c179e"
            ],
            [
             0.4444444444444444,
             "#bd3786"
            ],
            [
             0.5555555555555556,
             "#d8576b"
            ],
            [
             0.6666666666666666,
             "#ed7953"
            ],
            [
             0.7777777777777778,
             "#fb9f3a"
            ],
            [
             0.8888888888888888,
             "#fdca26"
            ],
            [
             1,
             "#f0f921"
            ]
           ],
           "sequentialminus": [
            [
             0,
             "#0d0887"
            ],
            [
             0.1111111111111111,
             "#46039f"
            ],
            [
             0.2222222222222222,
             "#7201a8"
            ],
            [
             0.3333333333333333,
             "#9c179e"
            ],
            [
             0.4444444444444444,
             "#bd3786"
            ],
            [
             0.5555555555555556,
             "#d8576b"
            ],
            [
             0.6666666666666666,
             "#ed7953"
            ],
            [
             0.7777777777777778,
             "#fb9f3a"
            ],
            [
             0.8888888888888888,
             "#fdca26"
            ],
            [
             1,
             "#f0f921"
            ]
           ]
          },
          "colorway": [
           "#636efa",
           "#EF553B",
           "#00cc96",
           "#ab63fa",
           "#FFA15A",
           "#19d3f3",
           "#FF6692",
           "#B6E880",
           "#FF97FF",
           "#FECB52"
          ],
          "font": {
           "color": "#2a3f5f"
          },
          "geo": {
           "bgcolor": "white",
           "lakecolor": "white",
           "landcolor": "#E5ECF6",
           "showlakes": true,
           "showland": true,
           "subunitcolor": "white"
          },
          "hoverlabel": {
           "align": "left"
          },
          "hovermode": "closest",
          "mapbox": {
           "style": "light"
          },
          "paper_bgcolor": "white",
          "plot_bgcolor": "#E5ECF6",
          "polar": {
           "angularaxis": {
            "gridcolor": "white",
            "linecolor": "white",
            "ticks": ""
           },
           "bgcolor": "#E5ECF6",
           "radialaxis": {
            "gridcolor": "white",
            "linecolor": "white",
            "ticks": ""
           }
          },
          "scene": {
           "xaxis": {
            "backgroundcolor": "#E5ECF6",
            "gridcolor": "white",
            "gridwidth": 2,
            "linecolor": "white",
            "showbackground": true,
            "ticks": "",
            "zerolinecolor": "white"
           },
           "yaxis": {
            "backgroundcolor": "#E5ECF6",
            "gridcolor": "white",
            "gridwidth": 2,
            "linecolor": "white",
            "showbackground": true,
            "ticks": "",
            "zerolinecolor": "white"
           },
           "zaxis": {
            "backgroundcolor": "#E5ECF6",
            "gridcolor": "white",
            "gridwidth": 2,
            "linecolor": "white",
            "showbackground": true,
            "ticks": "",
            "zerolinecolor": "white"
           }
          },
          "shapedefaults": {
           "line": {
            "color": "#2a3f5f"
           }
          },
          "ternary": {
           "aaxis": {
            "gridcolor": "white",
            "linecolor": "white",
            "ticks": ""
           },
           "baxis": {
            "gridcolor": "white",
            "linecolor": "white",
            "ticks": ""
           },
           "bgcolor": "#E5ECF6",
           "caxis": {
            "gridcolor": "white",
            "linecolor": "white",
            "ticks": ""
           }
          },
          "title": {
           "x": 0.05
          },
          "xaxis": {
           "automargin": true,
           "gridcolor": "white",
           "linecolor": "white",
           "ticks": "",
           "title": {
            "standoff": 15
           },
           "zerolinecolor": "white",
           "zerolinewidth": 2
          },
          "yaxis": {
           "automargin": true,
           "gridcolor": "white",
           "linecolor": "white",
           "ticks": "",
           "title": {
            "standoff": 15
           },
           "zerolinecolor": "white",
           "zerolinewidth": 2
          }
         }
        },
        "title": {
         "text": "Distribution of feature values"
        },
        "xaxis": {
         "anchor": "y",
         "domain": [
          0,
          0.45
         ]
        },
        "xaxis2": {
         "anchor": "y2",
         "domain": [
          0.55,
          1
         ]
        },
        "yaxis": {
         "anchor": "x",
         "domain": [
          0,
          1
         ],
         "title": {
          "text": "Count"
         }
        },
        "yaxis2": {
         "anchor": "x2",
         "domain": [
          0,
          1
         ],
         "title": {
          "text": "Count"
         }
        }
       }
      }
     },
     "metadata": {},
     "output_type": "display_data"
    }
   ],
   "source": [
    "fig = make_subplots(1, 2, subplot_titles=('Price [PLN]', 'Weight [kg]'))\n",
    "\n",
    "fig.add_trace(\n",
    "    go.Histogram(x=df_products['price'], name='price'), row=1, col=1\n",
    ")\n",
    "\n",
    "fig.add_trace(\n",
    "    go.Histogram(x=df_products['weight_kg'], name='weight'), row=1, col=2\n",
    ")\n",
    "\n",
    "fig.update_yaxes(title_text='Count')\n",
    "fig.update_layout(title_text='Distribution of feature values')\n",
    "fig.show()"
   ]
  },
  {
   "cell_type": "markdown",
   "metadata": {},
   "source": [
    "Oba rozkłady są rozkładami z długim ogonem, jednak w przypadku cen zachowana jest ciągłość wartości. W przypadku wag produktów prawdopodobnie mamy do czynienia z błędnymi wartościami odstającymi. Zbadajmy je."
   ]
  },
  {
   "cell_type": "code",
   "execution_count": 859,
   "metadata": {},
   "outputs": [
    {
     "data": {
      "application/vnd.plotly.v1+json": {
       "config": {
        "plotlyServerURL": "https://plot.ly"
       },
       "data": [
        {
         "alignmentgroup": "True",
         "hovertemplate": "variable=%{x}<br>value=%{y}<extra></extra>",
         "legendgroup": "",
         "marker": {
          "color": "#636efa"
         },
         "name": "",
         "notched": false,
         "offsetgroup": "",
         "orientation": "v",
         "showlegend": false,
         "type": "box",
         "x": [
          "price",
          "price",
          "price",
          "price",
          "price",
          "price",
          "price",
          "price",
          "price",
          "price",
          "price",
          "price",
          "price",
          "price",
          "price",
          "price",
          "price",
          "price",
          "price",
          "price",
          "price",
          "price",
          "price",
          "price",
          "price",
          "price",
          "price",
          "price",
          "price",
          "price",
          "price",
          "price",
          "price",
          "price",
          "price",
          "price",
          "price",
          "price",
          "price",
          "price",
          "price",
          "price",
          "price",
          "price",
          "price",
          "price",
          "price",
          "price",
          "price",
          "price",
          "price",
          "price",
          "price",
          "price",
          "price",
          "price",
          "price",
          "price",
          "price",
          "price",
          "price",
          "price",
          "price",
          "price",
          "price",
          "price",
          "price",
          "price",
          "price",
          "price",
          "price",
          "price",
          "price",
          "price",
          "price",
          "price",
          "price",
          "price",
          "price",
          "price",
          "price",
          "price",
          "price",
          "price",
          "price",
          "price",
          "price",
          "price",
          "price",
          "price",
          "price",
          "price",
          "price",
          "price",
          "price",
          "price",
          "price",
          "price",
          "price",
          "price",
          "price",
          "price",
          "price",
          "price",
          "price",
          "price",
          "price",
          "price",
          "price",
          "price",
          "price",
          "price",
          "price",
          "price",
          "price",
          "price",
          "price",
          "price",
          "price",
          "price",
          "price",
          "price",
          "price",
          "price",
          "price",
          "price",
          "price",
          "price",
          "price",
          "price",
          "price",
          "price",
          "price",
          "price",
          "price",
          "price",
          "price",
          "price",
          "price",
          "price",
          "price",
          "price",
          "price",
          "price",
          "price",
          "price",
          "price",
          "price",
          "price",
          "price",
          "price",
          "price",
          "price",
          "price",
          "price",
          "price",
          "price",
          "price",
          "price",
          "price",
          "price",
          "price",
          "price",
          "price",
          "price",
          "price",
          "price",
          "price",
          "price",
          "price",
          "price",
          "price",
          "price",
          "price",
          "price",
          "price",
          "price",
          "price",
          "price",
          "price",
          "price",
          "price",
          "price",
          "price",
          "price",
          "price",
          "price",
          "price",
          "price",
          "price",
          "price",
          "price",
          "price",
          "price",
          "price",
          "price",
          "price",
          "price",
          "price",
          "price",
          "price",
          "price",
          "price",
          "price",
          "price",
          "price",
          "price",
          "price",
          "price",
          "price",
          "price",
          "price",
          "price",
          "price",
          "price",
          "price",
          "price",
          "price",
          "price",
          "price",
          "price",
          "price",
          "price",
          "price",
          "price",
          "price",
          "price",
          "price",
          "price",
          "price",
          "price",
          "price",
          "price",
          "price",
          "price",
          "price",
          "price",
          "price",
          "price",
          "price",
          "price",
          "price",
          "price",
          "price",
          "price",
          "price",
          "price",
          "price",
          "price",
          "price",
          "price",
          "price",
          "price",
          "price",
          "price",
          "price",
          "price",
          "price",
          "price",
          "price",
          "price",
          "price",
          "price",
          "price",
          "price",
          "price",
          "price",
          "price",
          "price",
          "price",
          "price",
          "price",
          "price",
          "price",
          "price",
          "price",
          "price",
          "price",
          "price",
          "price",
          "price",
          "price",
          "price",
          "price",
          "price",
          "price",
          "price",
          "price",
          "price",
          "price",
          "price",
          "price",
          "price",
          "price",
          "price",
          "price",
          "price",
          "price",
          "price",
          "price",
          "price",
          "price",
          "price",
          "price",
          "price",
          "price",
          "price",
          "price",
          "price",
          "price",
          "price",
          "price",
          "price",
          "price",
          "price",
          "price",
          "price",
          "price",
          "price",
          "price",
          "price",
          "price",
          "price",
          "price",
          "price",
          "price",
          "price",
          "price",
          "price",
          "price",
          "price",
          "price",
          "price",
          "price",
          "price",
          "price",
          "price",
          "price",
          "price",
          "price",
          "price",
          "price",
          "price",
          "price",
          "price",
          "price",
          "price",
          "price",
          "price",
          "price",
          "price",
          "price",
          "price",
          "price",
          "price",
          "price",
          "price",
          "price",
          "price",
          "price",
          "price",
          "price",
          "price",
          "price",
          "price",
          "price",
          "price",
          "price",
          "price",
          "price",
          "price",
          "price",
          "price",
          "price",
          "price",
          "price",
          "price",
          "price",
          "price",
          "price",
          "price",
          "price",
          "price",
          "price",
          "price",
          "price",
          "price",
          "price",
          "price",
          "price",
          "price",
          "price",
          "price",
          "price",
          "price",
          "price",
          "price",
          "price",
          "price",
          "price",
          "price",
          "price",
          "price",
          "price",
          "price",
          "price",
          "price",
          "price",
          "price",
          "price",
          "price",
          "price",
          "price",
          "price",
          "price",
          "price",
          "price",
          "price",
          "price",
          "price",
          "price",
          "price",
          "price",
          "price",
          "price",
          "price",
          "price",
          "price",
          "price",
          "price",
          "price",
          "price",
          "price",
          "price",
          "price",
          "price",
          "price",
          "price",
          "price",
          "price",
          "price",
          "price",
          "price",
          "price",
          "price",
          "price",
          "price",
          "price",
          "price",
          "price",
          "price",
          "price",
          "price",
          "price",
          "price",
          "price",
          "price",
          "price",
          "price",
          "price",
          "price",
          "price",
          "price",
          "price",
          "price",
          "price",
          "price",
          "price",
          "price",
          "price",
          "price",
          "price",
          "price",
          "price",
          "price",
          "price",
          "price",
          "price",
          "price",
          "price",
          "price",
          "price",
          "price",
          "price",
          "price",
          "price",
          "price",
          "price",
          "price",
          "price",
          "price",
          "price",
          "price",
          "price",
          "price",
          "price",
          "price",
          "price",
          "price",
          "price",
          "price",
          "price",
          "price",
          "price",
          "price",
          "price",
          "price",
          "price",
          "price",
          "price",
          "price",
          "price",
          "price",
          "price",
          "price",
          "price",
          "price",
          "price",
          "price",
          "price",
          "price",
          "price",
          "price",
          "price",
          "price",
          "price",
          "price",
          "price",
          "price",
          "price",
          "price",
          "price",
          "price",
          "price",
          "price",
          "price",
          "price",
          "price",
          "price",
          "price",
          "price",
          "price",
          "price",
          "price",
          "price",
          "price",
          "price",
          "price",
          "price",
          "price",
          "price",
          "price",
          "price",
          "price",
          "price",
          "price",
          "price",
          "price",
          "price",
          "price",
          "price",
          "price",
          "price",
          "price",
          "price",
          "price",
          "price",
          "price",
          "price",
          "price",
          "price",
          "price",
          "price",
          "price",
          "price",
          "price",
          "price",
          "price",
          "price",
          "price",
          "price",
          "price",
          "price",
          "price",
          "price",
          "price",
          "price",
          "price",
          "price",
          "price",
          "price",
          "price",
          "price",
          "price",
          "price",
          "price",
          "price",
          "price",
          "price",
          "price",
          "price",
          "price",
          "price",
          "price",
          "price",
          "price",
          "price",
          "price",
          "price",
          "price",
          "price",
          "price",
          "price",
          "price",
          "price",
          "price",
          "price",
          "price",
          "price",
          "price",
          "price",
          "price",
          "price",
          "price",
          "price",
          "price",
          "price",
          "price",
          "price",
          "price",
          "price",
          "price",
          "price",
          "price",
          "price",
          "price",
          "price",
          "price",
          "price",
          "price",
          "price",
          "price",
          "price",
          "price",
          "price",
          "price",
          "price",
          "price",
          "price",
          "price",
          "price",
          "price",
          "price",
          "weight_kg",
          "weight_kg",
          "weight_kg",
          "weight_kg",
          "weight_kg",
          "weight_kg",
          "weight_kg",
          "weight_kg",
          "weight_kg",
          "weight_kg",
          "weight_kg",
          "weight_kg",
          "weight_kg",
          "weight_kg",
          "weight_kg",
          "weight_kg",
          "weight_kg",
          "weight_kg",
          "weight_kg",
          "weight_kg",
          "weight_kg",
          "weight_kg",
          "weight_kg",
          "weight_kg",
          "weight_kg",
          "weight_kg",
          "weight_kg",
          "weight_kg",
          "weight_kg",
          "weight_kg",
          "weight_kg",
          "weight_kg",
          "weight_kg",
          "weight_kg",
          "weight_kg",
          "weight_kg",
          "weight_kg",
          "weight_kg",
          "weight_kg",
          "weight_kg",
          "weight_kg",
          "weight_kg",
          "weight_kg",
          "weight_kg",
          "weight_kg",
          "weight_kg",
          "weight_kg",
          "weight_kg",
          "weight_kg",
          "weight_kg",
          "weight_kg",
          "weight_kg",
          "weight_kg",
          "weight_kg",
          "weight_kg",
          "weight_kg",
          "weight_kg",
          "weight_kg",
          "weight_kg",
          "weight_kg",
          "weight_kg",
          "weight_kg",
          "weight_kg",
          "weight_kg",
          "weight_kg",
          "weight_kg",
          "weight_kg",
          "weight_kg",
          "weight_kg",
          "weight_kg",
          "weight_kg",
          "weight_kg",
          "weight_kg",
          "weight_kg",
          "weight_kg",
          "weight_kg",
          "weight_kg",
          "weight_kg",
          "weight_kg",
          "weight_kg",
          "weight_kg",
          "weight_kg",
          "weight_kg",
          "weight_kg",
          "weight_kg",
          "weight_kg",
          "weight_kg",
          "weight_kg",
          "weight_kg",
          "weight_kg",
          "weight_kg",
          "weight_kg",
          "weight_kg",
          "weight_kg",
          "weight_kg",
          "weight_kg",
          "weight_kg",
          "weight_kg",
          "weight_kg",
          "weight_kg",
          "weight_kg",
          "weight_kg",
          "weight_kg",
          "weight_kg",
          "weight_kg",
          "weight_kg",
          "weight_kg",
          "weight_kg",
          "weight_kg",
          "weight_kg",
          "weight_kg",
          "weight_kg",
          "weight_kg",
          "weight_kg",
          "weight_kg",
          "weight_kg",
          "weight_kg",
          "weight_kg",
          "weight_kg",
          "weight_kg",
          "weight_kg",
          "weight_kg",
          "weight_kg",
          "weight_kg",
          "weight_kg",
          "weight_kg",
          "weight_kg",
          "weight_kg",
          "weight_kg",
          "weight_kg",
          "weight_kg",
          "weight_kg",
          "weight_kg",
          "weight_kg",
          "weight_kg",
          "weight_kg",
          "weight_kg",
          "weight_kg",
          "weight_kg",
          "weight_kg",
          "weight_kg",
          "weight_kg",
          "weight_kg",
          "weight_kg",
          "weight_kg",
          "weight_kg",
          "weight_kg",
          "weight_kg",
          "weight_kg",
          "weight_kg",
          "weight_kg",
          "weight_kg",
          "weight_kg",
          "weight_kg",
          "weight_kg",
          "weight_kg",
          "weight_kg",
          "weight_kg",
          "weight_kg",
          "weight_kg",
          "weight_kg",
          "weight_kg",
          "weight_kg",
          "weight_kg",
          "weight_kg",
          "weight_kg",
          "weight_kg",
          "weight_kg",
          "weight_kg",
          "weight_kg",
          "weight_kg",
          "weight_kg",
          "weight_kg",
          "weight_kg",
          "weight_kg",
          "weight_kg",
          "weight_kg",
          "weight_kg",
          "weight_kg",
          "weight_kg",
          "weight_kg",
          "weight_kg",
          "weight_kg",
          "weight_kg",
          "weight_kg",
          "weight_kg",
          "weight_kg",
          "weight_kg",
          "weight_kg",
          "weight_kg",
          "weight_kg",
          "weight_kg",
          "weight_kg",
          "weight_kg",
          "weight_kg",
          "weight_kg",
          "weight_kg",
          "weight_kg",
          "weight_kg",
          "weight_kg",
          "weight_kg",
          "weight_kg",
          "weight_kg",
          "weight_kg",
          "weight_kg",
          "weight_kg",
          "weight_kg",
          "weight_kg",
          "weight_kg",
          "weight_kg",
          "weight_kg",
          "weight_kg",
          "weight_kg",
          "weight_kg",
          "weight_kg",
          "weight_kg",
          "weight_kg",
          "weight_kg",
          "weight_kg",
          "weight_kg",
          "weight_kg",
          "weight_kg",
          "weight_kg",
          "weight_kg",
          "weight_kg",
          "weight_kg",
          "weight_kg",
          "weight_kg",
          "weight_kg",
          "weight_kg",
          "weight_kg",
          "weight_kg",
          "weight_kg",
          "weight_kg",
          "weight_kg",
          "weight_kg",
          "weight_kg",
          "weight_kg",
          "weight_kg",
          "weight_kg",
          "weight_kg",
          "weight_kg",
          "weight_kg",
          "weight_kg",
          "weight_kg",
          "weight_kg",
          "weight_kg",
          "weight_kg",
          "weight_kg",
          "weight_kg",
          "weight_kg",
          "weight_kg",
          "weight_kg",
          "weight_kg",
          "weight_kg",
          "weight_kg",
          "weight_kg",
          "weight_kg",
          "weight_kg",
          "weight_kg",
          "weight_kg",
          "weight_kg",
          "weight_kg",
          "weight_kg",
          "weight_kg",
          "weight_kg",
          "weight_kg",
          "weight_kg",
          "weight_kg",
          "weight_kg",
          "weight_kg",
          "weight_kg",
          "weight_kg",
          "weight_kg",
          "weight_kg",
          "weight_kg",
          "weight_kg",
          "weight_kg",
          "weight_kg",
          "weight_kg",
          "weight_kg",
          "weight_kg",
          "weight_kg",
          "weight_kg",
          "weight_kg",
          "weight_kg",
          "weight_kg",
          "weight_kg",
          "weight_kg",
          "weight_kg",
          "weight_kg",
          "weight_kg",
          "weight_kg",
          "weight_kg",
          "weight_kg",
          "weight_kg",
          "weight_kg",
          "weight_kg",
          "weight_kg",
          "weight_kg",
          "weight_kg",
          "weight_kg",
          "weight_kg",
          "weight_kg",
          "weight_kg",
          "weight_kg",
          "weight_kg",
          "weight_kg",
          "weight_kg",
          "weight_kg",
          "weight_kg",
          "weight_kg",
          "weight_kg",
          "weight_kg",
          "weight_kg",
          "weight_kg",
          "weight_kg",
          "weight_kg",
          "weight_kg",
          "weight_kg",
          "weight_kg",
          "weight_kg",
          "weight_kg",
          "weight_kg",
          "weight_kg",
          "weight_kg",
          "weight_kg",
          "weight_kg",
          "weight_kg",
          "weight_kg",
          "weight_kg",
          "weight_kg",
          "weight_kg",
          "weight_kg",
          "weight_kg",
          "weight_kg",
          "weight_kg",
          "weight_kg",
          "weight_kg",
          "weight_kg",
          "weight_kg",
          "weight_kg",
          "weight_kg",
          "weight_kg",
          "weight_kg",
          "weight_kg",
          "weight_kg",
          "weight_kg",
          "weight_kg",
          "weight_kg",
          "weight_kg",
          "weight_kg",
          "weight_kg",
          "weight_kg",
          "weight_kg",
          "weight_kg",
          "weight_kg",
          "weight_kg",
          "weight_kg",
          "weight_kg",
          "weight_kg",
          "weight_kg",
          "weight_kg",
          "weight_kg",
          "weight_kg",
          "weight_kg",
          "weight_kg",
          "weight_kg",
          "weight_kg",
          "weight_kg",
          "weight_kg",
          "weight_kg",
          "weight_kg",
          "weight_kg",
          "weight_kg",
          "weight_kg",
          "weight_kg",
          "weight_kg",
          "weight_kg",
          "weight_kg",
          "weight_kg",
          "weight_kg",
          "weight_kg",
          "weight_kg",
          "weight_kg",
          "weight_kg",
          "weight_kg",
          "weight_kg",
          "weight_kg",
          "weight_kg",
          "weight_kg",
          "weight_kg",
          "weight_kg",
          "weight_kg",
          "weight_kg",
          "weight_kg",
          "weight_kg",
          "weight_kg",
          "weight_kg",
          "weight_kg",
          "weight_kg",
          "weight_kg",
          "weight_kg",
          "weight_kg",
          "weight_kg",
          "weight_kg",
          "weight_kg",
          "weight_kg",
          "weight_kg",
          "weight_kg",
          "weight_kg",
          "weight_kg",
          "weight_kg",
          "weight_kg",
          "weight_kg",
          "weight_kg",
          "weight_kg",
          "weight_kg",
          "weight_kg",
          "weight_kg",
          "weight_kg",
          "weight_kg",
          "weight_kg",
          "weight_kg",
          "weight_kg",
          "weight_kg",
          "weight_kg",
          "weight_kg",
          "weight_kg",
          "weight_kg",
          "weight_kg",
          "weight_kg",
          "weight_kg",
          "weight_kg",
          "weight_kg",
          "weight_kg",
          "weight_kg",
          "weight_kg",
          "weight_kg",
          "weight_kg",
          "weight_kg",
          "weight_kg",
          "weight_kg",
          "weight_kg",
          "weight_kg",
          "weight_kg",
          "weight_kg",
          "weight_kg",
          "weight_kg",
          "weight_kg",
          "weight_kg",
          "weight_kg",
          "weight_kg",
          "weight_kg",
          "weight_kg",
          "weight_kg",
          "weight_kg",
          "weight_kg",
          "weight_kg",
          "weight_kg",
          "weight_kg",
          "weight_kg",
          "weight_kg",
          "weight_kg",
          "weight_kg",
          "weight_kg",
          "weight_kg",
          "weight_kg",
          "weight_kg",
          "weight_kg",
          "weight_kg",
          "weight_kg",
          "weight_kg",
          "weight_kg",
          "weight_kg",
          "weight_kg",
          "weight_kg",
          "weight_kg",
          "weight_kg",
          "weight_kg",
          "weight_kg",
          "weight_kg",
          "weight_kg",
          "weight_kg",
          "weight_kg",
          "weight_kg",
          "weight_kg",
          "weight_kg",
          "weight_kg",
          "weight_kg",
          "weight_kg",
          "weight_kg",
          "weight_kg",
          "weight_kg",
          "weight_kg",
          "weight_kg",
          "weight_kg",
          "weight_kg",
          "weight_kg",
          "weight_kg",
          "weight_kg",
          "weight_kg",
          "weight_kg",
          "weight_kg",
          "weight_kg",
          "weight_kg",
          "weight_kg",
          "weight_kg",
          "weight_kg",
          "weight_kg",
          "weight_kg",
          "weight_kg",
          "weight_kg",
          "weight_kg",
          "weight_kg",
          "weight_kg",
          "weight_kg",
          "weight_kg",
          "weight_kg",
          "weight_kg",
          "weight_kg",
          "weight_kg",
          "weight_kg",
          "weight_kg",
          "weight_kg",
          "weight_kg",
          "weight_kg",
          "weight_kg",
          "weight_kg",
          "weight_kg",
          "weight_kg",
          "weight_kg",
          "weight_kg",
          "weight_kg",
          "weight_kg",
          "weight_kg",
          "weight_kg",
          "weight_kg",
          "weight_kg",
          "weight_kg",
          "weight_kg",
          "weight_kg",
          "weight_kg",
          "weight_kg",
          "weight_kg",
          "weight_kg",
          "weight_kg",
          "weight_kg",
          "weight_kg",
          "weight_kg",
          "weight_kg",
          "weight_kg",
          "weight_kg",
          "weight_kg",
          "weight_kg",
          "weight_kg",
          "weight_kg",
          "weight_kg",
          "weight_kg",
          "weight_kg",
          "weight_kg",
          "weight_kg",
          "weight_kg",
          "weight_kg",
          "weight_kg",
          "weight_kg",
          "weight_kg",
          "weight_kg",
          "weight_kg",
          "weight_kg",
          "weight_kg",
          "weight_kg",
          "weight_kg",
          "weight_kg",
          "weight_kg",
          "weight_kg",
          "weight_kg",
          "weight_kg",
          "weight_kg",
          "weight_kg",
          "weight_kg",
          "weight_kg",
          "weight_kg",
          "weight_kg",
          "weight_kg",
          "weight_kg",
          "weight_kg",
          "weight_kg",
          "weight_kg",
          "weight_kg",
          "weight_kg",
          "weight_kg",
          "weight_kg",
          "weight_kg",
          "weight_kg",
          "weight_kg",
          "weight_kg",
          "weight_kg",
          "weight_kg",
          "weight_kg",
          "weight_kg",
          "weight_kg",
          "weight_kg",
          "weight_kg",
          "weight_kg",
          "weight_kg",
          "weight_kg",
          "weight_kg",
          "weight_kg",
          "weight_kg",
          "weight_kg",
          "weight_kg",
          "weight_kg",
          "weight_kg",
          "weight_kg",
          "weight_kg",
          "weight_kg",
          "weight_kg",
          "weight_kg",
          "weight_kg",
          "weight_kg",
          "weight_kg",
          "weight_kg",
          "weight_kg",
          "weight_kg",
          "weight_kg",
          "weight_kg",
          "weight_kg",
          "weight_kg",
          "weight_kg",
          "weight_kg",
          "weight_kg",
          "weight_kg",
          "weight_kg",
          "weight_kg",
          "weight_kg",
          "weight_kg",
          "weight_kg",
          "weight_kg",
          "weight_kg",
          "weight_kg",
          "weight_kg",
          "weight_kg",
          "weight_kg",
          "weight_kg",
          "weight_kg",
          "weight_kg",
          "weight_kg",
          "weight_kg",
          "weight_kg",
          "weight_kg",
          "weight_kg",
          "weight_kg"
         ],
         "x0": " ",
         "xaxis": "x",
         "y": [
          619.99,
          599.99,
          379,
          197,
          399,
          728,
          439,
          247,
          247,
          147,
          797,
          797,
          419,
          566.03,
          671,
          479,
          419,
          459,
          189,
          449,
          97,
          380.03,
          74.99,
          313.85,
          348,
          399,
          118.88,
          179,
          179.1,
          79,
          79.9,
          199.99,
          98,
          469.98,
          494.9,
          335.99,
          930,
          953,
          339.41,
          89.5,
          259,
          758,
          96.76,
          449.99,
          365,
          349,
          109,
          733.99,
          0,
          610,
          359,
          349,
          619,
          199.99,
          206.99,
          90,
          69,
          54.98,
          361.99,
          639,
          114,
          59.99,
          382.66,
          139,
          64.5,
          57,
          69,
          56,
          119.5,
          115,
          140,
          115.5,
          135,
          139.39,
          179,
          54.98,
          64,
          59.99,
          189.7,
          166.57,
          170.99,
          149,
          329,
          295.83,
          349,
          308.18,
          149,
          116.98,
          146.37,
          145.55,
          162.99,
          99.99,
          680,
          43.99,
          58.99,
          125,
          155.44,
          79,
          379.36,
          775.18,
          385,
          288.44,
          97.99,
          719,
          89.99,
          854.04,
          710.39,
          409.74,
          87,
          220.07,
          105,
          169,
          99,
          139,
          129,
          35.99,
          22.99,
          45,
          440,
          239,
          169,
          364.99,
          41.9,
          249,
          847,
          14.79,
          129,
          54.7,
          169,
          254.99,
          639,
          33,
          137.89,
          575.31,
          89.9,
          199.99,
          299,
          168,
          559,
          47.99,
          149,
          499.99,
          267.99,
          229,
          43,
          168.19,
          229,
          118.95,
          49.98,
          773,
          629.74,
          255,
          648.9,
          655.3,
          299,
          670.83,
          279.99,
          259,
          449,
          359,
          129.55,
          99,
          40,
          188,
          69,
          429,
          225.99,
          129.75,
          29.99,
          54.8,
          279.99,
          239,
          449,
          79,
          89,
          159,
          269,
          209,
          279,
          215,
          129,
          20.95,
          121,
          128.9,
          632.99,
          41,
          145,
          81.18,
          100,
          147.85,
          119,
          299,
          449,
          610,
          939.23,
          599,
          939,
          573.05,
          763,
          869,
          19,
          129,
          389,
          999,
          499,
          99,
          729,
          699,
          699,
          999,
          549,
          639.99,
          999,
          799,
          600,
          849,
          300,
          585,
          32,
          999,
          449,
          399,
          599,
          178.95,
          345,
          249,
          167,
          719,
          789,
          549,
          879,
          37,
          819,
          189,
          994,
          299,
          599,
          598,
          689,
          799.01,
          828.5,
          115.39,
          648.24,
          979,
          818,
          954.36,
          397.75,
          199,
          929,
          579,
          839.99,
          159,
          58,
          879.16,
          633,
          999,
          749,
          445,
          825,
          238.23,
          291.17,
          385,
          489.99,
          479,
          58,
          629,
          359,
          289,
          939,
          500,
          45,
          991,
          83,
          499,
          979,
          893.76,
          405.99,
          400.26,
          599,
          627,
          541.14,
          615,
          99,
          884.47,
          699.99,
          890,
          939,
          999,
          129,
          135.64,
          785,
          74.99,
          72.27,
          699.99,
          230,
          99,
          868.95,
          625,
          917.62,
          397,
          49.01,
          399,
          258.3,
          59,
          639,
          39,
          649,
          748.99,
          519,
          736,
          799,
          219.38,
          949,
          580,
          561.99,
          247,
          515,
          550,
          829,
          458,
          549,
          69.99,
          59,
          68.99,
          319,
          162.52,
          116.99,
          239,
          269,
          247.27,
          44.89,
          531,
          189,
          79,
          429,
          89,
          169,
          373,
          339,
          399,
          39,
          219,
          45,
          40,
          14.79,
          325.14,
          132.5,
          106.99,
          558.99,
          153.57,
          399.98,
          35.19,
          489,
          99,
          69.9,
          108.97,
          18.9,
          299,
          323.86,
          358,
          489,
          489,
          40,
          444,
          129.15,
          259,
          189,
          107.99,
          222.22,
          499,
          193.88,
          298,
          109,
          449,
          399,
          29.9,
          51,
          44.99,
          89,
          316.73,
          364.99,
          42.99,
          229,
          324.29,
          349,
          45,
          18.65,
          63.98,
          44.12,
          49,
          179.89,
          177.99,
          179.99,
          539,
          40,
          56.99,
          58.65,
          196.99,
          16.49,
          12.25,
          23.39,
          59,
          129,
          169,
          14.5,
          48.5,
          79,
          54.99,
          89.99,
          149.89,
          47.08,
          65.99,
          49.99,
          49.9,
          20,
          62,
          49,
          119.99,
          59,
          40.69,
          64.9,
          74.9,
          149,
          48.99,
          129,
          54,
          206.53,
          109,
          49,
          35.95,
          60.9,
          69,
          44,
          45,
          140.99,
          103,
          199,
          277,
          41.94,
          112,
          249,
          159,
          149,
          299,
          84.95,
          349,
          44.99,
          89.9,
          31.42,
          9.5,
          25,
          16.87,
          79.9,
          99,
          6.91,
          29,
          67.99,
          79.92,
          85.43,
          129.99,
          98.96,
          23.2,
          27.9,
          35,
          179.99,
          26.8,
          43.99,
          71.4,
          68.09,
          159.99,
          111.13,
          390,
          19.9,
          14.6,
          13.95,
          25.8,
          15.99,
          12.99,
          51.99,
          89.16,
          36.99,
          335,
          161.99,
          159,
          51.99,
          336.05,
          65.9,
          25.37,
          29.99,
          24.42,
          158.98,
          40,
          103.39,
          59.77,
          74.99,
          54.99,
          119.9,
          17.78,
          26.85,
          18.8,
          22.99,
          40,
          23.75,
          68,
          44.97,
          17.6,
          14.74,
          18.3,
          60.64,
          46,
          24.99,
          28.99,
          69.99,
          54.99,
          23.35,
          33.9,
          107.43,
          31.99,
          159.49,
          20,
          64.95,
          49.5,
          14.38,
          34.8,
          28.41,
          29,
          30.2,
          20,
          28.99,
          65.7,
          42.99,
          29,
          57.66,
          25.99,
          58.99,
          25.99,
          19.94,
          589,
          788.4,
          689,
          175,
          179,
          158,
          299.8,
          295.55,
          278.99,
          789.13,
          379,
          599,
          347.9,
          869,
          218.99,
          381.81,
          412.99,
          139,
          853.12,
          325,
          518.69,
          359,
          325.29,
          183.99,
          371.97,
          373.46,
          299,
          173.99,
          99,
          589,
          172.9,
          432.99,
          579.43,
          389,
          379,
          309,
          158.99,
          153.33,
          139.9,
          284.37,
          190.94,
          209.99,
          290,
          169,
          699,
          379,
          319,
          329,
          628.5,
          109,
          389,
          319,
          149.99,
          158.99,
          85.62,
          479,
          699,
          429,
          670,
          630,
          680,
          548.97,
          849,
          799,
          499,
          99,
          677,
          799,
          689,
          909.99,
          59,
          95,
          34.9,
          97,
          138.99,
          14.23,
          188,
          29.38,
          29.19,
          40,
          34.98,
          94.9,
          79,
          109,
          129,
          79,
          17.9,
          31.09,
          37.9,
          229,
          148.48,
          148.48,
          298.99,
          45,
          174.95,
          197,
          277,
          619,
          34.94,
          209.99,
          147.99,
          165,
          438.89,
          64.89,
          59.89,
          57.2,
          68.6,
          421.9,
          146,
          142.99,
          277.57,
          349,
          178.9,
          129,
          96.99,
          77,
          19,
          19,
          30,
          30,
          17,
          25,
          20,
          30,
          30,
          25,
          25,
          25,
          25,
          25,
          25,
          19,
          19.8,
          20,
          30,
          21,
          25,
          14,
          0.30000000000000004,
          0.5,
          0.213,
          0.30000000000000004,
          0.2,
          5,
          0.2,
          0.2,
          0.185,
          0.20500000000000002,
          0.115,
          0.322,
          0.336,
          0.17,
          2.06,
          1.04,
          0.34,
          0.17,
          0.241,
          1.12,
          0.195,
          0,
          0.35000000000000003,
          0.38,
          0.22,
          0.063,
          4.02,
          1.58,
          0.24,
          0.025,
          0.018000000000000002,
          0.01,
          0.15,
          0.01,
          0.01,
          1,
          0.15,
          0.15,
          0.01,
          0.01,
          0.06,
          0.01,
          0.2,
          0.01,
          0.2,
          0.2,
          0.01,
          0.2,
          0.1,
          0.01,
          0.01,
          0.01,
          0.2,
          0.01,
          0.01,
          0.30000000000000004,
          0.15,
          0.019,
          0.1,
          0.019,
          0.014,
          0.02,
          0.185,
          0.05,
          0.021,
          0.02,
          0.018000000000000002,
          0.01,
          0.019,
          5,
          5,
          0.26,
          0.055,
          0.41200000000000003,
          2.27,
          0.15,
          1.581,
          1.3599999999999999,
          0.15,
          1.5,
          0.30000000000000004,
          1.49,
          1.33,
          1.6600000000000001,
          1.5390000000000001,
          1.06,
          0.446,
          0.754,
          0.52,
          0.76,
          0.77,
          0.71,
          1.1,
          1.4,
          0.495,
          0.30000000000000004,
          1.72,
          1.1,
          0.15,
          1.72,
          0.58,
          0.15,
          2.2,
          0.56,
          0.9,
          0.52,
          1.1,
          1.32,
          1.8599999999999999,
          0.182,
          0.8,
          1.208,
          1,
          0.189,
          1.11,
          1.4100000000000001,
          1.52,
          2,
          1.75,
          1.98,
          1.08,
          1.1,
          0.6000000000000001,
          0.99,
          1.56,
          0.8300000000000001,
          0.52,
          12.5,
          0,
          0.8,
          1,
          0.88,
          0.58,
          0.85,
          0.78,
          0.68,
          0.379,
          0.92,
          0.049,
          0.4,
          0.04,
          0.77,
          0.1,
          0.32,
          0.6000000000000001,
          0.58,
          0,
          0.45,
          0.78,
          1.06,
          0.857,
          0.45,
          0.2,
          0.52,
          0.7000000000000001,
          0.58,
          0.59,
          0.22,
          0.496,
          0.293,
          0.4,
          0.545,
          0.317,
          0.26,
          0.188,
          0.158,
          0.18,
          0.139,
          0.356,
          1.34,
          18,
          4.14,
          7.53,
          20.4,
          5.8,
          8.72,
          10.9,
          9.6,
          7.8,
          6.8,
          7.8,
          14.1,
          8.1,
          6.5,
          8.4,
          8.1,
          9.12,
          8.9,
          8,
          4,
          9.2,
          5.5,
          10.8,
          6.2,
          8,
          4.7,
          13.9,
          7.9,
          10.6,
          10.5,
          12.3,
          7.8,
          8.3,
          8.4,
          9.3,
          4.9,
          6.1,
          11.9,
          6.42,
          6.2,
          4.87,
          4.8,
          10.4,
          8.89,
          5.5,
          4.2,
          4.5,
          5.1,
          6.1,
          7.5,
          4.25,
          9.8,
          8.7,
          6.4,
          9.9,
          6.1,
          6.47,
          10.7,
          6.59,
          7.8,
          8.3,
          6.11,
          5,
          10,
          5,
          8.53,
          3.65,
          9,
          9.1,
          13.7,
          10.4,
          11.1,
          7.27,
          9.3,
          9.9,
          7.8,
          3.79,
          13.1,
          10,
          6.6,
          10,
          7.5,
          6.4,
          5,
          7.53,
          7.8,
          8.2,
          5.5,
          10.2,
          4.8,
          9.2,
          10,
          6.1,
          16.5,
          6.25,
          13.5,
          12.8,
          10,
          6.2,
          5.71,
          3.7,
          20.5,
          7.2,
          8.88,
          5.41,
          14.3,
          6.3,
          3.26,
          8.2,
          7.4,
          4.28,
          6.55,
          4.7,
          9.6,
          4.04,
          4.82,
          4.11,
          11.86,
          5.94,
          8.5,
          8.5,
          3.58,
          6.9,
          9.3,
          7.6,
          3.7199999999999998,
          7.52,
          2.7,
          3.87,
          225,
          0.29,
          0.9,
          0.188,
          91,
          0.25,
          0.25,
          0.17,
          0.18,
          110,
          0.371,
          0.4,
          0.127,
          0.26,
          0.127,
          0.18,
          0.24,
          0.24,
          0.24,
          0.14,
          0.92,
          0.13,
          0.15,
          0.08,
          0.24,
          0,
          0.12,
          0.43,
          0.9,
          0.39,
          0.09,
          0.32,
          0.1,
          0.13,
          0.126,
          0.099,
          0.13,
          0.26,
          0.23,
          0.333,
          0.334,
          0.1,
          0.224,
          0.16,
          300,
          0.157,
          0.19,
          0.182,
          0.39,
          0.182,
          0.23,
          0.20400000000000001,
          0.36,
          0.371,
          0.165,
          0.167,
          0.131,
          0.14,
          0.23500000000000001,
          0.33,
          0.148,
          0.266,
          0.25,
          0.28600000000000003,
          0.1,
          0.1,
          0.13,
          0.18,
          0.105,
          0.08,
          0.101,
          0.26,
          0.106,
          0.1,
          0.13,
          0.14,
          0.18,
          0.06,
          0.06,
          0.099,
          0.147,
          0.125,
          0.125,
          0.065,
          0.14300000000000002,
          0.125,
          0.181,
          0.125,
          0.32,
          0.12,
          0.12,
          0.12,
          0.121,
          0.16,
          0.241,
          51.9,
          0.186,
          0.14200000000000002,
          0.14100000000000001,
          0.215,
          0.18,
          0.212,
          0.07,
          0.21,
          0.18,
          0.4,
          0.26,
          0.07,
          0.12,
          0.185,
          0.17,
          0.22,
          0.1,
          0.161,
          0.1,
          0.2,
          0.13,
          0.12,
          0.213,
          0.30000000000000004,
          0.26,
          0.18,
          0.32,
          0.4,
          0.37,
          0.23,
          0.22,
          0.121,
          0.1,
          0.183,
          0.183,
          0.326,
          0.30000000000000004,
          0.08,
          0.18,
          0.36,
          0.36,
          0.34500000000000003,
          0.31,
          0.30000000000000004,
          0.12,
          0.12,
          0.189,
          0.014,
          0.014,
          0.014,
          0.014,
          0.03,
          0.024,
          0.022,
          0.024,
          0.02,
          0.01,
          0.01,
          0.02,
          0.01,
          0.01,
          0,
          0.015,
          0,
          0.06,
          0,
          0,
          0.02,
          0.057,
          0.008,
          0.008,
          0,
          0,
          0.009000000000000001,
          0,
          0,
          0,
          0.006,
          0.012,
          0.04,
          0.01,
          0.018000000000000002,
          0.017,
          0.009000000000000001,
          0.001,
          0.018000000000000002,
          0.022,
          0.015,
          0.024,
          0.016,
          0.016,
          0.02,
          0.024,
          0.013000000000000001,
          0.025,
          0.015,
          0.023,
          0.023,
          0.001,
          0.02,
          0.019,
          0.04,
          0.012,
          0.02,
          0.019,
          0.02,
          0.025,
          0.018000000000000002,
          0.018000000000000002,
          0.018000000000000002,
          0.02,
          0.001,
          0.001,
          0.015,
          0.02,
          0.02,
          0.015,
          0.025,
          0.02,
          0.02,
          0.15,
          0.052000000000000005,
          0.052000000000000005,
          0.058,
          0.052000000000000005,
          0.052000000000000005,
          0.091,
          0.025,
          0.029,
          0.029,
          0.15,
          0.09,
          0.12,
          0.13,
          0.15,
          0.162,
          0.162,
          0.01,
          0.189,
          0.15,
          0.162,
          0.11800000000000001,
          0.162,
          0.114,
          0.029,
          0.105,
          0.15,
          0.035,
          0.02,
          0.15,
          0.2,
          0.179,
          0.07,
          0.13,
          0.127,
          0.12,
          0.037,
          0.037,
          0.015,
          0.073,
          0.157,
          0.06,
          0.035,
          0.061,
          0.14,
          0.1,
          0.111,
          0.101,
          0.13,
          0.03,
          0.14,
          0.1,
          0.025,
          0.026000000000000002,
          0.025,
          5.6,
          10,
          3.7,
          2,
          1.22,
          6.2,
          2.5,
          1.35,
          0.608,
          0.48,
          0.93,
          0.8,
          0.495,
          0.48,
          0.84,
          0.2,
          0.44,
          0.376,
          0.30000000000000004,
          1,
          8,
          0.332,
          0.24,
          0.30000000000000004,
          0.30000000000000004,
          0.30000000000000004,
          0.30000000000000004,
          0.405,
          0.30000000000000004,
          0.323,
          0.30000000000000004,
          0.242,
          0.304,
          0.6000000000000001,
          0.88,
          0.75,
          0.75,
          0.7000000000000001,
          0.605,
          0.54,
          0.875,
          1.45,
          1.6400000000000001,
          0.58,
          0.98,
          0.741,
          0.658,
          1.38,
          0.43,
          0.68,
          0.68,
          0.30000000000000004,
          2.06,
          1.19,
          0.9400000000000001,
          1.48,
          0.92,
          0.983,
          0.6900000000000001,
          0.624,
          0.9560000000000001
         ],
         "y0": " ",
         "yaxis": "y"
        }
       ],
       "layout": {
        "boxmode": "group",
        "legend": {
         "tracegroupgap": 0
        },
        "template": {
         "data": {
          "bar": [
           {
            "error_x": {
             "color": "#2a3f5f"
            },
            "error_y": {
             "color": "#2a3f5f"
            },
            "marker": {
             "line": {
              "color": "#E5ECF6",
              "width": 0.5
             },
             "pattern": {
              "fillmode": "overlay",
              "size": 10,
              "solidity": 0.2
             }
            },
            "type": "bar"
           }
          ],
          "barpolar": [
           {
            "marker": {
             "line": {
              "color": "#E5ECF6",
              "width": 0.5
             },
             "pattern": {
              "fillmode": "overlay",
              "size": 10,
              "solidity": 0.2
             }
            },
            "type": "barpolar"
           }
          ],
          "carpet": [
           {
            "aaxis": {
             "endlinecolor": "#2a3f5f",
             "gridcolor": "white",
             "linecolor": "white",
             "minorgridcolor": "white",
             "startlinecolor": "#2a3f5f"
            },
            "baxis": {
             "endlinecolor": "#2a3f5f",
             "gridcolor": "white",
             "linecolor": "white",
             "minorgridcolor": "white",
             "startlinecolor": "#2a3f5f"
            },
            "type": "carpet"
           }
          ],
          "choropleth": [
           {
            "colorbar": {
             "outlinewidth": 0,
             "ticks": ""
            },
            "type": "choropleth"
           }
          ],
          "contour": [
           {
            "colorbar": {
             "outlinewidth": 0,
             "ticks": ""
            },
            "colorscale": [
             [
              0,
              "#0d0887"
             ],
             [
              0.1111111111111111,
              "#46039f"
             ],
             [
              0.2222222222222222,
              "#7201a8"
             ],
             [
              0.3333333333333333,
              "#9c179e"
             ],
             [
              0.4444444444444444,
              "#bd3786"
             ],
             [
              0.5555555555555556,
              "#d8576b"
             ],
             [
              0.6666666666666666,
              "#ed7953"
             ],
             [
              0.7777777777777778,
              "#fb9f3a"
             ],
             [
              0.8888888888888888,
              "#fdca26"
             ],
             [
              1,
              "#f0f921"
             ]
            ],
            "type": "contour"
           }
          ],
          "contourcarpet": [
           {
            "colorbar": {
             "outlinewidth": 0,
             "ticks": ""
            },
            "type": "contourcarpet"
           }
          ],
          "heatmap": [
           {
            "colorbar": {
             "outlinewidth": 0,
             "ticks": ""
            },
            "colorscale": [
             [
              0,
              "#0d0887"
             ],
             [
              0.1111111111111111,
              "#46039f"
             ],
             [
              0.2222222222222222,
              "#7201a8"
             ],
             [
              0.3333333333333333,
              "#9c179e"
             ],
             [
              0.4444444444444444,
              "#bd3786"
             ],
             [
              0.5555555555555556,
              "#d8576b"
             ],
             [
              0.6666666666666666,
              "#ed7953"
             ],
             [
              0.7777777777777778,
              "#fb9f3a"
             ],
             [
              0.8888888888888888,
              "#fdca26"
             ],
             [
              1,
              "#f0f921"
             ]
            ],
            "type": "heatmap"
           }
          ],
          "heatmapgl": [
           {
            "colorbar": {
             "outlinewidth": 0,
             "ticks": ""
            },
            "colorscale": [
             [
              0,
              "#0d0887"
             ],
             [
              0.1111111111111111,
              "#46039f"
             ],
             [
              0.2222222222222222,
              "#7201a8"
             ],
             [
              0.3333333333333333,
              "#9c179e"
             ],
             [
              0.4444444444444444,
              "#bd3786"
             ],
             [
              0.5555555555555556,
              "#d8576b"
             ],
             [
              0.6666666666666666,
              "#ed7953"
             ],
             [
              0.7777777777777778,
              "#fb9f3a"
             ],
             [
              0.8888888888888888,
              "#fdca26"
             ],
             [
              1,
              "#f0f921"
             ]
            ],
            "type": "heatmapgl"
           }
          ],
          "histogram": [
           {
            "marker": {
             "pattern": {
              "fillmode": "overlay",
              "size": 10,
              "solidity": 0.2
             }
            },
            "type": "histogram"
           }
          ],
          "histogram2d": [
           {
            "colorbar": {
             "outlinewidth": 0,
             "ticks": ""
            },
            "colorscale": [
             [
              0,
              "#0d0887"
             ],
             [
              0.1111111111111111,
              "#46039f"
             ],
             [
              0.2222222222222222,
              "#7201a8"
             ],
             [
              0.3333333333333333,
              "#9c179e"
             ],
             [
              0.4444444444444444,
              "#bd3786"
             ],
             [
              0.5555555555555556,
              "#d8576b"
             ],
             [
              0.6666666666666666,
              "#ed7953"
             ],
             [
              0.7777777777777778,
              "#fb9f3a"
             ],
             [
              0.8888888888888888,
              "#fdca26"
             ],
             [
              1,
              "#f0f921"
             ]
            ],
            "type": "histogram2d"
           }
          ],
          "histogram2dcontour": [
           {
            "colorbar": {
             "outlinewidth": 0,
             "ticks": ""
            },
            "colorscale": [
             [
              0,
              "#0d0887"
             ],
             [
              0.1111111111111111,
              "#46039f"
             ],
             [
              0.2222222222222222,
              "#7201a8"
             ],
             [
              0.3333333333333333,
              "#9c179e"
             ],
             [
              0.4444444444444444,
              "#bd3786"
             ],
             [
              0.5555555555555556,
              "#d8576b"
             ],
             [
              0.6666666666666666,
              "#ed7953"
             ],
             [
              0.7777777777777778,
              "#fb9f3a"
             ],
             [
              0.8888888888888888,
              "#fdca26"
             ],
             [
              1,
              "#f0f921"
             ]
            ],
            "type": "histogram2dcontour"
           }
          ],
          "mesh3d": [
           {
            "colorbar": {
             "outlinewidth": 0,
             "ticks": ""
            },
            "type": "mesh3d"
           }
          ],
          "parcoords": [
           {
            "line": {
             "colorbar": {
              "outlinewidth": 0,
              "ticks": ""
             }
            },
            "type": "parcoords"
           }
          ],
          "pie": [
           {
            "automargin": true,
            "type": "pie"
           }
          ],
          "scatter": [
           {
            "fillpattern": {
             "fillmode": "overlay",
             "size": 10,
             "solidity": 0.2
            },
            "type": "scatter"
           }
          ],
          "scatter3d": [
           {
            "line": {
             "colorbar": {
              "outlinewidth": 0,
              "ticks": ""
             }
            },
            "marker": {
             "colorbar": {
              "outlinewidth": 0,
              "ticks": ""
             }
            },
            "type": "scatter3d"
           }
          ],
          "scattercarpet": [
           {
            "marker": {
             "colorbar": {
              "outlinewidth": 0,
              "ticks": ""
             }
            },
            "type": "scattercarpet"
           }
          ],
          "scattergeo": [
           {
            "marker": {
             "colorbar": {
              "outlinewidth": 0,
              "ticks": ""
             }
            },
            "type": "scattergeo"
           }
          ],
          "scattergl": [
           {
            "marker": {
             "colorbar": {
              "outlinewidth": 0,
              "ticks": ""
             }
            },
            "type": "scattergl"
           }
          ],
          "scattermapbox": [
           {
            "marker": {
             "colorbar": {
              "outlinewidth": 0,
              "ticks": ""
             }
            },
            "type": "scattermapbox"
           }
          ],
          "scatterpolar": [
           {
            "marker": {
             "colorbar": {
              "outlinewidth": 0,
              "ticks": ""
             }
            },
            "type": "scatterpolar"
           }
          ],
          "scatterpolargl": [
           {
            "marker": {
             "colorbar": {
              "outlinewidth": 0,
              "ticks": ""
             }
            },
            "type": "scatterpolargl"
           }
          ],
          "scatterternary": [
           {
            "marker": {
             "colorbar": {
              "outlinewidth": 0,
              "ticks": ""
             }
            },
            "type": "scatterternary"
           }
          ],
          "surface": [
           {
            "colorbar": {
             "outlinewidth": 0,
             "ticks": ""
            },
            "colorscale": [
             [
              0,
              "#0d0887"
             ],
             [
              0.1111111111111111,
              "#46039f"
             ],
             [
              0.2222222222222222,
              "#7201a8"
             ],
             [
              0.3333333333333333,
              "#9c179e"
             ],
             [
              0.4444444444444444,
              "#bd3786"
             ],
             [
              0.5555555555555556,
              "#d8576b"
             ],
             [
              0.6666666666666666,
              "#ed7953"
             ],
             [
              0.7777777777777778,
              "#fb9f3a"
             ],
             [
              0.8888888888888888,
              "#fdca26"
             ],
             [
              1,
              "#f0f921"
             ]
            ],
            "type": "surface"
           }
          ],
          "table": [
           {
            "cells": {
             "fill": {
              "color": "#EBF0F8"
             },
             "line": {
              "color": "white"
             }
            },
            "header": {
             "fill": {
              "color": "#C8D4E3"
             },
             "line": {
              "color": "white"
             }
            },
            "type": "table"
           }
          ]
         },
         "layout": {
          "annotationdefaults": {
           "arrowcolor": "#2a3f5f",
           "arrowhead": 0,
           "arrowwidth": 1
          },
          "autotypenumbers": "strict",
          "coloraxis": {
           "colorbar": {
            "outlinewidth": 0,
            "ticks": ""
           }
          },
          "colorscale": {
           "diverging": [
            [
             0,
             "#8e0152"
            ],
            [
             0.1,
             "#c51b7d"
            ],
            [
             0.2,
             "#de77ae"
            ],
            [
             0.3,
             "#f1b6da"
            ],
            [
             0.4,
             "#fde0ef"
            ],
            [
             0.5,
             "#f7f7f7"
            ],
            [
             0.6,
             "#e6f5d0"
            ],
            [
             0.7,
             "#b8e186"
            ],
            [
             0.8,
             "#7fbc41"
            ],
            [
             0.9,
             "#4d9221"
            ],
            [
             1,
             "#276419"
            ]
           ],
           "sequential": [
            [
             0,
             "#0d0887"
            ],
            [
             0.1111111111111111,
             "#46039f"
            ],
            [
             0.2222222222222222,
             "#7201a8"
            ],
            [
             0.3333333333333333,
             "#9c179e"
            ],
            [
             0.4444444444444444,
             "#bd3786"
            ],
            [
             0.5555555555555556,
             "#d8576b"
            ],
            [
             0.6666666666666666,
             "#ed7953"
            ],
            [
             0.7777777777777778,
             "#fb9f3a"
            ],
            [
             0.8888888888888888,
             "#fdca26"
            ],
            [
             1,
             "#f0f921"
            ]
           ],
           "sequentialminus": [
            [
             0,
             "#0d0887"
            ],
            [
             0.1111111111111111,
             "#46039f"
            ],
            [
             0.2222222222222222,
             "#7201a8"
            ],
            [
             0.3333333333333333,
             "#9c179e"
            ],
            [
             0.4444444444444444,
             "#bd3786"
            ],
            [
             0.5555555555555556,
             "#d8576b"
            ],
            [
             0.6666666666666666,
             "#ed7953"
            ],
            [
             0.7777777777777778,
             "#fb9f3a"
            ],
            [
             0.8888888888888888,
             "#fdca26"
            ],
            [
             1,
             "#f0f921"
            ]
           ]
          },
          "colorway": [
           "#636efa",
           "#EF553B",
           "#00cc96",
           "#ab63fa",
           "#FFA15A",
           "#19d3f3",
           "#FF6692",
           "#B6E880",
           "#FF97FF",
           "#FECB52"
          ],
          "font": {
           "color": "#2a3f5f"
          },
          "geo": {
           "bgcolor": "white",
           "lakecolor": "white",
           "landcolor": "#E5ECF6",
           "showlakes": true,
           "showland": true,
           "subunitcolor": "white"
          },
          "hoverlabel": {
           "align": "left"
          },
          "hovermode": "closest",
          "mapbox": {
           "style": "light"
          },
          "paper_bgcolor": "white",
          "plot_bgcolor": "#E5ECF6",
          "polar": {
           "angularaxis": {
            "gridcolor": "white",
            "linecolor": "white",
            "ticks": ""
           },
           "bgcolor": "#E5ECF6",
           "radialaxis": {
            "gridcolor": "white",
            "linecolor": "white",
            "ticks": ""
           }
          },
          "scene": {
           "xaxis": {
            "backgroundcolor": "#E5ECF6",
            "gridcolor": "white",
            "gridwidth": 2,
            "linecolor": "white",
            "showbackground": true,
            "ticks": "",
            "zerolinecolor": "white"
           },
           "yaxis": {
            "backgroundcolor": "#E5ECF6",
            "gridcolor": "white",
            "gridwidth": 2,
            "linecolor": "white",
            "showbackground": true,
            "ticks": "",
            "zerolinecolor": "white"
           },
           "zaxis": {
            "backgroundcolor": "#E5ECF6",
            "gridcolor": "white",
            "gridwidth": 2,
            "linecolor": "white",
            "showbackground": true,
            "ticks": "",
            "zerolinecolor": "white"
           }
          },
          "shapedefaults": {
           "line": {
            "color": "#2a3f5f"
           }
          },
          "ternary": {
           "aaxis": {
            "gridcolor": "white",
            "linecolor": "white",
            "ticks": ""
           },
           "baxis": {
            "gridcolor": "white",
            "linecolor": "white",
            "ticks": ""
           },
           "bgcolor": "#E5ECF6",
           "caxis": {
            "gridcolor": "white",
            "linecolor": "white",
            "ticks": ""
           }
          },
          "title": {
           "x": 0.05
          },
          "xaxis": {
           "automargin": true,
           "gridcolor": "white",
           "linecolor": "white",
           "ticks": "",
           "title": {
            "standoff": 15
           },
           "zerolinecolor": "white",
           "zerolinewidth": 2
          },
          "yaxis": {
           "automargin": true,
           "gridcolor": "white",
           "linecolor": "white",
           "ticks": "",
           "title": {
            "standoff": 15
           },
           "zerolinecolor": "white",
           "zerolinewidth": 2
          }
         }
        },
        "title": {
         "text": "Feature values"
        },
        "xaxis": {
         "anchor": "y",
         "domain": [
          0,
          1
         ],
         "title": {
          "text": "variable"
         }
        },
        "yaxis": {
         "anchor": "x",
         "domain": [
          0,
          1
         ],
         "title": {
          "text": "value"
         }
        }
       }
      }
     },
     "metadata": {},
     "output_type": "display_data"
    }
   ],
   "source": [
    "px.box(df_products, y=['price', 'weight_kg'], title='Feature values')\n"
   ]
  },
  {
   "cell_type": "code",
   "execution_count": 860,
   "metadata": {},
   "outputs": [
    {
     "data": {
      "application/vnd.plotly.v1+json": {
       "config": {
        "plotlyServerURL": "https://plot.ly"
       },
       "data": [
        {
         "name": "weight [kg]",
         "type": "box",
         "x": [
          19,
          19,
          30,
          30,
          17,
          25,
          20,
          30,
          30,
          25,
          25,
          25,
          25,
          25,
          25,
          19,
          19.8,
          20,
          30,
          21,
          25,
          14,
          0.30000000000000004,
          0.5,
          0.213,
          0.30000000000000004,
          0.2,
          5,
          0.2,
          0.2,
          0.185,
          0.20500000000000002,
          0.115,
          0.322,
          0.336,
          0.17,
          2.06,
          1.04,
          0.34,
          0.17,
          0.241,
          1.12,
          0.195,
          0,
          0.35000000000000003,
          0.38,
          0.22,
          0.063,
          4.02,
          1.58,
          0.24,
          0.025,
          0.018000000000000002,
          0.01,
          0.15,
          0.01,
          0.01,
          1,
          0.15,
          0.15,
          0.01,
          0.01,
          0.06,
          0.01,
          0.2,
          0.01,
          0.2,
          0.2,
          0.01,
          0.2,
          0.1,
          0.01,
          0.01,
          0.01,
          0.2,
          0.01,
          0.01,
          0.30000000000000004,
          0.15,
          0.019,
          0.1,
          0.019,
          0.014,
          0.02,
          0.185,
          0.05,
          0.021,
          0.02,
          0.018000000000000002,
          0.01,
          0.019,
          5,
          5,
          0.26,
          0.055,
          0.41200000000000003,
          2.27,
          0.15,
          1.581,
          1.3599999999999999,
          0.15,
          1.5,
          0.30000000000000004,
          1.49,
          1.33,
          1.6600000000000001,
          1.5390000000000001,
          1.06,
          0.446,
          0.754,
          0.52,
          0.76,
          0.77,
          0.71,
          1.1,
          1.4,
          0.495,
          0.30000000000000004,
          1.72,
          1.1,
          0.15,
          1.72,
          0.58,
          0.15,
          2.2,
          0.56,
          0.9,
          0.52,
          1.1,
          1.32,
          1.8599999999999999,
          0.182,
          0.8,
          1.208,
          1,
          0.189,
          1.11,
          1.4100000000000001,
          1.52,
          2,
          1.75,
          1.98,
          1.08,
          1.1,
          0.6000000000000001,
          0.99,
          1.56,
          0.8300000000000001,
          0.52,
          12.5,
          0,
          0.8,
          1,
          0.88,
          0.58,
          0.85,
          0.78,
          0.68,
          0.379,
          0.92,
          0.049,
          0.4,
          0.04,
          0.77,
          0.1,
          0.32,
          0.6000000000000001,
          0.58,
          0,
          0.45,
          0.78,
          1.06,
          0.857,
          0.45,
          0.2,
          0.52,
          0.7000000000000001,
          0.58,
          0.59,
          0.22,
          0.496,
          0.293,
          0.4,
          0.545,
          0.317,
          0.26,
          0.188,
          0.158,
          0.18,
          0.139,
          0.356,
          1.34,
          18,
          4.14,
          7.53,
          20.4,
          5.8,
          8.72,
          10.9,
          9.6,
          7.8,
          6.8,
          7.8,
          14.1,
          8.1,
          6.5,
          8.4,
          8.1,
          9.12,
          8.9,
          8,
          4,
          9.2,
          5.5,
          10.8,
          6.2,
          8,
          4.7,
          13.9,
          7.9,
          10.6,
          10.5,
          12.3,
          7.8,
          8.3,
          8.4,
          9.3,
          4.9,
          6.1,
          11.9,
          6.42,
          6.2,
          4.87,
          4.8,
          10.4,
          8.89,
          5.5,
          4.2,
          4.5,
          5.1,
          6.1,
          7.5,
          4.25,
          9.8,
          8.7,
          6.4,
          9.9,
          6.1,
          6.47,
          10.7,
          6.59,
          7.8,
          8.3,
          6.11,
          5,
          10,
          5,
          8.53,
          3.65,
          9,
          9.1,
          13.7,
          10.4,
          11.1,
          7.27,
          9.3,
          9.9,
          7.8,
          3.79,
          13.1,
          10,
          6.6,
          10,
          7.5,
          6.4,
          5,
          7.53,
          7.8,
          8.2,
          5.5,
          10.2,
          4.8,
          9.2,
          10,
          6.1,
          16.5,
          6.25,
          13.5,
          12.8,
          10,
          6.2,
          5.71,
          3.7,
          20.5,
          7.2,
          8.88,
          5.41,
          14.3,
          6.3,
          3.26,
          8.2,
          7.4,
          4.28,
          6.55,
          4.7,
          9.6,
          4.04,
          4.82,
          4.11,
          11.86,
          5.94,
          8.5,
          8.5,
          3.58,
          6.9,
          9.3,
          7.6,
          3.7199999999999998,
          7.52,
          2.7,
          3.87,
          225,
          0.29,
          0.9,
          0.188,
          91,
          0.25,
          0.25,
          0.17,
          0.18,
          110,
          0.371,
          0.4,
          0.127,
          0.26,
          0.127,
          0.18,
          0.24,
          0.24,
          0.24,
          0.14,
          0.92,
          0.13,
          0.15,
          0.08,
          0.24,
          0,
          0.12,
          0.43,
          0.9,
          0.39,
          0.09,
          0.32,
          0.1,
          0.13,
          0.126,
          0.099,
          0.13,
          0.26,
          0.23,
          0.333,
          0.334,
          0.1,
          0.224,
          0.16,
          300,
          0.157,
          0.19,
          0.182,
          0.39,
          0.182,
          0.23,
          0.20400000000000001,
          0.36,
          0.371,
          0.165,
          0.167,
          0.131,
          0.14,
          0.23500000000000001,
          0.33,
          0.148,
          0.266,
          0.25,
          0.28600000000000003,
          0.1,
          0.1,
          0.13,
          0.18,
          0.105,
          0.08,
          0.101,
          0.26,
          0.106,
          0.1,
          0.13,
          0.14,
          0.18,
          0.06,
          0.06,
          0.099,
          0.147,
          0.125,
          0.125,
          0.065,
          0.14300000000000002,
          0.125,
          0.181,
          0.125,
          0.32,
          0.12,
          0.12,
          0.12,
          0.121,
          0.16,
          0.241,
          51.9,
          0.186,
          0.14200000000000002,
          0.14100000000000001,
          0.215,
          0.18,
          0.212,
          0.07,
          0.21,
          0.18,
          0.4,
          0.26,
          0.07,
          0.12,
          0.185,
          0.17,
          0.22,
          0.1,
          0.161,
          0.1,
          0.2,
          0.13,
          0.12,
          0.213,
          0.30000000000000004,
          0.26,
          0.18,
          0.32,
          0.4,
          0.37,
          0.23,
          0.22,
          0.121,
          0.1,
          0.183,
          0.183,
          0.326,
          0.30000000000000004,
          0.08,
          0.18,
          0.36,
          0.36,
          0.34500000000000003,
          0.31,
          0.30000000000000004,
          0.12,
          0.12,
          0.189,
          0.014,
          0.014,
          0.014,
          0.014,
          0.03,
          0.024,
          0.022,
          0.024,
          0.02,
          0.01,
          0.01,
          0.02,
          0.01,
          0.01,
          0,
          0.015,
          0,
          0.06,
          0,
          0,
          0.02,
          0.057,
          0.008,
          0.008,
          0,
          0,
          0.009000000000000001,
          0,
          0,
          0,
          0.006,
          0.012,
          0.04,
          0.01,
          0.018000000000000002,
          0.017,
          0.009000000000000001,
          0.001,
          0.018000000000000002,
          0.022,
          0.015,
          0.024,
          0.016,
          0.016,
          0.02,
          0.024,
          0.013000000000000001,
          0.025,
          0.015,
          0.023,
          0.023,
          0.001,
          0.02,
          0.019,
          0.04,
          0.012,
          0.02,
          0.019,
          0.02,
          0.025,
          0.018000000000000002,
          0.018000000000000002,
          0.018000000000000002,
          0.02,
          0.001,
          0.001,
          0.015,
          0.02,
          0.02,
          0.015,
          0.025,
          0.02,
          0.02,
          0.15,
          0.052000000000000005,
          0.052000000000000005,
          0.058,
          0.052000000000000005,
          0.052000000000000005,
          0.091,
          0.025,
          0.029,
          0.029,
          0.15,
          0.09,
          0.12,
          0.13,
          0.15,
          0.162,
          0.162,
          0.01,
          0.189,
          0.15,
          0.162,
          0.11800000000000001,
          0.162,
          0.114,
          0.029,
          0.105,
          0.15,
          0.035,
          0.02,
          0.15,
          0.2,
          0.179,
          0.07,
          0.13,
          0.127,
          0.12,
          0.037,
          0.037,
          0.015,
          0.073,
          0.157,
          0.06,
          0.035,
          0.061,
          0.14,
          0.1,
          0.111,
          0.101,
          0.13,
          0.03,
          0.14,
          0.1,
          0.025,
          0.026000000000000002,
          0.025,
          5.6,
          10,
          3.7,
          2,
          1.22,
          6.2,
          2.5,
          1.35,
          0.608,
          0.48,
          0.93,
          0.8,
          0.495,
          0.48,
          0.84,
          0.2,
          0.44,
          0.376,
          0.30000000000000004,
          1,
          8,
          0.332,
          0.24,
          0.30000000000000004,
          0.30000000000000004,
          0.30000000000000004,
          0.30000000000000004,
          0.405,
          0.30000000000000004,
          0.323,
          0.30000000000000004,
          0.242,
          0.304,
          0.6000000000000001,
          0.88,
          0.75,
          0.75,
          0.7000000000000001,
          0.605,
          0.54,
          0.875,
          1.45,
          1.6400000000000001,
          0.58,
          0.98,
          0.741,
          0.658,
          1.38,
          0.43,
          0.68,
          0.68,
          0.30000000000000004,
          2.06,
          1.19,
          0.9400000000000001,
          1.48,
          0.92,
          0.983,
          0.6900000000000001,
          0.624,
          0.9560000000000001
         ]
        }
       ],
       "layout": {
        "template": {
         "data": {
          "bar": [
           {
            "error_x": {
             "color": "#2a3f5f"
            },
            "error_y": {
             "color": "#2a3f5f"
            },
            "marker": {
             "line": {
              "color": "#E5ECF6",
              "width": 0.5
             },
             "pattern": {
              "fillmode": "overlay",
              "size": 10,
              "solidity": 0.2
             }
            },
            "type": "bar"
           }
          ],
          "barpolar": [
           {
            "marker": {
             "line": {
              "color": "#E5ECF6",
              "width": 0.5
             },
             "pattern": {
              "fillmode": "overlay",
              "size": 10,
              "solidity": 0.2
             }
            },
            "type": "barpolar"
           }
          ],
          "carpet": [
           {
            "aaxis": {
             "endlinecolor": "#2a3f5f",
             "gridcolor": "white",
             "linecolor": "white",
             "minorgridcolor": "white",
             "startlinecolor": "#2a3f5f"
            },
            "baxis": {
             "endlinecolor": "#2a3f5f",
             "gridcolor": "white",
             "linecolor": "white",
             "minorgridcolor": "white",
             "startlinecolor": "#2a3f5f"
            },
            "type": "carpet"
           }
          ],
          "choropleth": [
           {
            "colorbar": {
             "outlinewidth": 0,
             "ticks": ""
            },
            "type": "choropleth"
           }
          ],
          "contour": [
           {
            "colorbar": {
             "outlinewidth": 0,
             "ticks": ""
            },
            "colorscale": [
             [
              0,
              "#0d0887"
             ],
             [
              0.1111111111111111,
              "#46039f"
             ],
             [
              0.2222222222222222,
              "#7201a8"
             ],
             [
              0.3333333333333333,
              "#9c179e"
             ],
             [
              0.4444444444444444,
              "#bd3786"
             ],
             [
              0.5555555555555556,
              "#d8576b"
             ],
             [
              0.6666666666666666,
              "#ed7953"
             ],
             [
              0.7777777777777778,
              "#fb9f3a"
             ],
             [
              0.8888888888888888,
              "#fdca26"
             ],
             [
              1,
              "#f0f921"
             ]
            ],
            "type": "contour"
           }
          ],
          "contourcarpet": [
           {
            "colorbar": {
             "outlinewidth": 0,
             "ticks": ""
            },
            "type": "contourcarpet"
           }
          ],
          "heatmap": [
           {
            "colorbar": {
             "outlinewidth": 0,
             "ticks": ""
            },
            "colorscale": [
             [
              0,
              "#0d0887"
             ],
             [
              0.1111111111111111,
              "#46039f"
             ],
             [
              0.2222222222222222,
              "#7201a8"
             ],
             [
              0.3333333333333333,
              "#9c179e"
             ],
             [
              0.4444444444444444,
              "#bd3786"
             ],
             [
              0.5555555555555556,
              "#d8576b"
             ],
             [
              0.6666666666666666,
              "#ed7953"
             ],
             [
              0.7777777777777778,
              "#fb9f3a"
             ],
             [
              0.8888888888888888,
              "#fdca26"
             ],
             [
              1,
              "#f0f921"
             ]
            ],
            "type": "heatmap"
           }
          ],
          "heatmapgl": [
           {
            "colorbar": {
             "outlinewidth": 0,
             "ticks": ""
            },
            "colorscale": [
             [
              0,
              "#0d0887"
             ],
             [
              0.1111111111111111,
              "#46039f"
             ],
             [
              0.2222222222222222,
              "#7201a8"
             ],
             [
              0.3333333333333333,
              "#9c179e"
             ],
             [
              0.4444444444444444,
              "#bd3786"
             ],
             [
              0.5555555555555556,
              "#d8576b"
             ],
             [
              0.6666666666666666,
              "#ed7953"
             ],
             [
              0.7777777777777778,
              "#fb9f3a"
             ],
             [
              0.8888888888888888,
              "#fdca26"
             ],
             [
              1,
              "#f0f921"
             ]
            ],
            "type": "heatmapgl"
           }
          ],
          "histogram": [
           {
            "marker": {
             "pattern": {
              "fillmode": "overlay",
              "size": 10,
              "solidity": 0.2
             }
            },
            "type": "histogram"
           }
          ],
          "histogram2d": [
           {
            "colorbar": {
             "outlinewidth": 0,
             "ticks": ""
            },
            "colorscale": [
             [
              0,
              "#0d0887"
             ],
             [
              0.1111111111111111,
              "#46039f"
             ],
             [
              0.2222222222222222,
              "#7201a8"
             ],
             [
              0.3333333333333333,
              "#9c179e"
             ],
             [
              0.4444444444444444,
              "#bd3786"
             ],
             [
              0.5555555555555556,
              "#d8576b"
             ],
             [
              0.6666666666666666,
              "#ed7953"
             ],
             [
              0.7777777777777778,
              "#fb9f3a"
             ],
             [
              0.8888888888888888,
              "#fdca26"
             ],
             [
              1,
              "#f0f921"
             ]
            ],
            "type": "histogram2d"
           }
          ],
          "histogram2dcontour": [
           {
            "colorbar": {
             "outlinewidth": 0,
             "ticks": ""
            },
            "colorscale": [
             [
              0,
              "#0d0887"
             ],
             [
              0.1111111111111111,
              "#46039f"
             ],
             [
              0.2222222222222222,
              "#7201a8"
             ],
             [
              0.3333333333333333,
              "#9c179e"
             ],
             [
              0.4444444444444444,
              "#bd3786"
             ],
             [
              0.5555555555555556,
              "#d8576b"
             ],
             [
              0.6666666666666666,
              "#ed7953"
             ],
             [
              0.7777777777777778,
              "#fb9f3a"
             ],
             [
              0.8888888888888888,
              "#fdca26"
             ],
             [
              1,
              "#f0f921"
             ]
            ],
            "type": "histogram2dcontour"
           }
          ],
          "mesh3d": [
           {
            "colorbar": {
             "outlinewidth": 0,
             "ticks": ""
            },
            "type": "mesh3d"
           }
          ],
          "parcoords": [
           {
            "line": {
             "colorbar": {
              "outlinewidth": 0,
              "ticks": ""
             }
            },
            "type": "parcoords"
           }
          ],
          "pie": [
           {
            "automargin": true,
            "type": "pie"
           }
          ],
          "scatter": [
           {
            "fillpattern": {
             "fillmode": "overlay",
             "size": 10,
             "solidity": 0.2
            },
            "type": "scatter"
           }
          ],
          "scatter3d": [
           {
            "line": {
             "colorbar": {
              "outlinewidth": 0,
              "ticks": ""
             }
            },
            "marker": {
             "colorbar": {
              "outlinewidth": 0,
              "ticks": ""
             }
            },
            "type": "scatter3d"
           }
          ],
          "scattercarpet": [
           {
            "marker": {
             "colorbar": {
              "outlinewidth": 0,
              "ticks": ""
             }
            },
            "type": "scattercarpet"
           }
          ],
          "scattergeo": [
           {
            "marker": {
             "colorbar": {
              "outlinewidth": 0,
              "ticks": ""
             }
            },
            "type": "scattergeo"
           }
          ],
          "scattergl": [
           {
            "marker": {
             "colorbar": {
              "outlinewidth": 0,
              "ticks": ""
             }
            },
            "type": "scattergl"
           }
          ],
          "scattermapbox": [
           {
            "marker": {
             "colorbar": {
              "outlinewidth": 0,
              "ticks": ""
             }
            },
            "type": "scattermapbox"
           }
          ],
          "scatterpolar": [
           {
            "marker": {
             "colorbar": {
              "outlinewidth": 0,
              "ticks": ""
             }
            },
            "type": "scatterpolar"
           }
          ],
          "scatterpolargl": [
           {
            "marker": {
             "colorbar": {
              "outlinewidth": 0,
              "ticks": ""
             }
            },
            "type": "scatterpolargl"
           }
          ],
          "scatterternary": [
           {
            "marker": {
             "colorbar": {
              "outlinewidth": 0,
              "ticks": ""
             }
            },
            "type": "scatterternary"
           }
          ],
          "surface": [
           {
            "colorbar": {
             "outlinewidth": 0,
             "ticks": ""
            },
            "colorscale": [
             [
              0,
              "#0d0887"
             ],
             [
              0.1111111111111111,
              "#46039f"
             ],
             [
              0.2222222222222222,
              "#7201a8"
             ],
             [
              0.3333333333333333,
              "#9c179e"
             ],
             [
              0.4444444444444444,
              "#bd3786"
             ],
             [
              0.5555555555555556,
              "#d8576b"
             ],
             [
              0.6666666666666666,
              "#ed7953"
             ],
             [
              0.7777777777777778,
              "#fb9f3a"
             ],
             [
              0.8888888888888888,
              "#fdca26"
             ],
             [
              1,
              "#f0f921"
             ]
            ],
            "type": "surface"
           }
          ],
          "table": [
           {
            "cells": {
             "fill": {
              "color": "#EBF0F8"
             },
             "line": {
              "color": "white"
             }
            },
            "header": {
             "fill": {
              "color": "#C8D4E3"
             },
             "line": {
              "color": "white"
             }
            },
            "type": "table"
           }
          ]
         },
         "layout": {
          "annotationdefaults": {
           "arrowcolor": "#2a3f5f",
           "arrowhead": 0,
           "arrowwidth": 1
          },
          "autotypenumbers": "strict",
          "coloraxis": {
           "colorbar": {
            "outlinewidth": 0,
            "ticks": ""
           }
          },
          "colorscale": {
           "diverging": [
            [
             0,
             "#8e0152"
            ],
            [
             0.1,
             "#c51b7d"
            ],
            [
             0.2,
             "#de77ae"
            ],
            [
             0.3,
             "#f1b6da"
            ],
            [
             0.4,
             "#fde0ef"
            ],
            [
             0.5,
             "#f7f7f7"
            ],
            [
             0.6,
             "#e6f5d0"
            ],
            [
             0.7,
             "#b8e186"
            ],
            [
             0.8,
             "#7fbc41"
            ],
            [
             0.9,
             "#4d9221"
            ],
            [
             1,
             "#276419"
            ]
           ],
           "sequential": [
            [
             0,
             "#0d0887"
            ],
            [
             0.1111111111111111,
             "#46039f"
            ],
            [
             0.2222222222222222,
             "#7201a8"
            ],
            [
             0.3333333333333333,
             "#9c179e"
            ],
            [
             0.4444444444444444,
             "#bd3786"
            ],
            [
             0.5555555555555556,
             "#d8576b"
            ],
            [
             0.6666666666666666,
             "#ed7953"
            ],
            [
             0.7777777777777778,
             "#fb9f3a"
            ],
            [
             0.8888888888888888,
             "#fdca26"
            ],
            [
             1,
             "#f0f921"
            ]
           ],
           "sequentialminus": [
            [
             0,
             "#0d0887"
            ],
            [
             0.1111111111111111,
             "#46039f"
            ],
            [
             0.2222222222222222,
             "#7201a8"
            ],
            [
             0.3333333333333333,
             "#9c179e"
            ],
            [
             0.4444444444444444,
             "#bd3786"
            ],
            [
             0.5555555555555556,
             "#d8576b"
            ],
            [
             0.6666666666666666,
             "#ed7953"
            ],
            [
             0.7777777777777778,
             "#fb9f3a"
            ],
            [
             0.8888888888888888,
             "#fdca26"
            ],
            [
             1,
             "#f0f921"
            ]
           ]
          },
          "colorway": [
           "#636efa",
           "#EF553B",
           "#00cc96",
           "#ab63fa",
           "#FFA15A",
           "#19d3f3",
           "#FF6692",
           "#B6E880",
           "#FF97FF",
           "#FECB52"
          ],
          "font": {
           "color": "#2a3f5f"
          },
          "geo": {
           "bgcolor": "white",
           "lakecolor": "white",
           "landcolor": "#E5ECF6",
           "showlakes": true,
           "showland": true,
           "subunitcolor": "white"
          },
          "hoverlabel": {
           "align": "left"
          },
          "hovermode": "closest",
          "mapbox": {
           "style": "light"
          },
          "paper_bgcolor": "white",
          "plot_bgcolor": "#E5ECF6",
          "polar": {
           "angularaxis": {
            "gridcolor": "white",
            "linecolor": "white",
            "ticks": ""
           },
           "bgcolor": "#E5ECF6",
           "radialaxis": {
            "gridcolor": "white",
            "linecolor": "white",
            "ticks": ""
           }
          },
          "scene": {
           "xaxis": {
            "backgroundcolor": "#E5ECF6",
            "gridcolor": "white",
            "gridwidth": 2,
            "linecolor": "white",
            "showbackground": true,
            "ticks": "",
            "zerolinecolor": "white"
           },
           "yaxis": {
            "backgroundcolor": "#E5ECF6",
            "gridcolor": "white",
            "gridwidth": 2,
            "linecolor": "white",
            "showbackground": true,
            "ticks": "",
            "zerolinecolor": "white"
           },
           "zaxis": {
            "backgroundcolor": "#E5ECF6",
            "gridcolor": "white",
            "gridwidth": 2,
            "linecolor": "white",
            "showbackground": true,
            "ticks": "",
            "zerolinecolor": "white"
           }
          },
          "shapedefaults": {
           "line": {
            "color": "#2a3f5f"
           }
          },
          "ternary": {
           "aaxis": {
            "gridcolor": "white",
            "linecolor": "white",
            "ticks": ""
           },
           "baxis": {
            "gridcolor": "white",
            "linecolor": "white",
            "ticks": ""
           },
           "bgcolor": "#E5ECF6",
           "caxis": {
            "gridcolor": "white",
            "linecolor": "white",
            "ticks": ""
           }
          },
          "title": {
           "x": 0.05
          },
          "xaxis": {
           "automargin": true,
           "gridcolor": "white",
           "linecolor": "white",
           "ticks": "",
           "title": {
            "standoff": 15
           },
           "zerolinecolor": "white",
           "zerolinewidth": 2
          },
          "yaxis": {
           "automargin": true,
           "gridcolor": "white",
           "linecolor": "white",
           "ticks": "",
           "title": {
            "standoff": 15
           },
           "zerolinecolor": "white",
           "zerolinewidth": 2
          }
         }
        },
        "title": {
         "text": "Distribution of the weight_kg feature"
        }
       }
      }
     },
     "metadata": {},
     "output_type": "display_data"
    }
   ],
   "source": [
    "fig = go.Figure()\n",
    "\n",
    "fig.add_trace(go.Box(x=df_products['weight_kg'], name='weight [kg]'))\n",
    "fig.update_layout(title_text='Distribution of the weight_kg feature')"
   ]
  },
  {
   "cell_type": "code",
   "execution_count": 861,
   "metadata": {},
   "outputs": [
    {
     "data": {
      "text/html": [
       "<div>\n",
       "<style scoped>\n",
       "    .dataframe tbody tr th:only-of-type {\n",
       "        vertical-align: middle;\n",
       "    }\n",
       "\n",
       "    .dataframe tbody tr th {\n",
       "        vertical-align: top;\n",
       "    }\n",
       "\n",
       "    .dataframe thead th {\n",
       "        text-align: right;\n",
       "    }\n",
       "</style>\n",
       "<table border=\"1\" class=\"dataframe\">\n",
       "  <thead>\n",
       "    <tr style=\"text-align: right;\">\n",
       "      <th></th>\n",
       "      <th>product_id</th>\n",
       "      <th>product_name</th>\n",
       "      <th>category_path</th>\n",
       "      <th>price</th>\n",
       "      <th>brand</th>\n",
       "      <th>weight_kg</th>\n",
       "      <th>optional_attributes</th>\n",
       "    </tr>\n",
       "  </thead>\n",
       "  <tbody>\n",
       "    <tr>\n",
       "      <th>321</th>\n",
       "      <td>1322</td>\n",
       "      <td>Myszka bezprzewodowa Marvo M729W sensor optyczny</td>\n",
       "      <td>Myszki;Bezprzewodowe</td>\n",
       "      <td>69.99</td>\n",
       "      <td>Marvo</td>\n",
       "      <td>225.0</td>\n",
       "      <td>{'color': 'czarny'}</td>\n",
       "    </tr>\n",
       "    <tr>\n",
       "      <th>325</th>\n",
       "      <td>1326</td>\n",
       "      <td>Myszka bezprzewodowa Logitech inny sensor opty...</td>\n",
       "      <td>Myszki;Bezprzewodowe</td>\n",
       "      <td>162.52</td>\n",
       "      <td>Logitech</td>\n",
       "      <td>91.0</td>\n",
       "      <td>{'color': 'czarny'}</td>\n",
       "    </tr>\n",
       "    <tr>\n",
       "      <th>330</th>\n",
       "      <td>1331</td>\n",
       "      <td>Myszka bezprzewodowa iMICE E-1300 sensor laserowy</td>\n",
       "      <td>Myszki;Bezprzewodowe</td>\n",
       "      <td>44.89</td>\n",
       "      <td>iMICE</td>\n",
       "      <td>110.0</td>\n",
       "      <td>{'color': 'czarny'}</td>\n",
       "    </tr>\n",
       "    <tr>\n",
       "      <th>365</th>\n",
       "      <td>1366</td>\n",
       "      <td>Myszka bezprzewodowa Logitech G600 sensor lase...</td>\n",
       "      <td>Myszki;Bezprzewodowe</td>\n",
       "      <td>259.00</td>\n",
       "      <td>Logitech</td>\n",
       "      <td>300.0</td>\n",
       "      <td>{'color': 'czarny'}</td>\n",
       "    </tr>\n",
       "    <tr>\n",
       "      <th>416</th>\n",
       "      <td>1417</td>\n",
       "      <td>Myszka bezprzewodowa Logitech M187 sensor opty...</td>\n",
       "      <td>Myszki;Bezprzewodowe</td>\n",
       "      <td>49.00</td>\n",
       "      <td>Logitech</td>\n",
       "      <td>51.9</td>\n",
       "      <td>{'color': 'wielokolorowy'}</td>\n",
       "    </tr>\n",
       "  </tbody>\n",
       "</table>\n",
       "</div>"
      ],
      "text/plain": [
       "     product_id                                       product_name  \\\n",
       "321        1322   Myszka bezprzewodowa Marvo M729W sensor optyczny   \n",
       "325        1326  Myszka bezprzewodowa Logitech inny sensor opty...   \n",
       "330        1331  Myszka bezprzewodowa iMICE E-1300 sensor laserowy   \n",
       "365        1366  Myszka bezprzewodowa Logitech G600 sensor lase...   \n",
       "416        1417  Myszka bezprzewodowa Logitech M187 sensor opty...   \n",
       "\n",
       "            category_path   price     brand  weight_kg  \\\n",
       "321  Myszki;Bezprzewodowe   69.99     Marvo      225.0   \n",
       "325  Myszki;Bezprzewodowe  162.52  Logitech       91.0   \n",
       "330  Myszki;Bezprzewodowe   44.89     iMICE      110.0   \n",
       "365  Myszki;Bezprzewodowe  259.00  Logitech      300.0   \n",
       "416  Myszki;Bezprzewodowe   49.00  Logitech       51.9   \n",
       "\n",
       "            optional_attributes  \n",
       "321         {'color': 'czarny'}  \n",
       "325         {'color': 'czarny'}  \n",
       "330         {'color': 'czarny'}  \n",
       "365         {'color': 'czarny'}  \n",
       "416  {'color': 'wielokolorowy'}  "
      ]
     },
     "execution_count": 861,
     "metadata": {},
     "output_type": "execute_result"
    }
   ],
   "source": [
    "incorrect_weight_products = df_products[df_products['weight_kg'] > 50]\n",
    "incorrect_weight_products\n"
   ]
  },
  {
   "cell_type": "code",
   "execution_count": 862,
   "metadata": {},
   "outputs": [
    {
     "data": {
      "application/vnd.plotly.v1+json": {
       "config": {
        "plotlyServerURL": "https://plot.ly"
       },
       "data": [
        {
         "name": "weight [kg]",
         "type": "box",
         "x": [
          225,
          0.29,
          0.9,
          0.188,
          91,
          0.25,
          0.25,
          0.17,
          0.18,
          110,
          0.371,
          0.4,
          0.127,
          0.26,
          0.127,
          0.18,
          0.24,
          0.24,
          0.24,
          0.14,
          0.92,
          0.13,
          0.15,
          0.08,
          0.24,
          0,
          0.12,
          0.43,
          0.9,
          0.39,
          0.09,
          0.32,
          0.1,
          0.13,
          0.126,
          0.099,
          0.13,
          0.26,
          0.23,
          0.333,
          0.334,
          0.1,
          0.224,
          0.16,
          300,
          0.157,
          0.19,
          0.182,
          0.39,
          0.182,
          0.23,
          0.20400000000000001,
          0.36,
          0.371,
          0.165,
          0.167,
          0.131,
          0.14,
          0.23500000000000001,
          0.33,
          0.148,
          0.266,
          0.25,
          0.28600000000000003,
          0.1,
          0.1,
          0.13,
          0.18,
          0.105,
          0.08,
          0.101,
          0.26,
          0.106,
          0.1,
          0.13,
          0.14,
          0.18,
          0.06,
          0.06,
          0.099,
          0.147,
          0.125,
          0.125,
          0.065,
          0.14300000000000002,
          0.125,
          0.181,
          0.125,
          0.32,
          0.12,
          0.12,
          0.12,
          0.121,
          0.16,
          0.241,
          51.9,
          0.186,
          0.14200000000000002,
          0.14100000000000001,
          0.215,
          0.18,
          0.212,
          0.07,
          0.21,
          0.18,
          0.4,
          0.26,
          0.07,
          0.12,
          0.185
         ]
        }
       ],
       "layout": {
        "template": {
         "data": {
          "bar": [
           {
            "error_x": {
             "color": "#2a3f5f"
            },
            "error_y": {
             "color": "#2a3f5f"
            },
            "marker": {
             "line": {
              "color": "#E5ECF6",
              "width": 0.5
             },
             "pattern": {
              "fillmode": "overlay",
              "size": 10,
              "solidity": 0.2
             }
            },
            "type": "bar"
           }
          ],
          "barpolar": [
           {
            "marker": {
             "line": {
              "color": "#E5ECF6",
              "width": 0.5
             },
             "pattern": {
              "fillmode": "overlay",
              "size": 10,
              "solidity": 0.2
             }
            },
            "type": "barpolar"
           }
          ],
          "carpet": [
           {
            "aaxis": {
             "endlinecolor": "#2a3f5f",
             "gridcolor": "white",
             "linecolor": "white",
             "minorgridcolor": "white",
             "startlinecolor": "#2a3f5f"
            },
            "baxis": {
             "endlinecolor": "#2a3f5f",
             "gridcolor": "white",
             "linecolor": "white",
             "minorgridcolor": "white",
             "startlinecolor": "#2a3f5f"
            },
            "type": "carpet"
           }
          ],
          "choropleth": [
           {
            "colorbar": {
             "outlinewidth": 0,
             "ticks": ""
            },
            "type": "choropleth"
           }
          ],
          "contour": [
           {
            "colorbar": {
             "outlinewidth": 0,
             "ticks": ""
            },
            "colorscale": [
             [
              0,
              "#0d0887"
             ],
             [
              0.1111111111111111,
              "#46039f"
             ],
             [
              0.2222222222222222,
              "#7201a8"
             ],
             [
              0.3333333333333333,
              "#9c179e"
             ],
             [
              0.4444444444444444,
              "#bd3786"
             ],
             [
              0.5555555555555556,
              "#d8576b"
             ],
             [
              0.6666666666666666,
              "#ed7953"
             ],
             [
              0.7777777777777778,
              "#fb9f3a"
             ],
             [
              0.8888888888888888,
              "#fdca26"
             ],
             [
              1,
              "#f0f921"
             ]
            ],
            "type": "contour"
           }
          ],
          "contourcarpet": [
           {
            "colorbar": {
             "outlinewidth": 0,
             "ticks": ""
            },
            "type": "contourcarpet"
           }
          ],
          "heatmap": [
           {
            "colorbar": {
             "outlinewidth": 0,
             "ticks": ""
            },
            "colorscale": [
             [
              0,
              "#0d0887"
             ],
             [
              0.1111111111111111,
              "#46039f"
             ],
             [
              0.2222222222222222,
              "#7201a8"
             ],
             [
              0.3333333333333333,
              "#9c179e"
             ],
             [
              0.4444444444444444,
              "#bd3786"
             ],
             [
              0.5555555555555556,
              "#d8576b"
             ],
             [
              0.6666666666666666,
              "#ed7953"
             ],
             [
              0.7777777777777778,
              "#fb9f3a"
             ],
             [
              0.8888888888888888,
              "#fdca26"
             ],
             [
              1,
              "#f0f921"
             ]
            ],
            "type": "heatmap"
           }
          ],
          "heatmapgl": [
           {
            "colorbar": {
             "outlinewidth": 0,
             "ticks": ""
            },
            "colorscale": [
             [
              0,
              "#0d0887"
             ],
             [
              0.1111111111111111,
              "#46039f"
             ],
             [
              0.2222222222222222,
              "#7201a8"
             ],
             [
              0.3333333333333333,
              "#9c179e"
             ],
             [
              0.4444444444444444,
              "#bd3786"
             ],
             [
              0.5555555555555556,
              "#d8576b"
             ],
             [
              0.6666666666666666,
              "#ed7953"
             ],
             [
              0.7777777777777778,
              "#fb9f3a"
             ],
             [
              0.8888888888888888,
              "#fdca26"
             ],
             [
              1,
              "#f0f921"
             ]
            ],
            "type": "heatmapgl"
           }
          ],
          "histogram": [
           {
            "marker": {
             "pattern": {
              "fillmode": "overlay",
              "size": 10,
              "solidity": 0.2
             }
            },
            "type": "histogram"
           }
          ],
          "histogram2d": [
           {
            "colorbar": {
             "outlinewidth": 0,
             "ticks": ""
            },
            "colorscale": [
             [
              0,
              "#0d0887"
             ],
             [
              0.1111111111111111,
              "#46039f"
             ],
             [
              0.2222222222222222,
              "#7201a8"
             ],
             [
              0.3333333333333333,
              "#9c179e"
             ],
             [
              0.4444444444444444,
              "#bd3786"
             ],
             [
              0.5555555555555556,
              "#d8576b"
             ],
             [
              0.6666666666666666,
              "#ed7953"
             ],
             [
              0.7777777777777778,
              "#fb9f3a"
             ],
             [
              0.8888888888888888,
              "#fdca26"
             ],
             [
              1,
              "#f0f921"
             ]
            ],
            "type": "histogram2d"
           }
          ],
          "histogram2dcontour": [
           {
            "colorbar": {
             "outlinewidth": 0,
             "ticks": ""
            },
            "colorscale": [
             [
              0,
              "#0d0887"
             ],
             [
              0.1111111111111111,
              "#46039f"
             ],
             [
              0.2222222222222222,
              "#7201a8"
             ],
             [
              0.3333333333333333,
              "#9c179e"
             ],
             [
              0.4444444444444444,
              "#bd3786"
             ],
             [
              0.5555555555555556,
              "#d8576b"
             ],
             [
              0.6666666666666666,
              "#ed7953"
             ],
             [
              0.7777777777777778,
              "#fb9f3a"
             ],
             [
              0.8888888888888888,
              "#fdca26"
             ],
             [
              1,
              "#f0f921"
             ]
            ],
            "type": "histogram2dcontour"
           }
          ],
          "mesh3d": [
           {
            "colorbar": {
             "outlinewidth": 0,
             "ticks": ""
            },
            "type": "mesh3d"
           }
          ],
          "parcoords": [
           {
            "line": {
             "colorbar": {
              "outlinewidth": 0,
              "ticks": ""
             }
            },
            "type": "parcoords"
           }
          ],
          "pie": [
           {
            "automargin": true,
            "type": "pie"
           }
          ],
          "scatter": [
           {
            "fillpattern": {
             "fillmode": "overlay",
             "size": 10,
             "solidity": 0.2
            },
            "type": "scatter"
           }
          ],
          "scatter3d": [
           {
            "line": {
             "colorbar": {
              "outlinewidth": 0,
              "ticks": ""
             }
            },
            "marker": {
             "colorbar": {
              "outlinewidth": 0,
              "ticks": ""
             }
            },
            "type": "scatter3d"
           }
          ],
          "scattercarpet": [
           {
            "marker": {
             "colorbar": {
              "outlinewidth": 0,
              "ticks": ""
             }
            },
            "type": "scattercarpet"
           }
          ],
          "scattergeo": [
           {
            "marker": {
             "colorbar": {
              "outlinewidth": 0,
              "ticks": ""
             }
            },
            "type": "scattergeo"
           }
          ],
          "scattergl": [
           {
            "marker": {
             "colorbar": {
              "outlinewidth": 0,
              "ticks": ""
             }
            },
            "type": "scattergl"
           }
          ],
          "scattermapbox": [
           {
            "marker": {
             "colorbar": {
              "outlinewidth": 0,
              "ticks": ""
             }
            },
            "type": "scattermapbox"
           }
          ],
          "scatterpolar": [
           {
            "marker": {
             "colorbar": {
              "outlinewidth": 0,
              "ticks": ""
             }
            },
            "type": "scatterpolar"
           }
          ],
          "scatterpolargl": [
           {
            "marker": {
             "colorbar": {
              "outlinewidth": 0,
              "ticks": ""
             }
            },
            "type": "scatterpolargl"
           }
          ],
          "scatterternary": [
           {
            "marker": {
             "colorbar": {
              "outlinewidth": 0,
              "ticks": ""
             }
            },
            "type": "scatterternary"
           }
          ],
          "surface": [
           {
            "colorbar": {
             "outlinewidth": 0,
             "ticks": ""
            },
            "colorscale": [
             [
              0,
              "#0d0887"
             ],
             [
              0.1111111111111111,
              "#46039f"
             ],
             [
              0.2222222222222222,
              "#7201a8"
             ],
             [
              0.3333333333333333,
              "#9c179e"
             ],
             [
              0.4444444444444444,
              "#bd3786"
             ],
             [
              0.5555555555555556,
              "#d8576b"
             ],
             [
              0.6666666666666666,
              "#ed7953"
             ],
             [
              0.7777777777777778,
              "#fb9f3a"
             ],
             [
              0.8888888888888888,
              "#fdca26"
             ],
             [
              1,
              "#f0f921"
             ]
            ],
            "type": "surface"
           }
          ],
          "table": [
           {
            "cells": {
             "fill": {
              "color": "#EBF0F8"
             },
             "line": {
              "color": "white"
             }
            },
            "header": {
             "fill": {
              "color": "#C8D4E3"
             },
             "line": {
              "color": "white"
             }
            },
            "type": "table"
           }
          ]
         },
         "layout": {
          "annotationdefaults": {
           "arrowcolor": "#2a3f5f",
           "arrowhead": 0,
           "arrowwidth": 1
          },
          "autotypenumbers": "strict",
          "coloraxis": {
           "colorbar": {
            "outlinewidth": 0,
            "ticks": ""
           }
          },
          "colorscale": {
           "diverging": [
            [
             0,
             "#8e0152"
            ],
            [
             0.1,
             "#c51b7d"
            ],
            [
             0.2,
             "#de77ae"
            ],
            [
             0.3,
             "#f1b6da"
            ],
            [
             0.4,
             "#fde0ef"
            ],
            [
             0.5,
             "#f7f7f7"
            ],
            [
             0.6,
             "#e6f5d0"
            ],
            [
             0.7,
             "#b8e186"
            ],
            [
             0.8,
             "#7fbc41"
            ],
            [
             0.9,
             "#4d9221"
            ],
            [
             1,
             "#276419"
            ]
           ],
           "sequential": [
            [
             0,
             "#0d0887"
            ],
            [
             0.1111111111111111,
             "#46039f"
            ],
            [
             0.2222222222222222,
             "#7201a8"
            ],
            [
             0.3333333333333333,
             "#9c179e"
            ],
            [
             0.4444444444444444,
             "#bd3786"
            ],
            [
             0.5555555555555556,
             "#d8576b"
            ],
            [
             0.6666666666666666,
             "#ed7953"
            ],
            [
             0.7777777777777778,
             "#fb9f3a"
            ],
            [
             0.8888888888888888,
             "#fdca26"
            ],
            [
             1,
             "#f0f921"
            ]
           ],
           "sequentialminus": [
            [
             0,
             "#0d0887"
            ],
            [
             0.1111111111111111,
             "#46039f"
            ],
            [
             0.2222222222222222,
             "#7201a8"
            ],
            [
             0.3333333333333333,
             "#9c179e"
            ],
            [
             0.4444444444444444,
             "#bd3786"
            ],
            [
             0.5555555555555556,
             "#d8576b"
            ],
            [
             0.6666666666666666,
             "#ed7953"
            ],
            [
             0.7777777777777778,
             "#fb9f3a"
            ],
            [
             0.8888888888888888,
             "#fdca26"
            ],
            [
             1,
             "#f0f921"
            ]
           ]
          },
          "colorway": [
           "#636efa",
           "#EF553B",
           "#00cc96",
           "#ab63fa",
           "#FFA15A",
           "#19d3f3",
           "#FF6692",
           "#B6E880",
           "#FF97FF",
           "#FECB52"
          ],
          "font": {
           "color": "#2a3f5f"
          },
          "geo": {
           "bgcolor": "white",
           "lakecolor": "white",
           "landcolor": "#E5ECF6",
           "showlakes": true,
           "showland": true,
           "subunitcolor": "white"
          },
          "hoverlabel": {
           "align": "left"
          },
          "hovermode": "closest",
          "mapbox": {
           "style": "light"
          },
          "paper_bgcolor": "white",
          "plot_bgcolor": "#E5ECF6",
          "polar": {
           "angularaxis": {
            "gridcolor": "white",
            "linecolor": "white",
            "ticks": ""
           },
           "bgcolor": "#E5ECF6",
           "radialaxis": {
            "gridcolor": "white",
            "linecolor": "white",
            "ticks": ""
           }
          },
          "scene": {
           "xaxis": {
            "backgroundcolor": "#E5ECF6",
            "gridcolor": "white",
            "gridwidth": 2,
            "linecolor": "white",
            "showbackground": true,
            "ticks": "",
            "zerolinecolor": "white"
           },
           "yaxis": {
            "backgroundcolor": "#E5ECF6",
            "gridcolor": "white",
            "gridwidth": 2,
            "linecolor": "white",
            "showbackground": true,
            "ticks": "",
            "zerolinecolor": "white"
           },
           "zaxis": {
            "backgroundcolor": "#E5ECF6",
            "gridcolor": "white",
            "gridwidth": 2,
            "linecolor": "white",
            "showbackground": true,
            "ticks": "",
            "zerolinecolor": "white"
           }
          },
          "shapedefaults": {
           "line": {
            "color": "#2a3f5f"
           }
          },
          "ternary": {
           "aaxis": {
            "gridcolor": "white",
            "linecolor": "white",
            "ticks": ""
           },
           "baxis": {
            "gridcolor": "white",
            "linecolor": "white",
            "ticks": ""
           },
           "bgcolor": "#E5ECF6",
           "caxis": {
            "gridcolor": "white",
            "linecolor": "white",
            "ticks": ""
           }
          },
          "title": {
           "x": 0.05
          },
          "xaxis": {
           "automargin": true,
           "gridcolor": "white",
           "linecolor": "white",
           "ticks": "",
           "title": {
            "standoff": 15
           },
           "zerolinecolor": "white",
           "zerolinewidth": 2
          },
          "yaxis": {
           "automargin": true,
           "gridcolor": "white",
           "linecolor": "white",
           "ticks": "",
           "title": {
            "standoff": 15
           },
           "zerolinecolor": "white",
           "zerolinewidth": 2
          }
         }
        },
        "title": {
         "text": "Distribution of the weight_kg feature for \"Myszki;Bezprzewodowe\" category"
        }
       }
      }
     },
     "metadata": {},
     "output_type": "display_data"
    }
   ],
   "source": [
    "fig = go.Figure()\n",
    "\n",
    "fig.add_trace(go.Box(\n",
    "    x=df_products[df_products['category_path'] == 'Myszki;Bezprzewodowe']['weight_kg'], name='weight [kg]'))\n",
    "\n",
    "fig.update_layout(title_text='Distribution of the weight_kg feature for \"Myszki;Bezprzewodowe\" category')\n"
   ]
  },
  {
   "cell_type": "code",
   "execution_count": 863,
   "metadata": {},
   "outputs": [
    {
     "data": {
      "text/plain": [
       "array(['Myszka bezprzewodowa Marvo M729W sensor optyczny',\n",
       "       'Myszka bezprzewodowa Logitech inny sensor optyczny',\n",
       "       'Myszka bezprzewodowa iMICE E-1300 sensor laserowy',\n",
       "       'Myszka bezprzewodowa Logitech G600 sensor laserowy',\n",
       "       'Myszka bezprzewodowa Logitech M187 sensor optyczny'], dtype=object)"
      ]
     },
     "execution_count": 863,
     "metadata": {},
     "output_type": "execute_result"
    }
   ],
   "source": [
    "incorrect_weight_products['product_name'].unique()"
   ]
  },
  {
   "cell_type": "markdown",
   "metadata": {},
   "source": [
    "Rzeczywiście, w powyszych danych widnieje błąd związany z wagą myszek, która została prawdopodobnie źle wprowadzona. W związku z tym, ze liczba produktów których błąd dotyczy nie jest duza, ręcznie poprawimy dane korzystając z oficjalnych danych producentów myszek.\n",
    "\n",
    "\n",
    "- Myszka bezprzewodowa Marvo M729W sensor optyczny: 107 g = 0.107 kg\n",
    "- Myszka bezprzewodowa iMICE E-1300 sensor laserowy: 68g = 0.068 kg\n",
    "- Myszka bezprzewodowa Logitech G600 sensor laserowy: 133 g = 0.133 kg\n",
    "- Myszka bezprzewodowa Logitech M187 sensor optyczny: 51.9 g ~ 0.052 kg\n",
    "- Myszka bezprzewodowa Logitech inny sensor optyczny: Tutaj przyjmiemy medianę wag pozostałych produktów z kategorii `Myszki;Bezprzewodowe`"
   ]
  },
  {
   "cell_type": "code",
   "execution_count": 864,
   "metadata": {},
   "outputs": [
    {
     "data": {
      "text/plain": [
       "0.18"
      ]
     },
     "execution_count": 864,
     "metadata": {},
     "output_type": "execute_result"
    }
   ],
   "source": [
    "df_products[df_products['category_path'] == 'Myszki;Bezprzewodowe']['weight_kg'].median()\n"
   ]
  },
  {
   "cell_type": "code",
   "execution_count": 865,
   "metadata": {},
   "outputs": [],
   "source": [
    "df_products.loc[df_products['product_id'] == 1322, 'weight_kg'] = 0.107\n",
    "df_products.loc[df_products['product_id'] == 1331, 'weight_kg'] = 0.068\n",
    "df_products.loc[df_products['product_id'] == 1366, 'weight_kg'] = 0.133\n",
    "df_products.loc[df_products['product_id'] == 1417, 'weight_kg'] = 0.052\n",
    "df_products.loc[df_products['product_id'] == 1326,\n",
    "                'weight_kg'] = df_products[df_products['category_path'] == 'Myszki;Bezprzewodowe']['weight_kg'].median()\n",
    "\n"
   ]
  },
  {
   "cell_type": "markdown",
   "metadata": {},
   "source": [
    "Po poprawieniu błędów:"
   ]
  },
  {
   "cell_type": "code",
   "execution_count": 866,
   "metadata": {},
   "outputs": [
    {
     "data": {
      "application/vnd.plotly.v1+json": {
       "config": {
        "plotlyServerURL": "https://plot.ly"
       },
       "data": [
        {
         "name": "weight [kg]",
         "type": "box",
         "x": [
          0.107,
          0.29,
          0.9,
          0.188,
          0.166,
          0.25,
          0.25,
          0.17,
          0.18,
          0.068,
          0.371,
          0.4,
          0.127,
          0.26,
          0.127,
          0.18,
          0.24,
          0.24,
          0.24,
          0.14,
          0.92,
          0.13,
          0.15,
          0.08,
          0.24,
          0,
          0.12,
          0.43,
          0.9,
          0.39,
          0.09,
          0.32,
          0.1,
          0.13,
          0.126,
          0.099,
          0.13,
          0.26,
          0.23,
          0.333,
          0.334,
          0.1,
          0.224,
          0.16,
          0.133,
          0.157,
          0.19,
          0.182,
          0.39,
          0.182,
          0.23,
          0.20400000000000001,
          0.36,
          0.371,
          0.165,
          0.167,
          0.131,
          0.14,
          0.23500000000000001,
          0.33,
          0.148,
          0.266,
          0.25,
          0.28600000000000003,
          0.1,
          0.1,
          0.13,
          0.18,
          0.105,
          0.08,
          0.101,
          0.26,
          0.106,
          0.1,
          0.13,
          0.14,
          0.18,
          0.06,
          0.06,
          0.099,
          0.147,
          0.125,
          0.125,
          0.065,
          0.14300000000000002,
          0.125,
          0.181,
          0.125,
          0.32,
          0.12,
          0.12,
          0.12,
          0.121,
          0.16,
          0.241,
          0.052,
          0.186,
          0.14200000000000002,
          0.14100000000000001,
          0.215,
          0.18,
          0.212,
          0.07,
          0.21,
          0.18,
          0.4,
          0.26,
          0.07,
          0.12,
          0.185
         ]
        }
       ],
       "layout": {
        "template": {
         "data": {
          "bar": [
           {
            "error_x": {
             "color": "#2a3f5f"
            },
            "error_y": {
             "color": "#2a3f5f"
            },
            "marker": {
             "line": {
              "color": "#E5ECF6",
              "width": 0.5
             },
             "pattern": {
              "fillmode": "overlay",
              "size": 10,
              "solidity": 0.2
             }
            },
            "type": "bar"
           }
          ],
          "barpolar": [
           {
            "marker": {
             "line": {
              "color": "#E5ECF6",
              "width": 0.5
             },
             "pattern": {
              "fillmode": "overlay",
              "size": 10,
              "solidity": 0.2
             }
            },
            "type": "barpolar"
           }
          ],
          "carpet": [
           {
            "aaxis": {
             "endlinecolor": "#2a3f5f",
             "gridcolor": "white",
             "linecolor": "white",
             "minorgridcolor": "white",
             "startlinecolor": "#2a3f5f"
            },
            "baxis": {
             "endlinecolor": "#2a3f5f",
             "gridcolor": "white",
             "linecolor": "white",
             "minorgridcolor": "white",
             "startlinecolor": "#2a3f5f"
            },
            "type": "carpet"
           }
          ],
          "choropleth": [
           {
            "colorbar": {
             "outlinewidth": 0,
             "ticks": ""
            },
            "type": "choropleth"
           }
          ],
          "contour": [
           {
            "colorbar": {
             "outlinewidth": 0,
             "ticks": ""
            },
            "colorscale": [
             [
              0,
              "#0d0887"
             ],
             [
              0.1111111111111111,
              "#46039f"
             ],
             [
              0.2222222222222222,
              "#7201a8"
             ],
             [
              0.3333333333333333,
              "#9c179e"
             ],
             [
              0.4444444444444444,
              "#bd3786"
             ],
             [
              0.5555555555555556,
              "#d8576b"
             ],
             [
              0.6666666666666666,
              "#ed7953"
             ],
             [
              0.7777777777777778,
              "#fb9f3a"
             ],
             [
              0.8888888888888888,
              "#fdca26"
             ],
             [
              1,
              "#f0f921"
             ]
            ],
            "type": "contour"
           }
          ],
          "contourcarpet": [
           {
            "colorbar": {
             "outlinewidth": 0,
             "ticks": ""
            },
            "type": "contourcarpet"
           }
          ],
          "heatmap": [
           {
            "colorbar": {
             "outlinewidth": 0,
             "ticks": ""
            },
            "colorscale": [
             [
              0,
              "#0d0887"
             ],
             [
              0.1111111111111111,
              "#46039f"
             ],
             [
              0.2222222222222222,
              "#7201a8"
             ],
             [
              0.3333333333333333,
              "#9c179e"
             ],
             [
              0.4444444444444444,
              "#bd3786"
             ],
             [
              0.5555555555555556,
              "#d8576b"
             ],
             [
              0.6666666666666666,
              "#ed7953"
             ],
             [
              0.7777777777777778,
              "#fb9f3a"
             ],
             [
              0.8888888888888888,
              "#fdca26"
             ],
             [
              1,
              "#f0f921"
             ]
            ],
            "type": "heatmap"
           }
          ],
          "heatmapgl": [
           {
            "colorbar": {
             "outlinewidth": 0,
             "ticks": ""
            },
            "colorscale": [
             [
              0,
              "#0d0887"
             ],
             [
              0.1111111111111111,
              "#46039f"
             ],
             [
              0.2222222222222222,
              "#7201a8"
             ],
             [
              0.3333333333333333,
              "#9c179e"
             ],
             [
              0.4444444444444444,
              "#bd3786"
             ],
             [
              0.5555555555555556,
              "#d8576b"
             ],
             [
              0.6666666666666666,
              "#ed7953"
             ],
             [
              0.7777777777777778,
              "#fb9f3a"
             ],
             [
              0.8888888888888888,
              "#fdca26"
             ],
             [
              1,
              "#f0f921"
             ]
            ],
            "type": "heatmapgl"
           }
          ],
          "histogram": [
           {
            "marker": {
             "pattern": {
              "fillmode": "overlay",
              "size": 10,
              "solidity": 0.2
             }
            },
            "type": "histogram"
           }
          ],
          "histogram2d": [
           {
            "colorbar": {
             "outlinewidth": 0,
             "ticks": ""
            },
            "colorscale": [
             [
              0,
              "#0d0887"
             ],
             [
              0.1111111111111111,
              "#46039f"
             ],
             [
              0.2222222222222222,
              "#7201a8"
             ],
             [
              0.3333333333333333,
              "#9c179e"
             ],
             [
              0.4444444444444444,
              "#bd3786"
             ],
             [
              0.5555555555555556,
              "#d8576b"
             ],
             [
              0.6666666666666666,
              "#ed7953"
             ],
             [
              0.7777777777777778,
              "#fb9f3a"
             ],
             [
              0.8888888888888888,
              "#fdca26"
             ],
             [
              1,
              "#f0f921"
             ]
            ],
            "type": "histogram2d"
           }
          ],
          "histogram2dcontour": [
           {
            "colorbar": {
             "outlinewidth": 0,
             "ticks": ""
            },
            "colorscale": [
             [
              0,
              "#0d0887"
             ],
             [
              0.1111111111111111,
              "#46039f"
             ],
             [
              0.2222222222222222,
              "#7201a8"
             ],
             [
              0.3333333333333333,
              "#9c179e"
             ],
             [
              0.4444444444444444,
              "#bd3786"
             ],
             [
              0.5555555555555556,
              "#d8576b"
             ],
             [
              0.6666666666666666,
              "#ed7953"
             ],
             [
              0.7777777777777778,
              "#fb9f3a"
             ],
             [
              0.8888888888888888,
              "#fdca26"
             ],
             [
              1,
              "#f0f921"
             ]
            ],
            "type": "histogram2dcontour"
           }
          ],
          "mesh3d": [
           {
            "colorbar": {
             "outlinewidth": 0,
             "ticks": ""
            },
            "type": "mesh3d"
           }
          ],
          "parcoords": [
           {
            "line": {
             "colorbar": {
              "outlinewidth": 0,
              "ticks": ""
             }
            },
            "type": "parcoords"
           }
          ],
          "pie": [
           {
            "automargin": true,
            "type": "pie"
           }
          ],
          "scatter": [
           {
            "fillpattern": {
             "fillmode": "overlay",
             "size": 10,
             "solidity": 0.2
            },
            "type": "scatter"
           }
          ],
          "scatter3d": [
           {
            "line": {
             "colorbar": {
              "outlinewidth": 0,
              "ticks": ""
             }
            },
            "marker": {
             "colorbar": {
              "outlinewidth": 0,
              "ticks": ""
             }
            },
            "type": "scatter3d"
           }
          ],
          "scattercarpet": [
           {
            "marker": {
             "colorbar": {
              "outlinewidth": 0,
              "ticks": ""
             }
            },
            "type": "scattercarpet"
           }
          ],
          "scattergeo": [
           {
            "marker": {
             "colorbar": {
              "outlinewidth": 0,
              "ticks": ""
             }
            },
            "type": "scattergeo"
           }
          ],
          "scattergl": [
           {
            "marker": {
             "colorbar": {
              "outlinewidth": 0,
              "ticks": ""
             }
            },
            "type": "scattergl"
           }
          ],
          "scattermapbox": [
           {
            "marker": {
             "colorbar": {
              "outlinewidth": 0,
              "ticks": ""
             }
            },
            "type": "scattermapbox"
           }
          ],
          "scatterpolar": [
           {
            "marker": {
             "colorbar": {
              "outlinewidth": 0,
              "ticks": ""
             }
            },
            "type": "scatterpolar"
           }
          ],
          "scatterpolargl": [
           {
            "marker": {
             "colorbar": {
              "outlinewidth": 0,
              "ticks": ""
             }
            },
            "type": "scatterpolargl"
           }
          ],
          "scatterternary": [
           {
            "marker": {
             "colorbar": {
              "outlinewidth": 0,
              "ticks": ""
             }
            },
            "type": "scatterternary"
           }
          ],
          "surface": [
           {
            "colorbar": {
             "outlinewidth": 0,
             "ticks": ""
            },
            "colorscale": [
             [
              0,
              "#0d0887"
             ],
             [
              0.1111111111111111,
              "#46039f"
             ],
             [
              0.2222222222222222,
              "#7201a8"
             ],
             [
              0.3333333333333333,
              "#9c179e"
             ],
             [
              0.4444444444444444,
              "#bd3786"
             ],
             [
              0.5555555555555556,
              "#d8576b"
             ],
             [
              0.6666666666666666,
              "#ed7953"
             ],
             [
              0.7777777777777778,
              "#fb9f3a"
             ],
             [
              0.8888888888888888,
              "#fdca26"
             ],
             [
              1,
              "#f0f921"
             ]
            ],
            "type": "surface"
           }
          ],
          "table": [
           {
            "cells": {
             "fill": {
              "color": "#EBF0F8"
             },
             "line": {
              "color": "white"
             }
            },
            "header": {
             "fill": {
              "color": "#C8D4E3"
             },
             "line": {
              "color": "white"
             }
            },
            "type": "table"
           }
          ]
         },
         "layout": {
          "annotationdefaults": {
           "arrowcolor": "#2a3f5f",
           "arrowhead": 0,
           "arrowwidth": 1
          },
          "autotypenumbers": "strict",
          "coloraxis": {
           "colorbar": {
            "outlinewidth": 0,
            "ticks": ""
           }
          },
          "colorscale": {
           "diverging": [
            [
             0,
             "#8e0152"
            ],
            [
             0.1,
             "#c51b7d"
            ],
            [
             0.2,
             "#de77ae"
            ],
            [
             0.3,
             "#f1b6da"
            ],
            [
             0.4,
             "#fde0ef"
            ],
            [
             0.5,
             "#f7f7f7"
            ],
            [
             0.6,
             "#e6f5d0"
            ],
            [
             0.7,
             "#b8e186"
            ],
            [
             0.8,
             "#7fbc41"
            ],
            [
             0.9,
             "#4d9221"
            ],
            [
             1,
             "#276419"
            ]
           ],
           "sequential": [
            [
             0,
             "#0d0887"
            ],
            [
             0.1111111111111111,
             "#46039f"
            ],
            [
             0.2222222222222222,
             "#7201a8"
            ],
            [
             0.3333333333333333,
             "#9c179e"
            ],
            [
             0.4444444444444444,
             "#bd3786"
            ],
            [
             0.5555555555555556,
             "#d8576b"
            ],
            [
             0.6666666666666666,
             "#ed7953"
            ],
            [
             0.7777777777777778,
             "#fb9f3a"
            ],
            [
             0.8888888888888888,
             "#fdca26"
            ],
            [
             1,
             "#f0f921"
            ]
           ],
           "sequentialminus": [
            [
             0,
             "#0d0887"
            ],
            [
             0.1111111111111111,
             "#46039f"
            ],
            [
             0.2222222222222222,
             "#7201a8"
            ],
            [
             0.3333333333333333,
             "#9c179e"
            ],
            [
             0.4444444444444444,
             "#bd3786"
            ],
            [
             0.5555555555555556,
             "#d8576b"
            ],
            [
             0.6666666666666666,
             "#ed7953"
            ],
            [
             0.7777777777777778,
             "#fb9f3a"
            ],
            [
             0.8888888888888888,
             "#fdca26"
            ],
            [
             1,
             "#f0f921"
            ]
           ]
          },
          "colorway": [
           "#636efa",
           "#EF553B",
           "#00cc96",
           "#ab63fa",
           "#FFA15A",
           "#19d3f3",
           "#FF6692",
           "#B6E880",
           "#FF97FF",
           "#FECB52"
          ],
          "font": {
           "color": "#2a3f5f"
          },
          "geo": {
           "bgcolor": "white",
           "lakecolor": "white",
           "landcolor": "#E5ECF6",
           "showlakes": true,
           "showland": true,
           "subunitcolor": "white"
          },
          "hoverlabel": {
           "align": "left"
          },
          "hovermode": "closest",
          "mapbox": {
           "style": "light"
          },
          "paper_bgcolor": "white",
          "plot_bgcolor": "#E5ECF6",
          "polar": {
           "angularaxis": {
            "gridcolor": "white",
            "linecolor": "white",
            "ticks": ""
           },
           "bgcolor": "#E5ECF6",
           "radialaxis": {
            "gridcolor": "white",
            "linecolor": "white",
            "ticks": ""
           }
          },
          "scene": {
           "xaxis": {
            "backgroundcolor": "#E5ECF6",
            "gridcolor": "white",
            "gridwidth": 2,
            "linecolor": "white",
            "showbackground": true,
            "ticks": "",
            "zerolinecolor": "white"
           },
           "yaxis": {
            "backgroundcolor": "#E5ECF6",
            "gridcolor": "white",
            "gridwidth": 2,
            "linecolor": "white",
            "showbackground": true,
            "ticks": "",
            "zerolinecolor": "white"
           },
           "zaxis": {
            "backgroundcolor": "#E5ECF6",
            "gridcolor": "white",
            "gridwidth": 2,
            "linecolor": "white",
            "showbackground": true,
            "ticks": "",
            "zerolinecolor": "white"
           }
          },
          "shapedefaults": {
           "line": {
            "color": "#2a3f5f"
           }
          },
          "ternary": {
           "aaxis": {
            "gridcolor": "white",
            "linecolor": "white",
            "ticks": ""
           },
           "baxis": {
            "gridcolor": "white",
            "linecolor": "white",
            "ticks": ""
           },
           "bgcolor": "#E5ECF6",
           "caxis": {
            "gridcolor": "white",
            "linecolor": "white",
            "ticks": ""
           }
          },
          "title": {
           "x": 0.05
          },
          "xaxis": {
           "automargin": true,
           "gridcolor": "white",
           "linecolor": "white",
           "ticks": "",
           "title": {
            "standoff": 15
           },
           "zerolinecolor": "white",
           "zerolinewidth": 2
          },
          "yaxis": {
           "automargin": true,
           "gridcolor": "white",
           "linecolor": "white",
           "ticks": "",
           "title": {
            "standoff": 15
           },
           "zerolinecolor": "white",
           "zerolinewidth": 2
          }
         }
        },
        "title": {
         "text": "Distribution of the weight_kg feature for \"Myszki;Bezprzewodowe\" category after fixing values"
        }
       }
      }
     },
     "metadata": {},
     "output_type": "display_data"
    }
   ],
   "source": [
    "fig = go.Figure()\n",
    "\n",
    "fig.add_trace(go.Box(\n",
    "    x=df_products[df_products['category_path'] == 'Myszki;Bezprzewodowe']['weight_kg'], name='weight [kg]'))\n",
    "\n",
    "fig.update_layout(title_text='Distribution of the weight_kg feature for \"Myszki;Bezprzewodowe\" category after fixing values')\n"
   ]
  },
  {
   "cell_type": "code",
   "execution_count": 867,
   "metadata": {},
   "outputs": [
    {
     "data": {
      "application/vnd.plotly.v1+json": {
       "config": {
        "plotlyServerURL": "https://plot.ly"
       },
       "data": [
        {
         "name": "weight [kg]",
         "type": "box",
         "x": [
          19,
          19,
          30,
          30,
          17,
          25,
          20,
          30,
          30,
          25,
          25,
          25,
          25,
          25,
          25,
          19,
          19.8,
          20,
          30,
          21,
          25,
          14,
          0.30000000000000004,
          0.5,
          0.213,
          0.30000000000000004,
          0.2,
          5,
          0.2,
          0.2,
          0.185,
          0.20500000000000002,
          0.115,
          0.322,
          0.336,
          0.17,
          2.06,
          1.04,
          0.34,
          0.17,
          0.241,
          1.12,
          0.195,
          0,
          0.35000000000000003,
          0.38,
          0.22,
          0.063,
          4.02,
          1.58,
          0.24,
          0.025,
          0.018000000000000002,
          0.01,
          0.15,
          0.01,
          0.01,
          1,
          0.15,
          0.15,
          0.01,
          0.01,
          0.06,
          0.01,
          0.2,
          0.01,
          0.2,
          0.2,
          0.01,
          0.2,
          0.1,
          0.01,
          0.01,
          0.01,
          0.2,
          0.01,
          0.01,
          0.30000000000000004,
          0.15,
          0.019,
          0.1,
          0.019,
          0.014,
          0.02,
          0.185,
          0.05,
          0.021,
          0.02,
          0.018000000000000002,
          0.01,
          0.019,
          5,
          5,
          0.26,
          0.055,
          0.41200000000000003,
          2.27,
          0.15,
          1.581,
          1.3599999999999999,
          0.15,
          1.5,
          0.30000000000000004,
          1.49,
          1.33,
          1.6600000000000001,
          1.5390000000000001,
          1.06,
          0.446,
          0.754,
          0.52,
          0.76,
          0.77,
          0.71,
          1.1,
          1.4,
          0.495,
          0.30000000000000004,
          1.72,
          1.1,
          0.15,
          1.72,
          0.58,
          0.15,
          2.2,
          0.56,
          0.9,
          0.52,
          1.1,
          1.32,
          1.8599999999999999,
          0.182,
          0.8,
          1.208,
          1,
          0.189,
          1.11,
          1.4100000000000001,
          1.52,
          2,
          1.75,
          1.98,
          1.08,
          1.1,
          0.6000000000000001,
          0.99,
          1.56,
          0.8300000000000001,
          0.52,
          12.5,
          0,
          0.8,
          1,
          0.88,
          0.58,
          0.85,
          0.78,
          0.68,
          0.379,
          0.92,
          0.049,
          0.4,
          0.04,
          0.77,
          0.1,
          0.32,
          0.6000000000000001,
          0.58,
          0,
          0.45,
          0.78,
          1.06,
          0.857,
          0.45,
          0.2,
          0.52,
          0.7000000000000001,
          0.58,
          0.59,
          0.22,
          0.496,
          0.293,
          0.4,
          0.545,
          0.317,
          0.26,
          0.188,
          0.158,
          0.18,
          0.139,
          0.356,
          1.34,
          18,
          4.14,
          7.53,
          20.4,
          5.8,
          8.72,
          10.9,
          9.6,
          7.8,
          6.8,
          7.8,
          14.1,
          8.1,
          6.5,
          8.4,
          8.1,
          9.12,
          8.9,
          8,
          4,
          9.2,
          5.5,
          10.8,
          6.2,
          8,
          4.7,
          13.9,
          7.9,
          10.6,
          10.5,
          12.3,
          7.8,
          8.3,
          8.4,
          9.3,
          4.9,
          6.1,
          11.9,
          6.42,
          6.2,
          4.87,
          4.8,
          10.4,
          8.89,
          5.5,
          4.2,
          4.5,
          5.1,
          6.1,
          7.5,
          4.25,
          9.8,
          8.7,
          6.4,
          9.9,
          6.1,
          6.47,
          10.7,
          6.59,
          7.8,
          8.3,
          6.11,
          5,
          10,
          5,
          8.53,
          3.65,
          9,
          9.1,
          13.7,
          10.4,
          11.1,
          7.27,
          9.3,
          9.9,
          7.8,
          3.79,
          13.1,
          10,
          6.6,
          10,
          7.5,
          6.4,
          5,
          7.53,
          7.8,
          8.2,
          5.5,
          10.2,
          4.8,
          9.2,
          10,
          6.1,
          16.5,
          6.25,
          13.5,
          12.8,
          10,
          6.2,
          5.71,
          3.7,
          20.5,
          7.2,
          8.88,
          5.41,
          14.3,
          6.3,
          3.26,
          8.2,
          7.4,
          4.28,
          6.55,
          4.7,
          9.6,
          4.04,
          4.82,
          4.11,
          11.86,
          5.94,
          8.5,
          8.5,
          3.58,
          6.9,
          9.3,
          7.6,
          3.7199999999999998,
          7.52,
          2.7,
          3.87,
          0.107,
          0.29,
          0.9,
          0.188,
          0.166,
          0.25,
          0.25,
          0.17,
          0.18,
          0.068,
          0.371,
          0.4,
          0.127,
          0.26,
          0.127,
          0.18,
          0.24,
          0.24,
          0.24,
          0.14,
          0.92,
          0.13,
          0.15,
          0.08,
          0.24,
          0,
          0.12,
          0.43,
          0.9,
          0.39,
          0.09,
          0.32,
          0.1,
          0.13,
          0.126,
          0.099,
          0.13,
          0.26,
          0.23,
          0.333,
          0.334,
          0.1,
          0.224,
          0.16,
          0.133,
          0.157,
          0.19,
          0.182,
          0.39,
          0.182,
          0.23,
          0.20400000000000001,
          0.36,
          0.371,
          0.165,
          0.167,
          0.131,
          0.14,
          0.23500000000000001,
          0.33,
          0.148,
          0.266,
          0.25,
          0.28600000000000003,
          0.1,
          0.1,
          0.13,
          0.18,
          0.105,
          0.08,
          0.101,
          0.26,
          0.106,
          0.1,
          0.13,
          0.14,
          0.18,
          0.06,
          0.06,
          0.099,
          0.147,
          0.125,
          0.125,
          0.065,
          0.14300000000000002,
          0.125,
          0.181,
          0.125,
          0.32,
          0.12,
          0.12,
          0.12,
          0.121,
          0.16,
          0.241,
          0.052,
          0.186,
          0.14200000000000002,
          0.14100000000000001,
          0.215,
          0.18,
          0.212,
          0.07,
          0.21,
          0.18,
          0.4,
          0.26,
          0.07,
          0.12,
          0.185,
          0.17,
          0.22,
          0.1,
          0.161,
          0.1,
          0.2,
          0.13,
          0.12,
          0.213,
          0.30000000000000004,
          0.26,
          0.18,
          0.32,
          0.4,
          0.37,
          0.23,
          0.22,
          0.121,
          0.1,
          0.183,
          0.183,
          0.326,
          0.30000000000000004,
          0.08,
          0.18,
          0.36,
          0.36,
          0.34500000000000003,
          0.31,
          0.30000000000000004,
          0.12,
          0.12,
          0.189,
          0.014,
          0.014,
          0.014,
          0.014,
          0.03,
          0.024,
          0.022,
          0.024,
          0.02,
          0.01,
          0.01,
          0.02,
          0.01,
          0.01,
          0,
          0.015,
          0,
          0.06,
          0,
          0,
          0.02,
          0.057,
          0.008,
          0.008,
          0,
          0,
          0.009000000000000001,
          0,
          0,
          0,
          0.006,
          0.012,
          0.04,
          0.01,
          0.018000000000000002,
          0.017,
          0.009000000000000001,
          0.001,
          0.018000000000000002,
          0.022,
          0.015,
          0.024,
          0.016,
          0.016,
          0.02,
          0.024,
          0.013000000000000001,
          0.025,
          0.015,
          0.023,
          0.023,
          0.001,
          0.02,
          0.019,
          0.04,
          0.012,
          0.02,
          0.019,
          0.02,
          0.025,
          0.018000000000000002,
          0.018000000000000002,
          0.018000000000000002,
          0.02,
          0.001,
          0.001,
          0.015,
          0.02,
          0.02,
          0.015,
          0.025,
          0.02,
          0.02,
          0.15,
          0.052000000000000005,
          0.052000000000000005,
          0.058,
          0.052000000000000005,
          0.052000000000000005,
          0.091,
          0.025,
          0.029,
          0.029,
          0.15,
          0.09,
          0.12,
          0.13,
          0.15,
          0.162,
          0.162,
          0.01,
          0.189,
          0.15,
          0.162,
          0.11800000000000001,
          0.162,
          0.114,
          0.029,
          0.105,
          0.15,
          0.035,
          0.02,
          0.15,
          0.2,
          0.179,
          0.07,
          0.13,
          0.127,
          0.12,
          0.037,
          0.037,
          0.015,
          0.073,
          0.157,
          0.06,
          0.035,
          0.061,
          0.14,
          0.1,
          0.111,
          0.101,
          0.13,
          0.03,
          0.14,
          0.1,
          0.025,
          0.026000000000000002,
          0.025,
          5.6,
          10,
          3.7,
          2,
          1.22,
          6.2,
          2.5,
          1.35,
          0.608,
          0.48,
          0.93,
          0.8,
          0.495,
          0.48,
          0.84,
          0.2,
          0.44,
          0.376,
          0.30000000000000004,
          1,
          8,
          0.332,
          0.24,
          0.30000000000000004,
          0.30000000000000004,
          0.30000000000000004,
          0.30000000000000004,
          0.405,
          0.30000000000000004,
          0.323,
          0.30000000000000004,
          0.242,
          0.304,
          0.6000000000000001,
          0.88,
          0.75,
          0.75,
          0.7000000000000001,
          0.605,
          0.54,
          0.875,
          1.45,
          1.6400000000000001,
          0.58,
          0.98,
          0.741,
          0.658,
          1.38,
          0.43,
          0.68,
          0.68,
          0.30000000000000004,
          2.06,
          1.19,
          0.9400000000000001,
          1.48,
          0.92,
          0.983,
          0.6900000000000001,
          0.624,
          0.9560000000000001
         ]
        }
       ],
       "layout": {
        "template": {
         "data": {
          "bar": [
           {
            "error_x": {
             "color": "#2a3f5f"
            },
            "error_y": {
             "color": "#2a3f5f"
            },
            "marker": {
             "line": {
              "color": "#E5ECF6",
              "width": 0.5
             },
             "pattern": {
              "fillmode": "overlay",
              "size": 10,
              "solidity": 0.2
             }
            },
            "type": "bar"
           }
          ],
          "barpolar": [
           {
            "marker": {
             "line": {
              "color": "#E5ECF6",
              "width": 0.5
             },
             "pattern": {
              "fillmode": "overlay",
              "size": 10,
              "solidity": 0.2
             }
            },
            "type": "barpolar"
           }
          ],
          "carpet": [
           {
            "aaxis": {
             "endlinecolor": "#2a3f5f",
             "gridcolor": "white",
             "linecolor": "white",
             "minorgridcolor": "white",
             "startlinecolor": "#2a3f5f"
            },
            "baxis": {
             "endlinecolor": "#2a3f5f",
             "gridcolor": "white",
             "linecolor": "white",
             "minorgridcolor": "white",
             "startlinecolor": "#2a3f5f"
            },
            "type": "carpet"
           }
          ],
          "choropleth": [
           {
            "colorbar": {
             "outlinewidth": 0,
             "ticks": ""
            },
            "type": "choropleth"
           }
          ],
          "contour": [
           {
            "colorbar": {
             "outlinewidth": 0,
             "ticks": ""
            },
            "colorscale": [
             [
              0,
              "#0d0887"
             ],
             [
              0.1111111111111111,
              "#46039f"
             ],
             [
              0.2222222222222222,
              "#7201a8"
             ],
             [
              0.3333333333333333,
              "#9c179e"
             ],
             [
              0.4444444444444444,
              "#bd3786"
             ],
             [
              0.5555555555555556,
              "#d8576b"
             ],
             [
              0.6666666666666666,
              "#ed7953"
             ],
             [
              0.7777777777777778,
              "#fb9f3a"
             ],
             [
              0.8888888888888888,
              "#fdca26"
             ],
             [
              1,
              "#f0f921"
             ]
            ],
            "type": "contour"
           }
          ],
          "contourcarpet": [
           {
            "colorbar": {
             "outlinewidth": 0,
             "ticks": ""
            },
            "type": "contourcarpet"
           }
          ],
          "heatmap": [
           {
            "colorbar": {
             "outlinewidth": 0,
             "ticks": ""
            },
            "colorscale": [
             [
              0,
              "#0d0887"
             ],
             [
              0.1111111111111111,
              "#46039f"
             ],
             [
              0.2222222222222222,
              "#7201a8"
             ],
             [
              0.3333333333333333,
              "#9c179e"
             ],
             [
              0.4444444444444444,
              "#bd3786"
             ],
             [
              0.5555555555555556,
              "#d8576b"
             ],
             [
              0.6666666666666666,
              "#ed7953"
             ],
             [
              0.7777777777777778,
              "#fb9f3a"
             ],
             [
              0.8888888888888888,
              "#fdca26"
             ],
             [
              1,
              "#f0f921"
             ]
            ],
            "type": "heatmap"
           }
          ],
          "heatmapgl": [
           {
            "colorbar": {
             "outlinewidth": 0,
             "ticks": ""
            },
            "colorscale": [
             [
              0,
              "#0d0887"
             ],
             [
              0.1111111111111111,
              "#46039f"
             ],
             [
              0.2222222222222222,
              "#7201a8"
             ],
             [
              0.3333333333333333,
              "#9c179e"
             ],
             [
              0.4444444444444444,
              "#bd3786"
             ],
             [
              0.5555555555555556,
              "#d8576b"
             ],
             [
              0.6666666666666666,
              "#ed7953"
             ],
             [
              0.7777777777777778,
              "#fb9f3a"
             ],
             [
              0.8888888888888888,
              "#fdca26"
             ],
             [
              1,
              "#f0f921"
             ]
            ],
            "type": "heatmapgl"
           }
          ],
          "histogram": [
           {
            "marker": {
             "pattern": {
              "fillmode": "overlay",
              "size": 10,
              "solidity": 0.2
             }
            },
            "type": "histogram"
           }
          ],
          "histogram2d": [
           {
            "colorbar": {
             "outlinewidth": 0,
             "ticks": ""
            },
            "colorscale": [
             [
              0,
              "#0d0887"
             ],
             [
              0.1111111111111111,
              "#46039f"
             ],
             [
              0.2222222222222222,
              "#7201a8"
             ],
             [
              0.3333333333333333,
              "#9c179e"
             ],
             [
              0.4444444444444444,
              "#bd3786"
             ],
             [
              0.5555555555555556,
              "#d8576b"
             ],
             [
              0.6666666666666666,
              "#ed7953"
             ],
             [
              0.7777777777777778,
              "#fb9f3a"
             ],
             [
              0.8888888888888888,
              "#fdca26"
             ],
             [
              1,
              "#f0f921"
             ]
            ],
            "type": "histogram2d"
           }
          ],
          "histogram2dcontour": [
           {
            "colorbar": {
             "outlinewidth": 0,
             "ticks": ""
            },
            "colorscale": [
             [
              0,
              "#0d0887"
             ],
             [
              0.1111111111111111,
              "#46039f"
             ],
             [
              0.2222222222222222,
              "#7201a8"
             ],
             [
              0.3333333333333333,
              "#9c179e"
             ],
             [
              0.4444444444444444,
              "#bd3786"
             ],
             [
              0.5555555555555556,
              "#d8576b"
             ],
             [
              0.6666666666666666,
              "#ed7953"
             ],
             [
              0.7777777777777778,
              "#fb9f3a"
             ],
             [
              0.8888888888888888,
              "#fdca26"
             ],
             [
              1,
              "#f0f921"
             ]
            ],
            "type": "histogram2dcontour"
           }
          ],
          "mesh3d": [
           {
            "colorbar": {
             "outlinewidth": 0,
             "ticks": ""
            },
            "type": "mesh3d"
           }
          ],
          "parcoords": [
           {
            "line": {
             "colorbar": {
              "outlinewidth": 0,
              "ticks": ""
             }
            },
            "type": "parcoords"
           }
          ],
          "pie": [
           {
            "automargin": true,
            "type": "pie"
           }
          ],
          "scatter": [
           {
            "fillpattern": {
             "fillmode": "overlay",
             "size": 10,
             "solidity": 0.2
            },
            "type": "scatter"
           }
          ],
          "scatter3d": [
           {
            "line": {
             "colorbar": {
              "outlinewidth": 0,
              "ticks": ""
             }
            },
            "marker": {
             "colorbar": {
              "outlinewidth": 0,
              "ticks": ""
             }
            },
            "type": "scatter3d"
           }
          ],
          "scattercarpet": [
           {
            "marker": {
             "colorbar": {
              "outlinewidth": 0,
              "ticks": ""
             }
            },
            "type": "scattercarpet"
           }
          ],
          "scattergeo": [
           {
            "marker": {
             "colorbar": {
              "outlinewidth": 0,
              "ticks": ""
             }
            },
            "type": "scattergeo"
           }
          ],
          "scattergl": [
           {
            "marker": {
             "colorbar": {
              "outlinewidth": 0,
              "ticks": ""
             }
            },
            "type": "scattergl"
           }
          ],
          "scattermapbox": [
           {
            "marker": {
             "colorbar": {
              "outlinewidth": 0,
              "ticks": ""
             }
            },
            "type": "scattermapbox"
           }
          ],
          "scatterpolar": [
           {
            "marker": {
             "colorbar": {
              "outlinewidth": 0,
              "ticks": ""
             }
            },
            "type": "scatterpolar"
           }
          ],
          "scatterpolargl": [
           {
            "marker": {
             "colorbar": {
              "outlinewidth": 0,
              "ticks": ""
             }
            },
            "type": "scatterpolargl"
           }
          ],
          "scatterternary": [
           {
            "marker": {
             "colorbar": {
              "outlinewidth": 0,
              "ticks": ""
             }
            },
            "type": "scatterternary"
           }
          ],
          "surface": [
           {
            "colorbar": {
             "outlinewidth": 0,
             "ticks": ""
            },
            "colorscale": [
             [
              0,
              "#0d0887"
             ],
             [
              0.1111111111111111,
              "#46039f"
             ],
             [
              0.2222222222222222,
              "#7201a8"
             ],
             [
              0.3333333333333333,
              "#9c179e"
             ],
             [
              0.4444444444444444,
              "#bd3786"
             ],
             [
              0.5555555555555556,
              "#d8576b"
             ],
             [
              0.6666666666666666,
              "#ed7953"
             ],
             [
              0.7777777777777778,
              "#fb9f3a"
             ],
             [
              0.8888888888888888,
              "#fdca26"
             ],
             [
              1,
              "#f0f921"
             ]
            ],
            "type": "surface"
           }
          ],
          "table": [
           {
            "cells": {
             "fill": {
              "color": "#EBF0F8"
             },
             "line": {
              "color": "white"
             }
            },
            "header": {
             "fill": {
              "color": "#C8D4E3"
             },
             "line": {
              "color": "white"
             }
            },
            "type": "table"
           }
          ]
         },
         "layout": {
          "annotationdefaults": {
           "arrowcolor": "#2a3f5f",
           "arrowhead": 0,
           "arrowwidth": 1
          },
          "autotypenumbers": "strict",
          "coloraxis": {
           "colorbar": {
            "outlinewidth": 0,
            "ticks": ""
           }
          },
          "colorscale": {
           "diverging": [
            [
             0,
             "#8e0152"
            ],
            [
             0.1,
             "#c51b7d"
            ],
            [
             0.2,
             "#de77ae"
            ],
            [
             0.3,
             "#f1b6da"
            ],
            [
             0.4,
             "#fde0ef"
            ],
            [
             0.5,
             "#f7f7f7"
            ],
            [
             0.6,
             "#e6f5d0"
            ],
            [
             0.7,
             "#b8e186"
            ],
            [
             0.8,
             "#7fbc41"
            ],
            [
             0.9,
             "#4d9221"
            ],
            [
             1,
             "#276419"
            ]
           ],
           "sequential": [
            [
             0,
             "#0d0887"
            ],
            [
             0.1111111111111111,
             "#46039f"
            ],
            [
             0.2222222222222222,
             "#7201a8"
            ],
            [
             0.3333333333333333,
             "#9c179e"
            ],
            [
             0.4444444444444444,
             "#bd3786"
            ],
            [
             0.5555555555555556,
             "#d8576b"
            ],
            [
             0.6666666666666666,
             "#ed7953"
            ],
            [
             0.7777777777777778,
             "#fb9f3a"
            ],
            [
             0.8888888888888888,
             "#fdca26"
            ],
            [
             1,
             "#f0f921"
            ]
           ],
           "sequentialminus": [
            [
             0,
             "#0d0887"
            ],
            [
             0.1111111111111111,
             "#46039f"
            ],
            [
             0.2222222222222222,
             "#7201a8"
            ],
            [
             0.3333333333333333,
             "#9c179e"
            ],
            [
             0.4444444444444444,
             "#bd3786"
            ],
            [
             0.5555555555555556,
             "#d8576b"
            ],
            [
             0.6666666666666666,
             "#ed7953"
            ],
            [
             0.7777777777777778,
             "#fb9f3a"
            ],
            [
             0.8888888888888888,
             "#fdca26"
            ],
            [
             1,
             "#f0f921"
            ]
           ]
          },
          "colorway": [
           "#636efa",
           "#EF553B",
           "#00cc96",
           "#ab63fa",
           "#FFA15A",
           "#19d3f3",
           "#FF6692",
           "#B6E880",
           "#FF97FF",
           "#FECB52"
          ],
          "font": {
           "color": "#2a3f5f"
          },
          "geo": {
           "bgcolor": "white",
           "lakecolor": "white",
           "landcolor": "#E5ECF6",
           "showlakes": true,
           "showland": true,
           "subunitcolor": "white"
          },
          "hoverlabel": {
           "align": "left"
          },
          "hovermode": "closest",
          "mapbox": {
           "style": "light"
          },
          "paper_bgcolor": "white",
          "plot_bgcolor": "#E5ECF6",
          "polar": {
           "angularaxis": {
            "gridcolor": "white",
            "linecolor": "white",
            "ticks": ""
           },
           "bgcolor": "#E5ECF6",
           "radialaxis": {
            "gridcolor": "white",
            "linecolor": "white",
            "ticks": ""
           }
          },
          "scene": {
           "xaxis": {
            "backgroundcolor": "#E5ECF6",
            "gridcolor": "white",
            "gridwidth": 2,
            "linecolor": "white",
            "showbackground": true,
            "ticks": "",
            "zerolinecolor": "white"
           },
           "yaxis": {
            "backgroundcolor": "#E5ECF6",
            "gridcolor": "white",
            "gridwidth": 2,
            "linecolor": "white",
            "showbackground": true,
            "ticks": "",
            "zerolinecolor": "white"
           },
           "zaxis": {
            "backgroundcolor": "#E5ECF6",
            "gridcolor": "white",
            "gridwidth": 2,
            "linecolor": "white",
            "showbackground": true,
            "ticks": "",
            "zerolinecolor": "white"
           }
          },
          "shapedefaults": {
           "line": {
            "color": "#2a3f5f"
           }
          },
          "ternary": {
           "aaxis": {
            "gridcolor": "white",
            "linecolor": "white",
            "ticks": ""
           },
           "baxis": {
            "gridcolor": "white",
            "linecolor": "white",
            "ticks": ""
           },
           "bgcolor": "#E5ECF6",
           "caxis": {
            "gridcolor": "white",
            "linecolor": "white",
            "ticks": ""
           }
          },
          "title": {
           "x": 0.05
          },
          "xaxis": {
           "automargin": true,
           "gridcolor": "white",
           "linecolor": "white",
           "ticks": "",
           "title": {
            "standoff": 15
           },
           "zerolinecolor": "white",
           "zerolinewidth": 2
          },
          "yaxis": {
           "automargin": true,
           "gridcolor": "white",
           "linecolor": "white",
           "ticks": "",
           "title": {
            "standoff": 15
           },
           "zerolinecolor": "white",
           "zerolinewidth": 2
          }
         }
        },
        "title": {
         "text": "Distribution of the weight_kg feature after fixing values"
        }
       }
      }
     },
     "metadata": {},
     "output_type": "display_data"
    }
   ],
   "source": [
    "fig = go.Figure()\n",
    "\n",
    "fig.add_trace(go.Box(x=df_products['weight_kg'], name='weight [kg]'))\n",
    "\n",
    "fig.update_layout(title_text='Distribution of the weight_kg feature after fixing values')\n"
   ]
  },
  {
   "cell_type": "markdown",
   "metadata": {},
   "source": [
    "## Połączenie danych"
   ]
  },
  {
   "cell_type": "markdown",
   "metadata": {},
   "source": [
    "Filtracja `sesji`, w których nie nastąpił zakup lub zwrot\n",
    "\n",
    "&darr;\n",
    "\n",
    "Połączenie wybranych `sesji` z `produktami`\n",
    "\n",
    "&darr;\n",
    "\n",
    "Połączenie z `uzytkownikami`\n",
    "\n",
    "&darr;\n",
    "\n",
    "Połączenie z `dostawami`"
   ]
  },
  {
   "cell_type": "code",
   "execution_count": 868,
   "metadata": {},
   "outputs": [
    {
     "data": {
      "text/html": [
       "<div>\n",
       "<style scoped>\n",
       "    .dataframe tbody tr th:only-of-type {\n",
       "        vertical-align: middle;\n",
       "    }\n",
       "\n",
       "    .dataframe tbody tr th {\n",
       "        vertical-align: top;\n",
       "    }\n",
       "\n",
       "    .dataframe thead th {\n",
       "        text-align: right;\n",
       "    }\n",
       "</style>\n",
       "<table border=\"1\" class=\"dataframe\">\n",
       "  <thead>\n",
       "    <tr style=\"text-align: right;\">\n",
       "      <th></th>\n",
       "      <th>session_id</th>\n",
       "      <th>timestamp</th>\n",
       "      <th>user_id</th>\n",
       "      <th>product_id</th>\n",
       "      <th>event_type</th>\n",
       "      <th>offered_discount</th>\n",
       "      <th>purchase_id</th>\n",
       "    </tr>\n",
       "  </thead>\n",
       "  <tbody>\n",
       "    <tr>\n",
       "      <th>6</th>\n",
       "      <td>124</td>\n",
       "      <td>2020-01-25 19:40:37.000000</td>\n",
       "      <td>102</td>\n",
       "      <td>1546</td>\n",
       "      <td>BUY_PRODUCT</td>\n",
       "      <td>5.0</td>\n",
       "      <td>20001.0</td>\n",
       "    </tr>\n",
       "    <tr>\n",
       "      <th>7</th>\n",
       "      <td>125</td>\n",
       "      <td>2020-02-08 09:00:56.623825</td>\n",
       "      <td>102</td>\n",
       "      <td>1546</td>\n",
       "      <td>RETURN_PRODUCT</td>\n",
       "      <td>NaN</td>\n",
       "      <td>20001.0</td>\n",
       "    </tr>\n",
       "    <tr>\n",
       "      <th>14</th>\n",
       "      <td>126</td>\n",
       "      <td>2019-12-29 16:12:47.000000</td>\n",
       "      <td>102</td>\n",
       "      <td>1616</td>\n",
       "      <td>BUY_PRODUCT</td>\n",
       "      <td>5.0</td>\n",
       "      <td>20002.0</td>\n",
       "    </tr>\n",
       "    <tr>\n",
       "      <th>16</th>\n",
       "      <td>127</td>\n",
       "      <td>2020-12-30 07:28:26.000000</td>\n",
       "      <td>102</td>\n",
       "      <td>1151</td>\n",
       "      <td>BUY_PRODUCT</td>\n",
       "      <td>0.0</td>\n",
       "      <td>20003.0</td>\n",
       "    </tr>\n",
       "    <tr>\n",
       "      <th>20</th>\n",
       "      <td>128</td>\n",
       "      <td>2020-04-13 06:30:14.000000</td>\n",
       "      <td>102</td>\n",
       "      <td>1633</td>\n",
       "      <td>BUY_PRODUCT</td>\n",
       "      <td>5.0</td>\n",
       "      <td>20004.0</td>\n",
       "    </tr>\n",
       "  </tbody>\n",
       "</table>\n",
       "</div>"
      ],
      "text/plain": [
       "    session_id                  timestamp  user_id  product_id  \\\n",
       "6          124 2020-01-25 19:40:37.000000      102        1546   \n",
       "7          125 2020-02-08 09:00:56.623825      102        1546   \n",
       "14         126 2019-12-29 16:12:47.000000      102        1616   \n",
       "16         127 2020-12-30 07:28:26.000000      102        1151   \n",
       "20         128 2020-04-13 06:30:14.000000      102        1633   \n",
       "\n",
       "        event_type  offered_discount  purchase_id  \n",
       "6      BUY_PRODUCT               5.0      20001.0  \n",
       "7   RETURN_PRODUCT               NaN      20001.0  \n",
       "14     BUY_PRODUCT               5.0      20002.0  \n",
       "16     BUY_PRODUCT               0.0      20003.0  \n",
       "20     BUY_PRODUCT               5.0      20004.0  "
      ]
     },
     "execution_count": 868,
     "metadata": {},
     "output_type": "execute_result"
    }
   ],
   "source": [
    "df_sessions_filtered = df_sessions[~df_sessions['purchase_id'].isna()]\n",
    "\n",
    "df_sessions_filtered.head()"
   ]
  },
  {
   "cell_type": "code",
   "execution_count": 869,
   "metadata": {},
   "outputs": [
    {
     "data": {
      "text/plain": [
       "((15859, 7), (653, 7), (400, 4), (14198, 4))"
      ]
     },
     "execution_count": 869,
     "metadata": {},
     "output_type": "execute_result"
    }
   ],
   "source": [
    "df_sessions_filtered.shape, df_products.shape, df_users.shape, df_deliveries.shape\n"
   ]
  },
  {
   "cell_type": "code",
   "execution_count": 870,
   "metadata": {},
   "outputs": [
    {
     "data": {
      "text/plain": [
       "(   session_id                  timestamp  user_id  product_id      event_type  \\\n",
       " 0         124 2020-01-25 19:40:37.000000      102        1546     BUY_PRODUCT   \n",
       " 1         125 2020-02-08 09:00:56.623825      102        1546  RETURN_PRODUCT   \n",
       " 2         126 2019-12-29 16:12:47.000000      102        1616     BUY_PRODUCT   \n",
       " 3         127 2020-12-30 07:28:26.000000      102        1151     BUY_PRODUCT   \n",
       " 4         128 2020-04-13 06:30:14.000000      102        1633     BUY_PRODUCT   \n",
       " \n",
       "    offered_discount  purchase_id  \\\n",
       " 0               5.0      20001.0   \n",
       " 1               NaN      20001.0   \n",
       " 2               5.0      20002.0   \n",
       " 3               0.0      20003.0   \n",
       " 4               5.0      20004.0   \n",
       " \n",
       "                                     product_name  \\\n",
       " 0             Pamięć RAM Goodram DDR4 16 GB 3600   \n",
       " 1             Pamięć RAM Goodram DDR4 16 GB 3600   \n",
       " 2  Pad bezprzewodowy Esperanza EGG108G GLADIATOR   \n",
       " 3          Komputer stacjonarny Dell Vostro 3888   \n",
       " 4                                 Logitech MK470   \n",
       " \n",
       "                             category_path   price      brand  weight_kg  \\\n",
       " 0       Podzespoły komputerowe;Pamięć RAM  278.99    Goodram      0.029   \n",
       " 1       Podzespoły komputerowe;Pamięć RAM  278.99    Goodram      0.029   \n",
       " 2              Urządzenia wskazujące;Pady   29.19  Esperanza      0.300   \n",
       " 3         Komputery;Komputery stacjonarne  629.74       Dell      0.000   \n",
       " 4  Zestaw klawiatura i mysz;Bezprzewodowe  197.00   Logitech      0.875   \n",
       " \n",
       "                                  optional_attributes                name  \\\n",
       " 0                                {'color': 'czarny'}  Sebastian Młyńczak   \n",
       " 1                                {'color': 'czarny'}  Sebastian Młyńczak   \n",
       " 2                                {'color': 'czarny'}  Sebastian Młyńczak   \n",
       " 3  {'depth_cm': '35.60', 'color': 'czarny', 'heig...  Sebastian Młyńczak   \n",
       " 4                                                 {}  Sebastian Młyńczak   \n",
       " \n",
       "        city            street   purchase_timestamp   delivery_timestamp  \\\n",
       " 0  Szczecin  pl. Pałacowa 584  2020-01-25T19:40:37  2020-01-30T19:40:44   \n",
       " 1  Szczecin  pl. Pałacowa 584  2020-01-25T19:40:37  2020-01-30T19:40:44   \n",
       " 2  Szczecin  pl. Pałacowa 584  2019-12-29T16:12:47  2019-12-31T16:13:40   \n",
       " 3  Szczecin  pl. Pałacowa 584  2020-12-30T07:28:26  2021-01-01T07:29:45   \n",
       " 4  Szczecin  pl. Pałacowa 584  2020-04-13T06:30:14  2020-04-16T06:33:45   \n",
       " \n",
       "    delivery_company  \n",
       " 0               516  \n",
       " 1               516  \n",
       " 2               516  \n",
       " 3               516  \n",
       " 4               620  ,\n",
       " (15859, 19))"
      ]
     },
     "execution_count": 870,
     "metadata": {},
     "output_type": "execute_result"
    }
   ],
   "source": [
    "df_concat = pd.merge(left=df_sessions_filtered,\n",
    "                     right=df_products, on='product_id', how='left')\n",
    "df_concat = pd.merge(left=df_concat, right=df_users, on='user_id', how='left')\n",
    "df_concat = pd.merge(left=df_concat, right=df_deliveries,\n",
    "                     on='purchase_id', how='left')\n",
    "\n",
    "df_concat.head(), df_concat.shape"
   ]
  },
  {
   "cell_type": "markdown",
   "metadata": {},
   "source": [
    "Sprawdzenie poprawności łączenia danych"
   ]
  },
  {
   "cell_type": "code",
   "execution_count": 871,
   "metadata": {},
   "outputs": [
    {
     "data": {
      "text/plain": [
       "session_id                0\n",
       "timestamp                 0\n",
       "user_id                   0\n",
       "product_id                0\n",
       "event_type                0\n",
       "offered_discount       1661\n",
       "purchase_id               0\n",
       "product_name              0\n",
       "category_path             0\n",
       "price                     0\n",
       "brand                     0\n",
       "weight_kg                 0\n",
       "optional_attributes       0\n",
       "name                      0\n",
       "city                      0\n",
       "street                    0\n",
       "purchase_timestamp        0\n",
       "delivery_timestamp        0\n",
       "delivery_company          0\n",
       "dtype: int64"
      ]
     },
     "execution_count": 871,
     "metadata": {},
     "output_type": "execute_result"
    }
   ],
   "source": [
    "df_concat.isna().sum()"
   ]
  },
  {
   "cell_type": "markdown",
   "metadata": {},
   "source": [
    "Wszystko przebiegło pomyślnie"
   ]
  },
  {
   "cell_type": "markdown",
   "metadata": {},
   "source": [
    "## Filtracja wybranych danych do modelu"
   ]
  },
  {
   "cell_type": "markdown",
   "metadata": {},
   "source": [
    "### Wstępne dane wejściowe:\n",
    "*   Sessions:\n",
    "> *   timestamp\n",
    "> *   event_type\n",
    "*   Products:\n",
    "> *   category_path\n",
    "> *   price\n",
    "> *   brand\n",
    "> *   weight_kg\n",
    "*   Users:\n",
    "> *   city\n",
    "\n",
    "Dodatkowe dane wejściowe, które zostaną wykorzystane w przypadku nie uzyskania zadowalających wyników przez model:\n",
    "*   Products:\n",
    "> *   product_id\n",
    "*   Users:\n",
    "> *   user_id"
   ]
  },
  {
   "cell_type": "code",
   "execution_count": 872,
   "metadata": {},
   "outputs": [
    {
     "data": {
      "text/plain": [
       "Index(['session_id', 'timestamp', 'user_id', 'product_id', 'event_type',\n",
       "       'offered_discount', 'purchase_id', 'product_name', 'category_path',\n",
       "       'price', 'brand', 'weight_kg', 'optional_attributes', 'name', 'city',\n",
       "       'street', 'purchase_timestamp', 'delivery_timestamp',\n",
       "       'delivery_company'],\n",
       "      dtype='object')"
      ]
     },
     "execution_count": 872,
     "metadata": {},
     "output_type": "execute_result"
    }
   ],
   "source": [
    "df_concat.columns\n"
   ]
  },
  {
   "cell_type": "code",
   "execution_count": 873,
   "metadata": {},
   "outputs": [
    {
     "data": {
      "text/html": [
       "<div>\n",
       "<style scoped>\n",
       "    .dataframe tbody tr th:only-of-type {\n",
       "        vertical-align: middle;\n",
       "    }\n",
       "\n",
       "    .dataframe tbody tr th {\n",
       "        vertical-align: top;\n",
       "    }\n",
       "\n",
       "    .dataframe thead th {\n",
       "        text-align: right;\n",
       "    }\n",
       "</style>\n",
       "<table border=\"1\" class=\"dataframe\">\n",
       "  <thead>\n",
       "    <tr style=\"text-align: right;\">\n",
       "      <th></th>\n",
       "      <th>timestamp</th>\n",
       "      <th>event_type</th>\n",
       "      <th>category_path</th>\n",
       "      <th>price</th>\n",
       "      <th>brand</th>\n",
       "      <th>weight_kg</th>\n",
       "      <th>city</th>\n",
       "      <th>purchase_timestamp</th>\n",
       "      <th>delivery_timestamp</th>\n",
       "    </tr>\n",
       "  </thead>\n",
       "  <tbody>\n",
       "    <tr>\n",
       "      <th>0</th>\n",
       "      <td>2020-01-25 19:40:37.000000</td>\n",
       "      <td>BUY_PRODUCT</td>\n",
       "      <td>Podzespoły komputerowe;Pamięć RAM</td>\n",
       "      <td>278.99</td>\n",
       "      <td>Goodram</td>\n",
       "      <td>0.029</td>\n",
       "      <td>Szczecin</td>\n",
       "      <td>2020-01-25T19:40:37</td>\n",
       "      <td>2020-01-30T19:40:44</td>\n",
       "    </tr>\n",
       "    <tr>\n",
       "      <th>1</th>\n",
       "      <td>2020-02-08 09:00:56.623825</td>\n",
       "      <td>RETURN_PRODUCT</td>\n",
       "      <td>Podzespoły komputerowe;Pamięć RAM</td>\n",
       "      <td>278.99</td>\n",
       "      <td>Goodram</td>\n",
       "      <td>0.029</td>\n",
       "      <td>Szczecin</td>\n",
       "      <td>2020-01-25T19:40:37</td>\n",
       "      <td>2020-01-30T19:40:44</td>\n",
       "    </tr>\n",
       "    <tr>\n",
       "      <th>2</th>\n",
       "      <td>2019-12-29 16:12:47.000000</td>\n",
       "      <td>BUY_PRODUCT</td>\n",
       "      <td>Urządzenia wskazujące;Pady</td>\n",
       "      <td>29.19</td>\n",
       "      <td>Esperanza</td>\n",
       "      <td>0.300</td>\n",
       "      <td>Szczecin</td>\n",
       "      <td>2019-12-29T16:12:47</td>\n",
       "      <td>2019-12-31T16:13:40</td>\n",
       "    </tr>\n",
       "    <tr>\n",
       "      <th>3</th>\n",
       "      <td>2020-12-30 07:28:26.000000</td>\n",
       "      <td>BUY_PRODUCT</td>\n",
       "      <td>Komputery;Komputery stacjonarne</td>\n",
       "      <td>629.74</td>\n",
       "      <td>Dell</td>\n",
       "      <td>0.000</td>\n",
       "      <td>Szczecin</td>\n",
       "      <td>2020-12-30T07:28:26</td>\n",
       "      <td>2021-01-01T07:29:45</td>\n",
       "    </tr>\n",
       "    <tr>\n",
       "      <th>4</th>\n",
       "      <td>2020-04-13 06:30:14.000000</td>\n",
       "      <td>BUY_PRODUCT</td>\n",
       "      <td>Zestaw klawiatura i mysz;Bezprzewodowe</td>\n",
       "      <td>197.00</td>\n",
       "      <td>Logitech</td>\n",
       "      <td>0.875</td>\n",
       "      <td>Szczecin</td>\n",
       "      <td>2020-04-13T06:30:14</td>\n",
       "      <td>2020-04-16T06:33:45</td>\n",
       "    </tr>\n",
       "  </tbody>\n",
       "</table>\n",
       "</div>"
      ],
      "text/plain": [
       "                   timestamp      event_type  \\\n",
       "0 2020-01-25 19:40:37.000000     BUY_PRODUCT   \n",
       "1 2020-02-08 09:00:56.623825  RETURN_PRODUCT   \n",
       "2 2019-12-29 16:12:47.000000     BUY_PRODUCT   \n",
       "3 2020-12-30 07:28:26.000000     BUY_PRODUCT   \n",
       "4 2020-04-13 06:30:14.000000     BUY_PRODUCT   \n",
       "\n",
       "                            category_path   price      brand  weight_kg  \\\n",
       "0       Podzespoły komputerowe;Pamięć RAM  278.99    Goodram      0.029   \n",
       "1       Podzespoły komputerowe;Pamięć RAM  278.99    Goodram      0.029   \n",
       "2              Urządzenia wskazujące;Pady   29.19  Esperanza      0.300   \n",
       "3         Komputery;Komputery stacjonarne  629.74       Dell      0.000   \n",
       "4  Zestaw klawiatura i mysz;Bezprzewodowe  197.00   Logitech      0.875   \n",
       "\n",
       "       city   purchase_timestamp   delivery_timestamp  \n",
       "0  Szczecin  2020-01-25T19:40:37  2020-01-30T19:40:44  \n",
       "1  Szczecin  2020-01-25T19:40:37  2020-01-30T19:40:44  \n",
       "2  Szczecin  2019-12-29T16:12:47  2019-12-31T16:13:40  \n",
       "3  Szczecin  2020-12-30T07:28:26  2021-01-01T07:29:45  \n",
       "4  Szczecin  2020-04-13T06:30:14  2020-04-16T06:33:45  "
      ]
     },
     "execution_count": 873,
     "metadata": {},
     "output_type": "execute_result"
    }
   ],
   "source": [
    "chosen_columns = ['timestamp', 'event_type', 'category_path', 'price', 'brand',\n",
    "                  'weight_kg', 'city', 'purchase_timestamp', 'delivery_timestamp']\n",
    "\n",
    "df_concat_chosen = df_concat[chosen_columns]\n",
    "df_concat_chosen.head()\n"
   ]
  },
  {
   "cell_type": "markdown",
   "metadata": {},
   "source": [
    "Transformacja (zaokrąglenie) timestampów na dni"
   ]
  },
  {
   "cell_type": "code",
   "execution_count": 874,
   "metadata": {},
   "outputs": [
    {
     "name": "stdout",
     "output_type": "stream",
     "text": [
      "<class 'pandas.core.frame.DataFrame'>\n",
      "Int64Index: 15859 entries, 0 to 15858\n",
      "Data columns (total 9 columns):\n",
      " #   Column              Non-Null Count  Dtype  \n",
      "---  ------              --------------  -----  \n",
      " 0   timestamp           15859 non-null  object \n",
      " 1   event_type          15859 non-null  object \n",
      " 2   category_path       15859 non-null  object \n",
      " 3   price               15859 non-null  float64\n",
      " 4   brand               15859 non-null  object \n",
      " 5   weight_kg           15859 non-null  float64\n",
      " 6   city                15859 non-null  object \n",
      " 7   purchase_timestamp  15859 non-null  object \n",
      " 8   delivery_timestamp  15859 non-null  object \n",
      "dtypes: float64(2), object(7)\n",
      "memory usage: 1.2+ MB\n"
     ]
    }
   ],
   "source": [
    "df_concat_chosen[['timestamp', 'purchase_timestamp', 'delivery_timestamp']] = df_concat_chosen[['timestamp', 'purchase_timestamp', 'delivery_timestamp']].apply(\n",
    "    pd.to_datetime).apply(lambda x: x.dt.date)\n",
    "\n",
    "df_concat_chosen.info()\n"
   ]
  },
  {
   "cell_type": "code",
   "execution_count": 875,
   "metadata": {},
   "outputs": [
    {
     "data": {
      "text/html": [
       "<div>\n",
       "<style scoped>\n",
       "    .dataframe tbody tr th:only-of-type {\n",
       "        vertical-align: middle;\n",
       "    }\n",
       "\n",
       "    .dataframe tbody tr th {\n",
       "        vertical-align: top;\n",
       "    }\n",
       "\n",
       "    .dataframe thead th {\n",
       "        text-align: right;\n",
       "    }\n",
       "</style>\n",
       "<table border=\"1\" class=\"dataframe\">\n",
       "  <thead>\n",
       "    <tr style=\"text-align: right;\">\n",
       "      <th></th>\n",
       "      <th>timestamp</th>\n",
       "      <th>event_type</th>\n",
       "      <th>category_path</th>\n",
       "      <th>price</th>\n",
       "      <th>brand</th>\n",
       "      <th>weight_kg</th>\n",
       "      <th>city</th>\n",
       "      <th>purchase_timestamp</th>\n",
       "      <th>delivery_timestamp</th>\n",
       "    </tr>\n",
       "  </thead>\n",
       "  <tbody>\n",
       "    <tr>\n",
       "      <th>0</th>\n",
       "      <td>2020-01-25</td>\n",
       "      <td>BUY_PRODUCT</td>\n",
       "      <td>Podzespoły komputerowe;Pamięć RAM</td>\n",
       "      <td>278.99</td>\n",
       "      <td>Goodram</td>\n",
       "      <td>0.029</td>\n",
       "      <td>Szczecin</td>\n",
       "      <td>2020-01-25</td>\n",
       "      <td>2020-01-30</td>\n",
       "    </tr>\n",
       "    <tr>\n",
       "      <th>1</th>\n",
       "      <td>2020-02-08</td>\n",
       "      <td>RETURN_PRODUCT</td>\n",
       "      <td>Podzespoły komputerowe;Pamięć RAM</td>\n",
       "      <td>278.99</td>\n",
       "      <td>Goodram</td>\n",
       "      <td>0.029</td>\n",
       "      <td>Szczecin</td>\n",
       "      <td>2020-01-25</td>\n",
       "      <td>2020-01-30</td>\n",
       "    </tr>\n",
       "    <tr>\n",
       "      <th>2</th>\n",
       "      <td>2019-12-29</td>\n",
       "      <td>BUY_PRODUCT</td>\n",
       "      <td>Urządzenia wskazujące;Pady</td>\n",
       "      <td>29.19</td>\n",
       "      <td>Esperanza</td>\n",
       "      <td>0.300</td>\n",
       "      <td>Szczecin</td>\n",
       "      <td>2019-12-29</td>\n",
       "      <td>2019-12-31</td>\n",
       "    </tr>\n",
       "    <tr>\n",
       "      <th>3</th>\n",
       "      <td>2020-12-30</td>\n",
       "      <td>BUY_PRODUCT</td>\n",
       "      <td>Komputery;Komputery stacjonarne</td>\n",
       "      <td>629.74</td>\n",
       "      <td>Dell</td>\n",
       "      <td>0.000</td>\n",
       "      <td>Szczecin</td>\n",
       "      <td>2020-12-30</td>\n",
       "      <td>2021-01-01</td>\n",
       "    </tr>\n",
       "    <tr>\n",
       "      <th>4</th>\n",
       "      <td>2020-04-13</td>\n",
       "      <td>BUY_PRODUCT</td>\n",
       "      <td>Zestaw klawiatura i mysz;Bezprzewodowe</td>\n",
       "      <td>197.00</td>\n",
       "      <td>Logitech</td>\n",
       "      <td>0.875</td>\n",
       "      <td>Szczecin</td>\n",
       "      <td>2020-04-13</td>\n",
       "      <td>2020-04-16</td>\n",
       "    </tr>\n",
       "  </tbody>\n",
       "</table>\n",
       "</div>"
      ],
      "text/plain": [
       "    timestamp      event_type                           category_path   price  \\\n",
       "0  2020-01-25     BUY_PRODUCT       Podzespoły komputerowe;Pamięć RAM  278.99   \n",
       "1  2020-02-08  RETURN_PRODUCT       Podzespoły komputerowe;Pamięć RAM  278.99   \n",
       "2  2019-12-29     BUY_PRODUCT              Urządzenia wskazujące;Pady   29.19   \n",
       "3  2020-12-30     BUY_PRODUCT         Komputery;Komputery stacjonarne  629.74   \n",
       "4  2020-04-13     BUY_PRODUCT  Zestaw klawiatura i mysz;Bezprzewodowe  197.00   \n",
       "\n",
       "       brand  weight_kg      city purchase_timestamp delivery_timestamp  \n",
       "0    Goodram      0.029  Szczecin         2020-01-25         2020-01-30  \n",
       "1    Goodram      0.029  Szczecin         2020-01-25         2020-01-30  \n",
       "2  Esperanza      0.300  Szczecin         2019-12-29         2019-12-31  \n",
       "3       Dell      0.000  Szczecin         2020-12-30         2021-01-01  \n",
       "4   Logitech      0.875  Szczecin         2020-04-13         2020-04-16  "
      ]
     },
     "execution_count": 875,
     "metadata": {},
     "output_type": "execute_result"
    }
   ],
   "source": [
    "df_concat_chosen.head()\n"
   ]
  },
  {
   "cell_type": "markdown",
   "metadata": {},
   "source": [
    "### Czas dostawy w przypadku kupna"
   ]
  },
  {
   "cell_type": "code",
   "execution_count": 876,
   "metadata": {},
   "outputs": [
    {
     "data": {
      "image/png": "[encoded data removed]",
      "text/plain": [
       "<Figure size 576x396 with 1 Axes>"
      ]
     },
     "metadata": {},
     "output_type": "display_data"
    },
    {
     "name": "stdout",
     "output_type": "stream",
     "text": [
      "4    4003\n",
      "5    3995\n",
      "2    3963\n",
      "3    3888\n",
      "6      10\n",
      "dtype: int64\n"
     ]
    }
   ],
   "source": [
    "delivery_days = (df_concat_chosen['delivery_timestamp'] - df_concat_chosen['purchase_timestamp']).dt.days\n",
    "plt.bar(delivery_days.value_counts().keys(), delivery_days.value_counts())\n",
    "\n",
    "plt.xlabel('Days')\n",
    "plt.ylabel('Count')\n",
    "plt.title(\"Delivery time\")\n",
    "plt.show()\n",
    "\n",
    "print(delivery_days.value_counts())\n"
   ]
  },
  {
   "cell_type": "code",
   "execution_count": 877,
   "metadata": {},
   "outputs": [
    {
     "name": "stdout",
     "output_type": "stream",
     "text": [
      "Median delivery days: 4.0\n"
     ]
    }
   ],
   "source": [
    "median_delivery_days = np.median(delivery_days)\n",
    "print(f'Median delivery days: {median_delivery_days}')\n"
   ]
  },
  {
   "cell_type": "markdown",
   "metadata": {},
   "source": [
    "Powyzsza wartość zostanie wykorzystana w celu oszacowania ilości zwrotów przychodzącychh do magazynu dango dnia"
   ]
  },
  {
   "cell_type": "code",
   "execution_count": 878,
   "metadata": {},
   "outputs": [
    {
     "data": {
      "text/html": [
       "<div>\n",
       "<style scoped>\n",
       "    .dataframe tbody tr th:only-of-type {\n",
       "        vertical-align: middle;\n",
       "    }\n",
       "\n",
       "    .dataframe tbody tr th {\n",
       "        vertical-align: top;\n",
       "    }\n",
       "\n",
       "    .dataframe thead th {\n",
       "        text-align: right;\n",
       "    }\n",
       "</style>\n",
       "<table border=\"1\" class=\"dataframe\">\n",
       "  <thead>\n",
       "    <tr style=\"text-align: right;\">\n",
       "      <th></th>\n",
       "      <th>timestamp</th>\n",
       "      <th>event_type</th>\n",
       "      <th>category_path</th>\n",
       "      <th>price</th>\n",
       "      <th>brand</th>\n",
       "      <th>weight_kg</th>\n",
       "      <th>city</th>\n",
       "      <th>purchase_timestamp</th>\n",
       "      <th>delivery_timestamp</th>\n",
       "    </tr>\n",
       "  </thead>\n",
       "  <tbody>\n",
       "    <tr>\n",
       "      <th>0</th>\n",
       "      <td>2020-01-25</td>\n",
       "      <td>BUY_PRODUCT</td>\n",
       "      <td>Podzespoły komputerowe;Pamięć RAM</td>\n",
       "      <td>278.99</td>\n",
       "      <td>Goodram</td>\n",
       "      <td>0.029</td>\n",
       "      <td>Szczecin</td>\n",
       "      <td>2020-01-25</td>\n",
       "      <td>2020-01-30</td>\n",
       "    </tr>\n",
       "    <tr>\n",
       "      <th>1</th>\n",
       "      <td>2020-02-08</td>\n",
       "      <td>RETURN_PRODUCT</td>\n",
       "      <td>Podzespoły komputerowe;Pamięć RAM</td>\n",
       "      <td>278.99</td>\n",
       "      <td>Goodram</td>\n",
       "      <td>0.029</td>\n",
       "      <td>Szczecin</td>\n",
       "      <td>2020-01-25</td>\n",
       "      <td>2020-01-30</td>\n",
       "    </tr>\n",
       "    <tr>\n",
       "      <th>2</th>\n",
       "      <td>2019-12-29</td>\n",
       "      <td>BUY_PRODUCT</td>\n",
       "      <td>Urządzenia wskazujące;Pady</td>\n",
       "      <td>29.19</td>\n",
       "      <td>Esperanza</td>\n",
       "      <td>0.300</td>\n",
       "      <td>Szczecin</td>\n",
       "      <td>2019-12-29</td>\n",
       "      <td>2019-12-31</td>\n",
       "    </tr>\n",
       "    <tr>\n",
       "      <th>3</th>\n",
       "      <td>2020-12-30</td>\n",
       "      <td>BUY_PRODUCT</td>\n",
       "      <td>Komputery;Komputery stacjonarne</td>\n",
       "      <td>629.74</td>\n",
       "      <td>Dell</td>\n",
       "      <td>0.000</td>\n",
       "      <td>Szczecin</td>\n",
       "      <td>2020-12-30</td>\n",
       "      <td>2021-01-01</td>\n",
       "    </tr>\n",
       "    <tr>\n",
       "      <th>4</th>\n",
       "      <td>2020-04-13</td>\n",
       "      <td>BUY_PRODUCT</td>\n",
       "      <td>Zestaw klawiatura i mysz;Bezprzewodowe</td>\n",
       "      <td>197.00</td>\n",
       "      <td>Logitech</td>\n",
       "      <td>0.875</td>\n",
       "      <td>Szczecin</td>\n",
       "      <td>2020-04-13</td>\n",
       "      <td>2020-04-16</td>\n",
       "    </tr>\n",
       "  </tbody>\n",
       "</table>\n",
       "</div>"
      ],
      "text/plain": [
       "    timestamp      event_type                           category_path   price  \\\n",
       "0  2020-01-25     BUY_PRODUCT       Podzespoły komputerowe;Pamięć RAM  278.99   \n",
       "1  2020-02-08  RETURN_PRODUCT       Podzespoły komputerowe;Pamięć RAM  278.99   \n",
       "2  2019-12-29     BUY_PRODUCT              Urządzenia wskazujące;Pady   29.19   \n",
       "3  2020-12-30     BUY_PRODUCT         Komputery;Komputery stacjonarne  629.74   \n",
       "4  2020-04-13     BUY_PRODUCT  Zestaw klawiatura i mysz;Bezprzewodowe  197.00   \n",
       "\n",
       "       brand  weight_kg      city purchase_timestamp delivery_timestamp  \n",
       "0    Goodram      0.029  Szczecin         2020-01-25         2020-01-30  \n",
       "1    Goodram      0.029  Szczecin         2020-01-25         2020-01-30  \n",
       "2  Esperanza      0.300  Szczecin         2019-12-29         2019-12-31  \n",
       "3       Dell      0.000  Szczecin         2020-12-30         2021-01-01  \n",
       "4   Logitech      0.875  Szczecin         2020-04-13         2020-04-16  "
      ]
     },
     "execution_count": 878,
     "metadata": {},
     "output_type": "execute_result"
    }
   ],
   "source": [
    "df_concat_chosen.head()"
   ]
  },
  {
   "cell_type": "markdown",
   "metadata": {},
   "source": [
    "### Usunięcie zbędnych kolumn po kalkulacji"
   ]
  },
  {
   "cell_type": "code",
   "execution_count": 879,
   "metadata": {},
   "outputs": [
    {
     "data": {
      "text/html": [
       "<div>\n",
       "<style scoped>\n",
       "    .dataframe tbody tr th:only-of-type {\n",
       "        vertical-align: middle;\n",
       "    }\n",
       "\n",
       "    .dataframe tbody tr th {\n",
       "        vertical-align: top;\n",
       "    }\n",
       "\n",
       "    .dataframe thead th {\n",
       "        text-align: right;\n",
       "    }\n",
       "</style>\n",
       "<table border=\"1\" class=\"dataframe\">\n",
       "  <thead>\n",
       "    <tr style=\"text-align: right;\">\n",
       "      <th></th>\n",
       "      <th>timestamp</th>\n",
       "      <th>event_type</th>\n",
       "      <th>category_path</th>\n",
       "      <th>price</th>\n",
       "      <th>brand</th>\n",
       "      <th>weight_kg</th>\n",
       "      <th>city</th>\n",
       "    </tr>\n",
       "  </thead>\n",
       "  <tbody>\n",
       "    <tr>\n",
       "      <th>0</th>\n",
       "      <td>2020-01-25</td>\n",
       "      <td>BUY_PRODUCT</td>\n",
       "      <td>Podzespoły komputerowe;Pamięć RAM</td>\n",
       "      <td>278.99</td>\n",
       "      <td>Goodram</td>\n",
       "      <td>0.029</td>\n",
       "      <td>Szczecin</td>\n",
       "    </tr>\n",
       "    <tr>\n",
       "      <th>1</th>\n",
       "      <td>2020-02-08</td>\n",
       "      <td>RETURN_PRODUCT</td>\n",
       "      <td>Podzespoły komputerowe;Pamięć RAM</td>\n",
       "      <td>278.99</td>\n",
       "      <td>Goodram</td>\n",
       "      <td>0.029</td>\n",
       "      <td>Szczecin</td>\n",
       "    </tr>\n",
       "    <tr>\n",
       "      <th>2</th>\n",
       "      <td>2019-12-29</td>\n",
       "      <td>BUY_PRODUCT</td>\n",
       "      <td>Urządzenia wskazujące;Pady</td>\n",
       "      <td>29.19</td>\n",
       "      <td>Esperanza</td>\n",
       "      <td>0.300</td>\n",
       "      <td>Szczecin</td>\n",
       "    </tr>\n",
       "    <tr>\n",
       "      <th>3</th>\n",
       "      <td>2020-12-30</td>\n",
       "      <td>BUY_PRODUCT</td>\n",
       "      <td>Komputery;Komputery stacjonarne</td>\n",
       "      <td>629.74</td>\n",
       "      <td>Dell</td>\n",
       "      <td>0.000</td>\n",
       "      <td>Szczecin</td>\n",
       "    </tr>\n",
       "    <tr>\n",
       "      <th>4</th>\n",
       "      <td>2020-04-13</td>\n",
       "      <td>BUY_PRODUCT</td>\n",
       "      <td>Zestaw klawiatura i mysz;Bezprzewodowe</td>\n",
       "      <td>197.00</td>\n",
       "      <td>Logitech</td>\n",
       "      <td>0.875</td>\n",
       "      <td>Szczecin</td>\n",
       "    </tr>\n",
       "  </tbody>\n",
       "</table>\n",
       "</div>"
      ],
      "text/plain": [
       "    timestamp      event_type                           category_path   price  \\\n",
       "0  2020-01-25     BUY_PRODUCT       Podzespoły komputerowe;Pamięć RAM  278.99   \n",
       "1  2020-02-08  RETURN_PRODUCT       Podzespoły komputerowe;Pamięć RAM  278.99   \n",
       "2  2019-12-29     BUY_PRODUCT              Urządzenia wskazujące;Pady   29.19   \n",
       "3  2020-12-30     BUY_PRODUCT         Komputery;Komputery stacjonarne  629.74   \n",
       "4  2020-04-13     BUY_PRODUCT  Zestaw klawiatura i mysz;Bezprzewodowe  197.00   \n",
       "\n",
       "       brand  weight_kg      city  \n",
       "0    Goodram      0.029  Szczecin  \n",
       "1    Goodram      0.029  Szczecin  \n",
       "2  Esperanza      0.300  Szczecin  \n",
       "3       Dell      0.000  Szczecin  \n",
       "4   Logitech      0.875  Szczecin  "
      ]
     },
     "execution_count": 879,
     "metadata": {},
     "output_type": "execute_result"
    }
   ],
   "source": [
    "df_concat_chosen = df_concat_chosen.drop(['purchase_timestamp', 'delivery_timestamp'], axis=1)\n",
    "df_concat_chosen.head()\n",
    "\n"
   ]
  },
  {
   "cell_type": "code",
   "execution_count": 880,
   "metadata": {},
   "outputs": [
    {
     "data": {
      "text/html": [
       "<div>\n",
       "<style scoped>\n",
       "    .dataframe tbody tr th:only-of-type {\n",
       "        vertical-align: middle;\n",
       "    }\n",
       "\n",
       "    .dataframe tbody tr th {\n",
       "        vertical-align: top;\n",
       "    }\n",
       "\n",
       "    .dataframe thead th {\n",
       "        text-align: right;\n",
       "    }\n",
       "</style>\n",
       "<table border=\"1\" class=\"dataframe\">\n",
       "  <thead>\n",
       "    <tr style=\"text-align: right;\">\n",
       "      <th></th>\n",
       "      <th>timestamp</th>\n",
       "      <th>event_type</th>\n",
       "      <th>count</th>\n",
       "    </tr>\n",
       "  </thead>\n",
       "  <tbody>\n",
       "    <tr>\n",
       "      <th>0</th>\n",
       "      <td>2019-08-01</td>\n",
       "      <td>BUY_PRODUCT</td>\n",
       "      <td>15</td>\n",
       "    </tr>\n",
       "    <tr>\n",
       "      <th>1</th>\n",
       "      <td>2019-08-02</td>\n",
       "      <td>BUY_PRODUCT</td>\n",
       "      <td>19</td>\n",
       "    </tr>\n",
       "    <tr>\n",
       "      <th>2</th>\n",
       "      <td>2019-08-03</td>\n",
       "      <td>BUY_PRODUCT</td>\n",
       "      <td>14</td>\n",
       "    </tr>\n",
       "    <tr>\n",
       "      <th>3</th>\n",
       "      <td>2019-08-04</td>\n",
       "      <td>BUY_PRODUCT</td>\n",
       "      <td>17</td>\n",
       "    </tr>\n",
       "    <tr>\n",
       "      <th>4</th>\n",
       "      <td>2019-08-05</td>\n",
       "      <td>BUY_PRODUCT</td>\n",
       "      <td>15</td>\n",
       "    </tr>\n",
       "    <tr>\n",
       "      <th>...</th>\n",
       "      <td>...</td>\n",
       "      <td>...</td>\n",
       "      <td>...</td>\n",
       "    </tr>\n",
       "    <tr>\n",
       "      <th>1622</th>\n",
       "      <td>2022-04-11</td>\n",
       "      <td>BUY_PRODUCT</td>\n",
       "      <td>15</td>\n",
       "    </tr>\n",
       "    <tr>\n",
       "      <th>1623</th>\n",
       "      <td>2022-04-12</td>\n",
       "      <td>BUY_PRODUCT</td>\n",
       "      <td>7</td>\n",
       "    </tr>\n",
       "    <tr>\n",
       "      <th>1624</th>\n",
       "      <td>2022-04-13</td>\n",
       "      <td>RETURN_PRODUCT</td>\n",
       "      <td>1</td>\n",
       "    </tr>\n",
       "    <tr>\n",
       "      <th>1625</th>\n",
       "      <td>2022-04-16</td>\n",
       "      <td>RETURN_PRODUCT</td>\n",
       "      <td>1</td>\n",
       "    </tr>\n",
       "    <tr>\n",
       "      <th>1626</th>\n",
       "      <td>2022-04-24</td>\n",
       "      <td>RETURN_PRODUCT</td>\n",
       "      <td>1</td>\n",
       "    </tr>\n",
       "  </tbody>\n",
       "</table>\n",
       "<p>1627 rows × 3 columns</p>\n",
       "</div>"
      ],
      "text/plain": [
       "       timestamp      event_type  count\n",
       "0     2019-08-01     BUY_PRODUCT     15\n",
       "1     2019-08-02     BUY_PRODUCT     19\n",
       "2     2019-08-03     BUY_PRODUCT     14\n",
       "3     2019-08-04     BUY_PRODUCT     17\n",
       "4     2019-08-05     BUY_PRODUCT     15\n",
       "...          ...             ...    ...\n",
       "1622  2022-04-11     BUY_PRODUCT     15\n",
       "1623  2022-04-12     BUY_PRODUCT      7\n",
       "1624  2022-04-13  RETURN_PRODUCT      1\n",
       "1625  2022-04-16  RETURN_PRODUCT      1\n",
       "1626  2022-04-24  RETURN_PRODUCT      1\n",
       "\n",
       "[1627 rows x 3 columns]"
      ]
     },
     "execution_count": 880,
     "metadata": {},
     "output_type": "execute_result"
    }
   ],
   "source": [
    "event_type_history_count = df_concat_chosen[['timestamp', 'event_type']].groupby(\n",
    "    ['timestamp', 'event_type']).agg({'event_type': 'count'})\n",
    "\n",
    "event_type_history_count.columns = ['count']\n",
    "\n",
    "event_type_history_count = event_type_history_count.reset_index()\n",
    "event_type_history_count\n"
   ]
  },
  {
   "cell_type": "markdown",
   "metadata": {},
   "source": [
    "# EDA"
   ]
  },
  {
   "cell_type": "markdown",
   "metadata": {},
   "source": [
    "Wizualizacja ilości zwrotów z całego dostępnego okresu "
   ]
  },
  {
   "cell_type": "code",
   "execution_count": 881,
   "metadata": {},
   "outputs": [
    {
     "data": {
      "application/vnd.plotly.v1+json": {
       "config": {
        "plotlyServerURL": "https://plot.ly"
       },
       "data": [
        {
         "hovertemplate": "event_type=BUY_PRODUCT<br>timestamp=%{x}<br>count=%{y}<extra></extra>",
         "legendgroup": "BUY_PRODUCT",
         "line": {
          "color": "#636efa",
          "dash": "solid"
         },
         "marker": {
          "symbol": "circle"
         },
         "mode": "lines",
         "name": "BUY_PRODUCT",
         "showlegend": true,
         "type": "scattergl",
         "x": [
          "2019-08-01",
          "2019-08-02",
          "2019-08-03",
          "2019-08-04",
          "2019-08-05",
          "2019-08-06",
          "2019-08-07",
          "2019-08-08",
          "2019-08-09",
          "2019-08-10",
          "2019-08-11",
          "2019-08-12",
          "2019-08-13",
          "2019-08-14",
          "2019-08-15",
          "2019-08-16",
          "2019-08-17",
          "2019-08-18",
          "2019-08-19",
          "2019-08-20",
          "2019-08-21",
          "2019-08-22",
          "2019-08-23",
          "2019-08-24",
          "2019-08-25",
          "2019-08-26",
          "2019-08-27",
          "2019-08-28",
          "2019-08-29",
          "2019-08-30",
          "2019-08-31",
          "2019-09-01",
          "2019-09-02",
          "2019-09-03",
          "2019-09-04",
          "2019-09-05",
          "2019-09-06",
          "2019-09-07",
          "2019-09-08",
          "2019-09-09",
          "2019-09-10",
          "2019-09-11",
          "2019-09-12",
          "2019-09-13",
          "2019-09-14",
          "2019-09-15",
          "2019-09-16",
          "2019-09-17",
          "2019-09-18",
          "2019-09-19",
          "2019-09-20",
          "2019-09-21",
          "2019-09-22",
          "2019-09-23",
          "2019-09-24",
          "2019-09-25",
          "2019-09-26",
          "2019-09-27",
          "2019-09-28",
          "2019-09-29",
          "2019-09-30",
          "2019-10-01",
          "2019-10-02",
          "2019-10-03",
          "2019-10-04",
          "2019-10-05",
          "2019-10-06",
          "2019-10-07",
          "2019-10-08",
          "2019-10-09",
          "2019-10-10",
          "2019-10-11",
          "2019-10-12",
          "2019-10-13",
          "2019-10-14",
          "2019-10-15",
          "2019-10-16",
          "2019-10-17",
          "2019-10-18",
          "2019-10-19",
          "2019-10-20",
          "2019-10-21",
          "2019-10-22",
          "2019-10-23",
          "2019-10-24",
          "2019-10-25",
          "2019-10-26",
          "2019-10-27",
          "2019-10-28",
          "2019-10-29",
          "2019-10-30",
          "2019-10-31",
          "2019-11-01",
          "2019-11-02",
          "2019-11-03",
          "2019-11-04",
          "2019-11-05",
          "2019-11-06",
          "2019-11-07",
          "2019-11-08",
          "2019-11-09",
          "2019-11-10",
          "2019-11-11",
          "2019-11-12",
          "2019-11-13",
          "2019-11-14",
          "2019-11-15",
          "2019-11-16",
          "2019-11-17",
          "2019-11-18",
          "2019-11-19",
          "2019-11-20",
          "2019-11-21",
          "2019-11-22",
          "2019-11-23",
          "2019-11-24",
          "2019-11-25",
          "2019-11-26",
          "2019-11-27",
          "2019-11-28",
          "2019-11-29",
          "2019-11-30",
          "2019-12-01",
          "2019-12-02",
          "2019-12-03",
          "2019-12-04",
          "2019-12-05",
          "2019-12-06",
          "2019-12-07",
          "2019-12-08",
          "2019-12-09",
          "2019-12-10",
          "2019-12-11",
          "2019-12-12",
          "2019-12-13",
          "2019-12-14",
          "2019-12-15",
          "2019-12-16",
          "2019-12-17",
          "2019-12-18",
          "2019-12-19",
          "2019-12-20",
          "2019-12-21",
          "2019-12-22",
          "2019-12-23",
          "2019-12-24",
          "2019-12-25",
          "2019-12-26",
          "2019-12-27",
          "2019-12-28",
          "2019-12-29",
          "2019-12-30",
          "2019-12-31",
          "2020-01-01",
          "2020-01-02",
          "2020-01-03",
          "2020-01-04",
          "2020-01-05",
          "2020-01-06",
          "2020-01-07",
          "2020-01-08",
          "2020-01-09",
          "2020-01-10",
          "2020-01-11",
          "2020-01-12",
          "2020-01-13",
          "2020-01-14",
          "2020-01-15",
          "2020-01-16",
          "2020-01-17",
          "2020-01-18",
          "2020-01-19",
          "2020-01-20",
          "2020-01-21",
          "2020-01-22",
          "2020-01-23",
          "2020-01-24",
          "2020-01-25",
          "2020-01-26",
          "2020-01-27",
          "2020-01-28",
          "2020-01-29",
          "2020-01-30",
          "2020-01-31",
          "2020-02-01",
          "2020-02-02",
          "2020-02-03",
          "2020-02-04",
          "2020-02-05",
          "2020-02-06",
          "2020-02-07",
          "2020-02-08",
          "2020-02-09",
          "2020-02-10",
          "2020-02-11",
          "2020-02-12",
          "2020-02-13",
          "2020-02-14",
          "2020-02-15",
          "2020-02-16",
          "2020-02-17",
          "2020-02-18",
          "2020-02-19",
          "2020-02-20",
          "2020-02-21",
          "2020-02-22",
          "2020-02-23",
          "2020-02-24",
          "2020-02-25",
          "2020-02-26",
          "2020-02-27",
          "2020-02-28",
          "2020-02-29",
          "2020-03-01",
          "2020-03-02",
          "2020-03-03",
          "2020-03-04",
          "2020-03-05",
          "2020-03-06",
          "2020-03-07",
          "2020-03-08",
          "2020-03-09",
          "2020-03-10",
          "2020-03-11",
          "2020-03-12",
          "2020-03-13",
          "2020-03-14",
          "2020-03-15",
          "2020-03-16",
          "2020-03-17",
          "2020-03-18",
          "2020-03-19",
          "2020-03-20",
          "2020-03-21",
          "2020-03-22",
          "2020-03-23",
          "2020-03-24",
          "2020-03-25",
          "2020-03-26",
          "2020-03-27",
          "2020-03-28",
          "2020-03-29",
          "2020-03-30",
          "2020-03-31",
          "2020-04-01",
          "2020-04-02",
          "2020-04-03",
          "2020-04-04",
          "2020-04-05",
          "2020-04-06",
          "2020-04-07",
          "2020-04-08",
          "2020-04-09",
          "2020-04-10",
          "2020-04-11",
          "2020-04-12",
          "2020-04-13",
          "2020-04-14",
          "2020-04-15",
          "2020-04-16",
          "2020-04-17",
          "2020-04-18",
          "2020-04-19",
          "2020-04-20",
          "2020-04-21",
          "2020-04-22",
          "2020-04-23",
          "2020-04-24",
          "2020-04-25",
          "2020-04-26",
          "2020-04-27",
          "2020-04-28",
          "2020-04-29",
          "2020-04-30",
          "2020-05-01",
          "2020-05-02",
          "2020-05-03",
          "2020-05-04",
          "2020-05-05",
          "2020-05-06",
          "2020-05-07",
          "2020-05-08",
          "2020-05-09",
          "2020-05-10",
          "2020-05-11",
          "2020-05-12",
          "2020-05-13",
          "2020-05-14",
          "2020-05-15",
          "2020-05-16",
          "2020-05-17",
          "2020-05-18",
          "2020-05-19",
          "2020-05-20",
          "2020-05-21",
          "2020-05-22",
          "2020-05-23",
          "2020-05-24",
          "2020-05-25",
          "2020-05-26",
          "2020-05-27",
          "2020-05-28",
          "2020-05-29",
          "2020-05-30",
          "2020-05-31",
          "2020-06-01",
          "2020-06-02",
          "2020-06-03",
          "2020-06-04",
          "2020-06-05",
          "2020-06-06",
          "2020-06-07",
          "2020-06-08",
          "2020-06-09",
          "2020-06-10",
          "2020-06-11",
          "2020-06-12",
          "2020-06-13",
          "2020-06-14",
          "2020-06-15",
          "2020-06-16",
          "2020-06-17",
          "2020-06-18",
          "2020-06-19",
          "2020-06-20",
          "2020-06-21",
          "2020-06-22",
          "2020-06-23",
          "2020-06-24",
          "2020-06-25",
          "2020-06-26",
          "2020-06-27",
          "2020-06-28",
          "2020-06-29",
          "2020-06-30",
          "2020-07-01",
          "2020-07-02",
          "2020-07-03",
          "2020-07-04",
          "2020-07-05",
          "2020-07-06",
          "2020-07-07",
          "2020-07-08",
          "2020-07-09",
          "2020-07-10",
          "2020-07-11",
          "2020-07-12",
          "2020-07-13",
          "2020-07-14",
          "2020-07-15",
          "2020-07-16",
          "2020-07-17",
          "2020-07-18",
          "2020-07-19",
          "2020-07-20",
          "2020-07-21",
          "2020-07-22",
          "2020-07-23",
          "2020-07-24",
          "2020-07-25",
          "2020-07-26",
          "2020-07-27",
          "2020-07-28",
          "2020-07-29",
          "2020-07-30",
          "2020-07-31",
          "2020-08-01",
          "2020-08-02",
          "2020-08-03",
          "2020-08-04",
          "2020-08-05",
          "2020-08-06",
          "2020-08-07",
          "2020-08-08",
          "2020-08-09",
          "2020-08-10",
          "2020-08-11",
          "2020-08-12",
          "2020-08-13",
          "2020-08-14",
          "2020-08-15",
          "2020-08-16",
          "2020-08-17",
          "2020-08-18",
          "2020-08-19",
          "2020-08-20",
          "2020-08-21",
          "2020-08-22",
          "2020-08-23",
          "2020-08-24",
          "2020-08-25",
          "2020-08-26",
          "2020-08-27",
          "2020-08-28",
          "2020-08-29",
          "2020-08-30",
          "2020-08-31",
          "2020-09-01",
          "2020-09-02",
          "2020-09-03",
          "2020-09-04",
          "2020-09-05",
          "2020-09-06",
          "2020-09-07",
          "2020-09-08",
          "2020-09-09",
          "2020-09-10",
          "2020-09-11",
          "2020-09-12",
          "2020-09-13",
          "2020-09-14",
          "2020-09-15",
          "2020-09-16",
          "2020-09-17",
          "2020-09-18",
          "2020-09-19",
          "2020-09-20",
          "2020-09-21",
          "2020-09-22",
          "2020-09-23",
          "2020-09-24",
          "2020-09-25",
          "2020-09-26",
          "2020-09-27",
          "2020-09-28",
          "2020-09-29",
          "2020-09-30",
          "2020-10-01",
          "2020-10-02",
          "2020-10-03",
          "2020-10-04",
          "2020-10-05",
          "2020-10-06",
          "2020-10-07",
          "2020-10-08",
          "2020-10-09",
          "2020-10-10",
          "2020-10-11",
          "2020-10-12",
          "2020-10-13",
          "2020-10-14",
          "2020-10-15",
          "2020-10-16",
          "2020-10-17",
          "2020-10-18",
          "2020-10-19",
          "2020-10-20",
          "2020-10-21",
          "2020-10-22",
          "2020-10-23",
          "2020-10-24",
          "2020-10-25",
          "2020-10-26",
          "2020-10-27",
          "2020-10-28",
          "2020-10-29",
          "2020-10-30",
          "2020-10-31",
          "2020-11-01",
          "2020-11-02",
          "2020-11-03",
          "2020-11-04",
          "2020-11-05",
          "2020-11-06",
          "2020-11-07",
          "2020-11-08",
          "2020-11-09",
          "2020-11-10",
          "2020-11-11",
          "2020-11-12",
          "2020-11-13",
          "2020-11-14",
          "2020-11-15",
          "2020-11-16",
          "2020-11-17",
          "2020-11-18",
          "2020-11-19",
          "2020-11-20",
          "2020-11-21",
          "2020-11-22",
          "2020-11-23",
          "2020-11-24",
          "2020-11-25",
          "2020-11-26",
          "2020-11-27",
          "2020-11-28",
          "2020-11-29",
          "2020-11-30",
          "2020-12-01",
          "2020-12-02",
          "2020-12-03",
          "2020-12-04",
          "2020-12-05",
          "2020-12-06",
          "2020-12-07",
          "2020-12-08",
          "2020-12-09",
          "2020-12-10",
          "2020-12-11",
          "2020-12-12",
          "2020-12-13",
          "2020-12-14",
          "2020-12-15",
          "2020-12-16",
          "2020-12-17",
          "2020-12-18",
          "2020-12-19",
          "2020-12-20",
          "2020-12-21",
          "2020-12-22",
          "2020-12-23",
          "2020-12-24",
          "2020-12-25",
          "2020-12-26",
          "2020-12-27",
          "2020-12-28",
          "2020-12-29",
          "2020-12-30",
          "2020-12-31",
          "2021-01-01",
          "2021-01-02",
          "2021-01-03",
          "2021-01-04",
          "2021-01-05",
          "2021-01-06",
          "2021-01-07",
          "2021-01-08",
          "2021-01-09",
          "2021-01-10",
          "2021-01-11",
          "2021-01-12",
          "2021-01-13",
          "2021-01-14",
          "2021-01-15",
          "2021-01-16",
          "2021-01-17",
          "2021-01-18",
          "2021-01-19",
          "2021-01-20",
          "2021-01-21",
          "2021-01-22",
          "2021-01-23",
          "2021-01-24",
          "2021-01-25",
          "2021-01-26",
          "2021-01-27",
          "2021-01-28",
          "2021-01-29",
          "2021-01-30",
          "2021-01-31",
          "2021-02-01",
          "2021-02-02",
          "2021-02-03",
          "2021-02-04",
          "2021-02-05",
          "2021-02-06",
          "2021-02-07",
          "2021-02-08",
          "2021-02-09",
          "2021-02-10",
          "2021-02-11",
          "2021-02-12",
          "2021-02-13",
          "2021-02-14",
          "2021-02-15",
          "2021-02-16",
          "2021-02-17",
          "2021-02-18",
          "2021-02-19",
          "2021-02-20",
          "2021-02-21",
          "2021-02-22",
          "2021-02-23",
          "2021-02-24",
          "2021-02-25",
          "2021-02-26",
          "2021-02-27",
          "2021-02-28",
          "2021-03-01",
          "2021-03-02",
          "2021-03-03",
          "2021-03-04",
          "2021-03-05",
          "2021-03-06",
          "2021-03-07",
          "2021-03-08",
          "2021-03-09",
          "2021-03-10",
          "2021-03-11",
          "2021-03-12",
          "2021-03-13",
          "2021-03-14",
          "2021-03-15",
          "2021-03-16",
          "2021-03-17",
          "2021-03-18",
          "2021-03-19",
          "2021-03-20",
          "2021-03-21",
          "2021-03-22",
          "2021-03-23",
          "2021-03-24",
          "2021-03-25",
          "2021-03-26",
          "2021-03-27",
          "2021-03-28",
          "2021-03-29",
          "2021-03-30",
          "2021-03-31",
          "2021-04-01",
          "2021-04-02",
          "2021-04-03",
          "2021-04-04",
          "2021-04-05",
          "2021-04-06",
          "2021-04-07",
          "2021-04-08",
          "2021-04-09",
          "2021-04-10",
          "2021-04-11",
          "2021-04-12",
          "2021-04-13",
          "2021-04-14",
          "2021-04-15",
          "2021-04-16",
          "2021-04-17",
          "2021-04-18",
          "2021-04-19",
          "2021-04-20",
          "2021-04-21",
          "2021-04-22",
          "2021-04-23",
          "2021-04-24",
          "2021-04-25",
          "2021-04-26",
          "2021-04-27",
          "2021-04-28",
          "2021-04-29",
          "2021-04-30",
          "2021-05-01",
          "2021-05-02",
          "2021-05-03",
          "2021-05-04",
          "2021-05-05",
          "2021-05-06",
          "2021-05-07",
          "2021-05-08",
          "2021-05-09",
          "2021-05-10",
          "2021-05-11",
          "2021-05-12",
          "2021-05-13",
          "2021-05-14",
          "2021-05-15",
          "2021-05-16",
          "2021-05-17",
          "2021-05-18",
          "2021-05-19",
          "2021-05-20",
          "2021-05-21",
          "2021-05-22",
          "2021-05-23",
          "2021-05-24",
          "2021-05-25",
          "2021-05-26",
          "2021-05-27",
          "2021-05-28",
          "2021-05-29",
          "2021-05-30",
          "2021-05-31",
          "2021-06-01",
          "2021-06-02",
          "2021-06-03",
          "2021-06-04",
          "2021-06-05",
          "2021-06-06",
          "2021-06-07",
          "2021-06-08",
          "2021-06-09",
          "2021-06-10",
          "2021-06-11",
          "2021-06-12",
          "2021-06-13",
          "2021-06-14",
          "2021-06-15",
          "2021-06-16",
          "2021-06-17",
          "2021-06-18",
          "2021-06-19",
          "2021-06-20",
          "2021-06-21",
          "2021-06-22",
          "2021-06-23",
          "2021-06-24",
          "2021-06-25",
          "2021-06-26",
          "2021-06-27",
          "2021-06-28",
          "2021-06-29",
          "2021-06-30",
          "2021-07-01",
          "2021-07-02",
          "2021-07-03",
          "2021-07-04",
          "2021-07-05",
          "2021-07-06",
          "2021-07-07",
          "2021-07-08",
          "2021-07-09",
          "2021-07-10",
          "2021-07-11",
          "2021-07-12",
          "2021-07-13",
          "2021-07-14",
          "2021-07-15",
          "2021-07-16",
          "2021-07-17",
          "2021-07-18",
          "2021-07-19",
          "2021-07-20",
          "2021-07-21",
          "2021-07-22",
          "2021-07-23",
          "2021-07-24",
          "2021-07-25",
          "2021-07-26",
          "2021-07-27",
          "2021-07-28",
          "2021-07-29",
          "2021-07-30",
          "2021-07-31",
          "2021-08-01",
          "2021-08-02",
          "2021-08-03",
          "2021-08-04",
          "2021-08-05",
          "2021-08-06",
          "2021-08-07",
          "2021-08-08",
          "2021-08-09",
          "2021-08-10",
          "2021-08-11",
          "2021-08-12",
          "2021-08-13",
          "2021-08-14",
          "2021-08-15",
          "2021-08-16",
          "2021-08-17",
          "2021-08-18",
          "2021-08-19",
          "2021-08-20",
          "2021-08-21",
          "2021-08-22",
          "2021-08-23",
          "2021-08-24",
          "2021-08-25",
          "2021-08-26",
          "2021-08-27",
          "2021-08-28",
          "2021-08-29",
          "2021-08-30",
          "2021-08-31",
          "2021-09-01",
          "2021-09-02",
          "2021-09-03",
          "2021-09-04",
          "2021-09-05",
          "2021-09-06",
          "2021-09-07",
          "2021-09-08",
          "2021-09-09",
          "2021-09-10",
          "2021-09-11",
          "2021-09-12",
          "2021-09-13",
          "2021-09-14",
          "2021-09-15",
          "2021-09-16",
          "2021-09-17",
          "2021-09-18",
          "2021-09-19",
          "2021-09-20",
          "2021-09-21",
          "2021-09-22",
          "2021-09-23",
          "2021-09-24",
          "2021-09-25",
          "2021-09-26",
          "2021-09-27",
          "2021-09-28",
          "2021-09-29",
          "2021-09-30",
          "2021-10-01",
          "2021-10-02",
          "2021-10-03",
          "2021-10-04",
          "2021-10-05",
          "2021-10-06",
          "2021-10-07",
          "2021-10-08",
          "2021-10-09",
          "2021-10-10",
          "2021-10-11",
          "2021-10-12",
          "2021-10-13",
          "2021-10-14",
          "2021-10-15",
          "2021-10-16",
          "2021-10-17",
          "2021-10-18",
          "2021-10-19",
          "2021-10-20",
          "2021-10-21",
          "2021-10-22",
          "2021-10-23",
          "2021-10-24",
          "2021-10-25",
          "2021-10-26",
          "2021-10-27",
          "2021-10-28",
          "2021-10-29",
          "2021-10-30",
          "2021-10-31",
          "2021-11-01",
          "2021-11-02",
          "2021-11-03",
          "2021-11-04",
          "2021-11-05",
          "2021-11-06",
          "2021-11-07",
          "2021-11-08",
          "2021-11-09",
          "2021-11-10",
          "2021-11-11",
          "2021-11-12",
          "2021-11-13",
          "2021-11-14",
          "2021-11-15",
          "2021-11-16",
          "2021-11-17",
          "2021-11-18",
          "2021-11-19",
          "2021-11-20",
          "2021-11-21",
          "2021-11-22",
          "2021-11-23",
          "2021-11-24",
          "2021-11-25",
          "2021-11-26",
          "2021-11-27",
          "2021-11-28",
          "2021-11-29",
          "2021-11-30",
          "2021-12-01",
          "2021-12-02",
          "2021-12-03",
          "2021-12-04",
          "2021-12-05",
          "2021-12-06",
          "2021-12-07",
          "2021-12-08",
          "2021-12-09",
          "2021-12-10",
          "2021-12-11",
          "2021-12-12",
          "2021-12-13",
          "2021-12-14",
          "2021-12-15",
          "2021-12-16",
          "2021-12-17",
          "2021-12-18",
          "2021-12-19",
          "2021-12-20",
          "2021-12-21",
          "2021-12-22",
          "2021-12-23",
          "2021-12-24",
          "2021-12-25",
          "2021-12-26",
          "2021-12-27",
          "2021-12-28",
          "2021-12-29",
          "2021-12-30",
          "2021-12-31",
          "2022-01-01",
          "2022-01-02",
          "2022-01-03",
          "2022-01-04",
          "2022-01-05",
          "2022-01-06",
          "2022-01-07",
          "2022-01-08",
          "2022-01-09",
          "2022-01-10",
          "2022-01-11",
          "2022-01-12",
          "2022-01-13",
          "2022-01-14",
          "2022-01-15",
          "2022-01-16",
          "2022-01-17",
          "2022-01-18",
          "2022-01-19",
          "2022-01-20",
          "2022-01-21",
          "2022-01-22",
          "2022-01-23",
          "2022-01-24",
          "2022-01-25",
          "2022-01-26",
          "2022-01-27",
          "2022-01-28",
          "2022-01-29",
          "2022-01-30",
          "2022-01-31",
          "2022-02-01",
          "2022-02-02",
          "2022-02-03",
          "2022-02-04",
          "2022-02-05",
          "2022-02-06",
          "2022-02-07",
          "2022-02-08",
          "2022-02-09",
          "2022-02-10",
          "2022-02-11",
          "2022-02-12",
          "2022-02-13",
          "2022-02-14",
          "2022-02-15",
          "2022-02-16",
          "2022-02-17",
          "2022-02-18",
          "2022-02-19",
          "2022-02-20",
          "2022-02-21",
          "2022-02-22",
          "2022-02-23",
          "2022-02-24",
          "2022-02-25",
          "2022-02-26",
          "2022-02-27",
          "2022-02-28",
          "2022-03-01",
          "2022-03-02",
          "2022-03-03",
          "2022-03-04",
          "2022-03-05",
          "2022-03-06",
          "2022-03-07",
          "2022-03-08",
          "2022-03-09",
          "2022-03-10",
          "2022-03-11",
          "2022-03-12",
          "2022-03-13",
          "2022-03-14",
          "2022-03-15",
          "2022-03-16",
          "2022-03-17",
          "2022-03-18",
          "2022-03-19",
          "2022-03-20",
          "2022-03-21",
          "2022-03-22",
          "2022-03-23",
          "2022-03-24",
          "2022-03-25",
          "2022-03-26",
          "2022-03-27",
          "2022-03-28",
          "2022-03-29",
          "2022-03-30",
          "2022-03-31",
          "2022-04-01",
          "2022-04-02",
          "2022-04-03",
          "2022-04-04",
          "2022-04-05",
          "2022-04-06",
          "2022-04-07",
          "2022-04-08",
          "2022-04-09",
          "2022-04-10",
          "2022-04-11",
          "2022-04-12"
         ],
         "xaxis": "x",
         "y": [
          15,
          19,
          14,
          17,
          15,
          18,
          20,
          16,
          13,
          15,
          14,
          23,
          13,
          16,
          11,
          14,
          14,
          16,
          18,
          12,
          10,
          8,
          22,
          14,
          12,
          15,
          16,
          15,
          17,
          14,
          5,
          18,
          15,
          16,
          16,
          9,
          16,
          13,
          16,
          15,
          13,
          14,
          16,
          13,
          16,
          16,
          15,
          19,
          16,
          16,
          14,
          19,
          11,
          12,
          18,
          14,
          13,
          11,
          13,
          13,
          18,
          19,
          16,
          7,
          20,
          20,
          14,
          13,
          17,
          13,
          17,
          13,
          14,
          15,
          9,
          18,
          12,
          19,
          14,
          11,
          10,
          11,
          10,
          20,
          18,
          17,
          16,
          10,
          11,
          13,
          13,
          19,
          14,
          15,
          11,
          14,
          17,
          10,
          11,
          15,
          21,
          13,
          15,
          16,
          17,
          15,
          17,
          13,
          8,
          13,
          14,
          23,
          14,
          17,
          16,
          20,
          18,
          14,
          12,
          16,
          11,
          12,
          10,
          14,
          12,
          17,
          12,
          12,
          15,
          15,
          12,
          16,
          16,
          20,
          9,
          11,
          13,
          20,
          14,
          17,
          9,
          18,
          21,
          17,
          21,
          8,
          13,
          16,
          15,
          12,
          25,
          18,
          16,
          16,
          12,
          6,
          14,
          19,
          13,
          9,
          8,
          13,
          16,
          21,
          16,
          14,
          12,
          10,
          7,
          14,
          15,
          6,
          19,
          11,
          13,
          18,
          17,
          17,
          16,
          16,
          9,
          16,
          19,
          15,
          11,
          18,
          18,
          9,
          25,
          16,
          12,
          22,
          11,
          22,
          14,
          16,
          15,
          20,
          12,
          19,
          13,
          23,
          16,
          14,
          8,
          14,
          12,
          12,
          13,
          18,
          11,
          12,
          16,
          13,
          25,
          23,
          11,
          12,
          17,
          8,
          14,
          12,
          12,
          11,
          19,
          19,
          17,
          17,
          5,
          16,
          15,
          16,
          11,
          15,
          17,
          11,
          17,
          14,
          11,
          17,
          13,
          11,
          15,
          10,
          17,
          12,
          13,
          10,
          19,
          16,
          17,
          16,
          13,
          16,
          16,
          15,
          17,
          14,
          13,
          12,
          21,
          20,
          19,
          9,
          12,
          18,
          8,
          15,
          14,
          17,
          14,
          13,
          8,
          10,
          11,
          14,
          19,
          20,
          11,
          17,
          8,
          12,
          15,
          10,
          17,
          13,
          5,
          15,
          13,
          10,
          19,
          15,
          14,
          28,
          12,
          16,
          18,
          13,
          13,
          17,
          9,
          11,
          14,
          23,
          7,
          8,
          11,
          13,
          19,
          17,
          20,
          14,
          13,
          16,
          16,
          10,
          18,
          9,
          17,
          13,
          15,
          13,
          18,
          15,
          13,
          20,
          14,
          14,
          16,
          9,
          3,
          16,
          16,
          9,
          13,
          15,
          10,
          20,
          13,
          9,
          14,
          12,
          14,
          8,
          12,
          17,
          14,
          13,
          12,
          9,
          16,
          17,
          19,
          12,
          14,
          15,
          17,
          16,
          12,
          21,
          14,
          9,
          16,
          18,
          13,
          11,
          17,
          19,
          12,
          12,
          19,
          18,
          18,
          13,
          22,
          14,
          19,
          24,
          13,
          19,
          10,
          14,
          19,
          11,
          13,
          25,
          15,
          11,
          10,
          13,
          16,
          9,
          17,
          12,
          13,
          16,
          13,
          20,
          18,
          13,
          14,
          13,
          16,
          15,
          16,
          12,
          20,
          13,
          16,
          10,
          12,
          18,
          16,
          18,
          11,
          16,
          14,
          14,
          15,
          14,
          18,
          10,
          17,
          15,
          14,
          14,
          7,
          10,
          8,
          14,
          19,
          15,
          16,
          19,
          15,
          10,
          8,
          9,
          17,
          10,
          14,
          9,
          17,
          20,
          16,
          13,
          18,
          20,
          9,
          18,
          17,
          11,
          14,
          15,
          15,
          9,
          5,
          12,
          11,
          17,
          15,
          20,
          11,
          19,
          15,
          15,
          10,
          14,
          13,
          9,
          15,
          11,
          16,
          14,
          13,
          16,
          19,
          17,
          12,
          15,
          6,
          25,
          15,
          19,
          17,
          18,
          14,
          15,
          12,
          15,
          19,
          14,
          16,
          10,
          10,
          14,
          16,
          11,
          9,
          19,
          17,
          18,
          12,
          12,
          13,
          18,
          12,
          6,
          17,
          12,
          16,
          13,
          13,
          13,
          17,
          10,
          9,
          15,
          11,
          17,
          11,
          19,
          14,
          13,
          9,
          18,
          13,
          14,
          17,
          10,
          14,
          13,
          12,
          15,
          15,
          11,
          15,
          19,
          15,
          11,
          20,
          23,
          16,
          17,
          10,
          11,
          9,
          14,
          14,
          15,
          9,
          15,
          16,
          12,
          10,
          12,
          17,
          11,
          12,
          16,
          17,
          7,
          10,
          17,
          10,
          14,
          9,
          17,
          20,
          11,
          10,
          16,
          16,
          20,
          15,
          10,
          11,
          12,
          12,
          11,
          14,
          18,
          12,
          11,
          14,
          19,
          13,
          17,
          16,
          16,
          21,
          18,
          14,
          11,
          12,
          12,
          14,
          12,
          17,
          13,
          14,
          9,
          8,
          24,
          15,
          9,
          15,
          20,
          13,
          12,
          15,
          9,
          16,
          12,
          15,
          12,
          16,
          15,
          11,
          19,
          12,
          15,
          13,
          16,
          17,
          9,
          15,
          12,
          15,
          15,
          15,
          14,
          17,
          9,
          7,
          12,
          20,
          11,
          18,
          11,
          15,
          13,
          14,
          12,
          21,
          13,
          20,
          18,
          11,
          5,
          14,
          9,
          22,
          13,
          14,
          15,
          13,
          17,
          13,
          10,
          9,
          22,
          13,
          18,
          13,
          14,
          20,
          26,
          13,
          11,
          12,
          12,
          19,
          11,
          15,
          16,
          19,
          12,
          19,
          11,
          12,
          14,
          12,
          9,
          11,
          9,
          16,
          18,
          4,
          23,
          15,
          20,
          15,
          14,
          17,
          11,
          13,
          12,
          16,
          10,
          13,
          14,
          13,
          14,
          18,
          10,
          14,
          18,
          12,
          11,
          19,
          12,
          16,
          10,
          10,
          22,
          14,
          16,
          23,
          18,
          13,
          14,
          17,
          10,
          14,
          13,
          10,
          10,
          13,
          21,
          15,
          10,
          10,
          12,
          16,
          17,
          15,
          11,
          15,
          14,
          12,
          10,
          17,
          19,
          9,
          9,
          19,
          13,
          9,
          11,
          17,
          11,
          14,
          14,
          14,
          20,
          16,
          13,
          7,
          14,
          16,
          16,
          11,
          17,
          12,
          14,
          17,
          19,
          19,
          17,
          13,
          16,
          16,
          13,
          14,
          13,
          13,
          9,
          11,
          8,
          9,
          22,
          9,
          24,
          16,
          14,
          9,
          7,
          15,
          14,
          11,
          14,
          12,
          18,
          14,
          14,
          18,
          10,
          12,
          10,
          14,
          15,
          16,
          9,
          14,
          16,
          12,
          18,
          16,
          16,
          14,
          17,
          17,
          8,
          11,
          18,
          17,
          11,
          16,
          13,
          14,
          17,
          21,
          15,
          17,
          16,
          14,
          17,
          12,
          18,
          12,
          13,
          17,
          16,
          12,
          15,
          14,
          11,
          17,
          18,
          15,
          14,
          14,
          19,
          13,
          17,
          15,
          13,
          14,
          13,
          14,
          11,
          15,
          14,
          19,
          27,
          21,
          17,
          21,
          16,
          13,
          13,
          18,
          16,
          17,
          25,
          14,
          13,
          15,
          17,
          11,
          22,
          12,
          14,
          10,
          18,
          16,
          15,
          19,
          11,
          16,
          13,
          18,
          14,
          10,
          13,
          16,
          22,
          19,
          14,
          12,
          13,
          14,
          12,
          21,
          14,
          15,
          15,
          13,
          17,
          18,
          17,
          14,
          15,
          14,
          14,
          15,
          14,
          17,
          21,
          13,
          16,
          13,
          10,
          15,
          18,
          19,
          14,
          10,
          15,
          12,
          14,
          13,
          7,
          18,
          21,
          18,
          16,
          10,
          13,
          12,
          15,
          14,
          22,
          15,
          14,
          15,
          16,
          17,
          13,
          15,
          14,
          11,
          16,
          16,
          7,
          16,
          13,
          16,
          13,
          17,
          8,
          18,
          13,
          22,
          12,
          8,
          15,
          20,
          13,
          16,
          15,
          14,
          10,
          13,
          12,
          20,
          20,
          11,
          16,
          15,
          12,
          12,
          13,
          10,
          17,
          17,
          11,
          13,
          15,
          9,
          14,
          15,
          18,
          15,
          7
         ],
         "yaxis": "y"
        },
        {
         "hovertemplate": "event_type=RETURN_PRODUCT<br>timestamp=%{x}<br>count=%{y}<extra></extra>",
         "legendgroup": "RETURN_PRODUCT",
         "line": {
          "color": "#EF553B",
          "dash": "solid"
         },
         "marker": {
          "symbol": "circle"
         },
         "mode": "lines",
         "name": "RETURN_PRODUCT",
         "showlegend": true,
         "type": "scattergl",
         "x": [
          "2019-08-12",
          "2019-08-15",
          "2019-08-16",
          "2019-08-21",
          "2019-08-24",
          "2019-08-27",
          "2019-08-31",
          "2019-09-01",
          "2019-09-05",
          "2019-09-07",
          "2019-09-08",
          "2019-09-09",
          "2019-09-12",
          "2019-09-14",
          "2019-09-15",
          "2019-09-17",
          "2019-09-18",
          "2019-09-20",
          "2019-09-21",
          "2019-09-22",
          "2019-09-26",
          "2019-09-27",
          "2019-09-28",
          "2019-09-29",
          "2019-10-01",
          "2019-10-02",
          "2019-10-03",
          "2019-10-04",
          "2019-10-05",
          "2019-10-07",
          "2019-10-09",
          "2019-10-10",
          "2019-10-11",
          "2019-10-13",
          "2019-10-15",
          "2019-10-17",
          "2019-10-22",
          "2019-10-23",
          "2019-10-24",
          "2019-10-25",
          "2019-10-26",
          "2019-10-27",
          "2019-10-28",
          "2019-10-30",
          "2019-10-31",
          "2019-11-02",
          "2019-11-03",
          "2019-11-05",
          "2019-11-07",
          "2019-11-08",
          "2019-11-09",
          "2019-11-10",
          "2019-11-11",
          "2019-11-14",
          "2019-11-15",
          "2019-11-16",
          "2019-11-17",
          "2019-11-18",
          "2019-11-20",
          "2019-11-21",
          "2019-11-22",
          "2019-11-23",
          "2019-11-24",
          "2019-11-25",
          "2019-11-26",
          "2019-11-27",
          "2019-11-28",
          "2019-11-29",
          "2019-11-30",
          "2019-12-01",
          "2019-12-02",
          "2019-12-03",
          "2019-12-04",
          "2019-12-05",
          "2019-12-06",
          "2019-12-07",
          "2019-12-08",
          "2019-12-09",
          "2019-12-10",
          "2019-12-11",
          "2019-12-12",
          "2019-12-13",
          "2019-12-14",
          "2019-12-15",
          "2019-12-16",
          "2019-12-17",
          "2019-12-18",
          "2019-12-19",
          "2019-12-20",
          "2019-12-21",
          "2019-12-22",
          "2019-12-24",
          "2019-12-25",
          "2019-12-26",
          "2019-12-27",
          "2019-12-28",
          "2019-12-29",
          "2019-12-30",
          "2019-12-31",
          "2020-01-01",
          "2020-01-02",
          "2020-01-03",
          "2020-01-04",
          "2020-01-05",
          "2020-01-06",
          "2020-01-07",
          "2020-01-09",
          "2020-01-10",
          "2020-01-11",
          "2020-01-12",
          "2020-01-13",
          "2020-01-14",
          "2020-01-16",
          "2020-01-17",
          "2020-01-18",
          "2020-01-19",
          "2020-01-20",
          "2020-01-21",
          "2020-01-22",
          "2020-01-24",
          "2020-01-25",
          "2020-01-26",
          "2020-01-27",
          "2020-01-28",
          "2020-01-29",
          "2020-01-30",
          "2020-02-01",
          "2020-02-02",
          "2020-02-03",
          "2020-02-05",
          "2020-02-06",
          "2020-02-07",
          "2020-02-08",
          "2020-02-09",
          "2020-02-10",
          "2020-02-11",
          "2020-02-14",
          "2020-02-15",
          "2020-02-16",
          "2020-02-17",
          "2020-02-18",
          "2020-02-19",
          "2020-02-20",
          "2020-02-21",
          "2020-02-22",
          "2020-02-23",
          "2020-02-24",
          "2020-02-25",
          "2020-02-26",
          "2020-02-27",
          "2020-02-28",
          "2020-03-01",
          "2020-03-02",
          "2020-03-03",
          "2020-03-06",
          "2020-03-08",
          "2020-03-09",
          "2020-03-11",
          "2020-03-13",
          "2020-03-15",
          "2020-03-18",
          "2020-03-19",
          "2020-03-20",
          "2020-03-21",
          "2020-03-22",
          "2020-03-24",
          "2020-03-25",
          "2020-03-28",
          "2020-03-29",
          "2020-03-30",
          "2020-03-31",
          "2020-04-03",
          "2020-04-05",
          "2020-04-06",
          "2020-04-07",
          "2020-04-08",
          "2020-04-09",
          "2020-04-12",
          "2020-04-18",
          "2020-04-19",
          "2020-04-21",
          "2020-04-26",
          "2020-04-27",
          "2020-04-28",
          "2020-05-01",
          "2020-05-02",
          "2020-05-04",
          "2020-05-09",
          "2020-05-10",
          "2020-05-13",
          "2020-05-15",
          "2020-05-16",
          "2020-05-17",
          "2020-05-22",
          "2020-05-24",
          "2020-05-26",
          "2020-05-27",
          "2020-05-28",
          "2020-05-29",
          "2020-05-30",
          "2020-06-02",
          "2020-06-03",
          "2020-06-04",
          "2020-06-07",
          "2020-06-08",
          "2020-06-09",
          "2020-06-10",
          "2020-06-11",
          "2020-06-13",
          "2020-06-14",
          "2020-06-15",
          "2020-06-16",
          "2020-06-18",
          "2020-06-19",
          "2020-06-21",
          "2020-06-22",
          "2020-06-24",
          "2020-06-26",
          "2020-06-28",
          "2020-06-30",
          "2020-07-01",
          "2020-07-05",
          "2020-07-06",
          "2020-07-07",
          "2020-07-11",
          "2020-07-12",
          "2020-07-13",
          "2020-07-14",
          "2020-07-15",
          "2020-07-17",
          "2020-07-20",
          "2020-07-21",
          "2020-07-22",
          "2020-07-23",
          "2020-07-24",
          "2020-07-25",
          "2020-07-28",
          "2020-07-31",
          "2020-08-03",
          "2020-08-04",
          "2020-08-05",
          "2020-08-10",
          "2020-08-13",
          "2020-08-16",
          "2020-08-18",
          "2020-08-21",
          "2020-08-22",
          "2020-08-23",
          "2020-08-24",
          "2020-08-26",
          "2020-08-30",
          "2020-08-31",
          "2020-09-01",
          "2020-09-02",
          "2020-09-03",
          "2020-09-04",
          "2020-09-07",
          "2020-09-08",
          "2020-09-09",
          "2020-09-11",
          "2020-09-12",
          "2020-09-16",
          "2020-09-18",
          "2020-09-19",
          "2020-09-21",
          "2020-09-23",
          "2020-09-25",
          "2020-09-26",
          "2020-09-27",
          "2020-09-28",
          "2020-09-29",
          "2020-10-03",
          "2020-10-05",
          "2020-10-08",
          "2020-10-09",
          "2020-10-12",
          "2020-10-13",
          "2020-10-14",
          "2020-10-16",
          "2020-10-18",
          "2020-10-20",
          "2020-10-22",
          "2020-10-25",
          "2020-10-26",
          "2020-10-29",
          "2020-10-31",
          "2020-11-02",
          "2020-11-03",
          "2020-11-04",
          "2020-11-06",
          "2020-11-07",
          "2020-11-08",
          "2020-11-12",
          "2020-11-13",
          "2020-11-14",
          "2020-11-15",
          "2020-11-16",
          "2020-11-17",
          "2020-11-18",
          "2020-11-21",
          "2020-11-22",
          "2020-11-24",
          "2020-11-25",
          "2020-11-27",
          "2020-11-28",
          "2020-11-29",
          "2020-11-30",
          "2020-12-01",
          "2020-12-02",
          "2020-12-03",
          "2020-12-04",
          "2020-12-05",
          "2020-12-06",
          "2020-12-07",
          "2020-12-08",
          "2020-12-09",
          "2020-12-10",
          "2020-12-11",
          "2020-12-12",
          "2020-12-13",
          "2020-12-14",
          "2020-12-15",
          "2020-12-16",
          "2020-12-17",
          "2020-12-20",
          "2020-12-21",
          "2020-12-22",
          "2020-12-23",
          "2020-12-24",
          "2020-12-25",
          "2020-12-26",
          "2020-12-27",
          "2020-12-28",
          "2020-12-29",
          "2020-12-30",
          "2020-12-31",
          "2021-01-01",
          "2021-01-02",
          "2021-01-03",
          "2021-01-04",
          "2021-01-06",
          "2021-01-08",
          "2021-01-10",
          "2021-01-11",
          "2021-01-13",
          "2021-01-14",
          "2021-01-16",
          "2021-01-18",
          "2021-01-19",
          "2021-01-24",
          "2021-01-25",
          "2021-01-27",
          "2021-01-28",
          "2021-01-29",
          "2021-01-30",
          "2021-01-31",
          "2021-02-02",
          "2021-02-03",
          "2021-02-04",
          "2021-02-05",
          "2021-02-07",
          "2021-02-09",
          "2021-02-10",
          "2021-02-12",
          "2021-02-13",
          "2021-02-14",
          "2021-02-15",
          "2021-02-16",
          "2021-02-17",
          "2021-02-18",
          "2021-02-19",
          "2021-02-20",
          "2021-02-21",
          "2021-02-22",
          "2021-02-23",
          "2021-02-24",
          "2021-02-25",
          "2021-02-26",
          "2021-02-28",
          "2021-03-01",
          "2021-03-04",
          "2021-03-10",
          "2021-03-11",
          "2021-03-12",
          "2021-03-16",
          "2021-03-19",
          "2021-03-20",
          "2021-03-21",
          "2021-03-23",
          "2021-03-24",
          "2021-03-26",
          "2021-03-27",
          "2021-03-28",
          "2021-03-29",
          "2021-03-30",
          "2021-04-01",
          "2021-04-02",
          "2021-04-03",
          "2021-04-05",
          "2021-04-06",
          "2021-04-07",
          "2021-04-08",
          "2021-04-10",
          "2021-04-12",
          "2021-04-13",
          "2021-04-15",
          "2021-04-17",
          "2021-04-18",
          "2021-04-22",
          "2021-04-25",
          "2021-04-26",
          "2021-04-28",
          "2021-04-29",
          "2021-05-04",
          "2021-05-06",
          "2021-05-08",
          "2021-05-09",
          "2021-05-11",
          "2021-05-13",
          "2021-05-16",
          "2021-05-20",
          "2021-05-22",
          "2021-05-23",
          "2021-05-24",
          "2021-05-25",
          "2021-05-28",
          "2021-05-31",
          "2021-06-01",
          "2021-06-03",
          "2021-06-04",
          "2021-06-05",
          "2021-06-06",
          "2021-06-07",
          "2021-06-08",
          "2021-06-10",
          "2021-06-14",
          "2021-06-15",
          "2021-06-16",
          "2021-06-20",
          "2021-06-21",
          "2021-06-24",
          "2021-06-25",
          "2021-06-27",
          "2021-06-28",
          "2021-06-29",
          "2021-07-02",
          "2021-07-03",
          "2021-07-05",
          "2021-07-06",
          "2021-07-07",
          "2021-07-09",
          "2021-07-10",
          "2021-07-11",
          "2021-07-13",
          "2021-07-14",
          "2021-07-17",
          "2021-07-19",
          "2021-07-21",
          "2021-07-24",
          "2021-07-25",
          "2021-07-26",
          "2021-07-30",
          "2021-07-31",
          "2021-08-01",
          "2021-08-02",
          "2021-08-05",
          "2021-08-07",
          "2021-08-09",
          "2021-08-10",
          "2021-08-11",
          "2021-08-12",
          "2021-08-13",
          "2021-08-15",
          "2021-08-17",
          "2021-08-19",
          "2021-08-20",
          "2021-08-23",
          "2021-08-26",
          "2021-08-27",
          "2021-08-28",
          "2021-08-30",
          "2021-09-02",
          "2021-09-03",
          "2021-09-04",
          "2021-09-06",
          "2021-09-07",
          "2021-09-08",
          "2021-09-09",
          "2021-09-10",
          "2021-09-11",
          "2021-09-13",
          "2021-09-14",
          "2021-09-15",
          "2021-09-16",
          "2021-09-19",
          "2021-09-20",
          "2021-09-22",
          "2021-09-23",
          "2021-09-24",
          "2021-09-25",
          "2021-09-26",
          "2021-09-27",
          "2021-09-28",
          "2021-10-02",
          "2021-10-03",
          "2021-10-04",
          "2021-10-05",
          "2021-10-07",
          "2021-10-08",
          "2021-10-10",
          "2021-10-13",
          "2021-10-14",
          "2021-10-15",
          "2021-10-16",
          "2021-10-17",
          "2021-10-19",
          "2021-10-23",
          "2021-10-24",
          "2021-10-26",
          "2021-10-30",
          "2021-10-31",
          "2021-11-02",
          "2021-11-06",
          "2021-11-07",
          "2021-11-08",
          "2021-11-10",
          "2021-11-14",
          "2021-11-15",
          "2021-11-16",
          "2021-11-17",
          "2021-11-18",
          "2021-11-19",
          "2021-11-21",
          "2021-11-22",
          "2021-11-24",
          "2021-11-26",
          "2021-11-27",
          "2021-11-28",
          "2021-11-29",
          "2021-11-30",
          "2021-12-01",
          "2021-12-02",
          "2021-12-03",
          "2021-12-04",
          "2021-12-05",
          "2021-12-06",
          "2021-12-07",
          "2021-12-08",
          "2021-12-09",
          "2021-12-10",
          "2021-12-11",
          "2021-12-12",
          "2021-12-13",
          "2021-12-14",
          "2021-12-15",
          "2021-12-16",
          "2021-12-17",
          "2021-12-18",
          "2021-12-20",
          "2021-12-21",
          "2021-12-22",
          "2021-12-24",
          "2021-12-25",
          "2021-12-26",
          "2021-12-27",
          "2021-12-28",
          "2021-12-29",
          "2021-12-30",
          "2021-12-31",
          "2022-01-01",
          "2022-01-02",
          "2022-01-03",
          "2022-01-04",
          "2022-01-05",
          "2022-01-06",
          "2022-01-07",
          "2022-01-08",
          "2022-01-09",
          "2022-01-10",
          "2022-01-11",
          "2022-01-13",
          "2022-01-14",
          "2022-01-15",
          "2022-01-19",
          "2022-01-21",
          "2022-01-24",
          "2022-01-25",
          "2022-01-27",
          "2022-01-28",
          "2022-01-29",
          "2022-01-31",
          "2022-02-01",
          "2022-02-02",
          "2022-02-04",
          "2022-02-05",
          "2022-02-06",
          "2022-02-08",
          "2022-02-09",
          "2022-02-12",
          "2022-02-13",
          "2022-02-14",
          "2022-02-15",
          "2022-02-16",
          "2022-02-17",
          "2022-02-18",
          "2022-02-19",
          "2022-02-20",
          "2022-02-21",
          "2022-02-22",
          "2022-02-23",
          "2022-02-24",
          "2022-02-25",
          "2022-02-26",
          "2022-02-27",
          "2022-02-28",
          "2022-03-01",
          "2022-03-02",
          "2022-03-04",
          "2022-03-06",
          "2022-03-08",
          "2022-03-09",
          "2022-03-12",
          "2022-03-16",
          "2022-03-19",
          "2022-03-21",
          "2022-03-22",
          "2022-03-25",
          "2022-03-26",
          "2022-03-27",
          "2022-03-28",
          "2022-03-31",
          "2022-04-02",
          "2022-04-03",
          "2022-04-05",
          "2022-04-06",
          "2022-04-07",
          "2022-04-08",
          "2022-04-10",
          "2022-04-13",
          "2022-04-16",
          "2022-04-24"
         ],
         "xaxis": "x",
         "y": [
          2,
          1,
          1,
          2,
          1,
          1,
          1,
          1,
          1,
          1,
          1,
          1,
          1,
          1,
          1,
          1,
          1,
          1,
          2,
          1,
          3,
          4,
          2,
          2,
          1,
          3,
          1,
          1,
          1,
          1,
          1,
          2,
          1,
          2,
          1,
          1,
          2,
          2,
          1,
          2,
          1,
          2,
          1,
          2,
          1,
          1,
          1,
          1,
          1,
          1,
          1,
          1,
          2,
          1,
          2,
          1,
          2,
          2,
          1,
          1,
          2,
          5,
          2,
          1,
          1,
          1,
          4,
          8,
          15,
          12,
          10,
          7,
          13,
          5,
          7,
          2,
          8,
          6,
          4,
          3,
          4,
          2,
          3,
          3,
          3,
          3,
          1,
          1,
          3,
          3,
          3,
          5,
          11,
          9,
          6,
          8,
          14,
          6,
          9,
          9,
          9,
          8,
          4,
          9,
          4,
          1,
          1,
          1,
          3,
          1,
          2,
          1,
          1,
          1,
          1,
          1,
          1,
          1,
          1,
          2,
          1,
          1,
          1,
          1,
          2,
          2,
          2,
          1,
          2,
          2,
          1,
          1,
          4,
          3,
          3,
          1,
          4,
          7,
          5,
          8,
          7,
          11,
          7,
          6,
          6,
          9,
          3,
          4,
          2,
          1,
          2,
          1,
          2,
          2,
          2,
          1,
          2,
          1,
          1,
          1,
          1,
          3,
          2,
          1,
          2,
          1,
          1,
          1,
          2,
          2,
          1,
          2,
          1,
          1,
          1,
          2,
          1,
          2,
          1,
          2,
          3,
          1,
          1,
          3,
          1,
          1,
          2,
          2,
          1,
          1,
          3,
          1,
          2,
          1,
          1,
          1,
          1,
          1,
          1,
          5,
          1,
          1,
          3,
          1,
          1,
          1,
          2,
          2,
          3,
          1,
          1,
          3,
          1,
          1,
          1,
          2,
          1,
          1,
          2,
          1,
          2,
          1,
          1,
          2,
          2,
          2,
          2,
          1,
          1,
          1,
          1,
          1,
          1,
          1,
          1,
          1,
          1,
          1,
          1,
          1,
          2,
          1,
          3,
          2,
          1,
          3,
          1,
          1,
          4,
          2,
          1,
          1,
          1,
          1,
          1,
          1,
          2,
          1,
          1,
          2,
          1,
          2,
          1,
          1,
          1,
          1,
          3,
          1,
          2,
          1,
          1,
          3,
          1,
          1,
          1,
          3,
          1,
          3,
          2,
          1,
          2,
          2,
          1,
          2,
          2,
          1,
          3,
          1,
          3,
          1,
          2,
          2,
          2,
          2,
          1,
          1,
          5,
          3,
          2,
          2,
          2,
          2,
          1,
          1,
          16,
          16,
          16,
          5,
          7,
          9,
          3,
          3,
          7,
          5,
          1,
          4,
          3,
          3,
          1,
          2,
          4,
          1,
          5,
          2,
          2,
          1,
          1,
          1,
          8,
          9,
          11,
          12,
          10,
          9,
          6,
          6,
          9,
          6,
          6,
          3,
          1,
          2,
          1,
          1,
          1,
          1,
          1,
          2,
          1,
          2,
          1,
          2,
          2,
          1,
          4,
          2,
          1,
          1,
          3,
          1,
          3,
          1,
          2,
          1,
          2,
          4,
          7,
          6,
          3,
          13,
          4,
          8,
          4,
          5,
          2,
          3,
          1,
          4,
          2,
          3,
          3,
          1,
          2,
          1,
          2,
          1,
          2,
          2,
          1,
          1,
          2,
          2,
          1,
          1,
          1,
          3,
          1,
          1,
          1,
          1,
          2,
          1,
          1,
          1,
          2,
          1,
          1,
          1,
          2,
          1,
          2,
          2,
          1,
          3,
          1,
          1,
          2,
          1,
          1,
          1,
          2,
          1,
          2,
          2,
          2,
          1,
          1,
          2,
          2,
          1,
          1,
          2,
          1,
          2,
          2,
          2,
          1,
          1,
          1,
          1,
          1,
          1,
          1,
          1,
          1,
          1,
          2,
          2,
          1,
          1,
          1,
          1,
          1,
          1,
          1,
          2,
          1,
          1,
          1,
          1,
          2,
          2,
          1,
          2,
          1,
          3,
          1,
          1,
          1,
          1,
          1,
          1,
          1,
          2,
          2,
          1,
          1,
          2,
          2,
          1,
          1,
          2,
          2,
          1,
          1,
          1,
          1,
          2,
          1,
          1,
          1,
          3,
          1,
          1,
          3,
          1,
          1,
          2,
          1,
          2,
          1,
          1,
          1,
          1,
          2,
          3,
          1,
          1,
          2,
          1,
          1,
          1,
          1,
          1,
          1,
          2,
          1,
          1,
          2,
          2,
          2,
          1,
          1,
          1,
          2,
          1,
          2,
          3,
          4,
          2,
          3,
          2,
          3,
          2,
          1,
          4,
          10,
          19,
          9,
          14,
          11,
          8,
          4,
          3,
          6,
          5,
          2,
          2,
          1,
          2,
          4,
          4,
          3,
          3,
          4,
          2,
          6,
          3,
          4,
          2,
          2,
          12,
          11,
          11,
          16,
          13,
          12,
          9,
          8,
          4,
          7,
          7,
          2,
          1,
          4,
          3,
          4,
          1,
          1,
          1,
          1,
          1,
          2,
          2,
          2,
          1,
          1,
          1,
          2,
          1,
          1,
          1,
          2,
          3,
          1,
          1,
          2,
          2,
          5,
          2,
          7,
          10,
          12,
          7,
          9,
          4,
          3,
          3,
          1,
          6,
          4,
          4,
          2,
          3,
          2,
          2,
          1,
          1,
          1,
          1,
          1,
          1,
          1,
          1,
          1,
          1,
          2,
          1,
          1,
          2,
          1,
          1,
          1,
          1,
          1,
          1,
          2,
          1,
          1,
          1,
          1
         ],
         "yaxis": "y"
        }
       ],
       "layout": {
        "legend": {
         "title": {
          "text": "event_type"
         },
         "tracegroupgap": 0
        },
        "template": {
         "data": {
          "bar": [
           {
            "error_x": {
             "color": "#2a3f5f"
            },
            "error_y": {
             "color": "#2a3f5f"
            },
            "marker": {
             "line": {
              "color": "#E5ECF6",
              "width": 0.5
             },
             "pattern": {
              "fillmode": "overlay",
              "size": 10,
              "solidity": 0.2
             }
            },
            "type": "bar"
           }
          ],
          "barpolar": [
           {
            "marker": {
             "line": {
              "color": "#E5ECF6",
              "width": 0.5
             },
             "pattern": {
              "fillmode": "overlay",
              "size": 10,
              "solidity": 0.2
             }
            },
            "type": "barpolar"
           }
          ],
          "carpet": [
           {
            "aaxis": {
             "endlinecolor": "#2a3f5f",
             "gridcolor": "white",
             "linecolor": "white",
             "minorgridcolor": "white",
             "startlinecolor": "#2a3f5f"
            },
            "baxis": {
             "endlinecolor": "#2a3f5f",
             "gridcolor": "white",
             "linecolor": "white",
             "minorgridcolor": "white",
             "startlinecolor": "#2a3f5f"
            },
            "type": "carpet"
           }
          ],
          "choropleth": [
           {
            "colorbar": {
             "outlinewidth": 0,
             "ticks": ""
            },
            "type": "choropleth"
           }
          ],
          "contour": [
           {
            "colorbar": {
             "outlinewidth": 0,
             "ticks": ""
            },
            "colorscale": [
             [
              0,
              "#0d0887"
             ],
             [
              0.1111111111111111,
              "#46039f"
             ],
             [
              0.2222222222222222,
              "#7201a8"
             ],
             [
              0.3333333333333333,
              "#9c179e"
             ],
             [
              0.4444444444444444,
              "#bd3786"
             ],
             [
              0.5555555555555556,
              "#d8576b"
             ],
             [
              0.6666666666666666,
              "#ed7953"
             ],
             [
              0.7777777777777778,
              "#fb9f3a"
             ],
             [
              0.8888888888888888,
              "#fdca26"
             ],
             [
              1,
              "#f0f921"
             ]
            ],
            "type": "contour"
           }
          ],
          "contourcarpet": [
           {
            "colorbar": {
             "outlinewidth": 0,
             "ticks": ""
            },
            "type": "contourcarpet"
           }
          ],
          "heatmap": [
           {
            "colorbar": {
             "outlinewidth": 0,
             "ticks": ""
            },
            "colorscale": [
             [
              0,
              "#0d0887"
             ],
             [
              0.1111111111111111,
              "#46039f"
             ],
             [
              0.2222222222222222,
              "#7201a8"
             ],
             [
              0.3333333333333333,
              "#9c179e"
             ],
             [
              0.4444444444444444,
              "#bd3786"
             ],
             [
              0.5555555555555556,
              "#d8576b"
             ],
             [
              0.6666666666666666,
              "#ed7953"
             ],
             [
              0.7777777777777778,
              "#fb9f3a"
             ],
             [
              0.8888888888888888,
              "#fdca26"
             ],
             [
              1,
              "#f0f921"
             ]
            ],
            "type": "heatmap"
           }
          ],
          "heatmapgl": [
           {
            "colorbar": {
             "outlinewidth": 0,
             "ticks": ""
            },
            "colorscale": [
             [
              0,
              "#0d0887"
             ],
             [
              0.1111111111111111,
              "#46039f"
             ],
             [
              0.2222222222222222,
              "#7201a8"
             ],
             [
              0.3333333333333333,
              "#9c179e"
             ],
             [
              0.4444444444444444,
              "#bd3786"
             ],
             [
              0.5555555555555556,
              "#d8576b"
             ],
             [
              0.6666666666666666,
              "#ed7953"
             ],
             [
              0.7777777777777778,
              "#fb9f3a"
             ],
             [
              0.8888888888888888,
              "#fdca26"
             ],
             [
              1,
              "#f0f921"
             ]
            ],
            "type": "heatmapgl"
           }
          ],
          "histogram": [
           {
            "marker": {
             "pattern": {
              "fillmode": "overlay",
              "size": 10,
              "solidity": 0.2
             }
            },
            "type": "histogram"
           }
          ],
          "histogram2d": [
           {
            "colorbar": {
             "outlinewidth": 0,
             "ticks": ""
            },
            "colorscale": [
             [
              0,
              "#0d0887"
             ],
             [
              0.1111111111111111,
              "#46039f"
             ],
             [
              0.2222222222222222,
              "#7201a8"
             ],
             [
              0.3333333333333333,
              "#9c179e"
             ],
             [
              0.4444444444444444,
              "#bd3786"
             ],
             [
              0.5555555555555556,
              "#d8576b"
             ],
             [
              0.6666666666666666,
              "#ed7953"
             ],
             [
              0.7777777777777778,
              "#fb9f3a"
             ],
             [
              0.8888888888888888,
              "#fdca26"
             ],
             [
              1,
              "#f0f921"
             ]
            ],
            "type": "histogram2d"
           }
          ],
          "histogram2dcontour": [
           {
            "colorbar": {
             "outlinewidth": 0,
             "ticks": ""
            },
            "colorscale": [
             [
              0,
              "#0d0887"
             ],
             [
              0.1111111111111111,
              "#46039f"
             ],
             [
              0.2222222222222222,
              "#7201a8"
             ],
             [
              0.3333333333333333,
              "#9c179e"
             ],
             [
              0.4444444444444444,
              "#bd3786"
             ],
             [
              0.5555555555555556,
              "#d8576b"
             ],
             [
              0.6666666666666666,
              "#ed7953"
             ],
             [
              0.7777777777777778,
              "#fb9f3a"
             ],
             [
              0.8888888888888888,
              "#fdca26"
             ],
             [
              1,
              "#f0f921"
             ]
            ],
            "type": "histogram2dcontour"
           }
          ],
          "mesh3d": [
           {
            "colorbar": {
             "outlinewidth": 0,
             "ticks": ""
            },
            "type": "mesh3d"
           }
          ],
          "parcoords": [
           {
            "line": {
             "colorbar": {
              "outlinewidth": 0,
              "ticks": ""
             }
            },
            "type": "parcoords"
           }
          ],
          "pie": [
           {
            "automargin": true,
            "type": "pie"
           }
          ],
          "scatter": [
           {
            "fillpattern": {
             "fillmode": "overlay",
             "size": 10,
             "solidity": 0.2
            },
            "type": "scatter"
           }
          ],
          "scatter3d": [
           {
            "line": {
             "colorbar": {
              "outlinewidth": 0,
              "ticks": ""
             }
            },
            "marker": {
             "colorbar": {
              "outlinewidth": 0,
              "ticks": ""
             }
            },
            "type": "scatter3d"
           }
          ],
          "scattercarpet": [
           {
            "marker": {
             "colorbar": {
              "outlinewidth": 0,
              "ticks": ""
             }
            },
            "type": "scattercarpet"
           }
          ],
          "scattergeo": [
           {
            "marker": {
             "colorbar": {
              "outlinewidth": 0,
              "ticks": ""
             }
            },
            "type": "scattergeo"
           }
          ],
          "scattergl": [
           {
            "marker": {
             "colorbar": {
              "outlinewidth": 0,
              "ticks": ""
             }
            },
            "type": "scattergl"
           }
          ],
          "scattermapbox": [
           {
            "marker": {
             "colorbar": {
              "outlinewidth": 0,
              "ticks": ""
             }
            },
            "type": "scattermapbox"
           }
          ],
          "scatterpolar": [
           {
            "marker": {
             "colorbar": {
              "outlinewidth": 0,
              "ticks": ""
             }
            },
            "type": "scatterpolar"
           }
          ],
          "scatterpolargl": [
           {
            "marker": {
             "colorbar": {
              "outlinewidth": 0,
              "ticks": ""
             }
            },
            "type": "scatterpolargl"
           }
          ],
          "scatterternary": [
           {
            "marker": {
             "colorbar": {
              "outlinewidth": 0,
              "ticks": ""
             }
            },
            "type": "scatterternary"
           }
          ],
          "surface": [
           {
            "colorbar": {
             "outlinewidth": 0,
             "ticks": ""
            },
            "colorscale": [
             [
              0,
              "#0d0887"
             ],
             [
              0.1111111111111111,
              "#46039f"
             ],
             [
              0.2222222222222222,
              "#7201a8"
             ],
             [
              0.3333333333333333,
              "#9c179e"
             ],
             [
              0.4444444444444444,
              "#bd3786"
             ],
             [
              0.5555555555555556,
              "#d8576b"
             ],
             [
              0.6666666666666666,
              "#ed7953"
             ],
             [
              0.7777777777777778,
              "#fb9f3a"
             ],
             [
              0.8888888888888888,
              "#fdca26"
             ],
             [
              1,
              "#f0f921"
             ]
            ],
            "type": "surface"
           }
          ],
          "table": [
           {
            "cells": {
             "fill": {
              "color": "#EBF0F8"
             },
             "line": {
              "color": "white"
             }
            },
            "header": {
             "fill": {
              "color": "#C8D4E3"
             },
             "line": {
              "color": "white"
             }
            },
            "type": "table"
           }
          ]
         },
         "layout": {
          "annotationdefaults": {
           "arrowcolor": "#2a3f5f",
           "arrowhead": 0,
           "arrowwidth": 1
          },
          "autotypenumbers": "strict",
          "coloraxis": {
           "colorbar": {
            "outlinewidth": 0,
            "ticks": ""
           }
          },
          "colorscale": {
           "diverging": [
            [
             0,
             "#8e0152"
            ],
            [
             0.1,
             "#c51b7d"
            ],
            [
             0.2,
             "#de77ae"
            ],
            [
             0.3,
             "#f1b6da"
            ],
            [
             0.4,
             "#fde0ef"
            ],
            [
             0.5,
             "#f7f7f7"
            ],
            [
             0.6,
             "#e6f5d0"
            ],
            [
             0.7,
             "#b8e186"
            ],
            [
             0.8,
             "#7fbc41"
            ],
            [
             0.9,
             "#4d9221"
            ],
            [
             1,
             "#276419"
            ]
           ],
           "sequential": [
            [
             0,
             "#0d0887"
            ],
            [
             0.1111111111111111,
             "#46039f"
            ],
            [
             0.2222222222222222,
             "#7201a8"
            ],
            [
             0.3333333333333333,
             "#9c179e"
            ],
            [
             0.4444444444444444,
             "#bd3786"
            ],
            [
             0.5555555555555556,
             "#d8576b"
            ],
            [
             0.6666666666666666,
             "#ed7953"
            ],
            [
             0.7777777777777778,
             "#fb9f3a"
            ],
            [
             0.8888888888888888,
             "#fdca26"
            ],
            [
             1,
             "#f0f921"
            ]
           ],
           "sequentialminus": [
            [
             0,
             "#0d0887"
            ],
            [
             0.1111111111111111,
             "#46039f"
            ],
            [
             0.2222222222222222,
             "#7201a8"
            ],
            [
             0.3333333333333333,
             "#9c179e"
            ],
            [
             0.4444444444444444,
             "#bd3786"
            ],
            [
             0.5555555555555556,
             "#d8576b"
            ],
            [
             0.6666666666666666,
             "#ed7953"
            ],
            [
             0.7777777777777778,
             "#fb9f3a"
            ],
            [
             0.8888888888888888,
             "#fdca26"
            ],
            [
             1,
             "#f0f921"
            ]
           ]
          },
          "colorway": [
           "#636efa",
           "#EF553B",
           "#00cc96",
           "#ab63fa",
           "#FFA15A",
           "#19d3f3",
           "#FF6692",
           "#B6E880",
           "#FF97FF",
           "#FECB52"
          ],
          "font": {
           "color": "#2a3f5f"
          },
          "geo": {
           "bgcolor": "white",
           "lakecolor": "white",
           "landcolor": "#E5ECF6",
           "showlakes": true,
           "showland": true,
           "subunitcolor": "white"
          },
          "hoverlabel": {
           "align": "left"
          },
          "hovermode": "closest",
          "mapbox": {
           "style": "light"
          },
          "paper_bgcolor": "white",
          "plot_bgcolor": "#E5ECF6",
          "polar": {
           "angularaxis": {
            "gridcolor": "white",
            "linecolor": "white",
            "ticks": ""
           },
           "bgcolor": "#E5ECF6",
           "radialaxis": {
            "gridcolor": "white",
            "linecolor": "white",
            "ticks": ""
           }
          },
          "scene": {
           "xaxis": {
            "backgroundcolor": "#E5ECF6",
            "gridcolor": "white",
            "gridwidth": 2,
            "linecolor": "white",
            "showbackground": true,
            "ticks": "",
            "zerolinecolor": "white"
           },
           "yaxis": {
            "backgroundcolor": "#E5ECF6",
            "gridcolor": "white",
            "gridwidth": 2,
            "linecolor": "white",
            "showbackground": true,
            "ticks": "",
            "zerolinecolor": "white"
           },
           "zaxis": {
            "backgroundcolor": "#E5ECF6",
            "gridcolor": "white",
            "gridwidth": 2,
            "linecolor": "white",
            "showbackground": true,
            "ticks": "",
            "zerolinecolor": "white"
           }
          },
          "shapedefaults": {
           "line": {
            "color": "#2a3f5f"
           }
          },
          "ternary": {
           "aaxis": {
            "gridcolor": "white",
            "linecolor": "white",
            "ticks": ""
           },
           "baxis": {
            "gridcolor": "white",
            "linecolor": "white",
            "ticks": ""
           },
           "bgcolor": "#E5ECF6",
           "caxis": {
            "gridcolor": "white",
            "linecolor": "white",
            "ticks": ""
           }
          },
          "title": {
           "x": 0.05
          },
          "xaxis": {
           "automargin": true,
           "gridcolor": "white",
           "linecolor": "white",
           "ticks": "",
           "title": {
            "standoff": 15
           },
           "zerolinecolor": "white",
           "zerolinewidth": 2
          },
          "yaxis": {
           "automargin": true,
           "gridcolor": "white",
           "linecolor": "white",
           "ticks": "",
           "title": {
            "standoff": 15
           },
           "zerolinecolor": "white",
           "zerolinewidth": 2
          }
         }
        },
        "title": {
         "text": "Number of events"
        },
        "xaxis": {
         "anchor": "y",
         "domain": [
          0,
          1
         ],
         "title": {
          "text": "timestamp"
         }
        },
        "yaxis": {
         "anchor": "x",
         "domain": [
          0,
          1
         ],
         "title": {
          "text": "count"
         }
        }
       }
      }
     },
     "metadata": {},
     "output_type": "display_data"
    }
   ],
   "source": [
    "px.line(event_type_history_count, x='timestamp', y='count', color='event_type', title='Number of events')\n"
   ]
  },
  {
   "cell_type": "markdown",
   "metadata": {},
   "source": [
    "W powyzszych danych występuje **sezonowość**, co moze pozytywnie wpłynąć na późniejsze tworzenie modelu."
   ]
  },
  {
   "cell_type": "markdown",
   "metadata": {},
   "source": [
    "### Czy ilość zamówień koreluje z ilością zwrotów?"
   ]
  },
  {
   "cell_type": "markdown",
   "metadata": {},
   "source": [
    "Sprawdzenie, czy ilość zwracanych towarów koreluje z ilością zakupów na stronie"
   ]
  },
  {
   "cell_type": "code",
   "execution_count": 882,
   "metadata": {},
   "outputs": [
    {
     "name": "stdout",
     "output_type": "stream",
     "text": [
      "                           event_type_BUY_PRODUCT  event_type_RETURN_PRODUCT\n",
      "event_type_BUY_PRODUCT                   1.000000                   0.030366\n",
      "event_type_RETURN_PRODUCT                0.030366                   1.000000\n"
     ]
    },
    {
     "data": {
      "image/png": "[encoded data removed]",
      "text/plain": [
       "<Figure size 576x396 with 2 Axes>"
      ]
     },
     "metadata": {},
     "output_type": "display_data"
    }
   ],
   "source": [
    "corr_matrix = pd.get_dummies(df_concat_chosen[['timestamp', 'event_type']], columns=['event_type']).groupby('timestamp').sum().corr()\n",
    "\n",
    "sns.heatmap(corr_matrix, square=True, cmap='RdYlGn')\n",
    "print(corr_matrix)\n"
   ]
  },
  {
   "cell_type": "markdown",
   "metadata": {},
   "source": [
    "Korelacja jest praktycznie zerowa w związku z czym na początkowym etapie modelowania pominiemy ilość składanych zamówień"
   ]
  },
  {
   "cell_type": "markdown",
   "metadata": {},
   "source": [
    "# Model 1 (Naive) - bazujący wyłącznie na historii zwrotów"
   ]
  },
  {
   "cell_type": "markdown",
   "metadata": {},
   "source": [
    "## Feature engineering i preprocessing - utworzenie Pipeline"
   ]
  },
  {
   "cell_type": "markdown",
   "metadata": {},
   "source": [
    "### Usuniecie sesji kupna `event_type`: `BUY_PRODUCT`"
   ]
  },
  {
   "cell_type": "code",
   "execution_count": 883,
   "metadata": {},
   "outputs": [
    {
     "data": {
      "text/html": [
       "<div>\n",
       "<style scoped>\n",
       "    .dataframe tbody tr th:only-of-type {\n",
       "        vertical-align: middle;\n",
       "    }\n",
       "\n",
       "    .dataframe tbody tr th {\n",
       "        vertical-align: top;\n",
       "    }\n",
       "\n",
       "    .dataframe thead th {\n",
       "        text-align: right;\n",
       "    }\n",
       "</style>\n",
       "<table border=\"1\" class=\"dataframe\">\n",
       "  <thead>\n",
       "    <tr style=\"text-align: right;\">\n",
       "      <th></th>\n",
       "      <th>timestamp</th>\n",
       "      <th>event_type</th>\n",
       "      <th>category_path</th>\n",
       "      <th>price</th>\n",
       "      <th>brand</th>\n",
       "      <th>weight_kg</th>\n",
       "      <th>city</th>\n",
       "    </tr>\n",
       "  </thead>\n",
       "  <tbody>\n",
       "    <tr>\n",
       "      <th>1</th>\n",
       "      <td>2020-02-08</td>\n",
       "      <td>RETURN_PRODUCT</td>\n",
       "      <td>Podzespoły komputerowe;Pamięć RAM</td>\n",
       "      <td>278.99</td>\n",
       "      <td>Goodram</td>\n",
       "      <td>0.029</td>\n",
       "      <td>Szczecin</td>\n",
       "    </tr>\n",
       "    <tr>\n",
       "      <th>11</th>\n",
       "      <td>2020-10-14</td>\n",
       "      <td>RETURN_PRODUCT</td>\n",
       "      <td>Tablety;Urządzenia</td>\n",
       "      <td>99.00</td>\n",
       "      <td>Lenovo</td>\n",
       "      <td>0.930</td>\n",
       "      <td>Szczecin</td>\n",
       "    </tr>\n",
       "    <tr>\n",
       "      <th>26</th>\n",
       "      <td>2021-11-27</td>\n",
       "      <td>RETURN_PRODUCT</td>\n",
       "      <td>Myszki;Bezprzewodowe</td>\n",
       "      <td>247.27</td>\n",
       "      <td>Razer</td>\n",
       "      <td>0.180</td>\n",
       "      <td>Radom</td>\n",
       "    </tr>\n",
       "    <tr>\n",
       "      <th>31</th>\n",
       "      <td>2021-12-07</td>\n",
       "      <td>RETURN_PRODUCT</td>\n",
       "      <td>Monitory komputerowe;Monitory</td>\n",
       "      <td>869.00</td>\n",
       "      <td>AOC</td>\n",
       "      <td>9.600</td>\n",
       "      <td>Radom</td>\n",
       "    </tr>\n",
       "    <tr>\n",
       "      <th>35</th>\n",
       "      <td>2020-10-18</td>\n",
       "      <td>RETURN_PRODUCT</td>\n",
       "      <td>Podzespoły komputerowe;Pamięć RAM</td>\n",
       "      <td>158.00</td>\n",
       "      <td>Kingston</td>\n",
       "      <td>0.052</td>\n",
       "      <td>Radom</td>\n",
       "    </tr>\n",
       "  </tbody>\n",
       "</table>\n",
       "</div>"
      ],
      "text/plain": [
       "     timestamp      event_type                      category_path   price  \\\n",
       "1   2020-02-08  RETURN_PRODUCT  Podzespoły komputerowe;Pamięć RAM  278.99   \n",
       "11  2020-10-14  RETURN_PRODUCT                 Tablety;Urządzenia   99.00   \n",
       "26  2021-11-27  RETURN_PRODUCT               Myszki;Bezprzewodowe  247.27   \n",
       "31  2021-12-07  RETURN_PRODUCT      Monitory komputerowe;Monitory  869.00   \n",
       "35  2020-10-18  RETURN_PRODUCT  Podzespoły komputerowe;Pamięć RAM  158.00   \n",
       "\n",
       "       brand  weight_kg      city  \n",
       "1    Goodram      0.029  Szczecin  \n",
       "11    Lenovo      0.930  Szczecin  \n",
       "26     Razer      0.180     Radom  \n",
       "31       AOC      9.600     Radom  \n",
       "35  Kingston      0.052     Radom  "
      ]
     },
     "execution_count": 883,
     "metadata": {},
     "output_type": "execute_result"
    }
   ],
   "source": [
    "df_returns = df_concat_chosen[df_concat_chosen['event_type'] == 'RETURN_PRODUCT']\n",
    "df_returns.head()\n"
   ]
  },
  {
   "cell_type": "code",
   "execution_count": 884,
   "metadata": {},
   "outputs": [
    {
     "data": {
      "text/plain": [
       "(1661, 7)"
      ]
     },
     "execution_count": 884,
     "metadata": {},
     "output_type": "execute_result"
    }
   ],
   "source": [
    "df_returns.shape"
   ]
  },
  {
   "cell_type": "markdown",
   "metadata": {},
   "source": [
    "### Dodanie wcześniej wyznaczonego czasu zwrotu do danych"
   ]
  },
  {
   "cell_type": "code",
   "execution_count": 885,
   "metadata": {},
   "outputs": [
    {
     "data": {
      "text/html": [
       "<div>\n",
       "<style scoped>\n",
       "    .dataframe tbody tr th:only-of-type {\n",
       "        vertical-align: middle;\n",
       "    }\n",
       "\n",
       "    .dataframe tbody tr th {\n",
       "        vertical-align: top;\n",
       "    }\n",
       "\n",
       "    .dataframe thead th {\n",
       "        text-align: right;\n",
       "    }\n",
       "</style>\n",
       "<table border=\"1\" class=\"dataframe\">\n",
       "  <thead>\n",
       "    <tr style=\"text-align: right;\">\n",
       "      <th></th>\n",
       "      <th>timestamp</th>\n",
       "      <th>event_type</th>\n",
       "      <th>category_path</th>\n",
       "      <th>price</th>\n",
       "      <th>brand</th>\n",
       "      <th>weight_kg</th>\n",
       "      <th>city</th>\n",
       "    </tr>\n",
       "  </thead>\n",
       "  <tbody>\n",
       "    <tr>\n",
       "      <th>1</th>\n",
       "      <td>2020-02-12</td>\n",
       "      <td>RETURN_PRODUCT</td>\n",
       "      <td>Podzespoły komputerowe;Pamięć RAM</td>\n",
       "      <td>278.99</td>\n",
       "      <td>Goodram</td>\n",
       "      <td>0.029</td>\n",
       "      <td>Szczecin</td>\n",
       "    </tr>\n",
       "    <tr>\n",
       "      <th>11</th>\n",
       "      <td>2020-10-18</td>\n",
       "      <td>RETURN_PRODUCT</td>\n",
       "      <td>Tablety;Urządzenia</td>\n",
       "      <td>99.00</td>\n",
       "      <td>Lenovo</td>\n",
       "      <td>0.930</td>\n",
       "      <td>Szczecin</td>\n",
       "    </tr>\n",
       "    <tr>\n",
       "      <th>26</th>\n",
       "      <td>2021-12-01</td>\n",
       "      <td>RETURN_PRODUCT</td>\n",
       "      <td>Myszki;Bezprzewodowe</td>\n",
       "      <td>247.27</td>\n",
       "      <td>Razer</td>\n",
       "      <td>0.180</td>\n",
       "      <td>Radom</td>\n",
       "    </tr>\n",
       "    <tr>\n",
       "      <th>31</th>\n",
       "      <td>2021-12-11</td>\n",
       "      <td>RETURN_PRODUCT</td>\n",
       "      <td>Monitory komputerowe;Monitory</td>\n",
       "      <td>869.00</td>\n",
       "      <td>AOC</td>\n",
       "      <td>9.600</td>\n",
       "      <td>Radom</td>\n",
       "    </tr>\n",
       "    <tr>\n",
       "      <th>35</th>\n",
       "      <td>2020-10-22</td>\n",
       "      <td>RETURN_PRODUCT</td>\n",
       "      <td>Podzespoły komputerowe;Pamięć RAM</td>\n",
       "      <td>158.00</td>\n",
       "      <td>Kingston</td>\n",
       "      <td>0.052</td>\n",
       "      <td>Radom</td>\n",
       "    </tr>\n",
       "  </tbody>\n",
       "</table>\n",
       "</div>"
      ],
      "text/plain": [
       "     timestamp      event_type                      category_path   price  \\\n",
       "1   2020-02-12  RETURN_PRODUCT  Podzespoły komputerowe;Pamięć RAM  278.99   \n",
       "11  2020-10-18  RETURN_PRODUCT                 Tablety;Urządzenia   99.00   \n",
       "26  2021-12-01  RETURN_PRODUCT               Myszki;Bezprzewodowe  247.27   \n",
       "31  2021-12-11  RETURN_PRODUCT      Monitory komputerowe;Monitory  869.00   \n",
       "35  2020-10-22  RETURN_PRODUCT  Podzespoły komputerowe;Pamięć RAM  158.00   \n",
       "\n",
       "       brand  weight_kg      city  \n",
       "1    Goodram      0.029  Szczecin  \n",
       "11    Lenovo      0.930  Szczecin  \n",
       "26     Razer      0.180     Radom  \n",
       "31       AOC      9.600     Radom  \n",
       "35  Kingston      0.052     Radom  "
      ]
     },
     "execution_count": 885,
     "metadata": {},
     "output_type": "execute_result"
    }
   ],
   "source": [
    "df_returns['timestamp'] = df_returns['timestamp'] + timedelta(days=median_delivery_days)\n",
    "df_returns.head()\n"
   ]
  },
  {
   "cell_type": "markdown",
   "metadata": {},
   "source": [
    "### Usunięcie zbędnych kolumn"
   ]
  },
  {
   "cell_type": "code",
   "execution_count": 886,
   "metadata": {},
   "outputs": [
    {
     "data": {
      "text/html": [
       "<div>\n",
       "<style scoped>\n",
       "    .dataframe tbody tr th:only-of-type {\n",
       "        vertical-align: middle;\n",
       "    }\n",
       "\n",
       "    .dataframe tbody tr th {\n",
       "        vertical-align: top;\n",
       "    }\n",
       "\n",
       "    .dataframe thead th {\n",
       "        text-align: right;\n",
       "    }\n",
       "</style>\n",
       "<table border=\"1\" class=\"dataframe\">\n",
       "  <thead>\n",
       "    <tr style=\"text-align: right;\">\n",
       "      <th></th>\n",
       "      <th>timestamp</th>\n",
       "      <th>event_type</th>\n",
       "    </tr>\n",
       "  </thead>\n",
       "  <tbody>\n",
       "    <tr>\n",
       "      <th>1</th>\n",
       "      <td>2020-02-12</td>\n",
       "      <td>RETURN_PRODUCT</td>\n",
       "    </tr>\n",
       "    <tr>\n",
       "      <th>11</th>\n",
       "      <td>2020-10-18</td>\n",
       "      <td>RETURN_PRODUCT</td>\n",
       "    </tr>\n",
       "    <tr>\n",
       "      <th>26</th>\n",
       "      <td>2021-12-01</td>\n",
       "      <td>RETURN_PRODUCT</td>\n",
       "    </tr>\n",
       "    <tr>\n",
       "      <th>31</th>\n",
       "      <td>2021-12-11</td>\n",
       "      <td>RETURN_PRODUCT</td>\n",
       "    </tr>\n",
       "    <tr>\n",
       "      <th>35</th>\n",
       "      <td>2020-10-22</td>\n",
       "      <td>RETURN_PRODUCT</td>\n",
       "    </tr>\n",
       "  </tbody>\n",
       "</table>\n",
       "</div>"
      ],
      "text/plain": [
       "     timestamp      event_type\n",
       "1   2020-02-12  RETURN_PRODUCT\n",
       "11  2020-10-18  RETURN_PRODUCT\n",
       "26  2021-12-01  RETURN_PRODUCT\n",
       "31  2021-12-11  RETURN_PRODUCT\n",
       "35  2020-10-22  RETURN_PRODUCT"
      ]
     },
     "execution_count": 886,
     "metadata": {},
     "output_type": "execute_result"
    }
   ],
   "source": [
    "df_model_1 = df_returns.drop(['price', 'brand', 'weight_kg', 'city', 'category_path'], axis=1)\n",
    "df_model_1.head()\n"
   ]
  },
  {
   "cell_type": "markdown",
   "metadata": {},
   "source": [
    "### Dodanie etykiet (labeli) - zliczenie dziennej ilości zwrotów"
   ]
  },
  {
   "cell_type": "code",
   "execution_count": 887,
   "metadata": {},
   "outputs": [
    {
     "data": {
      "text/html": [
       "<div>\n",
       "<style scoped>\n",
       "    .dataframe tbody tr th:only-of-type {\n",
       "        vertical-align: middle;\n",
       "    }\n",
       "\n",
       "    .dataframe tbody tr th {\n",
       "        vertical-align: top;\n",
       "    }\n",
       "\n",
       "    .dataframe thead th {\n",
       "        text-align: right;\n",
       "    }\n",
       "</style>\n",
       "<table border=\"1\" class=\"dataframe\">\n",
       "  <thead>\n",
       "    <tr style=\"text-align: right;\">\n",
       "      <th></th>\n",
       "      <th>num_returns</th>\n",
       "    </tr>\n",
       "    <tr>\n",
       "      <th>timestamp</th>\n",
       "      <th></th>\n",
       "    </tr>\n",
       "  </thead>\n",
       "  <tbody>\n",
       "    <tr>\n",
       "      <th>2019-08-16</th>\n",
       "      <td>2</td>\n",
       "    </tr>\n",
       "    <tr>\n",
       "      <th>2019-08-19</th>\n",
       "      <td>1</td>\n",
       "    </tr>\n",
       "    <tr>\n",
       "      <th>2019-08-20</th>\n",
       "      <td>1</td>\n",
       "    </tr>\n",
       "    <tr>\n",
       "      <th>2019-08-25</th>\n",
       "      <td>2</td>\n",
       "    </tr>\n",
       "    <tr>\n",
       "      <th>2019-08-28</th>\n",
       "      <td>1</td>\n",
       "    </tr>\n",
       "  </tbody>\n",
       "</table>\n",
       "</div>"
      ],
      "text/plain": [
       "            num_returns\n",
       "timestamp              \n",
       "2019-08-16            2\n",
       "2019-08-19            1\n",
       "2019-08-20            1\n",
       "2019-08-25            2\n",
       "2019-08-28            1"
      ]
     },
     "execution_count": 887,
     "metadata": {},
     "output_type": "execute_result"
    }
   ],
   "source": [
    "df_model_1 = df_model_1.groupby('timestamp').count()\n",
    "df_model_1.rename(columns={'event_type': 'num_returns'}, inplace=True)\n",
    "df_model_1.head()"
   ]
  },
  {
   "cell_type": "markdown",
   "metadata": {},
   "source": [
    "### Posortowanie danych po dacie"
   ]
  },
  {
   "cell_type": "code",
   "execution_count": 888,
   "metadata": {},
   "outputs": [],
   "source": [
    "df_model_1.sort_index(inplace=True)"
   ]
  },
  {
   "cell_type": "markdown",
   "metadata": {},
   "source": [
    "### Zapewnienie stałej częstotliwości"
   ]
  },
  {
   "cell_type": "markdown",
   "metadata": {},
   "source": [
    "Zgodnie z załozeniami, model ma przewidywać dzienną ilość zwrotów, na 2 tygodnie w przód. Nalezy zatem zbiór danych zmodyfikować w ten sposób, aby widniały w nim dane pochodzące z kazdego dnia od początku, do końca przedziału. W dni nieuwzględnione w dotychczasowych danych wpiszemy 0, gdyz nie dochodziło wtedy do zadnych zwrotów. Zakładamy, ze magazyn pracuje 7 dni w tygodniu, stąd tez nie musimy wyróniać dni pracujących."
   ]
  },
  {
   "cell_type": "code",
   "execution_count": 889,
   "metadata": {},
   "outputs": [
    {
     "name": "stdout",
     "output_type": "stream",
     "text": [
      "Zakres modelowanych danych:\n"
     ]
    },
    {
     "data": {
      "text/plain": [
       "(datetime.date(2019, 8, 16), datetime.date(2022, 4, 28))"
      ]
     },
     "execution_count": 889,
     "metadata": {},
     "output_type": "execute_result"
    }
   ],
   "source": [
    "print('Zakres modelowanych danych:')\n",
    "df_model_1.index.min(), df_model_1.index.max()\n"
   ]
  },
  {
   "cell_type": "markdown",
   "metadata": {},
   "source": [
    "Dostępne dane pochodzą z okresu prawie 3 lat, co powinno umozliwić bezproblemowe podzielenie zbioru danych na treningowy oraz walidacyjny."
   ]
  },
  {
   "cell_type": "code",
   "execution_count": 890,
   "metadata": {},
   "outputs": [
    {
     "name": "stdout",
     "output_type": "stream",
     "text": [
      "Ilość danych przed transformacją 641\n",
      "Ilość danych po transformacji 987\n"
     ]
    }
   ],
   "source": [
    "df_model_1_daily = df_model_1.copy()\n",
    "df_model_1_daily = df_model_1.asfreq('d', fill_value=0)\n",
    "\n",
    "print(f'Ilość danych przed transformacją {df_model_1.shape[0]}')\n",
    "print(f'Ilość danych po transformacji {df_model_1_daily.shape[0]}')\n"
   ]
  },
  {
   "cell_type": "code",
   "execution_count": 891,
   "metadata": {
    "scrolled": true
   },
   "outputs": [
    {
     "data": {
      "text/html": [
       "<div>\n",
       "<style scoped>\n",
       "    .dataframe tbody tr th:only-of-type {\n",
       "        vertical-align: middle;\n",
       "    }\n",
       "\n",
       "    .dataframe tbody tr th {\n",
       "        vertical-align: top;\n",
       "    }\n",
       "\n",
       "    .dataframe thead th {\n",
       "        text-align: right;\n",
       "    }\n",
       "</style>\n",
       "<table border=\"1\" class=\"dataframe\">\n",
       "  <thead>\n",
       "    <tr style=\"text-align: right;\">\n",
       "      <th></th>\n",
       "      <th>timestamp</th>\n",
       "      <th>num_returns</th>\n",
       "    </tr>\n",
       "  </thead>\n",
       "  <tbody>\n",
       "    <tr>\n",
       "      <th>0</th>\n",
       "      <td>2019-08-16</td>\n",
       "      <td>2</td>\n",
       "    </tr>\n",
       "    <tr>\n",
       "      <th>1</th>\n",
       "      <td>2019-08-17</td>\n",
       "      <td>0</td>\n",
       "    </tr>\n",
       "    <tr>\n",
       "      <th>2</th>\n",
       "      <td>2019-08-18</td>\n",
       "      <td>0</td>\n",
       "    </tr>\n",
       "    <tr>\n",
       "      <th>3</th>\n",
       "      <td>2019-08-19</td>\n",
       "      <td>1</td>\n",
       "    </tr>\n",
       "    <tr>\n",
       "      <th>4</th>\n",
       "      <td>2019-08-20</td>\n",
       "      <td>1</td>\n",
       "    </tr>\n",
       "  </tbody>\n",
       "</table>\n",
       "</div>"
      ],
      "text/plain": [
       "   timestamp  num_returns\n",
       "0 2019-08-16            2\n",
       "1 2019-08-17            0\n",
       "2 2019-08-18            0\n",
       "3 2019-08-19            1\n",
       "4 2019-08-20            1"
      ]
     },
     "execution_count": 891,
     "metadata": {},
     "output_type": "execute_result"
    }
   ],
   "source": [
    "df_model_1_prep = df_model_1_daily.copy()\n",
    "df_model_1_prep = df_model_1_prep.reset_index()\n",
    "df_model_1_prep.head()\n"
   ]
  },
  {
   "cell_type": "code",
   "execution_count": 892,
   "metadata": {},
   "outputs": [],
   "source": [
    "df_model_1_prep['day'] = df_model_1_prep['timestamp'].dt.day\n",
    "df_model_1_prep['month'] = df_model_1_prep['timestamp'].dt.month\n",
    "df_model_1_prep['year'] = df_model_1_prep['timestamp'].dt.year\n",
    "df_model_1_prep.drop('timestamp', axis=1, inplace=True)\n"
   ]
  },
  {
   "cell_type": "code",
   "execution_count": 893,
   "metadata": {},
   "outputs": [
    {
     "data": {
      "text/html": [
       "<div>\n",
       "<style scoped>\n",
       "    .dataframe tbody tr th:only-of-type {\n",
       "        vertical-align: middle;\n",
       "    }\n",
       "\n",
       "    .dataframe tbody tr th {\n",
       "        vertical-align: top;\n",
       "    }\n",
       "\n",
       "    .dataframe thead th {\n",
       "        text-align: right;\n",
       "    }\n",
       "</style>\n",
       "<table border=\"1\" class=\"dataframe\">\n",
       "  <thead>\n",
       "    <tr style=\"text-align: right;\">\n",
       "      <th></th>\n",
       "      <th>num_returns</th>\n",
       "      <th>day</th>\n",
       "      <th>month</th>\n",
       "      <th>year</th>\n",
       "    </tr>\n",
       "  </thead>\n",
       "  <tbody>\n",
       "    <tr>\n",
       "      <th>0</th>\n",
       "      <td>2</td>\n",
       "      <td>16</td>\n",
       "      <td>8</td>\n",
       "      <td>2019</td>\n",
       "    </tr>\n",
       "    <tr>\n",
       "      <th>1</th>\n",
       "      <td>0</td>\n",
       "      <td>17</td>\n",
       "      <td>8</td>\n",
       "      <td>2019</td>\n",
       "    </tr>\n",
       "    <tr>\n",
       "      <th>2</th>\n",
       "      <td>0</td>\n",
       "      <td>18</td>\n",
       "      <td>8</td>\n",
       "      <td>2019</td>\n",
       "    </tr>\n",
       "    <tr>\n",
       "      <th>3</th>\n",
       "      <td>1</td>\n",
       "      <td>19</td>\n",
       "      <td>8</td>\n",
       "      <td>2019</td>\n",
       "    </tr>\n",
       "    <tr>\n",
       "      <th>4</th>\n",
       "      <td>1</td>\n",
       "      <td>20</td>\n",
       "      <td>8</td>\n",
       "      <td>2019</td>\n",
       "    </tr>\n",
       "  </tbody>\n",
       "</table>\n",
       "</div>"
      ],
      "text/plain": [
       "   num_returns  day  month  year\n",
       "0            2   16      8  2019\n",
       "1            0   17      8  2019\n",
       "2            0   18      8  2019\n",
       "3            1   19      8  2019\n",
       "4            1   20      8  2019"
      ]
     },
     "execution_count": 893,
     "metadata": {},
     "output_type": "execute_result"
    }
   ],
   "source": [
    "df_model_1_prep.head()"
   ]
  },
  {
   "cell_type": "markdown",
   "metadata": {},
   "source": [
    "## Rozdzielenie danych"
   ]
  },
  {
   "cell_type": "markdown",
   "metadata": {},
   "source": [
    "Rozdzielenie danych na atrybuty i etykiety"
   ]
  },
  {
   "cell_type": "markdown",
   "metadata": {},
   "source": [
    "- Atrybuty"
   ]
  },
  {
   "cell_type": "code",
   "execution_count": 894,
   "metadata": {},
   "outputs": [
    {
     "data": {
      "text/plain": [
       "(987, 3)"
      ]
     },
     "execution_count": 894,
     "metadata": {},
     "output_type": "execute_result"
    }
   ],
   "source": [
    "X = df_model_1_prep.drop(['num_returns'], axis=1)\n",
    "X.shape"
   ]
  },
  {
   "cell_type": "markdown",
   "metadata": {},
   "source": [
    "- Etykiety"
   ]
  },
  {
   "cell_type": "code",
   "execution_count": 895,
   "metadata": {},
   "outputs": [
    {
     "data": {
      "text/plain": [
       "(987,)"
      ]
     },
     "execution_count": 895,
     "metadata": {},
     "output_type": "execute_result"
    }
   ],
   "source": [
    "y = df_model_1_prep['num_returns'].to_numpy()\n",
    "y.shape"
   ]
  },
  {
   "cell_type": "markdown",
   "metadata": {},
   "source": [
    "## Podział na zbiory"
   ]
  },
  {
   "cell_type": "markdown",
   "metadata": {},
   "source": [
    "Podział na zbiór treningowy oraz testowy"
   ]
  },
  {
   "cell_type": "markdown",
   "metadata": {},
   "source": [
    "Podczas definiowania analitycznych kryterów sukcesu, wyznaczona dokładność wynosiła do 5 zwrotów na 2 tygodnie. Podzielimy zatem dane, na zbiór treningowy (~85%) oraz walidacyjny (140 dni ~ 14%)"
   ]
  },
  {
   "cell_type": "code",
   "execution_count": 896,
   "metadata": {},
   "outputs": [
    {
     "data": {
      "text/plain": [
       "847"
      ]
     },
     "execution_count": 896,
     "metadata": {},
     "output_type": "execute_result"
    }
   ],
   "source": [
    "boundary_idx = len(df_model_1_prep) - (int((len(df_model_1_prep) / 14) - (0.85 * (len(df_model_1_prep) / 14))) * 14)\n",
    "boundary_idx\n"
   ]
  },
  {
   "cell_type": "code",
   "execution_count": 897,
   "metadata": {},
   "outputs": [],
   "source": [
    "# boundary_idx = int(0.85 * len(df_model_1_prep['timestamp']))\n",
    "# boundary = df_model_1_prep[\"timestamp\"][boundary_idx]\n",
    "# print(f'The split boundary is {boundary}')\n"
   ]
  },
  {
   "cell_type": "code",
   "execution_count": 898,
   "metadata": {},
   "outputs": [],
   "source": [
    "# boundary = X[\"timestamp\"].max() - timedelta(days=180)\n",
    "# boundary_idx = X[X['timestamp'] == boundary].index.to_list()[0] + 1\n",
    "# print(f'The split boundary is {boundary}')"
   ]
  },
  {
   "cell_type": "markdown",
   "metadata": {},
   "source": [
    "- Train"
   ]
  },
  {
   "cell_type": "code",
   "execution_count": 899,
   "metadata": {},
   "outputs": [
    {
     "data": {
      "text/plain": [
       "((847, 3), (847,))"
      ]
     },
     "execution_count": 899,
     "metadata": {},
     "output_type": "execute_result"
    }
   ],
   "source": [
    "X_train, y_train = X[:boundary_idx], y[:boundary_idx]\n",
    "X_train.shape, y_train.shape\n"
   ]
  },
  {
   "cell_type": "code",
   "execution_count": 900,
   "metadata": {},
   "outputs": [
    {
     "data": {
      "text/html": [
       "<div>\n",
       "<style scoped>\n",
       "    .dataframe tbody tr th:only-of-type {\n",
       "        vertical-align: middle;\n",
       "    }\n",
       "\n",
       "    .dataframe tbody tr th {\n",
       "        vertical-align: top;\n",
       "    }\n",
       "\n",
       "    .dataframe thead th {\n",
       "        text-align: right;\n",
       "    }\n",
       "</style>\n",
       "<table border=\"1\" class=\"dataframe\">\n",
       "  <thead>\n",
       "    <tr style=\"text-align: right;\">\n",
       "      <th></th>\n",
       "      <th>day</th>\n",
       "      <th>month</th>\n",
       "      <th>year</th>\n",
       "    </tr>\n",
       "  </thead>\n",
       "  <tbody>\n",
       "    <tr>\n",
       "      <th>0</th>\n",
       "      <td>16</td>\n",
       "      <td>8</td>\n",
       "      <td>2019</td>\n",
       "    </tr>\n",
       "    <tr>\n",
       "      <th>1</th>\n",
       "      <td>17</td>\n",
       "      <td>8</td>\n",
       "      <td>2019</td>\n",
       "    </tr>\n",
       "    <tr>\n",
       "      <th>2</th>\n",
       "      <td>18</td>\n",
       "      <td>8</td>\n",
       "      <td>2019</td>\n",
       "    </tr>\n",
       "    <tr>\n",
       "      <th>3</th>\n",
       "      <td>19</td>\n",
       "      <td>8</td>\n",
       "      <td>2019</td>\n",
       "    </tr>\n",
       "    <tr>\n",
       "      <th>4</th>\n",
       "      <td>20</td>\n",
       "      <td>8</td>\n",
       "      <td>2019</td>\n",
       "    </tr>\n",
       "  </tbody>\n",
       "</table>\n",
       "</div>"
      ],
      "text/plain": [
       "   day  month  year\n",
       "0   16      8  2019\n",
       "1   17      8  2019\n",
       "2   18      8  2019\n",
       "3   19      8  2019\n",
       "4   20      8  2019"
      ]
     },
     "execution_count": 900,
     "metadata": {},
     "output_type": "execute_result"
    }
   ],
   "source": [
    "X_train.head()\n"
   ]
  },
  {
   "cell_type": "markdown",
   "metadata": {},
   "source": [
    "- Validation"
   ]
  },
  {
   "cell_type": "code",
   "execution_count": 901,
   "metadata": {},
   "outputs": [
    {
     "data": {
      "text/plain": [
       "((140, 3), (140,))"
      ]
     },
     "execution_count": 901,
     "metadata": {},
     "output_type": "execute_result"
    }
   ],
   "source": [
    "X_valid, y_valid = X[boundary_idx:], y[boundary_idx:]\n",
    "X_valid.shape, y_valid.shape\n"
   ]
  },
  {
   "cell_type": "code",
   "execution_count": 902,
   "metadata": {},
   "outputs": [
    {
     "data": {
      "text/html": [
       "<div>\n",
       "<style scoped>\n",
       "    .dataframe tbody tr th:only-of-type {\n",
       "        vertical-align: middle;\n",
       "    }\n",
       "\n",
       "    .dataframe tbody tr th {\n",
       "        vertical-align: top;\n",
       "    }\n",
       "\n",
       "    .dataframe thead th {\n",
       "        text-align: right;\n",
       "    }\n",
       "</style>\n",
       "<table border=\"1\" class=\"dataframe\">\n",
       "  <thead>\n",
       "    <tr style=\"text-align: right;\">\n",
       "      <th></th>\n",
       "      <th>day</th>\n",
       "      <th>month</th>\n",
       "      <th>year</th>\n",
       "    </tr>\n",
       "  </thead>\n",
       "  <tbody>\n",
       "    <tr>\n",
       "      <th>847</th>\n",
       "      <td>10</td>\n",
       "      <td>12</td>\n",
       "      <td>2021</td>\n",
       "    </tr>\n",
       "    <tr>\n",
       "      <th>848</th>\n",
       "      <td>11</td>\n",
       "      <td>12</td>\n",
       "      <td>2021</td>\n",
       "    </tr>\n",
       "    <tr>\n",
       "      <th>849</th>\n",
       "      <td>12</td>\n",
       "      <td>12</td>\n",
       "      <td>2021</td>\n",
       "    </tr>\n",
       "    <tr>\n",
       "      <th>850</th>\n",
       "      <td>13</td>\n",
       "      <td>12</td>\n",
       "      <td>2021</td>\n",
       "    </tr>\n",
       "    <tr>\n",
       "      <th>851</th>\n",
       "      <td>14</td>\n",
       "      <td>12</td>\n",
       "      <td>2021</td>\n",
       "    </tr>\n",
       "  </tbody>\n",
       "</table>\n",
       "</div>"
      ],
      "text/plain": [
       "     day  month  year\n",
       "847   10     12  2021\n",
       "848   11     12  2021\n",
       "849   12     12  2021\n",
       "850   13     12  2021\n",
       "851   14     12  2021"
      ]
     },
     "execution_count": 902,
     "metadata": {},
     "output_type": "execute_result"
    }
   ],
   "source": [
    "X_valid.head()"
   ]
  },
  {
   "cell_type": "markdown",
   "metadata": {},
   "source": [
    "## Dodanie cykliczności"
   ]
  },
  {
   "cell_type": "markdown",
   "metadata": {},
   "source": [
    "Dostarczone dane są cykliczne (dni, miesiące są powtarzalne). Niemniej jednak, owa cykliczność nie zostanie \"zrozumiana\" przez tworzone modele.\n",
    "\n",
    "W celu cyklicznej reprezentacji danych, która będzie \"rozumiana\" przez tworzone modele posłuzymy się metodą przedstawioną w [ponizszym artykule](https://ianlondon.github.io/blog/encoding-cyclical-features-24hour-time/)."
   ]
  },
  {
   "cell_type": "code",
   "execution_count": 903,
   "metadata": {},
   "outputs": [],
   "source": [
    "class CycleTransformer:\n",
    "    \"\"\"Creates 2 new columns to represent cyclic data.\n",
    "    Applies sine and cosine function to the original column \n",
    "    \"\"\"\n",
    "\n",
    "    def __init__(self, columns, num_unique_list):\n",
    "        \"\"\"Initializes the CycleTransformer object.\n",
    "\n",
    "        Args:\n",
    "            columns (list): list of column names which to transform\n",
    "            num_unique (list[int]): list containing the number of unique values that each feature can have\n",
    "        \"\"\"\n",
    "        self.num_unique_list = num_unique_list\n",
    "        self.columns = columns\n",
    "\n",
    "    def fit(self):\n",
    "        return self\n",
    "\n",
    "    def fit_transform(self, X, y=None):\n",
    "        return self.transform(X, y)\n",
    "\n",
    "    def transform(self, X, y=None):\n",
    "        \"\"\"Creates 2 new columns, drops the original column\n",
    "\n",
    "        Args:\n",
    "            X (pd.DataFrame): _description_\n",
    "            y (list, optional): _description_. Defaults to None.\n",
    "        \"\"\"\n",
    "\n",
    "        X_new = X.copy()\n",
    "\n",
    "        for column, num_unique in zip(self.columns, self.num_unique_list):\n",
    "\n",
    "            X_new[f'{column}_sin'] = np.sin(2 * np.pi * X_new[column] / num_unique)\n",
    "            X_new[f'{column}_cos'] = np.cos(2 * np.pi * X_new[column] / num_unique)\n",
    "            X_new.drop(column, axis=1, inplace=True)\n",
    "        return X_new"
   ]
  },
  {
   "cell_type": "markdown",
   "metadata": {},
   "source": [
    "## Skalowanie"
   ]
  },
  {
   "cell_type": "code",
   "execution_count": 904,
   "metadata": {},
   "outputs": [],
   "source": [
    "from sklearn.preprocessing import MinMaxScaler"
   ]
  },
  {
   "cell_type": "markdown",
   "metadata": {},
   "source": [
    "## Pipeline"
   ]
  },
  {
   "cell_type": "code",
   "execution_count": 905,
   "metadata": {},
   "outputs": [],
   "source": [
    "from sklearn.pipeline import Pipeline"
   ]
  },
  {
   "cell_type": "code",
   "execution_count": 906,
   "metadata": {},
   "outputs": [],
   "source": [
    "feature_pipeline = Pipeline(steps=[\n",
    "    ('cyclic_transform', CycleTransformer(columns=['day', 'month'], num_unique_list=[MAX_MONTH_DAYS, NUM_MONTHS])),\n",
    "    ('scaling', MinMaxScaler())\n",
    "    ])"
   ]
  },
  {
   "cell_type": "code",
   "execution_count": 907,
   "metadata": {},
   "outputs": [],
   "source": [
    "X_train_prep = feature_pipeline.fit_transform(X_train, y_train)\n"
   ]
  },
  {
   "cell_type": "code",
   "execution_count": 908,
   "metadata": {},
   "outputs": [
    {
     "data": {
      "text/html": [
       "<div>\n",
       "<style scoped>\n",
       "    .dataframe tbody tr th:only-of-type {\n",
       "        vertical-align: middle;\n",
       "    }\n",
       "\n",
       "    .dataframe tbody tr th {\n",
       "        vertical-align: top;\n",
       "    }\n",
       "\n",
       "    .dataframe thead th {\n",
       "        text-align: right;\n",
       "    }\n",
       "</style>\n",
       "<table border=\"1\" class=\"dataframe\">\n",
       "  <thead>\n",
       "    <tr style=\"text-align: right;\">\n",
       "      <th></th>\n",
       "      <th>day</th>\n",
       "      <th>month</th>\n",
       "      <th>year</th>\n",
       "    </tr>\n",
       "  </thead>\n",
       "  <tbody>\n",
       "    <tr>\n",
       "      <th>0</th>\n",
       "      <td>16</td>\n",
       "      <td>8</td>\n",
       "      <td>2019</td>\n",
       "    </tr>\n",
       "    <tr>\n",
       "      <th>1</th>\n",
       "      <td>17</td>\n",
       "      <td>8</td>\n",
       "      <td>2019</td>\n",
       "    </tr>\n",
       "    <tr>\n",
       "      <th>2</th>\n",
       "      <td>18</td>\n",
       "      <td>8</td>\n",
       "      <td>2019</td>\n",
       "    </tr>\n",
       "    <tr>\n",
       "      <th>3</th>\n",
       "      <td>19</td>\n",
       "      <td>8</td>\n",
       "      <td>2019</td>\n",
       "    </tr>\n",
       "    <tr>\n",
       "      <th>4</th>\n",
       "      <td>20</td>\n",
       "      <td>8</td>\n",
       "      <td>2019</td>\n",
       "    </tr>\n",
       "    <tr>\n",
       "      <th>...</th>\n",
       "      <td>...</td>\n",
       "      <td>...</td>\n",
       "      <td>...</td>\n",
       "    </tr>\n",
       "    <tr>\n",
       "      <th>842</th>\n",
       "      <td>5</td>\n",
       "      <td>12</td>\n",
       "      <td>2021</td>\n",
       "    </tr>\n",
       "    <tr>\n",
       "      <th>843</th>\n",
       "      <td>6</td>\n",
       "      <td>12</td>\n",
       "      <td>2021</td>\n",
       "    </tr>\n",
       "    <tr>\n",
       "      <th>844</th>\n",
       "      <td>7</td>\n",
       "      <td>12</td>\n",
       "      <td>2021</td>\n",
       "    </tr>\n",
       "    <tr>\n",
       "      <th>845</th>\n",
       "      <td>8</td>\n",
       "      <td>12</td>\n",
       "      <td>2021</td>\n",
       "    </tr>\n",
       "    <tr>\n",
       "      <th>846</th>\n",
       "      <td>9</td>\n",
       "      <td>12</td>\n",
       "      <td>2021</td>\n",
       "    </tr>\n",
       "  </tbody>\n",
       "</table>\n",
       "<p>847 rows × 3 columns</p>\n",
       "</div>"
      ],
      "text/plain": [
       "     day  month  year\n",
       "0     16      8  2019\n",
       "1     17      8  2019\n",
       "2     18      8  2019\n",
       "3     19      8  2019\n",
       "4     20      8  2019\n",
       "..   ...    ...   ...\n",
       "842    5     12  2021\n",
       "843    6     12  2021\n",
       "844    7     12  2021\n",
       "845    8     12  2021\n",
       "846    9     12  2021\n",
       "\n",
       "[847 rows x 3 columns]"
      ]
     },
     "execution_count": 908,
     "metadata": {},
     "output_type": "execute_result"
    }
   ],
   "source": [
    "X_train\n"
   ]
  },
  {
   "cell_type": "code",
   "execution_count": 909,
   "metadata": {},
   "outputs": [
    {
     "data": {
      "text/plain": [
       "array([[0.        , 0.44935083, 0.        , 0.0669873 , 0.25      ],\n",
       "       [0.        , 0.35012608, 0.02041741, 0.0669873 , 0.25      ],\n",
       "       [0.        , 0.25703718, 0.06041634, 0.0669873 , 0.25      ],\n",
       "       ...,\n",
       "       [1.        , 0.99486932, 0.57462265, 0.5       , 1.        ],\n",
       "       [1.        , 1.        , 0.47332431, 0.5       , 1.        ],\n",
       "       [1.        , 0.98466062, 0.37306543, 0.5       , 1.        ]])"
      ]
     },
     "execution_count": 909,
     "metadata": {},
     "output_type": "execute_result"
    }
   ],
   "source": [
    "X_train_prep\n"
   ]
  },
  {
   "cell_type": "code",
   "execution_count": 910,
   "metadata": {},
   "outputs": [],
   "source": [
    "X_valid_prep = feature_pipeline.transform(X_valid)\n"
   ]
  },
  {
   "cell_type": "code",
   "execution_count": 911,
   "metadata": {},
   "outputs": [
    {
     "data": {
      "text/plain": [
       "((847, 5), (140, 5))"
      ]
     },
     "execution_count": 911,
     "metadata": {},
     "output_type": "execute_result"
    }
   ],
   "source": [
    "X_train_prep.shape, X_valid_prep.shape\n"
   ]
  },
  {
   "cell_type": "markdown",
   "metadata": {},
   "source": [
    "## Początek modelowania"
   ]
  },
  {
   "cell_type": "markdown",
   "metadata": {},
   "source": [
    "## PyCaret"
   ]
  },
  {
   "cell_type": "markdown",
   "metadata": {},
   "source": [
    "W celu wyboru optymalnego modelu do rozpoczęcia procesu modelowania wykorzystamy bibliotekę PyCaret, która pozwala na szybkie zestawienie wyników wielu modeli "
   ]
  },
  {
   "cell_type": "code",
   "execution_count": 912,
   "metadata": {},
   "outputs": [],
   "source": [
    "from pycaret.regression import *"
   ]
  },
  {
   "cell_type": "code",
   "execution_count": 913,
   "metadata": {},
   "outputs": [],
   "source": [
    "# pycaret_data = pd.concat([X, y.replace(0, 0.01)], axis=1)\n",
    "# pycaret_data.head()"
   ]
  },
  {
   "cell_type": "markdown",
   "metadata": {},
   "source": [
    "Niestety moduł PyCaret do regersji nie przyjmuje etykiet o wartości równej `0`. Podmienimy zatem tę wartość na równie małą np. `0.01` "
   ]
  },
  {
   "cell_type": "code",
   "execution_count": 916,
   "metadata": {},
   "outputs": [
    {
     "data": {
      "text/html": [
       "<div>\n",
       "<style scoped>\n",
       "    .dataframe tbody tr th:only-of-type {\n",
       "        vertical-align: middle;\n",
       "    }\n",
       "\n",
       "    .dataframe tbody tr th {\n",
       "        vertical-align: top;\n",
       "    }\n",
       "\n",
       "    .dataframe thead th {\n",
       "        text-align: right;\n",
       "    }\n",
       "</style>\n",
       "<table border=\"1\" class=\"dataframe\">\n",
       "  <thead>\n",
       "    <tr style=\"text-align: right;\">\n",
       "      <th></th>\n",
       "      <th>day_sin</th>\n",
       "      <th>day_cos</th>\n",
       "      <th>month_sin</th>\n",
       "      <th>month_cos</th>\n",
       "      <th>year</th>\n",
       "      <th>num_returns</th>\n",
       "    </tr>\n",
       "  </thead>\n",
       "  <tbody>\n",
       "    <tr>\n",
       "      <th>0</th>\n",
       "      <td>0.0</td>\n",
       "      <td>0.449351</td>\n",
       "      <td>0.000000</td>\n",
       "      <td>0.066987</td>\n",
       "      <td>0.25</td>\n",
       "      <td>2.00</td>\n",
       "    </tr>\n",
       "    <tr>\n",
       "      <th>1</th>\n",
       "      <td>0.0</td>\n",
       "      <td>0.350126</td>\n",
       "      <td>0.020417</td>\n",
       "      <td>0.066987</td>\n",
       "      <td>0.25</td>\n",
       "      <td>0.01</td>\n",
       "    </tr>\n",
       "    <tr>\n",
       "      <th>2</th>\n",
       "      <td>0.0</td>\n",
       "      <td>0.257037</td>\n",
       "      <td>0.060416</td>\n",
       "      <td>0.066987</td>\n",
       "      <td>0.25</td>\n",
       "      <td>0.01</td>\n",
       "    </tr>\n",
       "    <tr>\n",
       "      <th>3</th>\n",
       "      <td>0.0</td>\n",
       "      <td>0.173895</td>\n",
       "      <td>0.118359</td>\n",
       "      <td>0.066987</td>\n",
       "      <td>0.25</td>\n",
       "      <td>1.00</td>\n",
       "    </tr>\n",
       "    <tr>\n",
       "      <th>4</th>\n",
       "      <td>0.0</td>\n",
       "      <td>0.104104</td>\n",
       "      <td>0.191874</td>\n",
       "      <td>0.066987</td>\n",
       "      <td>0.25</td>\n",
       "      <td>1.00</td>\n",
       "    </tr>\n",
       "  </tbody>\n",
       "</table>\n",
       "</div>"
      ],
      "text/plain": [
       "   day_sin   day_cos  month_sin  month_cos  year  num_returns\n",
       "0      0.0  0.449351   0.000000   0.066987  0.25         2.00\n",
       "1      0.0  0.350126   0.020417   0.066987  0.25         0.01\n",
       "2      0.0  0.257037   0.060416   0.066987  0.25         0.01\n",
       "3      0.0  0.173895   0.118359   0.066987  0.25         1.00\n",
       "4      0.0  0.104104   0.191874   0.066987  0.25         1.00"
      ]
     },
     "execution_count": 916,
     "metadata": {},
     "output_type": "execute_result"
    }
   ],
   "source": [
    "data_columns = ['day_sin', 'day_cos', 'month_sin', 'month_cos', 'year']\n",
    "\n",
    "y_train_pycaret = np.where(y_train == 0, 0.01, y_train)\n",
    "y_valid_pycaret = np.where(y_valid == 0, 0.01, y_valid)\n",
    "\n",
    "pycaret_train_df = pd.concat([pd.DataFrame(X_train_prep, columns=data_columns), pd.Series(y_train_pycaret, name='num_returns')], axis=1)\n",
    "pycaret_valid_df = pd.concat([pd.DataFrame(X_valid_prep, columns=data_columns), pd.Series(y_valid_pycaret, name='num_returns')], axis=1)\n",
    "\n",
    "pycaret_train_df.head()\n"
   ]
  },
  {
   "cell_type": "code",
   "execution_count": 917,
   "metadata": {},
   "outputs": [
    {
     "data": {
      "text/html": [
       "<style type=\"text/css\">\n",
       "#T_003dc_row42_col1, #T_003dc_row56_col1 {\n",
       "  background-color: lightgreen;\n",
       "}\n",
       "</style>\n",
       "<table id=\"T_003dc\">\n",
       "  <thead>\n",
       "    <tr>\n",
       "      <th class=\"blank level0\" >&nbsp;</th>\n",
       "      <th id=\"T_003dc_level0_col0\" class=\"col_heading level0 col0\" >Description</th>\n",
       "      <th id=\"T_003dc_level0_col1\" class=\"col_heading level0 col1\" >Value</th>\n",
       "    </tr>\n",
       "  </thead>\n",
       "  <tbody>\n",
       "    <tr>\n",
       "      <th id=\"T_003dc_level0_row0\" class=\"row_heading level0 row0\" >0</th>\n",
       "      <td id=\"T_003dc_row0_col0\" class=\"data row0 col0\" >session_id</td>\n",
       "      <td id=\"T_003dc_row0_col1\" class=\"data row0 col1\" >123</td>\n",
       "    </tr>\n",
       "    <tr>\n",
       "      <th id=\"T_003dc_level0_row1\" class=\"row_heading level0 row1\" >1</th>\n",
       "      <td id=\"T_003dc_row1_col0\" class=\"data row1 col0\" >Target</td>\n",
       "      <td id=\"T_003dc_row1_col1\" class=\"data row1 col1\" >num_returns</td>\n",
       "    </tr>\n",
       "    <tr>\n",
       "      <th id=\"T_003dc_level0_row2\" class=\"row_heading level0 row2\" >2</th>\n",
       "      <td id=\"T_003dc_row2_col0\" class=\"data row2 col0\" >Original Data</td>\n",
       "      <td id=\"T_003dc_row2_col1\" class=\"data row2 col1\" >(847, 6)</td>\n",
       "    </tr>\n",
       "    <tr>\n",
       "      <th id=\"T_003dc_level0_row3\" class=\"row_heading level0 row3\" >3</th>\n",
       "      <td id=\"T_003dc_row3_col0\" class=\"data row3 col0\" >Missing Values</td>\n",
       "      <td id=\"T_003dc_row3_col1\" class=\"data row3 col1\" >False</td>\n",
       "    </tr>\n",
       "    <tr>\n",
       "      <th id=\"T_003dc_level0_row4\" class=\"row_heading level0 row4\" >4</th>\n",
       "      <td id=\"T_003dc_row4_col0\" class=\"data row4 col0\" >Numeric Features</td>\n",
       "      <td id=\"T_003dc_row4_col1\" class=\"data row4 col1\" >5</td>\n",
       "    </tr>\n",
       "    <tr>\n",
       "      <th id=\"T_003dc_level0_row5\" class=\"row_heading level0 row5\" >5</th>\n",
       "      <td id=\"T_003dc_row5_col0\" class=\"data row5 col0\" >Categorical Features</td>\n",
       "      <td id=\"T_003dc_row5_col1\" class=\"data row5 col1\" >0</td>\n",
       "    </tr>\n",
       "    <tr>\n",
       "      <th id=\"T_003dc_level0_row6\" class=\"row_heading level0 row6\" >6</th>\n",
       "      <td id=\"T_003dc_row6_col0\" class=\"data row6 col0\" >Ordinal Features</td>\n",
       "      <td id=\"T_003dc_row6_col1\" class=\"data row6 col1\" >False</td>\n",
       "    </tr>\n",
       "    <tr>\n",
       "      <th id=\"T_003dc_level0_row7\" class=\"row_heading level0 row7\" >7</th>\n",
       "      <td id=\"T_003dc_row7_col0\" class=\"data row7 col0\" >High Cardinality Features</td>\n",
       "      <td id=\"T_003dc_row7_col1\" class=\"data row7 col1\" >False</td>\n",
       "    </tr>\n",
       "    <tr>\n",
       "      <th id=\"T_003dc_level0_row8\" class=\"row_heading level0 row8\" >8</th>\n",
       "      <td id=\"T_003dc_row8_col0\" class=\"data row8 col0\" >High Cardinality Method</td>\n",
       "      <td id=\"T_003dc_row8_col1\" class=\"data row8 col1\" >None</td>\n",
       "    </tr>\n",
       "    <tr>\n",
       "      <th id=\"T_003dc_level0_row9\" class=\"row_heading level0 row9\" >9</th>\n",
       "      <td id=\"T_003dc_row9_col0\" class=\"data row9 col0\" >Transformed Train Set</td>\n",
       "      <td id=\"T_003dc_row9_col1\" class=\"data row9 col1\" >(847, 5)</td>\n",
       "    </tr>\n",
       "    <tr>\n",
       "      <th id=\"T_003dc_level0_row10\" class=\"row_heading level0 row10\" >10</th>\n",
       "      <td id=\"T_003dc_row10_col0\" class=\"data row10 col0\" >Transformed Test Set</td>\n",
       "      <td id=\"T_003dc_row10_col1\" class=\"data row10 col1\" >(140, 5)</td>\n",
       "    </tr>\n",
       "    <tr>\n",
       "      <th id=\"T_003dc_level0_row11\" class=\"row_heading level0 row11\" >11</th>\n",
       "      <td id=\"T_003dc_row11_col0\" class=\"data row11 col0\" >Shuffle Train-Test</td>\n",
       "      <td id=\"T_003dc_row11_col1\" class=\"data row11 col1\" >True</td>\n",
       "    </tr>\n",
       "    <tr>\n",
       "      <th id=\"T_003dc_level0_row12\" class=\"row_heading level0 row12\" >12</th>\n",
       "      <td id=\"T_003dc_row12_col0\" class=\"data row12 col0\" >Stratify Train-Test</td>\n",
       "      <td id=\"T_003dc_row12_col1\" class=\"data row12 col1\" >False</td>\n",
       "    </tr>\n",
       "    <tr>\n",
       "      <th id=\"T_003dc_level0_row13\" class=\"row_heading level0 row13\" >13</th>\n",
       "      <td id=\"T_003dc_row13_col0\" class=\"data row13 col0\" >Fold Generator</td>\n",
       "      <td id=\"T_003dc_row13_col1\" class=\"data row13 col1\" >TimeSeriesSplit</td>\n",
       "    </tr>\n",
       "    <tr>\n",
       "      <th id=\"T_003dc_level0_row14\" class=\"row_heading level0 row14\" >14</th>\n",
       "      <td id=\"T_003dc_row14_col0\" class=\"data row14 col0\" >Fold Number</td>\n",
       "      <td id=\"T_003dc_row14_col1\" class=\"data row14 col1\" >3</td>\n",
       "    </tr>\n",
       "    <tr>\n",
       "      <th id=\"T_003dc_level0_row15\" class=\"row_heading level0 row15\" >15</th>\n",
       "      <td id=\"T_003dc_row15_col0\" class=\"data row15 col0\" >CPU Jobs</td>\n",
       "      <td id=\"T_003dc_row15_col1\" class=\"data row15 col1\" >-1</td>\n",
       "    </tr>\n",
       "    <tr>\n",
       "      <th id=\"T_003dc_level0_row16\" class=\"row_heading level0 row16\" >16</th>\n",
       "      <td id=\"T_003dc_row16_col0\" class=\"data row16 col0\" >Use GPU</td>\n",
       "      <td id=\"T_003dc_row16_col1\" class=\"data row16 col1\" >False</td>\n",
       "    </tr>\n",
       "    <tr>\n",
       "      <th id=\"T_003dc_level0_row17\" class=\"row_heading level0 row17\" >17</th>\n",
       "      <td id=\"T_003dc_row17_col0\" class=\"data row17 col0\" >Log Experiment</td>\n",
       "      <td id=\"T_003dc_row17_col1\" class=\"data row17 col1\" >False</td>\n",
       "    </tr>\n",
       "    <tr>\n",
       "      <th id=\"T_003dc_level0_row18\" class=\"row_heading level0 row18\" >18</th>\n",
       "      <td id=\"T_003dc_row18_col0\" class=\"data row18 col0\" >Experiment Name</td>\n",
       "      <td id=\"T_003dc_row18_col1\" class=\"data row18 col1\" >reg-default-name</td>\n",
       "    </tr>\n",
       "    <tr>\n",
       "      <th id=\"T_003dc_level0_row19\" class=\"row_heading level0 row19\" >19</th>\n",
       "      <td id=\"T_003dc_row19_col0\" class=\"data row19 col0\" >USI</td>\n",
       "      <td id=\"T_003dc_row19_col1\" class=\"data row19 col1\" >7b05</td>\n",
       "    </tr>\n",
       "    <tr>\n",
       "      <th id=\"T_003dc_level0_row20\" class=\"row_heading level0 row20\" >20</th>\n",
       "      <td id=\"T_003dc_row20_col0\" class=\"data row20 col0\" >Imputation Type</td>\n",
       "      <td id=\"T_003dc_row20_col1\" class=\"data row20 col1\" >simple</td>\n",
       "    </tr>\n",
       "    <tr>\n",
       "      <th id=\"T_003dc_level0_row21\" class=\"row_heading level0 row21\" >21</th>\n",
       "      <td id=\"T_003dc_row21_col0\" class=\"data row21 col0\" >Iterative Imputation Iteration</td>\n",
       "      <td id=\"T_003dc_row21_col1\" class=\"data row21 col1\" >None</td>\n",
       "    </tr>\n",
       "    <tr>\n",
       "      <th id=\"T_003dc_level0_row22\" class=\"row_heading level0 row22\" >22</th>\n",
       "      <td id=\"T_003dc_row22_col0\" class=\"data row22 col0\" >Numeric Imputer</td>\n",
       "      <td id=\"T_003dc_row22_col1\" class=\"data row22 col1\" >mean</td>\n",
       "    </tr>\n",
       "    <tr>\n",
       "      <th id=\"T_003dc_level0_row23\" class=\"row_heading level0 row23\" >23</th>\n",
       "      <td id=\"T_003dc_row23_col0\" class=\"data row23 col0\" >Iterative Imputation Numeric Model</td>\n",
       "      <td id=\"T_003dc_row23_col1\" class=\"data row23 col1\" >None</td>\n",
       "    </tr>\n",
       "    <tr>\n",
       "      <th id=\"T_003dc_level0_row24\" class=\"row_heading level0 row24\" >24</th>\n",
       "      <td id=\"T_003dc_row24_col0\" class=\"data row24 col0\" >Categorical Imputer</td>\n",
       "      <td id=\"T_003dc_row24_col1\" class=\"data row24 col1\" >constant</td>\n",
       "    </tr>\n",
       "    <tr>\n",
       "      <th id=\"T_003dc_level0_row25\" class=\"row_heading level0 row25\" >25</th>\n",
       "      <td id=\"T_003dc_row25_col0\" class=\"data row25 col0\" >Iterative Imputation Categorical Model</td>\n",
       "      <td id=\"T_003dc_row25_col1\" class=\"data row25 col1\" >None</td>\n",
       "    </tr>\n",
       "    <tr>\n",
       "      <th id=\"T_003dc_level0_row26\" class=\"row_heading level0 row26\" >26</th>\n",
       "      <td id=\"T_003dc_row26_col0\" class=\"data row26 col0\" >Unknown Categoricals Handling</td>\n",
       "      <td id=\"T_003dc_row26_col1\" class=\"data row26 col1\" >least_frequent</td>\n",
       "    </tr>\n",
       "    <tr>\n",
       "      <th id=\"T_003dc_level0_row27\" class=\"row_heading level0 row27\" >27</th>\n",
       "      <td id=\"T_003dc_row27_col0\" class=\"data row27 col0\" >Normalize</td>\n",
       "      <td id=\"T_003dc_row27_col1\" class=\"data row27 col1\" >False</td>\n",
       "    </tr>\n",
       "    <tr>\n",
       "      <th id=\"T_003dc_level0_row28\" class=\"row_heading level0 row28\" >28</th>\n",
       "      <td id=\"T_003dc_row28_col0\" class=\"data row28 col0\" >Normalize Method</td>\n",
       "      <td id=\"T_003dc_row28_col1\" class=\"data row28 col1\" >None</td>\n",
       "    </tr>\n",
       "    <tr>\n",
       "      <th id=\"T_003dc_level0_row29\" class=\"row_heading level0 row29\" >29</th>\n",
       "      <td id=\"T_003dc_row29_col0\" class=\"data row29 col0\" >Transformation</td>\n",
       "      <td id=\"T_003dc_row29_col1\" class=\"data row29 col1\" >False</td>\n",
       "    </tr>\n",
       "    <tr>\n",
       "      <th id=\"T_003dc_level0_row30\" class=\"row_heading level0 row30\" >30</th>\n",
       "      <td id=\"T_003dc_row30_col0\" class=\"data row30 col0\" >Transformation Method</td>\n",
       "      <td id=\"T_003dc_row30_col1\" class=\"data row30 col1\" >None</td>\n",
       "    </tr>\n",
       "    <tr>\n",
       "      <th id=\"T_003dc_level0_row31\" class=\"row_heading level0 row31\" >31</th>\n",
       "      <td id=\"T_003dc_row31_col0\" class=\"data row31 col0\" >PCA</td>\n",
       "      <td id=\"T_003dc_row31_col1\" class=\"data row31 col1\" >False</td>\n",
       "    </tr>\n",
       "    <tr>\n",
       "      <th id=\"T_003dc_level0_row32\" class=\"row_heading level0 row32\" >32</th>\n",
       "      <td id=\"T_003dc_row32_col0\" class=\"data row32 col0\" >PCA Method</td>\n",
       "      <td id=\"T_003dc_row32_col1\" class=\"data row32 col1\" >None</td>\n",
       "    </tr>\n",
       "    <tr>\n",
       "      <th id=\"T_003dc_level0_row33\" class=\"row_heading level0 row33\" >33</th>\n",
       "      <td id=\"T_003dc_row33_col0\" class=\"data row33 col0\" >PCA Components</td>\n",
       "      <td id=\"T_003dc_row33_col1\" class=\"data row33 col1\" >None</td>\n",
       "    </tr>\n",
       "    <tr>\n",
       "      <th id=\"T_003dc_level0_row34\" class=\"row_heading level0 row34\" >34</th>\n",
       "      <td id=\"T_003dc_row34_col0\" class=\"data row34 col0\" >Ignore Low Variance</td>\n",
       "      <td id=\"T_003dc_row34_col1\" class=\"data row34 col1\" >False</td>\n",
       "    </tr>\n",
       "    <tr>\n",
       "      <th id=\"T_003dc_level0_row35\" class=\"row_heading level0 row35\" >35</th>\n",
       "      <td id=\"T_003dc_row35_col0\" class=\"data row35 col0\" >Combine Rare Levels</td>\n",
       "      <td id=\"T_003dc_row35_col1\" class=\"data row35 col1\" >False</td>\n",
       "    </tr>\n",
       "    <tr>\n",
       "      <th id=\"T_003dc_level0_row36\" class=\"row_heading level0 row36\" >36</th>\n",
       "      <td id=\"T_003dc_row36_col0\" class=\"data row36 col0\" >Rare Level Threshold</td>\n",
       "      <td id=\"T_003dc_row36_col1\" class=\"data row36 col1\" >None</td>\n",
       "    </tr>\n",
       "    <tr>\n",
       "      <th id=\"T_003dc_level0_row37\" class=\"row_heading level0 row37\" >37</th>\n",
       "      <td id=\"T_003dc_row37_col0\" class=\"data row37 col0\" >Numeric Binning</td>\n",
       "      <td id=\"T_003dc_row37_col1\" class=\"data row37 col1\" >False</td>\n",
       "    </tr>\n",
       "    <tr>\n",
       "      <th id=\"T_003dc_level0_row38\" class=\"row_heading level0 row38\" >38</th>\n",
       "      <td id=\"T_003dc_row38_col0\" class=\"data row38 col0\" >Remove Outliers</td>\n",
       "      <td id=\"T_003dc_row38_col1\" class=\"data row38 col1\" >False</td>\n",
       "    </tr>\n",
       "    <tr>\n",
       "      <th id=\"T_003dc_level0_row39\" class=\"row_heading level0 row39\" >39</th>\n",
       "      <td id=\"T_003dc_row39_col0\" class=\"data row39 col0\" >Outliers Threshold</td>\n",
       "      <td id=\"T_003dc_row39_col1\" class=\"data row39 col1\" >None</td>\n",
       "    </tr>\n",
       "    <tr>\n",
       "      <th id=\"T_003dc_level0_row40\" class=\"row_heading level0 row40\" >40</th>\n",
       "      <td id=\"T_003dc_row40_col0\" class=\"data row40 col0\" >Remove Multicollinearity</td>\n",
       "      <td id=\"T_003dc_row40_col1\" class=\"data row40 col1\" >False</td>\n",
       "    </tr>\n",
       "    <tr>\n",
       "      <th id=\"T_003dc_level0_row41\" class=\"row_heading level0 row41\" >41</th>\n",
       "      <td id=\"T_003dc_row41_col0\" class=\"data row41 col0\" >Multicollinearity Threshold</td>\n",
       "      <td id=\"T_003dc_row41_col1\" class=\"data row41 col1\" >None</td>\n",
       "    </tr>\n",
       "    <tr>\n",
       "      <th id=\"T_003dc_level0_row42\" class=\"row_heading level0 row42\" >42</th>\n",
       "      <td id=\"T_003dc_row42_col0\" class=\"data row42 col0\" >Remove Perfect Collinearity</td>\n",
       "      <td id=\"T_003dc_row42_col1\" class=\"data row42 col1\" >True</td>\n",
       "    </tr>\n",
       "    <tr>\n",
       "      <th id=\"T_003dc_level0_row43\" class=\"row_heading level0 row43\" >43</th>\n",
       "      <td id=\"T_003dc_row43_col0\" class=\"data row43 col0\" >Clustering</td>\n",
       "      <td id=\"T_003dc_row43_col1\" class=\"data row43 col1\" >False</td>\n",
       "    </tr>\n",
       "    <tr>\n",
       "      <th id=\"T_003dc_level0_row44\" class=\"row_heading level0 row44\" >44</th>\n",
       "      <td id=\"T_003dc_row44_col0\" class=\"data row44 col0\" >Clustering Iteration</td>\n",
       "      <td id=\"T_003dc_row44_col1\" class=\"data row44 col1\" >None</td>\n",
       "    </tr>\n",
       "    <tr>\n",
       "      <th id=\"T_003dc_level0_row45\" class=\"row_heading level0 row45\" >45</th>\n",
       "      <td id=\"T_003dc_row45_col0\" class=\"data row45 col0\" >Polynomial Features</td>\n",
       "      <td id=\"T_003dc_row45_col1\" class=\"data row45 col1\" >False</td>\n",
       "    </tr>\n",
       "    <tr>\n",
       "      <th id=\"T_003dc_level0_row46\" class=\"row_heading level0 row46\" >46</th>\n",
       "      <td id=\"T_003dc_row46_col0\" class=\"data row46 col0\" >Polynomial Degree</td>\n",
       "      <td id=\"T_003dc_row46_col1\" class=\"data row46 col1\" >None</td>\n",
       "    </tr>\n",
       "    <tr>\n",
       "      <th id=\"T_003dc_level0_row47\" class=\"row_heading level0 row47\" >47</th>\n",
       "      <td id=\"T_003dc_row47_col0\" class=\"data row47 col0\" >Trignometry Features</td>\n",
       "      <td id=\"T_003dc_row47_col1\" class=\"data row47 col1\" >False</td>\n",
       "    </tr>\n",
       "    <tr>\n",
       "      <th id=\"T_003dc_level0_row48\" class=\"row_heading level0 row48\" >48</th>\n",
       "      <td id=\"T_003dc_row48_col0\" class=\"data row48 col0\" >Polynomial Threshold</td>\n",
       "      <td id=\"T_003dc_row48_col1\" class=\"data row48 col1\" >None</td>\n",
       "    </tr>\n",
       "    <tr>\n",
       "      <th id=\"T_003dc_level0_row49\" class=\"row_heading level0 row49\" >49</th>\n",
       "      <td id=\"T_003dc_row49_col0\" class=\"data row49 col0\" >Group Features</td>\n",
       "      <td id=\"T_003dc_row49_col1\" class=\"data row49 col1\" >False</td>\n",
       "    </tr>\n",
       "    <tr>\n",
       "      <th id=\"T_003dc_level0_row50\" class=\"row_heading level0 row50\" >50</th>\n",
       "      <td id=\"T_003dc_row50_col0\" class=\"data row50 col0\" >Feature Selection</td>\n",
       "      <td id=\"T_003dc_row50_col1\" class=\"data row50 col1\" >False</td>\n",
       "    </tr>\n",
       "    <tr>\n",
       "      <th id=\"T_003dc_level0_row51\" class=\"row_heading level0 row51\" >51</th>\n",
       "      <td id=\"T_003dc_row51_col0\" class=\"data row51 col0\" >Feature Selection Method</td>\n",
       "      <td id=\"T_003dc_row51_col1\" class=\"data row51 col1\" >classic</td>\n",
       "    </tr>\n",
       "    <tr>\n",
       "      <th id=\"T_003dc_level0_row52\" class=\"row_heading level0 row52\" >52</th>\n",
       "      <td id=\"T_003dc_row52_col0\" class=\"data row52 col0\" >Features Selection Threshold</td>\n",
       "      <td id=\"T_003dc_row52_col1\" class=\"data row52 col1\" >None</td>\n",
       "    </tr>\n",
       "    <tr>\n",
       "      <th id=\"T_003dc_level0_row53\" class=\"row_heading level0 row53\" >53</th>\n",
       "      <td id=\"T_003dc_row53_col0\" class=\"data row53 col0\" >Feature Interaction</td>\n",
       "      <td id=\"T_003dc_row53_col1\" class=\"data row53 col1\" >False</td>\n",
       "    </tr>\n",
       "    <tr>\n",
       "      <th id=\"T_003dc_level0_row54\" class=\"row_heading level0 row54\" >54</th>\n",
       "      <td id=\"T_003dc_row54_col0\" class=\"data row54 col0\" >Feature Ratio</td>\n",
       "      <td id=\"T_003dc_row54_col1\" class=\"data row54 col1\" >False</td>\n",
       "    </tr>\n",
       "    <tr>\n",
       "      <th id=\"T_003dc_level0_row55\" class=\"row_heading level0 row55\" >55</th>\n",
       "      <td id=\"T_003dc_row55_col0\" class=\"data row55 col0\" >Interaction Threshold</td>\n",
       "      <td id=\"T_003dc_row55_col1\" class=\"data row55 col1\" >None</td>\n",
       "    </tr>\n",
       "    <tr>\n",
       "      <th id=\"T_003dc_level0_row56\" class=\"row_heading level0 row56\" >56</th>\n",
       "      <td id=\"T_003dc_row56_col0\" class=\"data row56 col0\" >Transform Target</td>\n",
       "      <td id=\"T_003dc_row56_col1\" class=\"data row56 col1\" >True</td>\n",
       "    </tr>\n",
       "    <tr>\n",
       "      <th id=\"T_003dc_level0_row57\" class=\"row_heading level0 row57\" >57</th>\n",
       "      <td id=\"T_003dc_row57_col0\" class=\"data row57 col0\" >Transform Target Method</td>\n",
       "      <td id=\"T_003dc_row57_col1\" class=\"data row57 col1\" >box-cox</td>\n",
       "    </tr>\n",
       "  </tbody>\n",
       "</table>\n"
      ],
      "text/plain": [
       "<pandas.io.formats.style.Styler at 0x2a4222520>"
      ]
     },
     "metadata": {},
     "output_type": "display_data"
    }
   ],
   "source": [
    "s = setup(data=pycaret_train_df, test_data=pycaret_valid_df, target='num_returns', fold_strategy='timeseries',\n",
    "          numeric_features=data_columns, fold=3, transform_target=True, session_id=123)\n"
   ]
  },
  {
   "cell_type": "code",
   "execution_count": 918,
   "metadata": {},
   "outputs": [
    {
     "data": {
      "text/html": [
       "<style type=\"text/css\">\n",
       "#T_c4307 th {\n",
       "  text-align: left;\n",
       "}\n",
       "#T_c4307_row0_col0, #T_c4307_row0_col6, #T_c4307_row1_col0, #T_c4307_row1_col1, #T_c4307_row1_col2, #T_c4307_row1_col3, #T_c4307_row1_col4, #T_c4307_row1_col5, #T_c4307_row1_col6, #T_c4307_row2_col0, #T_c4307_row2_col1, #T_c4307_row2_col2, #T_c4307_row2_col3, #T_c4307_row2_col4, #T_c4307_row2_col5, #T_c4307_row2_col6, #T_c4307_row3_col0, #T_c4307_row3_col1, #T_c4307_row3_col2, #T_c4307_row3_col3, #T_c4307_row3_col4, #T_c4307_row3_col5, #T_c4307_row3_col6, #T_c4307_row4_col0, #T_c4307_row4_col1, #T_c4307_row4_col2, #T_c4307_row4_col3, #T_c4307_row4_col4, #T_c4307_row4_col5, #T_c4307_row4_col6, #T_c4307_row5_col0, #T_c4307_row5_col1, #T_c4307_row5_col2, #T_c4307_row5_col3, #T_c4307_row5_col4, #T_c4307_row5_col5, #T_c4307_row5_col6, #T_c4307_row6_col0, #T_c4307_row6_col1, #T_c4307_row6_col2, #T_c4307_row6_col3, #T_c4307_row6_col4, #T_c4307_row6_col5, #T_c4307_row6_col6, #T_c4307_row7_col0, #T_c4307_row7_col1, #T_c4307_row7_col2, #T_c4307_row7_col3, #T_c4307_row7_col4, #T_c4307_row7_col5, #T_c4307_row7_col6, #T_c4307_row8_col0, #T_c4307_row8_col1, #T_c4307_row8_col2, #T_c4307_row8_col3, #T_c4307_row8_col4, #T_c4307_row8_col5, #T_c4307_row8_col6, #T_c4307_row9_col0, #T_c4307_row9_col1, #T_c4307_row9_col2, #T_c4307_row9_col3, #T_c4307_row9_col4, #T_c4307_row9_col5, #T_c4307_row9_col6, #T_c4307_row10_col0, #T_c4307_row10_col1, #T_c4307_row10_col2, #T_c4307_row10_col3, #T_c4307_row10_col4, #T_c4307_row10_col5, #T_c4307_row11_col0, #T_c4307_row11_col1, #T_c4307_row11_col2, #T_c4307_row11_col3, #T_c4307_row11_col4, #T_c4307_row11_col5, #T_c4307_row11_col6, #T_c4307_row12_col0, #T_c4307_row12_col1, #T_c4307_row12_col2, #T_c4307_row12_col3, #T_c4307_row12_col4, #T_c4307_row12_col5, #T_c4307_row12_col6, #T_c4307_row13_col0, #T_c4307_row13_col1, #T_c4307_row13_col2, #T_c4307_row13_col3, #T_c4307_row13_col4, #T_c4307_row13_col5, #T_c4307_row13_col6, #T_c4307_row14_col0, #T_c4307_row14_col1, #T_c4307_row14_col2, #T_c4307_row14_col3, #T_c4307_row14_col4, #T_c4307_row14_col5, #T_c4307_row14_col6, #T_c4307_row15_col0, #T_c4307_row15_col1, #T_c4307_row15_col2, #T_c4307_row15_col3, #T_c4307_row15_col4, #T_c4307_row15_col5, #T_c4307_row15_col6, #T_c4307_row16_col0, #T_c4307_row16_col1, #T_c4307_row16_col2, #T_c4307_row16_col3, #T_c4307_row16_col4, #T_c4307_row16_col5, #T_c4307_row16_col6 {\n",
       "  text-align: left;\n",
       "}\n",
       "#T_c4307_row0_col1, #T_c4307_row0_col2, #T_c4307_row0_col3, #T_c4307_row0_col4, #T_c4307_row0_col5, #T_c4307_row10_col6 {\n",
       "  text-align: left;\n",
       "  background-color: yellow;\n",
       "}\n",
       "#T_c4307_row0_col7, #T_c4307_row1_col7, #T_c4307_row2_col7, #T_c4307_row3_col7, #T_c4307_row4_col7, #T_c4307_row5_col7, #T_c4307_row9_col7, #T_c4307_row11_col7, #T_c4307_row13_col7, #T_c4307_row15_col7, #T_c4307_row16_col7 {\n",
       "  text-align: left;\n",
       "  background-color: lightgrey;\n",
       "}\n",
       "#T_c4307_row6_col7, #T_c4307_row7_col7, #T_c4307_row8_col7, #T_c4307_row10_col7, #T_c4307_row12_col7, #T_c4307_row14_col7 {\n",
       "  text-align: left;\n",
       "  background-color: yellow;\n",
       "  background-color: lightgrey;\n",
       "}\n",
       "</style>\n",
       "<table id=\"T_c4307\">\n",
       "  <thead>\n",
       "    <tr>\n",
       "      <th class=\"blank level0\" >&nbsp;</th>\n",
       "      <th id=\"T_c4307_level0_col0\" class=\"col_heading level0 col0\" >Model</th>\n",
       "      <th id=\"T_c4307_level0_col1\" class=\"col_heading level0 col1\" >MAE</th>\n",
       "      <th id=\"T_c4307_level0_col2\" class=\"col_heading level0 col2\" >MSE</th>\n",
       "      <th id=\"T_c4307_level0_col3\" class=\"col_heading level0 col3\" >RMSE</th>\n",
       "      <th id=\"T_c4307_level0_col4\" class=\"col_heading level0 col4\" >R2</th>\n",
       "      <th id=\"T_c4307_level0_col5\" class=\"col_heading level0 col5\" >RMSLE</th>\n",
       "      <th id=\"T_c4307_level0_col6\" class=\"col_heading level0 col6\" >MAPE</th>\n",
       "      <th id=\"T_c4307_level0_col7\" class=\"col_heading level0 col7\" >TT (Sec)</th>\n",
       "    </tr>\n",
       "  </thead>\n",
       "  <tbody>\n",
       "    <tr>\n",
       "      <th id=\"T_c4307_level0_row0\" class=\"row_heading level0 row0\" >rf</th>\n",
       "      <td id=\"T_c4307_row0_col0\" class=\"data row0 col0\" >Random Forest Regressor</td>\n",
       "      <td id=\"T_c4307_row0_col1\" class=\"data row0 col1\" >1.0152</td>\n",
       "      <td id=\"T_c4307_row0_col2\" class=\"data row0 col2\" >2.4543</td>\n",
       "      <td id=\"T_c4307_row0_col3\" class=\"data row0 col3\" >1.5087</td>\n",
       "      <td id=\"T_c4307_row0_col4\" class=\"data row0 col4\" >0.2759</td>\n",
       "      <td id=\"T_c4307_row0_col5\" class=\"data row0 col5\" >0.5709</td>\n",
       "      <td id=\"T_c4307_row0_col6\" class=\"data row0 col6\" >21.5820</td>\n",
       "      <td id=\"T_c4307_row0_col7\" class=\"data row0 col7\" >0.2800</td>\n",
       "    </tr>\n",
       "    <tr>\n",
       "      <th id=\"T_c4307_level0_row1\" class=\"row_heading level0 row1\" >lightgbm</th>\n",
       "      <td id=\"T_c4307_row1_col0\" class=\"data row1 col0\" >Light Gradient Boosting Machine</td>\n",
       "      <td id=\"T_c4307_row1_col1\" class=\"data row1 col1\" >1.0860</td>\n",
       "      <td id=\"T_c4307_row1_col2\" class=\"data row1 col2\" >3.0625</td>\n",
       "      <td id=\"T_c4307_row1_col3\" class=\"data row1 col3\" >1.6786</td>\n",
       "      <td id=\"T_c4307_row1_col4\" class=\"data row1 col4\" >0.1380</td>\n",
       "      <td id=\"T_c4307_row1_col5\" class=\"data row1 col5\" >0.5877</td>\n",
       "      <td id=\"T_c4307_row1_col6\" class=\"data row1 col6\" >21.4659</td>\n",
       "      <td id=\"T_c4307_row1_col7\" class=\"data row1 col7\" >0.0100</td>\n",
       "    </tr>\n",
       "    <tr>\n",
       "      <th id=\"T_c4307_level0_row2\" class=\"row_heading level0 row2\" >et</th>\n",
       "      <td id=\"T_c4307_row2_col0\" class=\"data row2 col0\" >Extra Trees Regressor</td>\n",
       "      <td id=\"T_c4307_row2_col1\" class=\"data row2 col1\" >1.1101</td>\n",
       "      <td id=\"T_c4307_row2_col2\" class=\"data row2 col2\" >2.8148</td>\n",
       "      <td id=\"T_c4307_row2_col3\" class=\"data row2 col3\" >1.6081</td>\n",
       "      <td id=\"T_c4307_row2_col4\" class=\"data row2 col4\" >0.1947</td>\n",
       "      <td id=\"T_c4307_row2_col5\" class=\"data row2 col5\" >0.6224</td>\n",
       "      <td id=\"T_c4307_row2_col6\" class=\"data row2 col6\" >30.3366</td>\n",
       "      <td id=\"T_c4307_row2_col7\" class=\"data row2 col7\" >0.2800</td>\n",
       "    </tr>\n",
       "    <tr>\n",
       "      <th id=\"T_c4307_level0_row3\" class=\"row_heading level0 row3\" >gbr</th>\n",
       "      <td id=\"T_c4307_row3_col0\" class=\"data row3 col0\" >Gradient Boosting Regressor</td>\n",
       "      <td id=\"T_c4307_row3_col1\" class=\"data row3 col1\" >1.1289</td>\n",
       "      <td id=\"T_c4307_row3_col2\" class=\"data row3 col2\" >2.9916</td>\n",
       "      <td id=\"T_c4307_row3_col3\" class=\"data row3 col3\" >1.6799</td>\n",
       "      <td id=\"T_c4307_row3_col4\" class=\"data row3 col4\" >0.0471</td>\n",
       "      <td id=\"T_c4307_row3_col5\" class=\"data row3 col5\" >0.6021</td>\n",
       "      <td id=\"T_c4307_row3_col6\" class=\"data row3 col6\" >22.3361</td>\n",
       "      <td id=\"T_c4307_row3_col7\" class=\"data row3 col7\" >0.0133</td>\n",
       "    </tr>\n",
       "    <tr>\n",
       "      <th id=\"T_c4307_level0_row4\" class=\"row_heading level0 row4\" >ada</th>\n",
       "      <td id=\"T_c4307_row4_col0\" class=\"data row4 col0\" >AdaBoost Regressor</td>\n",
       "      <td id=\"T_c4307_row4_col1\" class=\"data row4 col1\" >1.1381</td>\n",
       "      <td id=\"T_c4307_row4_col2\" class=\"data row4 col2\" >3.7407</td>\n",
       "      <td id=\"T_c4307_row4_col3\" class=\"data row4 col3\" >1.7973</td>\n",
       "      <td id=\"T_c4307_row4_col4\" class=\"data row4 col4\" >0.0818</td>\n",
       "      <td id=\"T_c4307_row4_col5\" class=\"data row4 col5\" >0.5950</td>\n",
       "      <td id=\"T_c4307_row4_col6\" class=\"data row4 col6\" >18.0002</td>\n",
       "      <td id=\"T_c4307_row4_col7\" class=\"data row4 col7\" >0.0067</td>\n",
       "    </tr>\n",
       "    <tr>\n",
       "      <th id=\"T_c4307_level0_row5\" class=\"row_heading level0 row5\" >huber</th>\n",
       "      <td id=\"T_c4307_row5_col0\" class=\"data row5 col0\" >Huber Regressor</td>\n",
       "      <td id=\"T_c4307_row5_col1\" class=\"data row5 col1\" >1.2033</td>\n",
       "      <td id=\"T_c4307_row5_col2\" class=\"data row5 col2\" >4.6761</td>\n",
       "      <td id=\"T_c4307_row5_col3\" class=\"data row5 col3\" >2.0557</td>\n",
       "      <td id=\"T_c4307_row5_col4\" class=\"data row5 col4\" >-0.1897</td>\n",
       "      <td id=\"T_c4307_row5_col5\" class=\"data row5 col5\" >0.6458</td>\n",
       "      <td id=\"T_c4307_row5_col6\" class=\"data row5 col6\" >17.2134</td>\n",
       "      <td id=\"T_c4307_row5_col7\" class=\"data row5 col7\" >0.6333</td>\n",
       "    </tr>\n",
       "    <tr>\n",
       "      <th id=\"T_c4307_level0_row6\" class=\"row_heading level0 row6\" >omp</th>\n",
       "      <td id=\"T_c4307_row6_col0\" class=\"data row6 col0\" >Orthogonal Matching Pursuit</td>\n",
       "      <td id=\"T_c4307_row6_col1\" class=\"data row6 col1\" >1.2126</td>\n",
       "      <td id=\"T_c4307_row6_col2\" class=\"data row6 col2\" >5.1757</td>\n",
       "      <td id=\"T_c4307_row6_col3\" class=\"data row6 col3\" >2.1392</td>\n",
       "      <td id=\"T_c4307_row6_col4\" class=\"data row6 col4\" >-0.2424</td>\n",
       "      <td id=\"T_c4307_row6_col5\" class=\"data row6 col5\" >0.6511</td>\n",
       "      <td id=\"T_c4307_row6_col6\" class=\"data row6 col6\" >15.5606</td>\n",
       "      <td id=\"T_c4307_row6_col7\" class=\"data row6 col7\" >0.0033</td>\n",
       "    </tr>\n",
       "    <tr>\n",
       "      <th id=\"T_c4307_level0_row7\" class=\"row_heading level0 row7\" >ridge</th>\n",
       "      <td id=\"T_c4307_row7_col0\" class=\"data row7 col0\" >Ridge Regression</td>\n",
       "      <td id=\"T_c4307_row7_col1\" class=\"data row7 col1\" >1.2153</td>\n",
       "      <td id=\"T_c4307_row7_col2\" class=\"data row7 col2\" >5.0468</td>\n",
       "      <td id=\"T_c4307_row7_col3\" class=\"data row7 col3\" >2.1215</td>\n",
       "      <td id=\"T_c4307_row7_col4\" class=\"data row7 col4\" >-0.2269</td>\n",
       "      <td id=\"T_c4307_row7_col5\" class=\"data row7 col5\" >0.6531</td>\n",
       "      <td id=\"T_c4307_row7_col6\" class=\"data row7 col6\" >14.5179</td>\n",
       "      <td id=\"T_c4307_row7_col7\" class=\"data row7 col7\" >0.0033</td>\n",
       "    </tr>\n",
       "    <tr>\n",
       "      <th id=\"T_c4307_level0_row8\" class=\"row_heading level0 row8\" >lar</th>\n",
       "      <td id=\"T_c4307_row8_col0\" class=\"data row8 col0\" >Least Angle Regression</td>\n",
       "      <td id=\"T_c4307_row8_col1\" class=\"data row8 col1\" >1.2166</td>\n",
       "      <td id=\"T_c4307_row8_col2\" class=\"data row8 col2\" >5.0293</td>\n",
       "      <td id=\"T_c4307_row8_col3\" class=\"data row8 col3\" >2.1221</td>\n",
       "      <td id=\"T_c4307_row8_col4\" class=\"data row8 col4\" >-0.2391</td>\n",
       "      <td id=\"T_c4307_row8_col5\" class=\"data row8 col5\" >0.6580</td>\n",
       "      <td id=\"T_c4307_row8_col6\" class=\"data row8 col6\" >14.4766</td>\n",
       "      <td id=\"T_c4307_row8_col7\" class=\"data row8 col7\" >0.0033</td>\n",
       "    </tr>\n",
       "    <tr>\n",
       "      <th id=\"T_c4307_level0_row9\" class=\"row_heading level0 row9\" >lr</th>\n",
       "      <td id=\"T_c4307_row9_col0\" class=\"data row9 col0\" >Linear Regression</td>\n",
       "      <td id=\"T_c4307_row9_col1\" class=\"data row9 col1\" >1.2166</td>\n",
       "      <td id=\"T_c4307_row9_col2\" class=\"data row9 col2\" >5.0293</td>\n",
       "      <td id=\"T_c4307_row9_col3\" class=\"data row9 col3\" >2.1221</td>\n",
       "      <td id=\"T_c4307_row9_col4\" class=\"data row9 col4\" >-0.2391</td>\n",
       "      <td id=\"T_c4307_row9_col5\" class=\"data row9 col5\" >0.6580</td>\n",
       "      <td id=\"T_c4307_row9_col6\" class=\"data row9 col6\" >14.4766</td>\n",
       "      <td id=\"T_c4307_row9_col7\" class=\"data row9 col7\" >0.8633</td>\n",
       "    </tr>\n",
       "    <tr>\n",
       "      <th id=\"T_c4307_level0_row10\" class=\"row_heading level0 row10\" >br</th>\n",
       "      <td id=\"T_c4307_row10_col0\" class=\"data row10 col0\" >Bayesian Ridge</td>\n",
       "      <td id=\"T_c4307_row10_col1\" class=\"data row10 col1\" >1.2178</td>\n",
       "      <td id=\"T_c4307_row10_col2\" class=\"data row10 col2\" >5.1111</td>\n",
       "      <td id=\"T_c4307_row10_col3\" class=\"data row10 col3\" >2.1329</td>\n",
       "      <td id=\"T_c4307_row10_col4\" class=\"data row10 col4\" >-0.2371</td>\n",
       "      <td id=\"T_c4307_row10_col5\" class=\"data row10 col5\" >0.6556</td>\n",
       "      <td id=\"T_c4307_row10_col6\" class=\"data row10 col6\" >14.0615</td>\n",
       "      <td id=\"T_c4307_row10_col7\" class=\"data row10 col7\" >0.0033</td>\n",
       "    </tr>\n",
       "    <tr>\n",
       "      <th id=\"T_c4307_level0_row11\" class=\"row_heading level0 row11\" >lasso</th>\n",
       "      <td id=\"T_c4307_row11_col0\" class=\"data row11 col0\" >Lasso Regression</td>\n",
       "      <td id=\"T_c4307_row11_col1\" class=\"data row11 col1\" >1.2410</td>\n",
       "      <td id=\"T_c4307_row11_col2\" class=\"data row11 col2\" >5.7045</td>\n",
       "      <td id=\"T_c4307_row11_col3\" class=\"data row11 col3\" >2.1786</td>\n",
       "      <td id=\"T_c4307_row11_col4\" class=\"data row11 col4\" >-0.1438</td>\n",
       "      <td id=\"T_c4307_row11_col5\" class=\"data row11 col5\" >0.6538</td>\n",
       "      <td id=\"T_c4307_row11_col6\" class=\"data row11 col6\" >25.2888</td>\n",
       "      <td id=\"T_c4307_row11_col7\" class=\"data row11 col7\" >0.2600</td>\n",
       "    </tr>\n",
       "    <tr>\n",
       "      <th id=\"T_c4307_level0_row12\" class=\"row_heading level0 row12\" >en</th>\n",
       "      <td id=\"T_c4307_row12_col0\" class=\"data row12 col0\" >Elastic Net</td>\n",
       "      <td id=\"T_c4307_row12_col1\" class=\"data row12 col1\" >1.2410</td>\n",
       "      <td id=\"T_c4307_row12_col2\" class=\"data row12 col2\" >5.7045</td>\n",
       "      <td id=\"T_c4307_row12_col3\" class=\"data row12 col3\" >2.1786</td>\n",
       "      <td id=\"T_c4307_row12_col4\" class=\"data row12 col4\" >-0.1438</td>\n",
       "      <td id=\"T_c4307_row12_col5\" class=\"data row12 col5\" >0.6538</td>\n",
       "      <td id=\"T_c4307_row12_col6\" class=\"data row12 col6\" >25.2888</td>\n",
       "      <td id=\"T_c4307_row12_col7\" class=\"data row12 col7\" >0.0033</td>\n",
       "    </tr>\n",
       "    <tr>\n",
       "      <th id=\"T_c4307_level0_row13\" class=\"row_heading level0 row13\" >llar</th>\n",
       "      <td id=\"T_c4307_row13_col0\" class=\"data row13 col0\" >Lasso Least Angle Regression</td>\n",
       "      <td id=\"T_c4307_row13_col1\" class=\"data row13 col1\" >1.2410</td>\n",
       "      <td id=\"T_c4307_row13_col2\" class=\"data row13 col2\" >5.7045</td>\n",
       "      <td id=\"T_c4307_row13_col3\" class=\"data row13 col3\" >2.1786</td>\n",
       "      <td id=\"T_c4307_row13_col4\" class=\"data row13 col4\" >-0.1438</td>\n",
       "      <td id=\"T_c4307_row13_col5\" class=\"data row13 col5\" >0.6538</td>\n",
       "      <td id=\"T_c4307_row13_col6\" class=\"data row13 col6\" >25.2888</td>\n",
       "      <td id=\"T_c4307_row13_col7\" class=\"data row13 col7\" >0.2467</td>\n",
       "    </tr>\n",
       "    <tr>\n",
       "      <th id=\"T_c4307_level0_row14\" class=\"row_heading level0 row14\" >dummy</th>\n",
       "      <td id=\"T_c4307_row14_col0\" class=\"data row14 col0\" >Dummy Regressor</td>\n",
       "      <td id=\"T_c4307_row14_col1\" class=\"data row14 col1\" >1.2410</td>\n",
       "      <td id=\"T_c4307_row14_col2\" class=\"data row14 col2\" >5.7045</td>\n",
       "      <td id=\"T_c4307_row14_col3\" class=\"data row14 col3\" >2.1786</td>\n",
       "      <td id=\"T_c4307_row14_col4\" class=\"data row14 col4\" >-0.1438</td>\n",
       "      <td id=\"T_c4307_row14_col5\" class=\"data row14 col5\" >0.6538</td>\n",
       "      <td id=\"T_c4307_row14_col6\" class=\"data row14 col6\" >25.2888</td>\n",
       "      <td id=\"T_c4307_row14_col7\" class=\"data row14 col7\" >0.0033</td>\n",
       "    </tr>\n",
       "    <tr>\n",
       "      <th id=\"T_c4307_level0_row15\" class=\"row_heading level0 row15\" >knn</th>\n",
       "      <td id=\"T_c4307_row15_col0\" class=\"data row15 col0\" >K Neighbors Regressor</td>\n",
       "      <td id=\"T_c4307_row15_col1\" class=\"data row15 col1\" >1.2842</td>\n",
       "      <td id=\"T_c4307_row15_col2\" class=\"data row15 col2\" >4.3504</td>\n",
       "      <td id=\"T_c4307_row15_col3\" class=\"data row15 col3\" >2.0680</td>\n",
       "      <td id=\"T_c4307_row15_col4\" class=\"data row15 col4\" >-1.3873</td>\n",
       "      <td id=\"T_c4307_row15_col5\" class=\"data row15 col5\" >0.6676</td>\n",
       "      <td id=\"T_c4307_row15_col6\" class=\"data row15 col6\" >30.0458</td>\n",
       "      <td id=\"T_c4307_row15_col7\" class=\"data row15 col7\" >0.2667</td>\n",
       "    </tr>\n",
       "    <tr>\n",
       "      <th id=\"T_c4307_level0_row16\" class=\"row_heading level0 row16\" >dt</th>\n",
       "      <td id=\"T_c4307_row16_col0\" class=\"data row16 col0\" >Decision Tree Regressor</td>\n",
       "      <td id=\"T_c4307_row16_col1\" class=\"data row16 col1\" >1.4870</td>\n",
       "      <td id=\"T_c4307_row16_col2\" class=\"data row16 col2\" >5.9363</td>\n",
       "      <td id=\"T_c4307_row16_col3\" class=\"data row16 col3\" >2.3569</td>\n",
       "      <td id=\"T_c4307_row16_col4\" class=\"data row16 col4\" >-3.1817</td>\n",
       "      <td id=\"T_c4307_row16_col5\" class=\"data row16 col5\" >0.7556</td>\n",
       "      <td id=\"T_c4307_row16_col6\" class=\"data row16 col6\" >52.3071</td>\n",
       "      <td id=\"T_c4307_row16_col7\" class=\"data row16 col7\" >0.2567</td>\n",
       "    </tr>\n",
       "  </tbody>\n",
       "</table>\n"
      ],
      "text/plain": [
       "<pandas.io.formats.style.Styler at 0x175adefa0>"
      ]
     },
     "metadata": {},
     "output_type": "display_data"
    }
   ],
   "source": [
    "best = compare_models(sort='MAE')"
   ]
  },
  {
   "cell_type": "code",
   "execution_count": 919,
   "metadata": {},
   "outputs": [
    {
     "data": {
      "text/html": [
       "<style type=\"text/css\">\n",
       "</style>\n",
       "<table id=\"T_3161d\">\n",
       "  <thead>\n",
       "    <tr>\n",
       "      <th class=\"blank level0\" >&nbsp;</th>\n",
       "      <th id=\"T_3161d_level0_col0\" class=\"col_heading level0 col0\" >Model</th>\n",
       "      <th id=\"T_3161d_level0_col1\" class=\"col_heading level0 col1\" >MAE</th>\n",
       "      <th id=\"T_3161d_level0_col2\" class=\"col_heading level0 col2\" >MSE</th>\n",
       "      <th id=\"T_3161d_level0_col3\" class=\"col_heading level0 col3\" >RMSE</th>\n",
       "      <th id=\"T_3161d_level0_col4\" class=\"col_heading level0 col4\" >R2</th>\n",
       "      <th id=\"T_3161d_level0_col5\" class=\"col_heading level0 col5\" >RMSLE</th>\n",
       "      <th id=\"T_3161d_level0_col6\" class=\"col_heading level0 col6\" >MAPE</th>\n",
       "    </tr>\n",
       "  </thead>\n",
       "  <tbody>\n",
       "    <tr>\n",
       "      <th id=\"T_3161d_level0_row0\" class=\"row_heading level0 row0\" >0</th>\n",
       "      <td id=\"T_3161d_row0_col0\" class=\"data row0 col0\" >Random Forest Regressor</td>\n",
       "      <td id=\"T_3161d_row0_col1\" class=\"data row0 col1\" >1.2421</td>\n",
       "      <td id=\"T_3161d_row0_col2\" class=\"data row0 col2\" >3.6509</td>\n",
       "      <td id=\"T_3161d_row0_col3\" class=\"data row0 col3\" >1.9107</td>\n",
       "      <td id=\"T_3161d_row0_col4\" class=\"data row0 col4\" >0.6289</td>\n",
       "      <td id=\"T_3161d_row0_col5\" class=\"data row0 col5\" >0.5441</td>\n",
       "      <td id=\"T_3161d_row0_col6\" class=\"data row0 col6\" >13.4632</td>\n",
       "    </tr>\n",
       "  </tbody>\n",
       "</table>\n"
      ],
      "text/plain": [
       "<pandas.io.formats.style.Styler at 0x29c3b1c10>"
      ]
     },
     "metadata": {},
     "output_type": "display_data"
    },
    {
     "data": {
      "text/html": [
       "<div>\n",
       "<style scoped>\n",
       "    .dataframe tbody tr th:only-of-type {\n",
       "        vertical-align: middle;\n",
       "    }\n",
       "\n",
       "    .dataframe tbody tr th {\n",
       "        vertical-align: top;\n",
       "    }\n",
       "\n",
       "    .dataframe thead th {\n",
       "        text-align: right;\n",
       "    }\n",
       "</style>\n",
       "<table border=\"1\" class=\"dataframe\">\n",
       "  <thead>\n",
       "    <tr style=\"text-align: right;\">\n",
       "      <th></th>\n",
       "      <th>day_sin</th>\n",
       "      <th>day_cos</th>\n",
       "      <th>month_sin</th>\n",
       "      <th>month_cos</th>\n",
       "      <th>year</th>\n",
       "      <th>num_returns</th>\n",
       "      <th>Label</th>\n",
       "    </tr>\n",
       "  </thead>\n",
       "  <tbody>\n",
       "    <tr>\n",
       "      <th>0</th>\n",
       "      <td>1.0</td>\n",
       "      <td>0.949479</td>\n",
       "      <td>2.779506e-01</td>\n",
       "      <td>0.500000</td>\n",
       "      <td>1.00</td>\n",
       "      <td>5.00</td>\n",
       "      <td>5.815114</td>\n",
       "    </tr>\n",
       "    <tr>\n",
       "      <th>1</th>\n",
       "      <td>1.0</td>\n",
       "      <td>0.895896</td>\n",
       "      <td>1.918739e-01</td>\n",
       "      <td>0.500000</td>\n",
       "      <td>1.00</td>\n",
       "      <td>2.00</td>\n",
       "      <td>4.108707</td>\n",
       "    </tr>\n",
       "    <tr>\n",
       "      <th>2</th>\n",
       "      <td>1.0</td>\n",
       "      <td>0.826105</td>\n",
       "      <td>1.183592e-01</td>\n",
       "      <td>0.500000</td>\n",
       "      <td>1.00</td>\n",
       "      <td>2.00</td>\n",
       "      <td>1.988252</td>\n",
       "    </tr>\n",
       "    <tr>\n",
       "      <th>3</th>\n",
       "      <td>1.0</td>\n",
       "      <td>0.742963</td>\n",
       "      <td>6.041634e-02</td>\n",
       "      <td>0.500000</td>\n",
       "      <td>1.00</td>\n",
       "      <td>1.00</td>\n",
       "      <td>3.487305</td>\n",
       "    </tr>\n",
       "    <tr>\n",
       "      <th>4</th>\n",
       "      <td>1.0</td>\n",
       "      <td>0.649874</td>\n",
       "      <td>2.041741e-02</td>\n",
       "      <td>0.500000</td>\n",
       "      <td>1.00</td>\n",
       "      <td>2.00</td>\n",
       "      <td>3.194365</td>\n",
       "    </tr>\n",
       "    <tr>\n",
       "      <th>...</th>\n",
       "      <td>...</td>\n",
       "      <td>...</td>\n",
       "      <td>...</td>\n",
       "      <td>...</td>\n",
       "      <td>...</td>\n",
       "      <td>...</td>\n",
       "      <td>...</td>\n",
       "    </tr>\n",
       "    <tr>\n",
       "      <th>65</th>\n",
       "      <td>1.5</td>\n",
       "      <td>0.742963</td>\n",
       "      <td>6.041634e-02</td>\n",
       "      <td>0.933013</td>\n",
       "      <td>0.75</td>\n",
       "      <td>2.00</td>\n",
       "      <td>0.802024</td>\n",
       "    </tr>\n",
       "    <tr>\n",
       "      <th>66</th>\n",
       "      <td>1.5</td>\n",
       "      <td>0.649874</td>\n",
       "      <td>2.041741e-02</td>\n",
       "      <td>0.933013</td>\n",
       "      <td>0.75</td>\n",
       "      <td>0.01</td>\n",
       "      <td>1.268013</td>\n",
       "    </tr>\n",
       "    <tr>\n",
       "      <th>67</th>\n",
       "      <td>1.5</td>\n",
       "      <td>0.550649</td>\n",
       "      <td>5.551115e-17</td>\n",
       "      <td>0.933013</td>\n",
       "      <td>0.75</td>\n",
       "      <td>0.01</td>\n",
       "      <td>0.057367</td>\n",
       "    </tr>\n",
       "    <tr>\n",
       "      <th>68</th>\n",
       "      <td>1.5</td>\n",
       "      <td>0.449351</td>\n",
       "      <td>0.000000e+00</td>\n",
       "      <td>0.933013</td>\n",
       "      <td>0.75</td>\n",
       "      <td>5.00</td>\n",
       "      <td>0.264810</td>\n",
       "    </tr>\n",
       "    <tr>\n",
       "      <th>69</th>\n",
       "      <td>1.5</td>\n",
       "      <td>0.350126</td>\n",
       "      <td>2.041741e-02</td>\n",
       "      <td>0.933013</td>\n",
       "      <td>0.75</td>\n",
       "      <td>2.00</td>\n",
       "      <td>1.390755</td>\n",
       "    </tr>\n",
       "  </tbody>\n",
       "</table>\n",
       "<p>70 rows × 7 columns</p>\n",
       "</div>"
      ],
      "text/plain": [
       "    day_sin   day_cos     month_sin  month_cos  year  num_returns     Label\n",
       "0       1.0  0.949479  2.779506e-01   0.500000  1.00         5.00  5.815114\n",
       "1       1.0  0.895896  1.918739e-01   0.500000  1.00         2.00  4.108707\n",
       "2       1.0  0.826105  1.183592e-01   0.500000  1.00         2.00  1.988252\n",
       "3       1.0  0.742963  6.041634e-02   0.500000  1.00         1.00  3.487305\n",
       "4       1.0  0.649874  2.041741e-02   0.500000  1.00         2.00  3.194365\n",
       "..      ...       ...           ...        ...   ...          ...       ...\n",
       "65      1.5  0.742963  6.041634e-02   0.933013  0.75         2.00  0.802024\n",
       "66      1.5  0.649874  2.041741e-02   0.933013  0.75         0.01  1.268013\n",
       "67      1.5  0.550649  5.551115e-17   0.933013  0.75         0.01  0.057367\n",
       "68      1.5  0.449351  0.000000e+00   0.933013  0.75         5.00  0.264810\n",
       "69      1.5  0.350126  2.041741e-02   0.933013  0.75         2.00  1.390755\n",
       "\n",
       "[70 rows x 7 columns]"
      ]
     },
     "execution_count": 919,
     "metadata": {},
     "output_type": "execute_result"
    }
   ],
   "source": [
    "predict_model(best, data=pycaret_valid_df).head(70)\n"
   ]
  },
  {
   "cell_type": "code",
   "execution_count": 920,
   "metadata": {},
   "outputs": [
    {
     "data": {
      "text/html": [
       "<div>\n",
       "<style scoped>\n",
       "    .dataframe tbody tr th:only-of-type {\n",
       "        vertical-align: middle;\n",
       "    }\n",
       "\n",
       "    .dataframe tbody tr th {\n",
       "        vertical-align: top;\n",
       "    }\n",
       "\n",
       "    .dataframe thead th {\n",
       "        text-align: right;\n",
       "    }\n",
       "</style>\n",
       "<table border=\"1\" class=\"dataframe\">\n",
       "  <thead>\n",
       "    <tr style=\"text-align: right;\">\n",
       "      <th></th>\n",
       "      <th>Parameters</th>\n",
       "    </tr>\n",
       "  </thead>\n",
       "  <tbody>\n",
       "    <tr>\n",
       "      <th>bootstrap</th>\n",
       "      <td>True</td>\n",
       "    </tr>\n",
       "    <tr>\n",
       "      <th>ccp_alpha</th>\n",
       "      <td>0.0</td>\n",
       "    </tr>\n",
       "    <tr>\n",
       "      <th>criterion</th>\n",
       "      <td>mse</td>\n",
       "    </tr>\n",
       "    <tr>\n",
       "      <th>max_depth</th>\n",
       "      <td>None</td>\n",
       "    </tr>\n",
       "    <tr>\n",
       "      <th>max_features</th>\n",
       "      <td>auto</td>\n",
       "    </tr>\n",
       "    <tr>\n",
       "      <th>max_leaf_nodes</th>\n",
       "      <td>None</td>\n",
       "    </tr>\n",
       "    <tr>\n",
       "      <th>max_samples</th>\n",
       "      <td>None</td>\n",
       "    </tr>\n",
       "    <tr>\n",
       "      <th>min_impurity_decrease</th>\n",
       "      <td>0.0</td>\n",
       "    </tr>\n",
       "    <tr>\n",
       "      <th>min_impurity_split</th>\n",
       "      <td>None</td>\n",
       "    </tr>\n",
       "    <tr>\n",
       "      <th>min_samples_leaf</th>\n",
       "      <td>1</td>\n",
       "    </tr>\n",
       "    <tr>\n",
       "      <th>min_samples_split</th>\n",
       "      <td>2</td>\n",
       "    </tr>\n",
       "    <tr>\n",
       "      <th>min_weight_fraction_leaf</th>\n",
       "      <td>0.0</td>\n",
       "    </tr>\n",
       "    <tr>\n",
       "      <th>n_estimators</th>\n",
       "      <td>100</td>\n",
       "    </tr>\n",
       "    <tr>\n",
       "      <th>n_jobs</th>\n",
       "      <td>-1</td>\n",
       "    </tr>\n",
       "    <tr>\n",
       "      <th>oob_score</th>\n",
       "      <td>False</td>\n",
       "    </tr>\n",
       "    <tr>\n",
       "      <th>random_state</th>\n",
       "      <td>123</td>\n",
       "    </tr>\n",
       "    <tr>\n",
       "      <th>verbose</th>\n",
       "      <td>0</td>\n",
       "    </tr>\n",
       "    <tr>\n",
       "      <th>warm_start</th>\n",
       "      <td>False</td>\n",
       "    </tr>\n",
       "    <tr>\n",
       "      <th>power_transformer_method</th>\n",
       "      <td>box-cox</td>\n",
       "    </tr>\n",
       "    <tr>\n",
       "      <th>power_transformer_standardize</th>\n",
       "      <td>True</td>\n",
       "    </tr>\n",
       "    <tr>\n",
       "      <th>regressor</th>\n",
       "      <td>RandomForestRegressor(bootstrap=True, ccp_alph...</td>\n",
       "    </tr>\n",
       "  </tbody>\n",
       "</table>\n",
       "</div>"
      ],
      "text/plain": [
       "                                                                      Parameters\n",
       "bootstrap                                                                   True\n",
       "ccp_alpha                                                                    0.0\n",
       "criterion                                                                    mse\n",
       "max_depth                                                                   None\n",
       "max_features                                                                auto\n",
       "max_leaf_nodes                                                              None\n",
       "max_samples                                                                 None\n",
       "min_impurity_decrease                                                        0.0\n",
       "min_impurity_split                                                          None\n",
       "min_samples_leaf                                                               1\n",
       "min_samples_split                                                              2\n",
       "min_weight_fraction_leaf                                                     0.0\n",
       "n_estimators                                                                 100\n",
       "n_jobs                                                                        -1\n",
       "oob_score                                                                  False\n",
       "random_state                                                                 123\n",
       "verbose                                                                        0\n",
       "warm_start                                                                 False\n",
       "power_transformer_method                                                 box-cox\n",
       "power_transformer_standardize                                               True\n",
       "regressor                      RandomForestRegressor(bootstrap=True, ccp_alph..."
      ]
     },
     "metadata": {},
     "output_type": "display_data"
    }
   ],
   "source": [
    "evaluate_model(best)"
   ]
  },
  {
   "cell_type": "code",
   "execution_count": 921,
   "metadata": {},
   "outputs": [],
   "source": [
    "from sklearn.metrics import mean_absolute_error, mean_squared_error"
   ]
  },
  {
   "cell_type": "markdown",
   "metadata": {},
   "source": [
    "## Linear Regression - najprostszy, bazowy model"
   ]
  },
  {
   "cell_type": "code",
   "execution_count": 922,
   "metadata": {},
   "outputs": [],
   "source": [
    "from sklearn.linear_model import LinearRegression\n",
    "from sklearn.compose import TransformedTargetRegressor"
   ]
  },
  {
   "cell_type": "code",
   "execution_count": 923,
   "metadata": {},
   "outputs": [],
   "source": [
    "lr_pipeline = Pipeline(steps=[\n",
    "    ('feature_pipeline', feature_pipeline),\n",
    "    ('lin_reg', LinearRegression())\n",
    "])\n",
    "\n",
    "lr_model = TransformedTargetRegressor(\n",
    "    regressor=lr_pipeline, inverse_func=np.round)\n"
   ]
  },
  {
   "cell_type": "markdown",
   "metadata": {},
   "source": [
    "### TODO: Cross validation"
   ]
  },
  {
   "cell_type": "code",
   "execution_count": null,
   "metadata": {},
   "outputs": [],
   "source": []
  },
  {
   "cell_type": "markdown",
   "metadata": {},
   "source": [
    "### Trenowanie prostego modelu"
   ]
  },
  {
   "cell_type": "code",
   "execution_count": 924,
   "metadata": {},
   "outputs": [
    {
     "data": {
      "text/plain": [
       "TransformedTargetRegressor(check_inverse=True, func=None,\n",
       "                           inverse_func=<function round_ at 0x109fb0ca0>,\n",
       "                           regressor=Pipeline(memory=None,\n",
       "                                              steps=[('feature_pipeline',\n",
       "                                                      Pipeline(memory=None,\n",
       "                                                               steps=[('cyclic_transform',\n",
       "                                                                       <__main__.CycleTransformer object at 0x2a4256190>),\n",
       "                                                                      ('scaling',\n",
       "                                                                       MinMaxScaler(copy=True,\n",
       "                                                                                    feature_range=(0,\n",
       "                                                                                                   1)))],\n",
       "                                                               verbose=False)),\n",
       "                                                     ('lin_reg',\n",
       "                                                      LinearRegression(copy_X=True,\n",
       "                                                                       fit_intercept=True,\n",
       "                                                                       n_jobs=None,\n",
       "                                                                       normalize=False))],\n",
       "                                              verbose=False),\n",
       "                           transformer=None)"
      ]
     },
     "execution_count": 924,
     "metadata": {},
     "output_type": "execute_result"
    }
   ],
   "source": [
    "lr_model.fit(X_train, y_train)"
   ]
  },
  {
   "cell_type": "code",
   "execution_count": 925,
   "metadata": {},
   "outputs": [],
   "source": [
    "# lr_pipeline.fit(X_train, y_train)"
   ]
  },
  {
   "cell_type": "code",
   "execution_count": 926,
   "metadata": {},
   "outputs": [],
   "source": [
    "# y_pred = list(map(round, lr_pipeline.predict(X_valid)))"
   ]
  },
  {
   "cell_type": "code",
   "execution_count": 927,
   "metadata": {},
   "outputs": [],
   "source": [
    "y_pred = lr_model.predict(X_valid)"
   ]
  },
  {
   "cell_type": "code",
   "execution_count": 928,
   "metadata": {},
   "outputs": [
    {
     "data": {
      "text/plain": [
       "1.9714285714285715"
      ]
     },
     "execution_count": 928,
     "metadata": {},
     "output_type": "execute_result"
    }
   ],
   "source": [
    "mean_absolute_error(y_valid, y_pred)\n"
   ]
  },
  {
   "cell_type": "code",
   "execution_count": 930,
   "metadata": {},
   "outputs": [
    {
     "data": {
      "text/plain": [
       "<function matplotlib.pyplot.show(close=None, block=None)>"
      ]
     },
     "execution_count": 930,
     "metadata": {},
     "output_type": "execute_result"
    },
    {
     "data": {
      "image/png": "[encoded data removed]",
      "text/plain": [
       "<Figure size 1080x504 with 1 Axes>"
      ]
     },
     "metadata": {},
     "output_type": "display_data"
    }
   ],
   "source": [
    "plt.figure(figsize=(15, 7))\n",
    "\n",
    "plt.plot(y_valid, label='true')\n",
    "plt.plot(y_pred, label='prediction')\n",
    "plt.legend()\n",
    "plt.show"
   ]
  },
  {
   "cell_type": "markdown",
   "metadata": {},
   "source": [
    "### Ewaluacja działania (ile błędów dla okresów 2 tygodni)"
   ]
  },
  {
   "cell_type": "code",
   "execution_count": 932,
   "metadata": {},
   "outputs": [],
   "source": [
    "def evaluate_model(score_function, days=1):\n",
    "    \"\"\"Evaluates a time series model.\n",
    "\n",
    "    Args:\n",
    "        score_function (_type_): _description_\n",
    "        days (int, optional): _description_. Defaults to 14.\n",
    "    \"\"\"\n",
    "    pass"
   ]
  },
  {
   "cell_type": "code",
   "execution_count": null,
   "metadata": {},
   "outputs": [],
   "source": []
  },
  {
   "cell_type": "markdown",
   "metadata": {},
   "source": [
    "## Polynomial Regression - średniozaawansowany model"
   ]
  },
  {
   "cell_type": "code",
   "execution_count": 595,
   "metadata": {},
   "outputs": [],
   "source": [
    "from sklearn.preprocessing import PolynomialFeatures"
   ]
  },
  {
   "cell_type": "code",
   "execution_count": null,
   "metadata": {},
   "outputs": [],
   "source": [
    "poly_reg_pipeline = Pipeline(steps=[\n",
    "    ('poly_features', PolynomialFeatures(degree=5),\n",
    "    ('lin_reg', LinearRegression()))\n",
    "    ])"
   ]
  },
  {
   "cell_type": "markdown",
   "metadata": {},
   "source": [
    "## Random Forest"
   ]
  },
  {
   "cell_type": "code",
   "execution_count": 141,
   "metadata": {},
   "outputs": [],
   "source": [
    "from sklearn.ensemble import RandomForestRegressor\n"
   ]
  },
  {
   "cell_type": "code",
   "execution_count": 128,
   "metadata": {},
   "outputs": [],
   "source": [
    "rf_model = RandomForestRegressor(n_estimators=200, min_samples_leaf=0.001, random_state=42)"
   ]
  },
  {
   "cell_type": "code",
   "execution_count": 129,
   "metadata": {},
   "outputs": [
    {
     "data": {
      "text/plain": [
       "RandomForestRegressor(bootstrap=True, ccp_alpha=0.0, criterion='mse',\n",
       "                      max_depth=None, max_features='auto', max_leaf_nodes=None,\n",
       "                      max_samples=None, min_impurity_decrease=0.0,\n",
       "                      min_impurity_split=None, min_samples_leaf=0.001,\n",
       "                      min_samples_split=2, min_weight_fraction_leaf=0.0,\n",
       "                      n_estimators=200, n_jobs=None, oob_score=False,\n",
       "                      random_state=42, verbose=0, warm_start=False)"
      ]
     },
     "execution_count": 129,
     "metadata": {},
     "output_type": "execute_result"
    }
   ],
   "source": [
    "rf_model.fit(X_train, y_train)"
   ]
  },
  {
   "cell_type": "code",
   "execution_count": 130,
   "metadata": {},
   "outputs": [],
   "source": [
    "y_pred = list(map(int, rf_model.predict(X_valid)))\n"
   ]
  },
  {
   "cell_type": "code",
   "execution_count": 131,
   "metadata": {},
   "outputs": [
    {
     "data": {
      "text/html": [
       "<div>\n",
       "<style scoped>\n",
       "    .dataframe tbody tr th:only-of-type {\n",
       "        vertical-align: middle;\n",
       "    }\n",
       "\n",
       "    .dataframe tbody tr th {\n",
       "        vertical-align: top;\n",
       "    }\n",
       "\n",
       "    .dataframe thead th {\n",
       "        text-align: right;\n",
       "    }\n",
       "</style>\n",
       "<table border=\"1\" class=\"dataframe\">\n",
       "  <thead>\n",
       "    <tr style=\"text-align: right;\">\n",
       "      <th></th>\n",
       "      <th>actual</th>\n",
       "      <th>prediction</th>\n",
       "    </tr>\n",
       "  </thead>\n",
       "  <tbody>\n",
       "    <tr>\n",
       "      <th>838</th>\n",
       "      <td>10</td>\n",
       "      <td>3</td>\n",
       "    </tr>\n",
       "    <tr>\n",
       "      <th>839</th>\n",
       "      <td>19</td>\n",
       "      <td>11</td>\n",
       "    </tr>\n",
       "    <tr>\n",
       "      <th>840</th>\n",
       "      <td>9</td>\n",
       "      <td>15</td>\n",
       "    </tr>\n",
       "    <tr>\n",
       "      <th>841</th>\n",
       "      <td>14</td>\n",
       "      <td>15</td>\n",
       "    </tr>\n",
       "    <tr>\n",
       "      <th>842</th>\n",
       "      <td>11</td>\n",
       "      <td>7</td>\n",
       "    </tr>\n",
       "    <tr>\n",
       "      <th>843</th>\n",
       "      <td>8</td>\n",
       "      <td>7</td>\n",
       "    </tr>\n",
       "    <tr>\n",
       "      <th>844</th>\n",
       "      <td>4</td>\n",
       "      <td>8</td>\n",
       "    </tr>\n",
       "    <tr>\n",
       "      <th>845</th>\n",
       "      <td>3</td>\n",
       "      <td>5</td>\n",
       "    </tr>\n",
       "    <tr>\n",
       "      <th>846</th>\n",
       "      <td>6</td>\n",
       "      <td>3</td>\n",
       "    </tr>\n",
       "    <tr>\n",
       "      <th>847</th>\n",
       "      <td>5</td>\n",
       "      <td>5</td>\n",
       "    </tr>\n",
       "  </tbody>\n",
       "</table>\n",
       "</div>"
      ],
      "text/plain": [
       "     actual  prediction\n",
       "838      10           3\n",
       "839      19          11\n",
       "840       9          15\n",
       "841      14          15\n",
       "842      11           7\n",
       "843       8           7\n",
       "844       4           8\n",
       "845       3           5\n",
       "846       6           3\n",
       "847       5           5"
      ]
     },
     "execution_count": 131,
     "metadata": {},
     "output_type": "execute_result"
    }
   ],
   "source": [
    "df_predictions = pd.DataFrame({'actual': y_valid, 'prediction': y_pred})\n",
    "df_predictions.head(10)\n"
   ]
  },
  {
   "cell_type": "code",
   "execution_count": 132,
   "metadata": {},
   "outputs": [
    {
     "data": {
      "image/png": "[encoded data removed]",
      "text/plain": [
       "<Figure size 1080x504 with 1 Axes>"
      ]
     },
     "metadata": {},
     "output_type": "display_data"
    }
   ],
   "source": [
    "df_predictions.plot(figsize=(15, 7))\n",
    "plt.show()"
   ]
  },
  {
   "cell_type": "markdown",
   "metadata": {},
   "source": [
    "- MAE"
   ]
  },
  {
   "cell_type": "code",
   "execution_count": 133,
   "metadata": {},
   "outputs": [
    {
     "data": {
      "text/plain": [
       "1.3557046979865772"
      ]
     },
     "execution_count": 133,
     "metadata": {},
     "output_type": "execute_result"
    }
   ],
   "source": [
    "mean_absolute_error(y_valid, y_pred)\n"
   ]
  },
  {
   "cell_type": "markdown",
   "metadata": {},
   "source": [
    "- RMSE"
   ]
  },
  {
   "cell_type": "code",
   "execution_count": 134,
   "metadata": {},
   "outputs": [
    {
     "data": {
      "text/plain": [
       "2.1046449109867162"
      ]
     },
     "execution_count": 134,
     "metadata": {},
     "output_type": "execute_result"
    }
   ],
   "source": [
    "np.sqrt(mean_squared_error(y_valid, y_pred))\n"
   ]
  },
  {
   "cell_type": "markdown",
   "metadata": {},
   "source": [
    "Nie wygląda źle. Przyda się strojenie hiperparametrów i walidacja krzyzowa."
   ]
  },
  {
   "cell_type": "code",
   "execution_count": null,
   "metadata": {},
   "outputs": [],
   "source": []
  },
  {
   "cell_type": "code",
   "execution_count": null,
   "metadata": {},
   "outputs": [],
   "source": []
  },
  {
   "cell_type": "markdown",
   "metadata": {},
   "source": [
    "Dodanie dnia tygodnia?"
   ]
  },
  {
   "cell_type": "code",
   "execution_count": null,
   "metadata": {},
   "outputs": [],
   "source": []
  },
  {
   "cell_type": "code",
   "execution_count": null,
   "metadata": {},
   "outputs": [],
   "source": []
  },
  {
   "cell_type": "code",
   "execution_count": null,
   "metadata": {},
   "outputs": [],
   "source": []
  },
  {
   "cell_type": "code",
   "execution_count": 75,
   "metadata": {},
   "outputs": [],
   "source": [
    "# save_model(best, 'my_best_pipeline')\n"
   ]
  },
  {
   "cell_type": "markdown",
   "metadata": {},
   "source": [
    "## Model 2 - model uwzględniający ilość kupowanych towarów"
   ]
  },
  {
   "cell_type": "markdown",
   "metadata": {},
   "source": [
    "### Dodanie wcześniej wyznaczonego czasu zwrotu do danych"
   ]
  },
  {
   "cell_type": "code",
   "execution_count": 91,
   "metadata": {},
   "outputs": [
    {
     "data": {
      "text/html": [
       "<div>\n",
       "<style scoped>\n",
       "    .dataframe tbody tr th:only-of-type {\n",
       "        vertical-align: middle;\n",
       "    }\n",
       "\n",
       "    .dataframe tbody tr th {\n",
       "        vertical-align: top;\n",
       "    }\n",
       "\n",
       "    .dataframe thead th {\n",
       "        text-align: right;\n",
       "    }\n",
       "</style>\n",
       "<table border=\"1\" class=\"dataframe\">\n",
       "  <thead>\n",
       "    <tr style=\"text-align: right;\">\n",
       "      <th></th>\n",
       "      <th>timestamp</th>\n",
       "      <th>event_type</th>\n",
       "      <th>category_path</th>\n",
       "      <th>price</th>\n",
       "      <th>brand</th>\n",
       "      <th>weight_kg</th>\n",
       "      <th>city</th>\n",
       "    </tr>\n",
       "  </thead>\n",
       "  <tbody>\n",
       "    <tr>\n",
       "      <th>0</th>\n",
       "      <td>2020-01-25</td>\n",
       "      <td>BUY_PRODUCT</td>\n",
       "      <td>Podzespoły komputerowe;Pamięć RAM</td>\n",
       "      <td>278.99</td>\n",
       "      <td>Goodram</td>\n",
       "      <td>0.029</td>\n",
       "      <td>Szczecin</td>\n",
       "    </tr>\n",
       "    <tr>\n",
       "      <th>1</th>\n",
       "      <td>2020-02-12</td>\n",
       "      <td>RETURN_PRODUCT</td>\n",
       "      <td>Podzespoły komputerowe;Pamięć RAM</td>\n",
       "      <td>278.99</td>\n",
       "      <td>Goodram</td>\n",
       "      <td>0.029</td>\n",
       "      <td>Szczecin</td>\n",
       "    </tr>\n",
       "    <tr>\n",
       "      <th>2</th>\n",
       "      <td>2019-12-29</td>\n",
       "      <td>BUY_PRODUCT</td>\n",
       "      <td>Urządzenia wskazujące;Pady</td>\n",
       "      <td>29.19</td>\n",
       "      <td>Esperanza</td>\n",
       "      <td>0.300</td>\n",
       "      <td>Szczecin</td>\n",
       "    </tr>\n",
       "    <tr>\n",
       "      <th>3</th>\n",
       "      <td>2020-12-30</td>\n",
       "      <td>BUY_PRODUCT</td>\n",
       "      <td>Komputery;Komputery stacjonarne</td>\n",
       "      <td>629.74</td>\n",
       "      <td>Dell</td>\n",
       "      <td>0.000</td>\n",
       "      <td>Szczecin</td>\n",
       "    </tr>\n",
       "    <tr>\n",
       "      <th>4</th>\n",
       "      <td>2020-04-13</td>\n",
       "      <td>BUY_PRODUCT</td>\n",
       "      <td>Zestaw klawiatura i mysz;Bezprzewodowe</td>\n",
       "      <td>197.00</td>\n",
       "      <td>Logitech</td>\n",
       "      <td>0.875</td>\n",
       "      <td>Szczecin</td>\n",
       "    </tr>\n",
       "  </tbody>\n",
       "</table>\n",
       "</div>"
      ],
      "text/plain": [
       "    timestamp      event_type                           category_path   price  \\\n",
       "0  2020-01-25     BUY_PRODUCT       Podzespoły komputerowe;Pamięć RAM  278.99   \n",
       "1  2020-02-12  RETURN_PRODUCT       Podzespoły komputerowe;Pamięć RAM  278.99   \n",
       "2  2019-12-29     BUY_PRODUCT              Urządzenia wskazujące;Pady   29.19   \n",
       "3  2020-12-30     BUY_PRODUCT         Komputery;Komputery stacjonarne  629.74   \n",
       "4  2020-04-13     BUY_PRODUCT  Zestaw klawiatura i mysz;Bezprzewodowe  197.00   \n",
       "\n",
       "       brand  weight_kg      city  \n",
       "0    Goodram      0.029  Szczecin  \n",
       "1    Goodram      0.029  Szczecin  \n",
       "2  Esperanza      0.300  Szczecin  \n",
       "3       Dell      0.000  Szczecin  \n",
       "4   Logitech      0.875  Szczecin  "
      ]
     },
     "execution_count": 91,
     "metadata": {},
     "output_type": "execute_result"
    }
   ],
   "source": [
    "df_model_2 = df_concat_chosen.copy()\n",
    "df_model_2['timestamp'] = df_concat_chosen.apply(lambda x: (x['timestamp'] + timedelta(days=median_delivery_days)) if x['event_type']\n",
    "                                              == 'RETURN_PRODUCT' else x['timestamp'], axis=1)\n",
    "\n",
    "df_model_2.head()\n"
   ]
  },
  {
   "cell_type": "markdown",
   "metadata": {},
   "source": [
    "### Usunięcie zbędnych kolumn"
   ]
  },
  {
   "cell_type": "code",
   "execution_count": 92,
   "metadata": {},
   "outputs": [
    {
     "data": {
      "text/html": [
       "<div>\n",
       "<style scoped>\n",
       "    .dataframe tbody tr th:only-of-type {\n",
       "        vertical-align: middle;\n",
       "    }\n",
       "\n",
       "    .dataframe tbody tr th {\n",
       "        vertical-align: top;\n",
       "    }\n",
       "\n",
       "    .dataframe thead th {\n",
       "        text-align: right;\n",
       "    }\n",
       "</style>\n",
       "<table border=\"1\" class=\"dataframe\">\n",
       "  <thead>\n",
       "    <tr style=\"text-align: right;\">\n",
       "      <th></th>\n",
       "      <th>timestamp</th>\n",
       "      <th>event_type</th>\n",
       "    </tr>\n",
       "  </thead>\n",
       "  <tbody>\n",
       "    <tr>\n",
       "      <th>0</th>\n",
       "      <td>2020-01-25</td>\n",
       "      <td>BUY_PRODUCT</td>\n",
       "    </tr>\n",
       "    <tr>\n",
       "      <th>1</th>\n",
       "      <td>2020-02-12</td>\n",
       "      <td>RETURN_PRODUCT</td>\n",
       "    </tr>\n",
       "    <tr>\n",
       "      <th>2</th>\n",
       "      <td>2019-12-29</td>\n",
       "      <td>BUY_PRODUCT</td>\n",
       "    </tr>\n",
       "    <tr>\n",
       "      <th>3</th>\n",
       "      <td>2020-12-30</td>\n",
       "      <td>BUY_PRODUCT</td>\n",
       "    </tr>\n",
       "    <tr>\n",
       "      <th>4</th>\n",
       "      <td>2020-04-13</td>\n",
       "      <td>BUY_PRODUCT</td>\n",
       "    </tr>\n",
       "  </tbody>\n",
       "</table>\n",
       "</div>"
      ],
      "text/plain": [
       "    timestamp      event_type\n",
       "0  2020-01-25     BUY_PRODUCT\n",
       "1  2020-02-12  RETURN_PRODUCT\n",
       "2  2019-12-29     BUY_PRODUCT\n",
       "3  2020-12-30     BUY_PRODUCT\n",
       "4  2020-04-13     BUY_PRODUCT"
      ]
     },
     "execution_count": 92,
     "metadata": {},
     "output_type": "execute_result"
    }
   ],
   "source": [
    "df_model_2 = df_model_2.drop(\n",
    "    ['price', 'brand', 'weight_kg', 'city', 'category_path'], axis=1)\n",
    "df_model_2.head()\n"
   ]
  },
  {
   "cell_type": "markdown",
   "metadata": {},
   "source": [
    "### Zliczenie dziennej ilości zwrotów oraz zakupionych towarów"
   ]
  },
  {
   "cell_type": "code",
   "execution_count": 120,
   "metadata": {},
   "outputs": [
    {
     "data": {
      "text/html": [
       "<div>\n",
       "<style scoped>\n",
       "    .dataframe tbody tr th:only-of-type {\n",
       "        vertical-align: middle;\n",
       "    }\n",
       "\n",
       "    .dataframe tbody tr th {\n",
       "        vertical-align: top;\n",
       "    }\n",
       "\n",
       "    .dataframe thead th {\n",
       "        text-align: right;\n",
       "    }\n",
       "</style>\n",
       "<table border=\"1\" class=\"dataframe\">\n",
       "  <thead>\n",
       "    <tr style=\"text-align: right;\">\n",
       "      <th></th>\n",
       "      <th>num_purchases</th>\n",
       "      <th>num_returns</th>\n",
       "    </tr>\n",
       "    <tr>\n",
       "      <th>timestamp</th>\n",
       "      <th></th>\n",
       "      <th></th>\n",
       "    </tr>\n",
       "  </thead>\n",
       "  <tbody>\n",
       "    <tr>\n",
       "      <th>2019-08-01</th>\n",
       "      <td>15</td>\n",
       "      <td>0</td>\n",
       "    </tr>\n",
       "    <tr>\n",
       "      <th>2019-08-02</th>\n",
       "      <td>19</td>\n",
       "      <td>0</td>\n",
       "    </tr>\n",
       "    <tr>\n",
       "      <th>2019-08-03</th>\n",
       "      <td>14</td>\n",
       "      <td>0</td>\n",
       "    </tr>\n",
       "    <tr>\n",
       "      <th>2019-08-04</th>\n",
       "      <td>17</td>\n",
       "      <td>0</td>\n",
       "    </tr>\n",
       "    <tr>\n",
       "      <th>2019-08-05</th>\n",
       "      <td>15</td>\n",
       "      <td>0</td>\n",
       "    </tr>\n",
       "  </tbody>\n",
       "</table>\n",
       "</div>"
      ],
      "text/plain": [
       "            num_purchases  num_returns\n",
       "timestamp                             \n",
       "2019-08-01             15            0\n",
       "2019-08-02             19            0\n",
       "2019-08-03             14            0\n",
       "2019-08-04             17            0\n",
       "2019-08-05             15            0"
      ]
     },
     "execution_count": 120,
     "metadata": {},
     "output_type": "execute_result"
    }
   ],
   "source": [
    "df_model_2_prep = pd.crosstab(index=df_model_2['timestamp'], columns=df_model_2['event_type'])\n",
    "\n",
    "df_model_2_prep.columns = ['num_purchases', 'num_returns']\n",
    "df_model_2_prep.head()\n"
   ]
  },
  {
   "cell_type": "markdown",
   "metadata": {},
   "source": [
    "### Posortowanie danych po dacie"
   ]
  },
  {
   "cell_type": "code",
   "execution_count": 121,
   "metadata": {},
   "outputs": [],
   "source": [
    "df_model_2_prep.sort_index(inplace=True)\n"
   ]
  },
  {
   "cell_type": "markdown",
   "metadata": {},
   "source": [
    "### Zapewnienie stałej częstotliwości"
   ]
  },
  {
   "cell_type": "markdown",
   "metadata": {},
   "source": [
    "Zgodnie z załozeniami, model ma przewidywać dzienną ilość zwrotów, na 2 tygodnie w przód. Nalezy zatem zbiór danych zmodyfikować w ten sposób, aby widniały w nim dane pochodzące z kazdego dnia od początku, do końca przedziału. W dni nieuwzględnione w dotychczasowych danych wpiszemy 0, gdyz nie dochodziło wtedy do zadnych zwrotów ani zakupów. Zakładamy, ze magazyn pracuje 7 dni w tygodniu, stąd tez nie musimy wyróniać dni pracujących."
   ]
  },
  {
   "cell_type": "code",
   "execution_count": 113,
   "metadata": {},
   "outputs": [
    {
     "name": "stdout",
     "output_type": "stream",
     "text": [
      "Zakres modelowanych danych:\n"
     ]
    },
    {
     "data": {
      "text/plain": [
       "(datetime.date(2019, 8, 1), datetime.date(2022, 4, 28))"
      ]
     },
     "execution_count": 113,
     "metadata": {},
     "output_type": "execute_result"
    }
   ],
   "source": [
    "print('Zakres modelowanych danych:')\n",
    "df_model_2_prep.index.min(), df_model_2_prep.index.max()\n"
   ]
  },
  {
   "cell_type": "markdown",
   "metadata": {},
   "source": [
    "Dostępne dane pochodzą z okresu prawie 3 lat, co powinno umozliwić bezproblemowe podzielenie zbioru danych na treningowy oraz walidacyjny."
   ]
  },
  {
   "cell_type": "code",
   "execution_count": 115,
   "metadata": {},
   "outputs": [
    {
     "name": "stdout",
     "output_type": "stream",
     "text": [
      "Ilość danych przed transformacją 641\n",
      "Ilość danych po transformacji 987\n"
     ]
    }
   ],
   "source": [
    "df_model_2_prep_daily = df_model_2_prep.copy()\n",
    "df_model_2_prep_daily = df_model_2_prep.asfreq('d', fill_value=0)\n",
    "\n",
    "print(f'Ilość danych przed transformacją {df_model_1.shape[0]}')\n",
    "print(f'Ilość danych po transformacji {df_model_1_daily.shape[0]}')\n"
   ]
  },
  {
   "cell_type": "markdown",
   "metadata": {},
   "source": [
    "### Utworzenie nowego atrybutu, przechowującego liczbę zakupionych towarów w ostatnich 2 tygodniach"
   ]
  },
  {
   "cell_type": "code",
   "execution_count": null,
   "metadata": {},
   "outputs": [],
   "source": []
  },
  {
   "cell_type": "code",
   "execution_count": null,
   "metadata": {},
   "outputs": [],
   "source": []
  },
  {
   "cell_type": "code",
   "execution_count": null,
   "metadata": {},
   "outputs": [],
   "source": []
  },
  {
   "cell_type": "markdown",
   "metadata": {},
   "source": [
    "Solution: https://www.analyticsvidhya.com/blog/2020/10/multivariate-multi-step-time-series-forecasting-using-stacked-lstm-sequence-to-sequence-autoencoder-in-tensorflow-2-0-keras/"
   ]
  },
  {
   "cell_type": "code",
   "execution_count": null,
   "metadata": {},
   "outputs": [],
   "source": []
  },
  {
   "cell_type": "markdown",
   "metadata": {},
   "source": [
    "# XGBoost"
   ]
  },
  {
   "cell_type": "code",
   "execution_count": null,
   "metadata": {},
   "outputs": [],
   "source": []
  },
  {
   "cell_type": "code",
   "execution_count": null,
   "metadata": {},
   "outputs": [],
   "source": []
  },
  {
   "cell_type": "code",
   "execution_count": null,
   "metadata": {},
   "outputs": [],
   "source": []
  },
  {
   "cell_type": "markdown",
   "metadata": {},
   "source": [
    "## Czy cięzsze produkty zwracane są częściej?"
   ]
  },
  {
   "cell_type": "code",
   "execution_count": null,
   "metadata": {},
   "outputs": [],
   "source": []
  },
  {
   "cell_type": "markdown",
   "metadata": {},
   "source": [
    "# Podział danych na zbiory"
   ]
  },
  {
   "cell_type": "markdown",
   "metadata": {},
   "source": [
    "![](https://i.stack.imgur.com/2KHMQ.png \"image Title\")"
   ]
  },
  {
   "cell_type": "markdown",
   "metadata": {},
   "source": [
    "sklearn.model_selection.TimeSeriesSplit\n",
    "\n",
    "https://www.kaggle.com/code/tomwarrens/timeseriessplit-how-to-use-it/notebook\n",
    "\n",
    "https://www.programcreek.com/python/example/120827/sklearn.model_selection.TimeSeriesSplit"
   ]
  },
  {
   "cell_type": "code",
   "execution_count": null,
   "metadata": {},
   "outputs": [],
   "source": []
  },
  {
   "cell_type": "code",
   "execution_count": null,
   "metadata": {},
   "outputs": [],
   "source": []
  },
  {
   "cell_type": "markdown",
   "metadata": {},
   "source": [
    "## Model 3 - model uwzględniający rodzaj oraz cechy kupowanych towarów"
   ]
  },
  {
   "cell_type": "code",
   "execution_count": null,
   "metadata": {},
   "outputs": [],
   "source": []
  },
  {
   "cell_type": "code",
   "execution_count": null,
   "metadata": {},
   "outputs": [],
   "source": []
  },
  {
   "cell_type": "markdown",
   "metadata": {},
   "source": [
    "#### PyCaret\n",
    "\n",
    "https://towardsdatascience.com/5-things-you-are-doing-wrong-in-pycaret-e01981575d2a"
   ]
  },
  {
   "cell_type": "markdown",
   "metadata": {},
   "source": [
    "### Metrics\n",
    "\n",
    "https://towardsdatascience.com/time-series-from-scratch-train-test-splits-and-evaluation-metrics-4fd654de1b37"
   ]
  },
  {
   "cell_type": "markdown",
   "metadata": {},
   "source": []
  }
 ],
 "metadata": {
  "interpreter": {
   "hash": "db3a1a8fc265099731cf2ee3a64a9103a8b08ffbb49783f7eea49698cade0183"
  },
  "kernelspec": {
   "display_name": "Python 3 (ipykernel)",
   "language": "python",
   "name": "python3"
  },
  "language_info": {
   "codemirror_mode": {
    "name": "ipython",
    "version": 3
   },
   "file_extension": ".py",
   "mimetype": "text/x-python",
   "name": "python",
   "nbconvert_exporter": "python",
   "pygments_lexer": "ipython3",
   "version": "3.8.13"
  }
 },
 "nbformat": 4,
 "nbformat_minor": 2
}

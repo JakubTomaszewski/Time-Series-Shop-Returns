{
 "cells": [
  {
   "cell_type": "markdown",
   "id": "6eeed306",
   "metadata": {},
   "source": []
  },
  {
   "cell_type": "code",
   "execution_count": 194,
   "id": "2a9ce845",
   "metadata": {},
   "outputs": [],
   "source": [
    "import os\n",
    "import numpy as np\n",
    "import pandas as pd\n",
    "import matplotlib.pyplot as plt\n",
    "import seaborn as sns\n",
    "\n",
    "from datetime import date"
   ]
  },
  {
   "cell_type": "code",
   "execution_count": 2,
   "id": "320fca0a",
   "metadata": {},
   "outputs": [],
   "source": [
    "DATA_DIR = 'data'"
   ]
  },
  {
   "cell_type": "code",
   "execution_count": 3,
   "id": "b29543de",
   "metadata": {},
   "outputs": [
    {
     "data": {
      "text/plain": [
       "['deliveries.jsonl', 'sessions.jsonl', 'products.jsonl', 'users.jsonl']"
      ]
     },
     "execution_count": 3,
     "metadata": {},
     "output_type": "execute_result"
    }
   ],
   "source": [
    "data_files = os.listdir(DATA_DIR)\n",
    "data_files"
   ]
  },
  {
   "cell_type": "code",
   "execution_count": 5,
   "id": "db6dc7b5",
   "metadata": {},
   "outputs": [
    {
     "data": {
      "text/plain": [
       "'data/deliveries.jsonl'"
      ]
     },
     "execution_count": 5,
     "metadata": {},
     "output_type": "execute_result"
    }
   ],
   "source": [
    "os.path.join(DATA_DIR, data_files[0])"
   ]
  },
  {
   "cell_type": "code",
   "execution_count": 6,
   "id": "8ecfc589",
   "metadata": {},
   "outputs": [],
   "source": [
    "df_deliveries = pd.read_json(os.path.join(DATA_DIR, data_files[0]), lines=True)\n",
    "df_sessions = pd.read_json(os.path.join(DATA_DIR, data_files[1]), lines=True)\n",
    "df_products = pd.read_json(os.path.join(DATA_DIR, data_files[2]), lines=True)\n",
    "df_users = pd.read_json(os.path.join(DATA_DIR, data_files[3]), lines=True)"
   ]
  },
  {
   "cell_type": "markdown",
   "id": "2b6f30cb",
   "metadata": {},
   "source": [
    "- ## Sessions data"
   ]
  },
  {
   "cell_type": "code",
   "execution_count": 7,
   "id": "c0800fb3",
   "metadata": {
    "scrolled": true
   },
   "outputs": [
    {
     "data": {
      "text/html": [
       "<div>\n",
       "<style scoped>\n",
       "    .dataframe tbody tr th:only-of-type {\n",
       "        vertical-align: middle;\n",
       "    }\n",
       "\n",
       "    .dataframe tbody tr th {\n",
       "        vertical-align: top;\n",
       "    }\n",
       "\n",
       "    .dataframe thead th {\n",
       "        text-align: right;\n",
       "    }\n",
       "</style>\n",
       "<table border=\"1\" class=\"dataframe\">\n",
       "  <thead>\n",
       "    <tr style=\"text-align: right;\">\n",
       "      <th></th>\n",
       "      <th>session_id</th>\n",
       "      <th>timestamp</th>\n",
       "      <th>user_id</th>\n",
       "      <th>product_id</th>\n",
       "      <th>event_type</th>\n",
       "      <th>offered_discount</th>\n",
       "      <th>purchase_id</th>\n",
       "    </tr>\n",
       "  </thead>\n",
       "  <tbody>\n",
       "    <tr>\n",
       "      <th>0</th>\n",
       "      <td>124</td>\n",
       "      <td>2022-03-15 07:46:34</td>\n",
       "      <td>102</td>\n",
       "      <td>1542</td>\n",
       "      <td>VIEW_PRODUCT</td>\n",
       "      <td>0.0</td>\n",
       "      <td>NaN</td>\n",
       "    </tr>\n",
       "    <tr>\n",
       "      <th>1</th>\n",
       "      <td>124</td>\n",
       "      <td>2022-03-15 07:49:16</td>\n",
       "      <td>102</td>\n",
       "      <td>1544</td>\n",
       "      <td>VIEW_PRODUCT</td>\n",
       "      <td>0.0</td>\n",
       "      <td>NaN</td>\n",
       "    </tr>\n",
       "    <tr>\n",
       "      <th>2</th>\n",
       "      <td>124</td>\n",
       "      <td>2022-03-15 07:53:27</td>\n",
       "      <td>102</td>\n",
       "      <td>1547</td>\n",
       "      <td>VIEW_PRODUCT</td>\n",
       "      <td>0.0</td>\n",
       "      <td>NaN</td>\n",
       "    </tr>\n",
       "    <tr>\n",
       "      <th>3</th>\n",
       "      <td>124</td>\n",
       "      <td>2022-03-15 07:56:49</td>\n",
       "      <td>102</td>\n",
       "      <td>1543</td>\n",
       "      <td>VIEW_PRODUCT</td>\n",
       "      <td>0.0</td>\n",
       "      <td>NaN</td>\n",
       "    </tr>\n",
       "    <tr>\n",
       "      <th>4</th>\n",
       "      <td>124</td>\n",
       "      <td>2022-03-15 07:57:17</td>\n",
       "      <td>102</td>\n",
       "      <td>1545</td>\n",
       "      <td>VIEW_PRODUCT</td>\n",
       "      <td>0.0</td>\n",
       "      <td>NaN</td>\n",
       "    </tr>\n",
       "  </tbody>\n",
       "</table>\n",
       "</div>"
      ],
      "text/plain": [
       "   session_id           timestamp  user_id  product_id    event_type  \\\n",
       "0         124 2022-03-15 07:46:34      102        1542  VIEW_PRODUCT   \n",
       "1         124 2022-03-15 07:49:16      102        1544  VIEW_PRODUCT   \n",
       "2         124 2022-03-15 07:53:27      102        1547  VIEW_PRODUCT   \n",
       "3         124 2022-03-15 07:56:49      102        1543  VIEW_PRODUCT   \n",
       "4         124 2022-03-15 07:57:17      102        1545  VIEW_PRODUCT   \n",
       "\n",
       "   offered_discount  purchase_id  \n",
       "0               0.0          NaN  \n",
       "1               0.0          NaN  \n",
       "2               0.0          NaN  \n",
       "3               0.0          NaN  \n",
       "4               0.0          NaN  "
      ]
     },
     "execution_count": 7,
     "metadata": {},
     "output_type": "execute_result"
    }
   ],
   "source": [
    "df_sessions.head()"
   ]
  },
  {
   "cell_type": "code",
   "execution_count": 8,
   "id": "cadb58d3",
   "metadata": {},
   "outputs": [
    {
     "name": "stdout",
     "output_type": "stream",
     "text": [
      "<class 'pandas.core.frame.DataFrame'>\n",
      "RangeIndex: 47383 entries, 0 to 47382\n",
      "Data columns (total 7 columns):\n",
      " #   Column            Non-Null Count  Dtype         \n",
      "---  ------            --------------  -----         \n",
      " 0   session_id        47383 non-null  int64         \n",
      " 1   timestamp         47383 non-null  datetime64[ns]\n",
      " 2   user_id           47383 non-null  int64         \n",
      " 3   product_id        47383 non-null  int64         \n",
      " 4   event_type        47383 non-null  object        \n",
      " 5   offered_discount  46657 non-null  float64       \n",
      " 6   purchase_id       7497 non-null   float64       \n",
      "dtypes: datetime64[ns](1), float64(2), int64(3), object(1)\n",
      "memory usage: 2.5+ MB\n"
     ]
    }
   ],
   "source": [
    "df_sessions.info()"
   ]
  },
  {
   "cell_type": "code",
   "execution_count": 35,
   "id": "419085b5",
   "metadata": {},
   "outputs": [
    {
     "data": {
      "text/plain": [
       "VIEW_PRODUCT      39886\n",
       "BUY_PRODUCT        6771\n",
       "RETURN_PRODUCT      726\n",
       "Name: event_type, dtype: int64"
      ]
     },
     "execution_count": 35,
     "metadata": {},
     "output_type": "execute_result"
    }
   ],
   "source": [
    "df_sessions['event_type'].value_counts()"
   ]
  },
  {
   "cell_type": "code",
   "execution_count": 9,
   "id": "ffe51240",
   "metadata": {
    "scrolled": true
   },
   "outputs": [
    {
     "data": {
      "text/html": [
       "<div>\n",
       "<style scoped>\n",
       "    .dataframe tbody tr th:only-of-type {\n",
       "        vertical-align: middle;\n",
       "    }\n",
       "\n",
       "    .dataframe tbody tr th {\n",
       "        vertical-align: top;\n",
       "    }\n",
       "\n",
       "    .dataframe thead th {\n",
       "        text-align: right;\n",
       "    }\n",
       "</style>\n",
       "<table border=\"1\" class=\"dataframe\">\n",
       "  <thead>\n",
       "    <tr style=\"text-align: right;\">\n",
       "      <th></th>\n",
       "      <th>session_id</th>\n",
       "      <th>timestamp</th>\n",
       "      <th>user_id</th>\n",
       "      <th>product_id</th>\n",
       "      <th>event_type</th>\n",
       "      <th>offered_discount</th>\n",
       "      <th>purchase_id</th>\n",
       "    </tr>\n",
       "  </thead>\n",
       "  <tbody>\n",
       "    <tr>\n",
       "      <th>15</th>\n",
       "      <td>127</td>\n",
       "      <td>2022-04-17 04:55:17.731557</td>\n",
       "      <td>102</td>\n",
       "      <td>1540</td>\n",
       "      <td>RETURN_PRODUCT</td>\n",
       "      <td>NaN</td>\n",
       "      <td>20003.0</td>\n",
       "    </tr>\n",
       "    <tr>\n",
       "      <th>46</th>\n",
       "      <td>135</td>\n",
       "      <td>2022-03-07 16:04:08.550202</td>\n",
       "      <td>102</td>\n",
       "      <td>1629</td>\n",
       "      <td>RETURN_PRODUCT</td>\n",
       "      <td>NaN</td>\n",
       "      <td>20009.0</td>\n",
       "    </tr>\n",
       "    <tr>\n",
       "      <th>74</th>\n",
       "      <td>142</td>\n",
       "      <td>2022-02-21 12:12:18.948744</td>\n",
       "      <td>102</td>\n",
       "      <td>1466</td>\n",
       "      <td>RETURN_PRODUCT</td>\n",
       "      <td>NaN</td>\n",
       "      <td>20014.0</td>\n",
       "    </tr>\n",
       "    <tr>\n",
       "      <th>98</th>\n",
       "      <td>148</td>\n",
       "      <td>2022-04-13 06:57:56.644857</td>\n",
       "      <td>102</td>\n",
       "      <td>1471</td>\n",
       "      <td>RETURN_PRODUCT</td>\n",
       "      <td>NaN</td>\n",
       "      <td>20018.0</td>\n",
       "    </tr>\n",
       "    <tr>\n",
       "      <th>134</th>\n",
       "      <td>156</td>\n",
       "      <td>2022-02-10 10:01:12.534665</td>\n",
       "      <td>102</td>\n",
       "      <td>1104</td>\n",
       "      <td>RETURN_PRODUCT</td>\n",
       "      <td>NaN</td>\n",
       "      <td>20023.0</td>\n",
       "    </tr>\n",
       "    <tr>\n",
       "      <th>199</th>\n",
       "      <td>172</td>\n",
       "      <td>2022-02-24 22:58:34.799767</td>\n",
       "      <td>102</td>\n",
       "      <td>1095</td>\n",
       "      <td>RETURN_PRODUCT</td>\n",
       "      <td>NaN</td>\n",
       "      <td>20034.0</td>\n",
       "    </tr>\n",
       "    <tr>\n",
       "      <th>241</th>\n",
       "      <td>184</td>\n",
       "      <td>2022-02-24 15:04:04.413257</td>\n",
       "      <td>102</td>\n",
       "      <td>1061</td>\n",
       "      <td>RETURN_PRODUCT</td>\n",
       "      <td>NaN</td>\n",
       "      <td>20040.0</td>\n",
       "    </tr>\n",
       "    <tr>\n",
       "      <th>272</th>\n",
       "      <td>191</td>\n",
       "      <td>2022-02-20 03:06:07.563129</td>\n",
       "      <td>102</td>\n",
       "      <td>1440</td>\n",
       "      <td>RETURN_PRODUCT</td>\n",
       "      <td>NaN</td>\n",
       "      <td>20044.0</td>\n",
       "    </tr>\n",
       "    <tr>\n",
       "      <th>312</th>\n",
       "      <td>200</td>\n",
       "      <td>2022-02-25 07:19:04.599291</td>\n",
       "      <td>102</td>\n",
       "      <td>1028</td>\n",
       "      <td>RETURN_PRODUCT</td>\n",
       "      <td>NaN</td>\n",
       "      <td>20048.0</td>\n",
       "    </tr>\n",
       "    <tr>\n",
       "      <th>341</th>\n",
       "      <td>207</td>\n",
       "      <td>2022-02-26 10:06:44.679918</td>\n",
       "      <td>102</td>\n",
       "      <td>1610</td>\n",
       "      <td>RETURN_PRODUCT</td>\n",
       "      <td>NaN</td>\n",
       "      <td>20051.0</td>\n",
       "    </tr>\n",
       "  </tbody>\n",
       "</table>\n",
       "</div>"
      ],
      "text/plain": [
       "     session_id                  timestamp  user_id  product_id  \\\n",
       "15          127 2022-04-17 04:55:17.731557      102        1540   \n",
       "46          135 2022-03-07 16:04:08.550202      102        1629   \n",
       "74          142 2022-02-21 12:12:18.948744      102        1466   \n",
       "98          148 2022-04-13 06:57:56.644857      102        1471   \n",
       "134         156 2022-02-10 10:01:12.534665      102        1104   \n",
       "199         172 2022-02-24 22:58:34.799767      102        1095   \n",
       "241         184 2022-02-24 15:04:04.413257      102        1061   \n",
       "272         191 2022-02-20 03:06:07.563129      102        1440   \n",
       "312         200 2022-02-25 07:19:04.599291      102        1028   \n",
       "341         207 2022-02-26 10:06:44.679918      102        1610   \n",
       "\n",
       "         event_type  offered_discount  purchase_id  \n",
       "15   RETURN_PRODUCT               NaN      20003.0  \n",
       "46   RETURN_PRODUCT               NaN      20009.0  \n",
       "74   RETURN_PRODUCT               NaN      20014.0  \n",
       "98   RETURN_PRODUCT               NaN      20018.0  \n",
       "134  RETURN_PRODUCT               NaN      20023.0  \n",
       "199  RETURN_PRODUCT               NaN      20034.0  \n",
       "241  RETURN_PRODUCT               NaN      20040.0  \n",
       "272  RETURN_PRODUCT               NaN      20044.0  \n",
       "312  RETURN_PRODUCT               NaN      20048.0  \n",
       "341  RETURN_PRODUCT               NaN      20051.0  "
      ]
     },
     "execution_count": 9,
     "metadata": {},
     "output_type": "execute_result"
    }
   ],
   "source": [
    "df_return_sessions = df_sessions[df_sessions['event_type'] == 'RETURN_PRODUCT']\n",
    "df_return_sessions.head(10)"
   ]
  },
  {
   "cell_type": "code",
   "execution_count": 12,
   "id": "117bab48",
   "metadata": {
    "scrolled": true
   },
   "outputs": [
    {
     "name": "stdout",
     "output_type": "stream",
     "text": [
      "<class 'pandas.core.frame.DataFrame'>\n",
      "Int64Index: 726 entries, 15 to 47289\n",
      "Data columns (total 7 columns):\n",
      " #   Column            Non-Null Count  Dtype         \n",
      "---  ------            --------------  -----         \n",
      " 0   session_id        726 non-null    int64         \n",
      " 1   timestamp         726 non-null    datetime64[ns]\n",
      " 2   user_id           726 non-null    int64         \n",
      " 3   product_id        726 non-null    int64         \n",
      " 4   event_type        726 non-null    object        \n",
      " 5   offered_discount  0 non-null      float64       \n",
      " 6   purchase_id       726 non-null    float64       \n",
      "dtypes: datetime64[ns](1), float64(2), int64(3), object(1)\n",
      "memory usage: 45.4+ KB\n"
     ]
    }
   ],
   "source": [
    "df_return_sessions.info()"
   ]
  },
  {
   "cell_type": "code",
   "execution_count": 13,
   "id": "06caca24",
   "metadata": {},
   "outputs": [
    {
     "data": {
      "text/plain": [
       "session_id            0\n",
       "timestamp             0\n",
       "user_id               0\n",
       "product_id            0\n",
       "event_type            0\n",
       "offered_discount    726\n",
       "purchase_id           0\n",
       "dtype: int64"
      ]
     },
     "execution_count": 13,
     "metadata": {},
     "output_type": "execute_result"
    }
   ],
   "source": [
    "df_return_sessions.isna().sum()"
   ]
  },
  {
   "cell_type": "markdown",
   "id": "256d62f5",
   "metadata": {},
   "source": [
    "Cleaning data"
   ]
  },
  {
   "cell_type": "markdown",
   "id": "97075856",
   "metadata": {},
   "source": [
    "Removing redundant `offered discount` column"
   ]
  },
  {
   "cell_type": "code",
   "execution_count": 93,
   "id": "ecbc9739",
   "metadata": {},
   "outputs": [
    {
     "data": {
      "text/html": [
       "<div>\n",
       "<style scoped>\n",
       "    .dataframe tbody tr th:only-of-type {\n",
       "        vertical-align: middle;\n",
       "    }\n",
       "\n",
       "    .dataframe tbody tr th {\n",
       "        vertical-align: top;\n",
       "    }\n",
       "\n",
       "    .dataframe thead th {\n",
       "        text-align: right;\n",
       "    }\n",
       "</style>\n",
       "<table border=\"1\" class=\"dataframe\">\n",
       "  <thead>\n",
       "    <tr style=\"text-align: right;\">\n",
       "      <th></th>\n",
       "      <th>session_id</th>\n",
       "      <th>timestamp</th>\n",
       "      <th>user_id</th>\n",
       "      <th>product_id</th>\n",
       "      <th>event_type</th>\n",
       "      <th>purchase_id</th>\n",
       "    </tr>\n",
       "  </thead>\n",
       "  <tbody>\n",
       "    <tr>\n",
       "      <th>0</th>\n",
       "      <td>124</td>\n",
       "      <td>2022-03-15 07:46:34</td>\n",
       "      <td>102</td>\n",
       "      <td>1542</td>\n",
       "      <td>VIEW_PRODUCT</td>\n",
       "      <td>NaN</td>\n",
       "    </tr>\n",
       "    <tr>\n",
       "      <th>1</th>\n",
       "      <td>124</td>\n",
       "      <td>2022-03-15 07:49:16</td>\n",
       "      <td>102</td>\n",
       "      <td>1544</td>\n",
       "      <td>VIEW_PRODUCT</td>\n",
       "      <td>NaN</td>\n",
       "    </tr>\n",
       "    <tr>\n",
       "      <th>2</th>\n",
       "      <td>124</td>\n",
       "      <td>2022-03-15 07:53:27</td>\n",
       "      <td>102</td>\n",
       "      <td>1547</td>\n",
       "      <td>VIEW_PRODUCT</td>\n",
       "      <td>NaN</td>\n",
       "    </tr>\n",
       "    <tr>\n",
       "      <th>3</th>\n",
       "      <td>124</td>\n",
       "      <td>2022-03-15 07:56:49</td>\n",
       "      <td>102</td>\n",
       "      <td>1543</td>\n",
       "      <td>VIEW_PRODUCT</td>\n",
       "      <td>NaN</td>\n",
       "    </tr>\n",
       "    <tr>\n",
       "      <th>4</th>\n",
       "      <td>124</td>\n",
       "      <td>2022-03-15 07:57:17</td>\n",
       "      <td>102</td>\n",
       "      <td>1545</td>\n",
       "      <td>VIEW_PRODUCT</td>\n",
       "      <td>NaN</td>\n",
       "    </tr>\n",
       "  </tbody>\n",
       "</table>\n",
       "</div>"
      ],
      "text/plain": [
       "   session_id           timestamp  user_id  product_id    event_type  \\\n",
       "0         124 2022-03-15 07:46:34      102        1542  VIEW_PRODUCT   \n",
       "1         124 2022-03-15 07:49:16      102        1544  VIEW_PRODUCT   \n",
       "2         124 2022-03-15 07:53:27      102        1547  VIEW_PRODUCT   \n",
       "3         124 2022-03-15 07:56:49      102        1543  VIEW_PRODUCT   \n",
       "4         124 2022-03-15 07:57:17      102        1545  VIEW_PRODUCT   \n",
       "\n",
       "   purchase_id  \n",
       "0          NaN  \n",
       "1          NaN  \n",
       "2          NaN  \n",
       "3          NaN  \n",
       "4          NaN  "
      ]
     },
     "execution_count": 93,
     "metadata": {},
     "output_type": "execute_result"
    }
   ],
   "source": [
    "df_sessions = df_sessions.drop('offered_discount', axis=1)\n",
    "df_sessions.head()"
   ]
  },
  {
   "cell_type": "markdown",
   "id": "f464ebb2",
   "metadata": {},
   "source": [
    "Datetime column"
   ]
  },
  {
   "cell_type": "code",
   "execution_count": 119,
   "id": "ce5d0558",
   "metadata": {},
   "outputs": [
    {
     "data": {
      "text/html": [
       "<div>\n",
       "<style scoped>\n",
       "    .dataframe tbody tr th:only-of-type {\n",
       "        vertical-align: middle;\n",
       "    }\n",
       "\n",
       "    .dataframe tbody tr th {\n",
       "        vertical-align: top;\n",
       "    }\n",
       "\n",
       "    .dataframe thead th {\n",
       "        text-align: right;\n",
       "    }\n",
       "</style>\n",
       "<table border=\"1\" class=\"dataframe\">\n",
       "  <thead>\n",
       "    <tr style=\"text-align: right;\">\n",
       "      <th></th>\n",
       "      <th>session_id</th>\n",
       "      <th>timestamp</th>\n",
       "      <th>user_id</th>\n",
       "      <th>product_id</th>\n",
       "      <th>event_type</th>\n",
       "      <th>purchase_id</th>\n",
       "    </tr>\n",
       "  </thead>\n",
       "  <tbody>\n",
       "    <tr>\n",
       "      <th>0</th>\n",
       "      <td>124</td>\n",
       "      <td>2022-03-15</td>\n",
       "      <td>102</td>\n",
       "      <td>1542</td>\n",
       "      <td>VIEW_PRODUCT</td>\n",
       "      <td>NaN</td>\n",
       "    </tr>\n",
       "    <tr>\n",
       "      <th>1</th>\n",
       "      <td>124</td>\n",
       "      <td>2022-03-15</td>\n",
       "      <td>102</td>\n",
       "      <td>1544</td>\n",
       "      <td>VIEW_PRODUCT</td>\n",
       "      <td>NaN</td>\n",
       "    </tr>\n",
       "    <tr>\n",
       "      <th>2</th>\n",
       "      <td>124</td>\n",
       "      <td>2022-03-15</td>\n",
       "      <td>102</td>\n",
       "      <td>1547</td>\n",
       "      <td>VIEW_PRODUCT</td>\n",
       "      <td>NaN</td>\n",
       "    </tr>\n",
       "    <tr>\n",
       "      <th>3</th>\n",
       "      <td>124</td>\n",
       "      <td>2022-03-15</td>\n",
       "      <td>102</td>\n",
       "      <td>1543</td>\n",
       "      <td>VIEW_PRODUCT</td>\n",
       "      <td>NaN</td>\n",
       "    </tr>\n",
       "    <tr>\n",
       "      <th>4</th>\n",
       "      <td>124</td>\n",
       "      <td>2022-03-15</td>\n",
       "      <td>102</td>\n",
       "      <td>1545</td>\n",
       "      <td>VIEW_PRODUCT</td>\n",
       "      <td>NaN</td>\n",
       "    </tr>\n",
       "  </tbody>\n",
       "</table>\n",
       "</div>"
      ],
      "text/plain": [
       "   session_id  timestamp  user_id  product_id    event_type  purchase_id\n",
       "0         124 2022-03-15      102        1542  VIEW_PRODUCT          NaN\n",
       "1         124 2022-03-15      102        1544  VIEW_PRODUCT          NaN\n",
       "2         124 2022-03-15      102        1547  VIEW_PRODUCT          NaN\n",
       "3         124 2022-03-15      102        1543  VIEW_PRODUCT          NaN\n",
       "4         124 2022-03-15      102        1545  VIEW_PRODUCT          NaN"
      ]
     },
     "execution_count": 119,
     "metadata": {},
     "output_type": "execute_result"
    }
   ],
   "source": [
    "df_sessions['timestamp'] = pd.to_datetime(df_sessions['timestamp']).dt.date.astype('datetime64[ns]')\n",
    "df_sessions.head()"
   ]
  },
  {
   "cell_type": "code",
   "execution_count": 120,
   "id": "186d989b",
   "metadata": {},
   "outputs": [
    {
     "name": "stdout",
     "output_type": "stream",
     "text": [
      "<class 'pandas.core.frame.DataFrame'>\n",
      "RangeIndex: 47383 entries, 0 to 47382\n",
      "Data columns (total 6 columns):\n",
      " #   Column       Non-Null Count  Dtype         \n",
      "---  ------       --------------  -----         \n",
      " 0   session_id   47383 non-null  int64         \n",
      " 1   timestamp    47383 non-null  datetime64[ns]\n",
      " 2   user_id      47383 non-null  int64         \n",
      " 3   product_id   47383 non-null  int64         \n",
      " 4   event_type   47383 non-null  object        \n",
      " 5   purchase_id  7497 non-null   float64       \n",
      "dtypes: datetime64[ns](1), float64(1), int64(3), object(1)\n",
      "memory usage: 2.2+ MB\n"
     ]
    }
   ],
   "source": [
    "df_sessions.info()"
   ]
  },
  {
   "cell_type": "markdown",
   "id": "ff6d8650",
   "metadata": {},
   "source": [
    "- ## Products"
   ]
  },
  {
   "cell_type": "code",
   "execution_count": 16,
   "id": "550c2ead",
   "metadata": {},
   "outputs": [
    {
     "data": {
      "text/html": [
       "<div>\n",
       "<style scoped>\n",
       "    .dataframe tbody tr th:only-of-type {\n",
       "        vertical-align: middle;\n",
       "    }\n",
       "\n",
       "    .dataframe tbody tr th {\n",
       "        vertical-align: top;\n",
       "    }\n",
       "\n",
       "    .dataframe thead th {\n",
       "        text-align: right;\n",
       "    }\n",
       "</style>\n",
       "<table border=\"1\" class=\"dataframe\">\n",
       "  <thead>\n",
       "    <tr style=\"text-align: right;\">\n",
       "      <th></th>\n",
       "      <th>product_id</th>\n",
       "      <th>product_name</th>\n",
       "      <th>category_path</th>\n",
       "      <th>price</th>\n",
       "      <th>brand</th>\n",
       "      <th>weight_kg</th>\n",
       "      <th>optional_attributes</th>\n",
       "    </tr>\n",
       "  </thead>\n",
       "  <tbody>\n",
       "    <tr>\n",
       "      <th>0</th>\n",
       "      <td>1001</td>\n",
       "      <td>Fotel gamingowy Sofotel Cerber</td>\n",
       "      <td>Akcesoria (Laptop, PC);Fotele gamingowe</td>\n",
       "      <td>619.99</td>\n",
       "      <td>Sofotel</td>\n",
       "      <td>19.0</td>\n",
       "      <td>{}</td>\n",
       "    </tr>\n",
       "    <tr>\n",
       "      <th>1</th>\n",
       "      <td>1002</td>\n",
       "      <td>Fotel gamingowy Sofotel Cerber</td>\n",
       "      <td>Akcesoria (Laptop, PC);Fotele gamingowe</td>\n",
       "      <td>599.99</td>\n",
       "      <td>Sofotel</td>\n",
       "      <td>19.0</td>\n",
       "      <td>{}</td>\n",
       "    </tr>\n",
       "    <tr>\n",
       "      <th>2</th>\n",
       "      <td>1003</td>\n",
       "      <td>Fotel gamingowy TopEshop DORY</td>\n",
       "      <td>Akcesoria (Laptop, PC);Fotele gamingowe</td>\n",
       "      <td>379.00</td>\n",
       "      <td>TopEshop</td>\n",
       "      <td>30.0</td>\n",
       "      <td>{}</td>\n",
       "    </tr>\n",
       "    <tr>\n",
       "      <th>3</th>\n",
       "      <td>1004</td>\n",
       "      <td>Fotel gamingowy Diablo Chairs WHITE BIEL BIAŁY</td>\n",
       "      <td>Akcesoria (Laptop, PC);Fotele gamingowe</td>\n",
       "      <td>197.00</td>\n",
       "      <td>Diablo Chairs</td>\n",
       "      <td>30.0</td>\n",
       "      <td>{}</td>\n",
       "    </tr>\n",
       "    <tr>\n",
       "      <th>4</th>\n",
       "      <td>1005</td>\n",
       "      <td>Fotel gamingowy STERNHOFF SDH 162 B+B</td>\n",
       "      <td>Akcesoria (Laptop, PC);Fotele gamingowe</td>\n",
       "      <td>399.00</td>\n",
       "      <td>STERNHOFF</td>\n",
       "      <td>17.0</td>\n",
       "      <td>{}</td>\n",
       "    </tr>\n",
       "  </tbody>\n",
       "</table>\n",
       "</div>"
      ],
      "text/plain": [
       "   product_id                                    product_name  \\\n",
       "0        1001                  Fotel gamingowy Sofotel Cerber   \n",
       "1        1002                  Fotel gamingowy Sofotel Cerber   \n",
       "2        1003                   Fotel gamingowy TopEshop DORY   \n",
       "3        1004  Fotel gamingowy Diablo Chairs WHITE BIEL BIAŁY   \n",
       "4        1005           Fotel gamingowy STERNHOFF SDH 162 B+B   \n",
       "\n",
       "                             category_path   price          brand  weight_kg  \\\n",
       "0  Akcesoria (Laptop, PC);Fotele gamingowe  619.99        Sofotel       19.0   \n",
       "1  Akcesoria (Laptop, PC);Fotele gamingowe  599.99        Sofotel       19.0   \n",
       "2  Akcesoria (Laptop, PC);Fotele gamingowe  379.00       TopEshop       30.0   \n",
       "3  Akcesoria (Laptop, PC);Fotele gamingowe  197.00  Diablo Chairs       30.0   \n",
       "4  Akcesoria (Laptop, PC);Fotele gamingowe  399.00      STERNHOFF       17.0   \n",
       "\n",
       "  optional_attributes  \n",
       "0                  {}  \n",
       "1                  {}  \n",
       "2                  {}  \n",
       "3                  {}  \n",
       "4                  {}  "
      ]
     },
     "execution_count": 16,
     "metadata": {},
     "output_type": "execute_result"
    }
   ],
   "source": [
    "df_products.head()"
   ]
  },
  {
   "cell_type": "code",
   "execution_count": 17,
   "id": "2e1ad404",
   "metadata": {},
   "outputs": [
    {
     "data": {
      "text/html": [
       "<div>\n",
       "<style scoped>\n",
       "    .dataframe tbody tr th:only-of-type {\n",
       "        vertical-align: middle;\n",
       "    }\n",
       "\n",
       "    .dataframe tbody tr th {\n",
       "        vertical-align: top;\n",
       "    }\n",
       "\n",
       "    .dataframe thead th {\n",
       "        text-align: right;\n",
       "    }\n",
       "</style>\n",
       "<table border=\"1\" class=\"dataframe\">\n",
       "  <thead>\n",
       "    <tr style=\"text-align: right;\">\n",
       "      <th></th>\n",
       "      <th>product_id</th>\n",
       "      <th>price</th>\n",
       "      <th>weight_kg</th>\n",
       "    </tr>\n",
       "  </thead>\n",
       "  <tbody>\n",
       "    <tr>\n",
       "      <th>count</th>\n",
       "      <td>653.000000</td>\n",
       "      <td>653.000000</td>\n",
       "      <td>653.000000</td>\n",
       "    </tr>\n",
       "    <tr>\n",
       "      <th>mean</th>\n",
       "      <td>1327.000000</td>\n",
       "      <td>283.225804</td>\n",
       "      <td>3.923240</td>\n",
       "    </tr>\n",
       "    <tr>\n",
       "      <th>std</th>\n",
       "      <td>188.649145</td>\n",
       "      <td>264.330061</td>\n",
       "      <td>16.456905</td>\n",
       "    </tr>\n",
       "    <tr>\n",
       "      <th>min</th>\n",
       "      <td>1001.000000</td>\n",
       "      <td>0.000000</td>\n",
       "      <td>0.000000</td>\n",
       "    </tr>\n",
       "    <tr>\n",
       "      <th>25%</th>\n",
       "      <td>1164.000000</td>\n",
       "      <td>68.600000</td>\n",
       "      <td>0.114000</td>\n",
       "    </tr>\n",
       "    <tr>\n",
       "      <th>50%</th>\n",
       "      <td>1327.000000</td>\n",
       "      <td>174.950000</td>\n",
       "      <td>0.300000</td>\n",
       "    </tr>\n",
       "    <tr>\n",
       "      <th>75%</th>\n",
       "      <td>1490.000000</td>\n",
       "      <td>429.000000</td>\n",
       "      <td>3.580000</td>\n",
       "    </tr>\n",
       "    <tr>\n",
       "      <th>max</th>\n",
       "      <td>1653.000000</td>\n",
       "      <td>999.000000</td>\n",
       "      <td>300.000000</td>\n",
       "    </tr>\n",
       "  </tbody>\n",
       "</table>\n",
       "</div>"
      ],
      "text/plain": [
       "        product_id       price   weight_kg\n",
       "count   653.000000  653.000000  653.000000\n",
       "mean   1327.000000  283.225804    3.923240\n",
       "std     188.649145  264.330061   16.456905\n",
       "min    1001.000000    0.000000    0.000000\n",
       "25%    1164.000000   68.600000    0.114000\n",
       "50%    1327.000000  174.950000    0.300000\n",
       "75%    1490.000000  429.000000    3.580000\n",
       "max    1653.000000  999.000000  300.000000"
      ]
     },
     "execution_count": 17,
     "metadata": {},
     "output_type": "execute_result"
    }
   ],
   "source": [
    "df_products.describe()"
   ]
  },
  {
   "cell_type": "markdown",
   "id": "a1cf6c1c",
   "metadata": {},
   "source": [
    "Probably incorrect prices"
   ]
  },
  {
   "cell_type": "code",
   "execution_count": 18,
   "id": "ff4d6982",
   "metadata": {
    "scrolled": true
   },
   "outputs": [
    {
     "name": "stdout",
     "output_type": "stream",
     "text": [
      "<class 'pandas.core.frame.DataFrame'>\n",
      "RangeIndex: 653 entries, 0 to 652\n",
      "Data columns (total 7 columns):\n",
      " #   Column               Non-Null Count  Dtype  \n",
      "---  ------               --------------  -----  \n",
      " 0   product_id           653 non-null    int64  \n",
      " 1   product_name         653 non-null    object \n",
      " 2   category_path        653 non-null    object \n",
      " 3   price                653 non-null    float64\n",
      " 4   brand                653 non-null    object \n",
      " 5   weight_kg            653 non-null    float64\n",
      " 6   optional_attributes  653 non-null    object \n",
      "dtypes: float64(2), int64(1), object(4)\n",
      "memory usage: 35.8+ KB\n"
     ]
    }
   ],
   "source": [
    "df_products.info()"
   ]
  },
  {
   "cell_type": "code",
   "execution_count": 19,
   "id": "25052a61",
   "metadata": {
    "scrolled": true
   },
   "outputs": [
    {
     "data": {
      "text/plain": [
       "['A4TECH',\n",
       " 'A4Tech',\n",
       " 'ADATA',\n",
       " 'AOC',\n",
       " 'ART',\n",
       " 'ASUS',\n",
       " 'Acer',\n",
       " 'Alio',\n",
       " 'Angel',\n",
       " 'Apacer',\n",
       " 'Apple',\n",
       " 'Asus',\n",
       " 'BenQ',\n",
       " 'Blow',\n",
       " 'Brother',\n",
       " 'CRUCIAL',\n",
       " 'Cooler Master',\n",
       " 'Corsair',\n",
       " 'Creative',\n",
       " 'Defender',\n",
       " 'Dell',\n",
       " 'Diablo Chairs',\n",
       " 'ELPIDA',\n",
       " 'Epson',\n",
       " 'Esperanza',\n",
       " 'Fury',\n",
       " 'G.SKILL',\n",
       " 'GIGABYTE',\n",
       " 'GOODRAM',\n",
       " 'Gembird',\n",
       " 'Genesis',\n",
       " 'Giosedio',\n",
       " 'Goodram',\n",
       " 'HP',\n",
       " 'Hikvision',\n",
       " 'Huawei',\n",
       " 'Huzaro',\n",
       " 'HyperX',\n",
       " 'IMILAB',\n",
       " 'Ipega',\n",
       " 'Jabra',\n",
       " 'Kingston',\n",
       " 'LG',\n",
       " 'Lenovo',\n",
       " 'Logitech',\n",
       " 'MSI',\n",
       " 'Malatec',\n",
       " 'Marvo',\n",
       " 'Media-Tech',\n",
       " 'Micron',\n",
       " 'Microsoft',\n",
       " 'Modecom',\n",
       " 'Mozos',\n",
       " 'Natec',\n",
       " 'Onikuma',\n",
       " 'PNY',\n",
       " 'Patriot',\n",
       " 'Philips',\n",
       " 'Qoltec',\n",
       " 'Ramaxel',\n",
       " 'Rapoo',\n",
       " 'Razer',\n",
       " 'Red Fighter',\n",
       " 'Roccat',\n",
       " 'SK Hynix',\n",
       " 'SPC GEAR',\n",
       " 'SPC Gear',\n",
       " 'STERNHOFF',\n",
       " 'Samsung',\n",
       " 'SanDisk',\n",
       " 'Sennheiser',\n",
       " 'Sharkoon',\n",
       " 'Sofotel',\n",
       " 'SpeedLink',\n",
       " 'SteelSeries',\n",
       " 'Thrustmaster',\n",
       " 'Titanum',\n",
       " 'TopEshop',\n",
       " 'Tracer',\n",
       " 'Trust',\n",
       " 'Unitek',\n",
       " 'Xiaomi',\n",
       " 'eHokery',\n",
       " 'iBox',\n",
       " 'iMICE',\n",
       " 'iiyama',\n",
       " 'retoo',\n",
       " 'uGo']"
      ]
     },
     "execution_count": 19,
     "metadata": {},
     "output_type": "execute_result"
    }
   ],
   "source": [
    "sorted(df_products.brand.unique())"
   ]
  },
  {
   "cell_type": "markdown",
   "id": "525a29e0",
   "metadata": {},
   "source": [
    "Incorrect brand names. \n",
    "Duplicated:\n",
    "- `A4TECH`\n",
    "- `A4Tech`\n",
    "- `ASUS`\n",
    "- `asus`\n",
    "- `GOODRAM`\n",
    "- `Goodram`\n",
    "- `SPC GEAR`\n",
    "- `SPC Gear`\n",
    "\n",
    "toLower()"
   ]
  },
  {
   "cell_type": "code",
   "execution_count": 20,
   "id": "662c75fc",
   "metadata": {},
   "outputs": [],
   "source": [
    "df_products['brand'] = df_products['brand'].apply(lambda x: x.lower())"
   ]
  },
  {
   "cell_type": "code",
   "execution_count": 21,
   "id": "b2aacc4b",
   "metadata": {},
   "outputs": [
    {
     "data": {
      "text/plain": [
       "array(['Akcesoria (Laptop, PC);Fotele gamingowe',\n",
       "       'Akcesoria (Laptop, PC);Kamery internetowe',\n",
       "       'Części do laptopów;Pamięć RAM', 'Części i akcesoria;Matryce LCD',\n",
       "       'Części i akcesoria;Zasilacze LCD',\n",
       "       'Kable i przedłużacze;DisplayPort', 'Klawiatury;Bezprzewodowe',\n",
       "       'Klawiatury;Przewodowe', 'Komputery;Komputery stacjonarne',\n",
       "       'Mikrofony i słuchawki;Słuchawki bezprzewodowe',\n",
       "       'Mikrofony i słuchawki;Słuchawki przewodowe',\n",
       "       'Monitory komputerowe;Monitory', 'Myszki;Bezprzewodowe',\n",
       "       'Myszki;Przewodowe', 'Pamięci przenośne;Pendrive',\n",
       "       'Podzespoły komputerowe;Pamięć RAM', 'Skanery;Płaskie USB',\n",
       "       'Skanery;Profesjonalne', 'Tablety;Urządzenia',\n",
       "       'Urządzenia VR;Gogle VR', 'Urządzenia wskazujące;Pady',\n",
       "       'Zestaw klawiatura i mysz;Bezprzewodowe',\n",
       "       'Zestaw klawiatura i mysz;Przewodowe'], dtype=object)"
      ]
     },
     "execution_count": 21,
     "metadata": {},
     "output_type": "execute_result"
    }
   ],
   "source": [
    "df_products['category_path'].unique()"
   ]
  },
  {
   "cell_type": "markdown",
   "id": "cd7bd4e8",
   "metadata": {},
   "source": [
    "- ## Users"
   ]
  },
  {
   "cell_type": "code",
   "execution_count": 22,
   "id": "be9aa4c3",
   "metadata": {},
   "outputs": [
    {
     "data": {
      "text/html": [
       "<div>\n",
       "<style scoped>\n",
       "    .dataframe tbody tr th:only-of-type {\n",
       "        vertical-align: middle;\n",
       "    }\n",
       "\n",
       "    .dataframe tbody tr th {\n",
       "        vertical-align: top;\n",
       "    }\n",
       "\n",
       "    .dataframe thead th {\n",
       "        text-align: right;\n",
       "    }\n",
       "</style>\n",
       "<table border=\"1\" class=\"dataframe\">\n",
       "  <thead>\n",
       "    <tr style=\"text-align: right;\">\n",
       "      <th></th>\n",
       "      <th>user_id</th>\n",
       "      <th>name</th>\n",
       "      <th>city</th>\n",
       "      <th>street</th>\n",
       "    </tr>\n",
       "  </thead>\n",
       "  <tbody>\n",
       "    <tr>\n",
       "      <th>0</th>\n",
       "      <td>102</td>\n",
       "      <td>Sebastian Młyńczak</td>\n",
       "      <td>Szczecin</td>\n",
       "      <td>pl. Pałacowa 584</td>\n",
       "    </tr>\n",
       "    <tr>\n",
       "      <th>1</th>\n",
       "      <td>103</td>\n",
       "      <td>Karina Dąbrowicz</td>\n",
       "      <td>Radom</td>\n",
       "      <td>plac Polna 13</td>\n",
       "    </tr>\n",
       "    <tr>\n",
       "      <th>2</th>\n",
       "      <td>104</td>\n",
       "      <td>Konrad Żelazek</td>\n",
       "      <td>Wrocław</td>\n",
       "      <td>al. Młyńska 53/86</td>\n",
       "    </tr>\n",
       "    <tr>\n",
       "      <th>3</th>\n",
       "      <td>105</td>\n",
       "      <td>Bruno Baumgart</td>\n",
       "      <td>Szczecin</td>\n",
       "      <td>plac Narcyzowa 29</td>\n",
       "    </tr>\n",
       "    <tr>\n",
       "      <th>4</th>\n",
       "      <td>106</td>\n",
       "      <td>Karina Grygorowicz</td>\n",
       "      <td>Poznań</td>\n",
       "      <td>ul. Chopina 24</td>\n",
       "    </tr>\n",
       "    <tr>\n",
       "      <th>...</th>\n",
       "      <td>...</td>\n",
       "      <td>...</td>\n",
       "      <td>...</td>\n",
       "      <td>...</td>\n",
       "    </tr>\n",
       "    <tr>\n",
       "      <th>195</th>\n",
       "      <td>297</td>\n",
       "      <td>Liwia Lamch</td>\n",
       "      <td>Kraków</td>\n",
       "      <td>ul. Topolowa 37</td>\n",
       "    </tr>\n",
       "    <tr>\n",
       "      <th>196</th>\n",
       "      <td>298</td>\n",
       "      <td>Dawid Hein</td>\n",
       "      <td>Wrocław</td>\n",
       "      <td>plac Klonowa 62/72</td>\n",
       "    </tr>\n",
       "    <tr>\n",
       "      <th>197</th>\n",
       "      <td>299</td>\n",
       "      <td>Alex Ciesielczyk</td>\n",
       "      <td>Radom</td>\n",
       "      <td>ulica Południowa 40/50</td>\n",
       "    </tr>\n",
       "    <tr>\n",
       "      <th>198</th>\n",
       "      <td>300</td>\n",
       "      <td>Dariusz Andruszko</td>\n",
       "      <td>Radom</td>\n",
       "      <td>al. Rubinowa 15/65</td>\n",
       "    </tr>\n",
       "    <tr>\n",
       "      <th>199</th>\n",
       "      <td>301</td>\n",
       "      <td>Sandra Kumorek</td>\n",
       "      <td>Poznań</td>\n",
       "      <td>pl. Malinowa 79</td>\n",
       "    </tr>\n",
       "  </tbody>\n",
       "</table>\n",
       "<p>200 rows × 4 columns</p>\n",
       "</div>"
      ],
      "text/plain": [
       "     user_id                name      city                  street\n",
       "0        102  Sebastian Młyńczak  Szczecin        pl. Pałacowa 584\n",
       "1        103    Karina Dąbrowicz     Radom           plac Polna 13\n",
       "2        104      Konrad Żelazek   Wrocław       al. Młyńska 53/86\n",
       "3        105      Bruno Baumgart  Szczecin       plac Narcyzowa 29\n",
       "4        106  Karina Grygorowicz    Poznań          ul. Chopina 24\n",
       "..       ...                 ...       ...                     ...\n",
       "195      297         Liwia Lamch    Kraków         ul. Topolowa 37\n",
       "196      298          Dawid Hein   Wrocław      plac Klonowa 62/72\n",
       "197      299    Alex Ciesielczyk     Radom  ulica Południowa 40/50\n",
       "198      300   Dariusz Andruszko     Radom      al. Rubinowa 15/65\n",
       "199      301      Sandra Kumorek    Poznań         pl. Malinowa 79\n",
       "\n",
       "[200 rows x 4 columns]"
      ]
     },
     "execution_count": 22,
     "metadata": {},
     "output_type": "execute_result"
    }
   ],
   "source": [
    "df_users"
   ]
  },
  {
   "cell_type": "markdown",
   "id": "afbc1055",
   "metadata": {},
   "source": [
    "Valuable features:\n",
    "- user_id\n",
    "- city (optional)"
   ]
  },
  {
   "cell_type": "code",
   "execution_count": 23,
   "id": "9d5bf5e1",
   "metadata": {},
   "outputs": [
    {
     "name": "stdout",
     "output_type": "stream",
     "text": [
      "<class 'pandas.core.frame.DataFrame'>\n",
      "RangeIndex: 200 entries, 0 to 199\n",
      "Data columns (total 4 columns):\n",
      " #   Column   Non-Null Count  Dtype \n",
      "---  ------   --------------  ----- \n",
      " 0   user_id  200 non-null    int64 \n",
      " 1   name     200 non-null    object\n",
      " 2   city     200 non-null    object\n",
      " 3   street   200 non-null    object\n",
      "dtypes: int64(1), object(3)\n",
      "memory usage: 6.4+ KB\n"
     ]
    }
   ],
   "source": [
    "df_users.info()"
   ]
  },
  {
   "cell_type": "markdown",
   "id": "8106d14b",
   "metadata": {},
   "source": [
    "- ## Deliveries"
   ]
  },
  {
   "cell_type": "code",
   "execution_count": 72,
   "id": "1c05dbbe",
   "metadata": {},
   "outputs": [],
   "source": [
    "pd.set_option('display.max_rows', 500)"
   ]
  },
  {
   "cell_type": "code",
   "execution_count": 24,
   "id": "4603032c",
   "metadata": {},
   "outputs": [
    {
     "data": {
      "text/html": [
       "<div>\n",
       "<style scoped>\n",
       "    .dataframe tbody tr th:only-of-type {\n",
       "        vertical-align: middle;\n",
       "    }\n",
       "\n",
       "    .dataframe tbody tr th {\n",
       "        vertical-align: top;\n",
       "    }\n",
       "\n",
       "    .dataframe thead th {\n",
       "        text-align: right;\n",
       "    }\n",
       "</style>\n",
       "<table border=\"1\" class=\"dataframe\">\n",
       "  <thead>\n",
       "    <tr style=\"text-align: right;\">\n",
       "      <th></th>\n",
       "      <th>purchase_id</th>\n",
       "      <th>purchase_timestamp</th>\n",
       "      <th>delivery_timestamp</th>\n",
       "      <th>delivery_company</th>\n",
       "    </tr>\n",
       "  </thead>\n",
       "  <tbody>\n",
       "    <tr>\n",
       "      <th>0</th>\n",
       "      <td>20001</td>\n",
       "      <td>2022-03-15T07:58:50</td>\n",
       "      <td>2022-03-19T07:59:53</td>\n",
       "      <td>516</td>\n",
       "    </tr>\n",
       "    <tr>\n",
       "      <th>1</th>\n",
       "      <td>20002</td>\n",
       "      <td>2022-01-10T07:10:00</td>\n",
       "      <td>2022-01-14T07:10:53</td>\n",
       "      <td>360</td>\n",
       "    </tr>\n",
       "    <tr>\n",
       "      <th>2</th>\n",
       "      <td>20003</td>\n",
       "      <td>2022-04-05T10:25:39</td>\n",
       "      <td>2022-04-08T10:30:08</td>\n",
       "      <td>516</td>\n",
       "    </tr>\n",
       "    <tr>\n",
       "      <th>3</th>\n",
       "      <td>20004</td>\n",
       "      <td>2022-03-14T01:17:51</td>\n",
       "      <td>2022-03-17T01:21:34</td>\n",
       "      <td>620</td>\n",
       "    </tr>\n",
       "    <tr>\n",
       "      <th>4</th>\n",
       "      <td>20005</td>\n",
       "      <td>2022-01-02T06:08:13</td>\n",
       "      <td>2022-01-04T06:10:36</td>\n",
       "      <td>516</td>\n",
       "    </tr>\n",
       "    <tr>\n",
       "      <th>...</th>\n",
       "      <td>...</td>\n",
       "      <td>...</td>\n",
       "      <td>...</td>\n",
       "      <td>...</td>\n",
       "    </tr>\n",
       "    <tr>\n",
       "      <th>6766</th>\n",
       "      <td>26767</td>\n",
       "      <td>2022-03-15T21:25:10</td>\n",
       "      <td>2022-03-17T21:28:12</td>\n",
       "      <td>620</td>\n",
       "    </tr>\n",
       "    <tr>\n",
       "      <th>6767</th>\n",
       "      <td>26768</td>\n",
       "      <td>2022-04-11T03:47:36</td>\n",
       "      <td>2022-04-16T03:47:59</td>\n",
       "      <td>620</td>\n",
       "    </tr>\n",
       "    <tr>\n",
       "      <th>6768</th>\n",
       "      <td>26769</td>\n",
       "      <td>2022-01-26T09:39:00</td>\n",
       "      <td>2022-01-31T09:42:33</td>\n",
       "      <td>516</td>\n",
       "    </tr>\n",
       "    <tr>\n",
       "      <th>6769</th>\n",
       "      <td>26770</td>\n",
       "      <td>2022-02-19T19:47:24</td>\n",
       "      <td>2022-02-22T19:48:19</td>\n",
       "      <td>360</td>\n",
       "    </tr>\n",
       "    <tr>\n",
       "      <th>6770</th>\n",
       "      <td>26771</td>\n",
       "      <td>2022-03-03T07:26:51</td>\n",
       "      <td>2022-03-06T07:28:05</td>\n",
       "      <td>360</td>\n",
       "    </tr>\n",
       "  </tbody>\n",
       "</table>\n",
       "<p>6771 rows × 4 columns</p>\n",
       "</div>"
      ],
      "text/plain": [
       "      purchase_id   purchase_timestamp   delivery_timestamp  delivery_company\n",
       "0           20001  2022-03-15T07:58:50  2022-03-19T07:59:53               516\n",
       "1           20002  2022-01-10T07:10:00  2022-01-14T07:10:53               360\n",
       "2           20003  2022-04-05T10:25:39  2022-04-08T10:30:08               516\n",
       "3           20004  2022-03-14T01:17:51  2022-03-17T01:21:34               620\n",
       "4           20005  2022-01-02T06:08:13  2022-01-04T06:10:36               516\n",
       "...           ...                  ...                  ...               ...\n",
       "6766        26767  2022-03-15T21:25:10  2022-03-17T21:28:12               620\n",
       "6767        26768  2022-04-11T03:47:36  2022-04-16T03:47:59               620\n",
       "6768        26769  2022-01-26T09:39:00  2022-01-31T09:42:33               516\n",
       "6769        26770  2022-02-19T19:47:24  2022-02-22T19:48:19               360\n",
       "6770        26771  2022-03-03T07:26:51  2022-03-06T07:28:05               360\n",
       "\n",
       "[6771 rows x 4 columns]"
      ]
     },
     "execution_count": 24,
     "metadata": {},
     "output_type": "execute_result"
    }
   ],
   "source": [
    "df_deliveries"
   ]
  },
  {
   "cell_type": "code",
   "execution_count": 25,
   "id": "b6c0fca4",
   "metadata": {},
   "outputs": [
    {
     "name": "stdout",
     "output_type": "stream",
     "text": [
      "<class 'pandas.core.frame.DataFrame'>\n",
      "RangeIndex: 6771 entries, 0 to 6770\n",
      "Data columns (total 4 columns):\n",
      " #   Column              Non-Null Count  Dtype \n",
      "---  ------              --------------  ----- \n",
      " 0   purchase_id         6771 non-null   int64 \n",
      " 1   purchase_timestamp  6771 non-null   object\n",
      " 2   delivery_timestamp  6771 non-null   object\n",
      " 3   delivery_company    6771 non-null   int64 \n",
      "dtypes: int64(2), object(2)\n",
      "memory usage: 211.7+ KB\n"
     ]
    }
   ],
   "source": [
    "df_deliveries.info()"
   ]
  },
  {
   "cell_type": "markdown",
   "id": "09a8cf12",
   "metadata": {},
   "source": [
    "Convert columns to datetime columns"
   ]
  },
  {
   "cell_type": "code",
   "execution_count": 73,
   "id": "902d06bd",
   "metadata": {},
   "outputs": [
    {
     "data": {
      "text/html": [
       "<div>\n",
       "<style scoped>\n",
       "    .dataframe tbody tr th:only-of-type {\n",
       "        vertical-align: middle;\n",
       "    }\n",
       "\n",
       "    .dataframe tbody tr th {\n",
       "        vertical-align: top;\n",
       "    }\n",
       "\n",
       "    .dataframe thead th {\n",
       "        text-align: right;\n",
       "    }\n",
       "</style>\n",
       "<table border=\"1\" class=\"dataframe\">\n",
       "  <thead>\n",
       "    <tr style=\"text-align: right;\">\n",
       "      <th></th>\n",
       "      <th>purchase_id</th>\n",
       "      <th>purchase_timestamp</th>\n",
       "      <th>delivery_timestamp</th>\n",
       "      <th>delivery_company</th>\n",
       "    </tr>\n",
       "  </thead>\n",
       "  <tbody>\n",
       "    <tr>\n",
       "      <th>0</th>\n",
       "      <td>20001</td>\n",
       "      <td>2022-03-15</td>\n",
       "      <td>2022-03-19</td>\n",
       "      <td>516</td>\n",
       "    </tr>\n",
       "    <tr>\n",
       "      <th>1</th>\n",
       "      <td>20002</td>\n",
       "      <td>2022-01-10</td>\n",
       "      <td>2022-01-14</td>\n",
       "      <td>360</td>\n",
       "    </tr>\n",
       "    <tr>\n",
       "      <th>2</th>\n",
       "      <td>20003</td>\n",
       "      <td>2022-04-05</td>\n",
       "      <td>2022-04-08</td>\n",
       "      <td>516</td>\n",
       "    </tr>\n",
       "    <tr>\n",
       "      <th>3</th>\n",
       "      <td>20004</td>\n",
       "      <td>2022-03-14</td>\n",
       "      <td>2022-03-17</td>\n",
       "      <td>620</td>\n",
       "    </tr>\n",
       "    <tr>\n",
       "      <th>4</th>\n",
       "      <td>20005</td>\n",
       "      <td>2022-01-02</td>\n",
       "      <td>2022-01-04</td>\n",
       "      <td>516</td>\n",
       "    </tr>\n",
       "  </tbody>\n",
       "</table>\n",
       "</div>"
      ],
      "text/plain": [
       "   purchase_id purchase_timestamp delivery_timestamp  delivery_company\n",
       "0        20001         2022-03-15         2022-03-19               516\n",
       "1        20002         2022-01-10         2022-01-14               360\n",
       "2        20003         2022-04-05         2022-04-08               516\n",
       "3        20004         2022-03-14         2022-03-17               620\n",
       "4        20005         2022-01-02         2022-01-04               516"
      ]
     },
     "execution_count": 73,
     "metadata": {},
     "output_type": "execute_result"
    }
   ],
   "source": [
    "df_deliveries[['purchase_timestamp', 'delivery_timestamp']] = df_deliveries[['purchase_timestamp', 'delivery_timestamp']].apply(pd.to_datetime)\n",
    "df_deliveries['purchase_timestamp'] = df_deliveries['purchase_timestamp'].dt.date\n",
    "df_deliveries['delivery_timestamp'] = df_deliveries['delivery_timestamp'].dt.date\n",
    "df_deliveries.head()"
   ]
  },
  {
   "cell_type": "code",
   "execution_count": 74,
   "id": "e89ca41c",
   "metadata": {},
   "outputs": [
    {
     "data": {
      "text/plain": [
       "0      4 days\n",
       "1      4 days\n",
       "2      3 days\n",
       "3      3 days\n",
       "4      2 days\n",
       "        ...  \n",
       "6766   2 days\n",
       "6767   5 days\n",
       "6768   5 days\n",
       "6769   3 days\n",
       "6770   3 days\n",
       "Length: 6771, dtype: timedelta64[ns]"
      ]
     },
     "execution_count": 74,
     "metadata": {},
     "output_type": "execute_result"
    }
   ],
   "source": [
    "df_deliveries['delivery_timestamp'] - df_deliveries['purchase_timestamp']"
   ]
  },
  {
   "cell_type": "code",
   "execution_count": 77,
   "id": "383ca486",
   "metadata": {},
   "outputs": [
    {
     "data": {
      "text/plain": [
       "purchase_timestamp    2022-01-01\n",
       "delivery_timestamp    2022-01-03\n",
       "dtype: object"
      ]
     },
     "execution_count": 77,
     "metadata": {},
     "output_type": "execute_result"
    }
   ],
   "source": [
    "df_deliveries[['purchase_timestamp', 'delivery_timestamp']].min()"
   ]
  },
  {
   "cell_type": "code",
   "execution_count": 78,
   "id": "d8e58f99",
   "metadata": {},
   "outputs": [
    {
     "data": {
      "text/plain": [
       "purchase_timestamp    2022-04-11\n",
       "delivery_timestamp    2022-04-16\n",
       "dtype: object"
      ]
     },
     "execution_count": 78,
     "metadata": {},
     "output_type": "execute_result"
    }
   ],
   "source": [
    "df_deliveries[['purchase_timestamp', 'delivery_timestamp']].max()"
   ]
  },
  {
   "cell_type": "markdown",
   "id": "ef670f23",
   "metadata": {},
   "source": [
    "Posiadamy dane z ostatnich 3 miesięcy, potrzebujemy więcej danych (min z okresu jednego roku)"
   ]
  },
  {
   "cell_type": "markdown",
   "id": "cb677c6f",
   "metadata": {},
   "source": [
    "TODO: obliczenie średniego czasu dostawy dla danej firmy kurierskiej"
   ]
  },
  {
   "cell_type": "code",
   "execution_count": 28,
   "id": "ccae307c",
   "metadata": {},
   "outputs": [
    {
     "data": {
      "text/html": [
       "<div>\n",
       "<style scoped>\n",
       "    .dataframe tbody tr th:only-of-type {\n",
       "        vertical-align: middle;\n",
       "    }\n",
       "\n",
       "    .dataframe tbody tr th {\n",
       "        vertical-align: top;\n",
       "    }\n",
       "\n",
       "    .dataframe thead th {\n",
       "        text-align: right;\n",
       "    }\n",
       "</style>\n",
       "<table border=\"1\" class=\"dataframe\">\n",
       "  <thead>\n",
       "    <tr style=\"text-align: right;\">\n",
       "      <th></th>\n",
       "      <th>purchase_id</th>\n",
       "      <th>purchase_timestamp</th>\n",
       "      <th>delivery_timestamp</th>\n",
       "    </tr>\n",
       "    <tr>\n",
       "      <th>delivery_company</th>\n",
       "      <th></th>\n",
       "      <th></th>\n",
       "      <th></th>\n",
       "    </tr>\n",
       "  </thead>\n",
       "  <tbody>\n",
       "    <tr>\n",
       "      <th>360</th>\n",
       "      <td>2242</td>\n",
       "      <td>2242</td>\n",
       "      <td>2242</td>\n",
       "    </tr>\n",
       "    <tr>\n",
       "      <th>516</th>\n",
       "      <td>2264</td>\n",
       "      <td>2264</td>\n",
       "      <td>2264</td>\n",
       "    </tr>\n",
       "    <tr>\n",
       "      <th>620</th>\n",
       "      <td>2265</td>\n",
       "      <td>2265</td>\n",
       "      <td>2265</td>\n",
       "    </tr>\n",
       "  </tbody>\n",
       "</table>\n",
       "</div>"
      ],
      "text/plain": [
       "                  purchase_id  purchase_timestamp  delivery_timestamp\n",
       "delivery_company                                                     \n",
       "360                      2242                2242                2242\n",
       "516                      2264                2264                2264\n",
       "620                      2265                2265                2265"
      ]
     },
     "execution_count": 28,
     "metadata": {},
     "output_type": "execute_result"
    }
   ],
   "source": [
    "df_deliveries.groupby('delivery_company').count()"
   ]
  },
  {
   "cell_type": "code",
   "execution_count": 84,
   "id": "091231a4",
   "metadata": {},
   "outputs": [
    {
     "data": {
      "text/plain": [
       "array([[<AxesSubplot:title={'center':'price'}>,\n",
       "        <AxesSubplot:title={'center':'weight_kg'}>]], dtype=object)"
      ]
     },
     "execution_count": 84,
     "metadata": {},
     "output_type": "execute_result"
    },
    {
     "data": {
      "image/png": "[encoded data removed]",
      "text/plain": [
       "<Figure size 432x288 with 2 Axes>"
      ]
     },
     "metadata": {
      "needs_background": "light"
     },
     "output_type": "display_data"
    }
   ],
   "source": [
    "df_products[['price', 'weight_kg']].hist(bins=20)\n",
    "# plt.xscale('log')"
   ]
  },
  {
   "cell_type": "markdown",
   "id": "3256e70a",
   "metadata": {},
   "source": [
    "## Ilość zamówień i zwrotów w każdym miesiącu"
   ]
  },
  {
   "cell_type": "code",
   "execution_count": 177,
   "id": "d799ff4f",
   "metadata": {},
   "outputs": [
    {
     "data": {
      "text/html": [
       "<div>\n",
       "<style scoped>\n",
       "    .dataframe tbody tr th:only-of-type {\n",
       "        vertical-align: middle;\n",
       "    }\n",
       "\n",
       "    .dataframe tbody tr th {\n",
       "        vertical-align: top;\n",
       "    }\n",
       "\n",
       "    .dataframe thead th {\n",
       "        text-align: right;\n",
       "    }\n",
       "</style>\n",
       "<table border=\"1\" class=\"dataframe\">\n",
       "  <thead>\n",
       "    <tr style=\"text-align: right;\">\n",
       "      <th></th>\n",
       "      <th>timestamp</th>\n",
       "      <th>event_type</th>\n",
       "    </tr>\n",
       "  </thead>\n",
       "  <tbody>\n",
       "    <tr>\n",
       "      <th>5</th>\n",
       "      <td>2022-03-15</td>\n",
       "      <td>BUY_PRODUCT</td>\n",
       "    </tr>\n",
       "    <tr>\n",
       "      <th>7</th>\n",
       "      <td>2022-01-10</td>\n",
       "      <td>BUY_PRODUCT</td>\n",
       "    </tr>\n",
       "    <tr>\n",
       "      <th>14</th>\n",
       "      <td>2022-04-05</td>\n",
       "      <td>BUY_PRODUCT</td>\n",
       "    </tr>\n",
       "    <tr>\n",
       "      <th>15</th>\n",
       "      <td>2022-04-17</td>\n",
       "      <td>RETURN_PRODUCT</td>\n",
       "    </tr>\n",
       "    <tr>\n",
       "      <th>18</th>\n",
       "      <td>2022-03-14</td>\n",
       "      <td>BUY_PRODUCT</td>\n",
       "    </tr>\n",
       "    <tr>\n",
       "      <th>...</th>\n",
       "      <td>...</td>\n",
       "      <td>...</td>\n",
       "    </tr>\n",
       "    <tr>\n",
       "      <th>47348</th>\n",
       "      <td>2022-03-15</td>\n",
       "      <td>BUY_PRODUCT</td>\n",
       "    </tr>\n",
       "    <tr>\n",
       "      <th>47351</th>\n",
       "      <td>2022-04-11</td>\n",
       "      <td>BUY_PRODUCT</td>\n",
       "    </tr>\n",
       "    <tr>\n",
       "      <th>47354</th>\n",
       "      <td>2022-01-26</td>\n",
       "      <td>BUY_PRODUCT</td>\n",
       "    </tr>\n",
       "    <tr>\n",
       "      <th>47364</th>\n",
       "      <td>2022-02-19</td>\n",
       "      <td>BUY_PRODUCT</td>\n",
       "    </tr>\n",
       "    <tr>\n",
       "      <th>47372</th>\n",
       "      <td>2022-03-03</td>\n",
       "      <td>BUY_PRODUCT</td>\n",
       "    </tr>\n",
       "  </tbody>\n",
       "</table>\n",
       "<p>7497 rows × 2 columns</p>\n",
       "</div>"
      ],
      "text/plain": [
       "       timestamp      event_type\n",
       "5     2022-03-15     BUY_PRODUCT\n",
       "7     2022-01-10     BUY_PRODUCT\n",
       "14    2022-04-05     BUY_PRODUCT\n",
       "15    2022-04-17  RETURN_PRODUCT\n",
       "18    2022-03-14     BUY_PRODUCT\n",
       "...          ...             ...\n",
       "47348 2022-03-15     BUY_PRODUCT\n",
       "47351 2022-04-11     BUY_PRODUCT\n",
       "47354 2022-01-26     BUY_PRODUCT\n",
       "47364 2022-02-19     BUY_PRODUCT\n",
       "47372 2022-03-03     BUY_PRODUCT\n",
       "\n",
       "[7497 rows x 2 columns]"
      ]
     },
     "execution_count": 177,
     "metadata": {},
     "output_type": "execute_result"
    }
   ],
   "source": [
    "df_sessions_analysis = df_sessions[['timestamp', 'event_type']]\n",
    "df_sessions_analysis[(df_sessions_analysis['event_type'] == 'RETURN_PRODUCT') | (df_sessions_analysis['event_type'] == 'BUY_PRODUCT')]"
   ]
  },
  {
   "cell_type": "code",
   "execution_count": 182,
   "id": "2ed8f1b8",
   "metadata": {},
   "outputs": [
    {
     "name": "stderr",
     "output_type": "stream",
     "text": [
      "/home/kuba/PW/IUM/venv/lib/python3.6/site-packages/ipykernel_launcher.py:1: SettingWithCopyWarning: \n",
      "A value is trying to be set on a copy of a slice from a DataFrame.\n",
      "Try using .loc[row_indexer,col_indexer] = value instead\n",
      "\n",
      "See the caveats in the documentation: https://pandas.pydata.org/pandas-docs/stable/user_guide/indexing.html#returning-a-view-versus-a-copy\n",
      "  \"\"\"Entry point for launching an IPython kernel.\n"
     ]
    },
    {
     "data": {
      "text/html": [
       "<div>\n",
       "<style scoped>\n",
       "    .dataframe tbody tr th:only-of-type {\n",
       "        vertical-align: middle;\n",
       "    }\n",
       "\n",
       "    .dataframe tbody tr th {\n",
       "        vertical-align: top;\n",
       "    }\n",
       "\n",
       "    .dataframe thead th {\n",
       "        text-align: right;\n",
       "    }\n",
       "</style>\n",
       "<table border=\"1\" class=\"dataframe\">\n",
       "  <thead>\n",
       "    <tr style=\"text-align: right;\">\n",
       "      <th></th>\n",
       "      <th>timestamp</th>\n",
       "      <th>event_type</th>\n",
       "      <th>month</th>\n",
       "    </tr>\n",
       "  </thead>\n",
       "  <tbody>\n",
       "    <tr>\n",
       "      <th>0</th>\n",
       "      <td>2022-03-15</td>\n",
       "      <td>VIEW_PRODUCT</td>\n",
       "      <td>3</td>\n",
       "    </tr>\n",
       "    <tr>\n",
       "      <th>1</th>\n",
       "      <td>2022-03-15</td>\n",
       "      <td>VIEW_PRODUCT</td>\n",
       "      <td>3</td>\n",
       "    </tr>\n",
       "    <tr>\n",
       "      <th>2</th>\n",
       "      <td>2022-03-15</td>\n",
       "      <td>VIEW_PRODUCT</td>\n",
       "      <td>3</td>\n",
       "    </tr>\n",
       "    <tr>\n",
       "      <th>3</th>\n",
       "      <td>2022-03-15</td>\n",
       "      <td>VIEW_PRODUCT</td>\n",
       "      <td>3</td>\n",
       "    </tr>\n",
       "    <tr>\n",
       "      <th>4</th>\n",
       "      <td>2022-03-15</td>\n",
       "      <td>VIEW_PRODUCT</td>\n",
       "      <td>3</td>\n",
       "    </tr>\n",
       "    <tr>\n",
       "      <th>...</th>\n",
       "      <td>...</td>\n",
       "      <td>...</td>\n",
       "      <td>...</td>\n",
       "    </tr>\n",
       "    <tr>\n",
       "      <th>47378</th>\n",
       "      <td>2022-04-09</td>\n",
       "      <td>VIEW_PRODUCT</td>\n",
       "      <td>4</td>\n",
       "    </tr>\n",
       "    <tr>\n",
       "      <th>47379</th>\n",
       "      <td>2022-04-09</td>\n",
       "      <td>VIEW_PRODUCT</td>\n",
       "      <td>4</td>\n",
       "    </tr>\n",
       "    <tr>\n",
       "      <th>47380</th>\n",
       "      <td>2022-04-09</td>\n",
       "      <td>VIEW_PRODUCT</td>\n",
       "      <td>4</td>\n",
       "    </tr>\n",
       "    <tr>\n",
       "      <th>47381</th>\n",
       "      <td>2022-04-09</td>\n",
       "      <td>VIEW_PRODUCT</td>\n",
       "      <td>4</td>\n",
       "    </tr>\n",
       "    <tr>\n",
       "      <th>47382</th>\n",
       "      <td>2022-04-09</td>\n",
       "      <td>VIEW_PRODUCT</td>\n",
       "      <td>4</td>\n",
       "    </tr>\n",
       "  </tbody>\n",
       "</table>\n",
       "<p>47383 rows × 3 columns</p>\n",
       "</div>"
      ],
      "text/plain": [
       "       timestamp    event_type  month\n",
       "0     2022-03-15  VIEW_PRODUCT      3\n",
       "1     2022-03-15  VIEW_PRODUCT      3\n",
       "2     2022-03-15  VIEW_PRODUCT      3\n",
       "3     2022-03-15  VIEW_PRODUCT      3\n",
       "4     2022-03-15  VIEW_PRODUCT      3\n",
       "...          ...           ...    ...\n",
       "47378 2022-04-09  VIEW_PRODUCT      4\n",
       "47379 2022-04-09  VIEW_PRODUCT      4\n",
       "47380 2022-04-09  VIEW_PRODUCT      4\n",
       "47381 2022-04-09  VIEW_PRODUCT      4\n",
       "47382 2022-04-09  VIEW_PRODUCT      4\n",
       "\n",
       "[47383 rows x 3 columns]"
      ]
     },
     "execution_count": 182,
     "metadata": {},
     "output_type": "execute_result"
    }
   ],
   "source": [
    "df_sessions_analysis['month'] = df_sessions_analysis['timestamp'].dt.month\n",
    "df_sessions_analysis"
   ]
  },
  {
   "cell_type": "code",
   "execution_count": 183,
   "id": "36127a01",
   "metadata": {},
   "outputs": [
    {
     "data": {
      "text/html": [
       "<div>\n",
       "<style scoped>\n",
       "    .dataframe tbody tr th:only-of-type {\n",
       "        vertical-align: middle;\n",
       "    }\n",
       "\n",
       "    .dataframe tbody tr th {\n",
       "        vertical-align: top;\n",
       "    }\n",
       "\n",
       "    .dataframe thead th {\n",
       "        text-align: right;\n",
       "    }\n",
       "</style>\n",
       "<table border=\"1\" class=\"dataframe\">\n",
       "  <thead>\n",
       "    <tr style=\"text-align: right;\">\n",
       "      <th></th>\n",
       "      <th>event_type</th>\n",
       "      <th>month</th>\n",
       "    </tr>\n",
       "  </thead>\n",
       "  <tbody>\n",
       "    <tr>\n",
       "      <th>0</th>\n",
       "      <td>VIEW_PRODUCT</td>\n",
       "      <td>3</td>\n",
       "    </tr>\n",
       "    <tr>\n",
       "      <th>1</th>\n",
       "      <td>VIEW_PRODUCT</td>\n",
       "      <td>3</td>\n",
       "    </tr>\n",
       "    <tr>\n",
       "      <th>2</th>\n",
       "      <td>VIEW_PRODUCT</td>\n",
       "      <td>3</td>\n",
       "    </tr>\n",
       "    <tr>\n",
       "      <th>3</th>\n",
       "      <td>VIEW_PRODUCT</td>\n",
       "      <td>3</td>\n",
       "    </tr>\n",
       "    <tr>\n",
       "      <th>4</th>\n",
       "      <td>VIEW_PRODUCT</td>\n",
       "      <td>3</td>\n",
       "    </tr>\n",
       "    <tr>\n",
       "      <th>...</th>\n",
       "      <td>...</td>\n",
       "      <td>...</td>\n",
       "    </tr>\n",
       "    <tr>\n",
       "      <th>47378</th>\n",
       "      <td>VIEW_PRODUCT</td>\n",
       "      <td>4</td>\n",
       "    </tr>\n",
       "    <tr>\n",
       "      <th>47379</th>\n",
       "      <td>VIEW_PRODUCT</td>\n",
       "      <td>4</td>\n",
       "    </tr>\n",
       "    <tr>\n",
       "      <th>47380</th>\n",
       "      <td>VIEW_PRODUCT</td>\n",
       "      <td>4</td>\n",
       "    </tr>\n",
       "    <tr>\n",
       "      <th>47381</th>\n",
       "      <td>VIEW_PRODUCT</td>\n",
       "      <td>4</td>\n",
       "    </tr>\n",
       "    <tr>\n",
       "      <th>47382</th>\n",
       "      <td>VIEW_PRODUCT</td>\n",
       "      <td>4</td>\n",
       "    </tr>\n",
       "  </tbody>\n",
       "</table>\n",
       "<p>47383 rows × 2 columns</p>\n",
       "</div>"
      ],
      "text/plain": [
       "         event_type  month\n",
       "0      VIEW_PRODUCT      3\n",
       "1      VIEW_PRODUCT      3\n",
       "2      VIEW_PRODUCT      3\n",
       "3      VIEW_PRODUCT      3\n",
       "4      VIEW_PRODUCT      3\n",
       "...             ...    ...\n",
       "47378  VIEW_PRODUCT      4\n",
       "47379  VIEW_PRODUCT      4\n",
       "47380  VIEW_PRODUCT      4\n",
       "47381  VIEW_PRODUCT      4\n",
       "47382  VIEW_PRODUCT      4\n",
       "\n",
       "[47383 rows x 2 columns]"
      ]
     },
     "execution_count": 183,
     "metadata": {},
     "output_type": "execute_result"
    }
   ],
   "source": [
    "df_sessions_analysis[['event_type', 'month']]"
   ]
  },
  {
   "cell_type": "code",
   "execution_count": 195,
   "id": "dcfcc28c",
   "metadata": {},
   "outputs": [
    {
     "data": {
      "text/html": [
       "<div>\n",
       "<style scoped>\n",
       "    .dataframe tbody tr th:only-of-type {\n",
       "        vertical-align: middle;\n",
       "    }\n",
       "\n",
       "    .dataframe tbody tr th {\n",
       "        vertical-align: top;\n",
       "    }\n",
       "\n",
       "    .dataframe thead th {\n",
       "        text-align: right;\n",
       "    }\n",
       "</style>\n",
       "<table border=\"1\" class=\"dataframe\">\n",
       "  <thead>\n",
       "    <tr style=\"text-align: right;\">\n",
       "      <th></th>\n",
       "      <th>month</th>\n",
       "      <th>event_type_BUY_PRODUCT</th>\n",
       "      <th>event_type_RETURN_PRODUCT</th>\n",
       "      <th>event_type_VIEW_PRODUCT</th>\n",
       "    </tr>\n",
       "  </thead>\n",
       "  <tbody>\n",
       "    <tr>\n",
       "      <th>0</th>\n",
       "      <td>3</td>\n",
       "      <td>0</td>\n",
       "      <td>0</td>\n",
       "      <td>1</td>\n",
       "    </tr>\n",
       "    <tr>\n",
       "      <th>1</th>\n",
       "      <td>3</td>\n",
       "      <td>0</td>\n",
       "      <td>0</td>\n",
       "      <td>1</td>\n",
       "    </tr>\n",
       "    <tr>\n",
       "      <th>2</th>\n",
       "      <td>3</td>\n",
       "      <td>0</td>\n",
       "      <td>0</td>\n",
       "      <td>1</td>\n",
       "    </tr>\n",
       "    <tr>\n",
       "      <th>3</th>\n",
       "      <td>3</td>\n",
       "      <td>0</td>\n",
       "      <td>0</td>\n",
       "      <td>1</td>\n",
       "    </tr>\n",
       "    <tr>\n",
       "      <th>4</th>\n",
       "      <td>3</td>\n",
       "      <td>0</td>\n",
       "      <td>0</td>\n",
       "      <td>1</td>\n",
       "    </tr>\n",
       "    <tr>\n",
       "      <th>...</th>\n",
       "      <td>...</td>\n",
       "      <td>...</td>\n",
       "      <td>...</td>\n",
       "      <td>...</td>\n",
       "    </tr>\n",
       "    <tr>\n",
       "      <th>47378</th>\n",
       "      <td>4</td>\n",
       "      <td>0</td>\n",
       "      <td>0</td>\n",
       "      <td>1</td>\n",
       "    </tr>\n",
       "    <tr>\n",
       "      <th>47379</th>\n",
       "      <td>4</td>\n",
       "      <td>0</td>\n",
       "      <td>0</td>\n",
       "      <td>1</td>\n",
       "    </tr>\n",
       "    <tr>\n",
       "      <th>47380</th>\n",
       "      <td>4</td>\n",
       "      <td>0</td>\n",
       "      <td>0</td>\n",
       "      <td>1</td>\n",
       "    </tr>\n",
       "    <tr>\n",
       "      <th>47381</th>\n",
       "      <td>4</td>\n",
       "      <td>0</td>\n",
       "      <td>0</td>\n",
       "      <td>1</td>\n",
       "    </tr>\n",
       "    <tr>\n",
       "      <th>47382</th>\n",
       "      <td>4</td>\n",
       "      <td>0</td>\n",
       "      <td>0</td>\n",
       "      <td>1</td>\n",
       "    </tr>\n",
       "  </tbody>\n",
       "</table>\n",
       "<p>47383 rows × 4 columns</p>\n",
       "</div>"
      ],
      "text/plain": [
       "       month  event_type_BUY_PRODUCT  event_type_RETURN_PRODUCT  \\\n",
       "0          3                       0                          0   \n",
       "1          3                       0                          0   \n",
       "2          3                       0                          0   \n",
       "3          3                       0                          0   \n",
       "4          3                       0                          0   \n",
       "...      ...                     ...                        ...   \n",
       "47378      4                       0                          0   \n",
       "47379      4                       0                          0   \n",
       "47380      4                       0                          0   \n",
       "47381      4                       0                          0   \n",
       "47382      4                       0                          0   \n",
       "\n",
       "       event_type_VIEW_PRODUCT  \n",
       "0                            1  \n",
       "1                            1  \n",
       "2                            1  \n",
       "3                            1  \n",
       "4                            1  \n",
       "...                        ...  \n",
       "47378                        1  \n",
       "47379                        1  \n",
       "47380                        1  \n",
       "47381                        1  \n",
       "47382                        1  \n",
       "\n",
       "[47383 rows x 4 columns]"
      ]
     },
     "execution_count": 195,
     "metadata": {},
     "output_type": "execute_result"
    }
   ],
   "source": [
    "monthly_analysis = pd.get_dummies(df_sessions_analysis[['event_type', 'month']], columns=['event_type'])\n",
    "monthly_analysis"
   ]
  },
  {
   "cell_type": "code",
   "execution_count": 201,
   "id": "fa58c930",
   "metadata": {},
   "outputs": [
    {
     "data": {
      "text/plain": [
       "<AxesSubplot:xlabel='month', ylabel='count'>"
      ]
     },
     "execution_count": 201,
     "metadata": {},
     "output_type": "execute_result"
    },
    {
     "data": {
      "image/png": "[encoded data removed]",
      "text/plain": [
       "<Figure size 432x288 with 1 Axes>"
      ]
     },
     "metadata": {
      "needs_background": "light"
     },
     "output_type": "display_data"
    }
   ],
   "source": [
    "sns.countplot(x='month', data=monthly_analysis)"
   ]
  },
  {
   "cell_type": "code",
   "execution_count": 189,
   "id": "aef3721b",
   "metadata": {},
   "outputs": [
    {
     "data": {
      "text/html": [
       "<div>\n",
       "<style scoped>\n",
       "    .dataframe tbody tr th:only-of-type {\n",
       "        vertical-align: middle;\n",
       "    }\n",
       "\n",
       "    .dataframe tbody tr th {\n",
       "        vertical-align: top;\n",
       "    }\n",
       "\n",
       "    .dataframe thead th {\n",
       "        text-align: right;\n",
       "    }\n",
       "</style>\n",
       "<table border=\"1\" class=\"dataframe\">\n",
       "  <thead>\n",
       "    <tr style=\"text-align: right;\">\n",
       "      <th></th>\n",
       "      <th>event_type_BUY_PRODUCT</th>\n",
       "      <th>event_type_RETURN_PRODUCT</th>\n",
       "      <th>event_type_VIEW_PRODUCT</th>\n",
       "    </tr>\n",
       "    <tr>\n",
       "      <th>month</th>\n",
       "      <th></th>\n",
       "      <th></th>\n",
       "      <th></th>\n",
       "    </tr>\n",
       "  </thead>\n",
       "  <tbody>\n",
       "    <tr>\n",
       "      <th>1</th>\n",
       "      <td>2140.0</td>\n",
       "      <td>100.0</td>\n",
       "      <td>12270.0</td>\n",
       "    </tr>\n",
       "    <tr>\n",
       "      <th>2</th>\n",
       "      <td>1863.0</td>\n",
       "      <td>405.0</td>\n",
       "      <td>11085.0</td>\n",
       "    </tr>\n",
       "    <tr>\n",
       "      <th>3</th>\n",
       "      <td>2095.0</td>\n",
       "      <td>147.0</td>\n",
       "      <td>12393.0</td>\n",
       "    </tr>\n",
       "    <tr>\n",
       "      <th>4</th>\n",
       "      <td>673.0</td>\n",
       "      <td>74.0</td>\n",
       "      <td>4138.0</td>\n",
       "    </tr>\n",
       "  </tbody>\n",
       "</table>\n",
       "</div>"
      ],
      "text/plain": [
       "       event_type_BUY_PRODUCT  event_type_RETURN_PRODUCT  \\\n",
       "month                                                      \n",
       "1                      2140.0                      100.0   \n",
       "2                      1863.0                      405.0   \n",
       "3                      2095.0                      147.0   \n",
       "4                       673.0                       74.0   \n",
       "\n",
       "       event_type_VIEW_PRODUCT  \n",
       "month                           \n",
       "1                      12270.0  \n",
       "2                      11085.0  \n",
       "3                      12393.0  \n",
       "4                       4138.0  "
      ]
     },
     "execution_count": 189,
     "metadata": {},
     "output_type": "execute_result"
    }
   ],
   "source": [
    "monthly_analysis = pd.get_dummies(df_sessions_analysis[['event_type', 'month']], columns=['event_type'])\n",
    "grouped_monthly_analysis = monthly_analysis.groupby('month').sum()\n",
    "grouped_monthly_analysis"
   ]
  },
  {
   "cell_type": "code",
   "execution_count": 204,
   "id": "7e4d611f",
   "metadata": {},
   "outputs": [
    {
     "data": {
      "text/html": [
       "<div>\n",
       "<style scoped>\n",
       "    .dataframe tbody tr th:only-of-type {\n",
       "        vertical-align: middle;\n",
       "    }\n",
       "\n",
       "    .dataframe tbody tr th {\n",
       "        vertical-align: top;\n",
       "    }\n",
       "\n",
       "    .dataframe thead th {\n",
       "        text-align: right;\n",
       "    }\n",
       "</style>\n",
       "<table border=\"1\" class=\"dataframe\">\n",
       "  <thead>\n",
       "    <tr style=\"text-align: right;\">\n",
       "      <th></th>\n",
       "      <th>event_type_BUY_PRODUCT</th>\n",
       "      <th>event_type_RETURN_PRODUCT</th>\n",
       "      <th>event_type_VIEW_PRODUCT</th>\n",
       "    </tr>\n",
       "    <tr>\n",
       "      <th>month</th>\n",
       "      <th></th>\n",
       "      <th></th>\n",
       "      <th></th>\n",
       "    </tr>\n",
       "  </thead>\n",
       "  <tbody>\n",
       "    <tr>\n",
       "      <th>1</th>\n",
       "      <td>2140.0</td>\n",
       "      <td>100.0</td>\n",
       "      <td>12270.0</td>\n",
       "    </tr>\n",
       "    <tr>\n",
       "      <th>2</th>\n",
       "      <td>1863.0</td>\n",
       "      <td>405.0</td>\n",
       "      <td>11085.0</td>\n",
       "    </tr>\n",
       "    <tr>\n",
       "      <th>3</th>\n",
       "      <td>2095.0</td>\n",
       "      <td>147.0</td>\n",
       "      <td>12393.0</td>\n",
       "    </tr>\n",
       "    <tr>\n",
       "      <th>4</th>\n",
       "      <td>673.0</td>\n",
       "      <td>74.0</td>\n",
       "      <td>4138.0</td>\n",
       "    </tr>\n",
       "  </tbody>\n",
       "</table>\n",
       "</div>"
      ],
      "text/plain": [
       "       event_type_BUY_PRODUCT  event_type_RETURN_PRODUCT  \\\n",
       "month                                                      \n",
       "1                      2140.0                      100.0   \n",
       "2                      1863.0                      405.0   \n",
       "3                      2095.0                      147.0   \n",
       "4                       673.0                       74.0   \n",
       "\n",
       "       event_type_VIEW_PRODUCT  \n",
       "month                           \n",
       "1                      12270.0  \n",
       "2                      11085.0  \n",
       "3                      12393.0  \n",
       "4                       4138.0  "
      ]
     },
     "execution_count": 204,
     "metadata": {},
     "output_type": "execute_result"
    }
   ],
   "source": [
    "grouped_monthly_analysis"
   ]
  },
  {
   "cell_type": "code",
   "execution_count": 206,
   "id": "15112d7a",
   "metadata": {},
   "outputs": [
    {
     "data": {
      "text/plain": [
       "<AxesSubplot:xlabel='month'>"
      ]
     },
     "execution_count": 206,
     "metadata": {},
     "output_type": "execute_result"
    },
    {
     "data": {
      "image/png": "[encoded data removed]",
      "text/plain": [
       "<Figure size 432x288 with 1 Axes>"
      ]
     },
     "metadata": {
      "needs_background": "light"
     },
     "output_type": "display_data"
    }
   ],
   "source": [
    "grouped_monthly_analysis[['event_type_BUY_PRODUCT']].plot(kind='bar')"
   ]
  },
  {
   "cell_type": "code",
   "execution_count": 207,
   "id": "f6ed952c",
   "metadata": {},
   "outputs": [
    {
     "data": {
      "text/plain": [
       "<AxesSubplot:xlabel='month'>"
      ]
     },
     "execution_count": 207,
     "metadata": {},
     "output_type": "execute_result"
    },
    {
     "data": {
      "image/png": "[encoded data removed]",
      "text/plain": [
       "<Figure size 432x288 with 1 Axes>"
      ]
     },
     "metadata": {
      "needs_background": "light"
     },
     "output_type": "display_data"
    }
   ],
   "source": [
    "grouped_monthly_analysis[['event_type_RETURN_PRODUCT']].plot(kind='bar')"
   ]
  },
  {
   "cell_type": "code",
   "execution_count": 139,
   "id": "271f7147",
   "metadata": {},
   "outputs": [
    {
     "name": "stdout",
     "output_type": "stream",
     "text": [
      "<class 'pandas.core.frame.DataFrame'>\n",
      "RangeIndex: 47383 entries, 0 to 47382\n",
      "Data columns (total 2 columns):\n",
      " #   Column      Non-Null Count  Dtype         \n",
      "---  ------      --------------  -----         \n",
      " 0   timestamp   47383 non-null  datetime64[ns]\n",
      " 1   event_type  47383 non-null  object        \n",
      "dtypes: datetime64[ns](1), object(1)\n",
      "memory usage: 740.5+ KB\n"
     ]
    }
   ],
   "source": [
    "df_sessions_analysis.info()"
   ]
  },
  {
   "cell_type": "code",
   "execution_count": 178,
   "id": "3654cbb4",
   "metadata": {},
   "outputs": [
    {
     "data": {
      "text/html": [
       "<div>\n",
       "<style scoped>\n",
       "    .dataframe tbody tr th:only-of-type {\n",
       "        vertical-align: middle;\n",
       "    }\n",
       "\n",
       "    .dataframe tbody tr th {\n",
       "        vertical-align: top;\n",
       "    }\n",
       "\n",
       "    .dataframe thead th {\n",
       "        text-align: right;\n",
       "    }\n",
       "</style>\n",
       "<table border=\"1\" class=\"dataframe\">\n",
       "  <thead>\n",
       "    <tr style=\"text-align: right;\">\n",
       "      <th></th>\n",
       "      <th>timestamp</th>\n",
       "      <th>event_type</th>\n",
       "    </tr>\n",
       "  </thead>\n",
       "  <tbody>\n",
       "    <tr>\n",
       "      <th>0</th>\n",
       "      <td>2022-03-15</td>\n",
       "      <td>VIEW_PRODUCT</td>\n",
       "    </tr>\n",
       "    <tr>\n",
       "      <th>1</th>\n",
       "      <td>2022-03-15</td>\n",
       "      <td>VIEW_PRODUCT</td>\n",
       "    </tr>\n",
       "    <tr>\n",
       "      <th>2</th>\n",
       "      <td>2022-03-15</td>\n",
       "      <td>VIEW_PRODUCT</td>\n",
       "    </tr>\n",
       "    <tr>\n",
       "      <th>3</th>\n",
       "      <td>2022-03-15</td>\n",
       "      <td>VIEW_PRODUCT</td>\n",
       "    </tr>\n",
       "    <tr>\n",
       "      <th>4</th>\n",
       "      <td>2022-03-15</td>\n",
       "      <td>VIEW_PRODUCT</td>\n",
       "    </tr>\n",
       "    <tr>\n",
       "      <th>...</th>\n",
       "      <td>...</td>\n",
       "      <td>...</td>\n",
       "    </tr>\n",
       "    <tr>\n",
       "      <th>47378</th>\n",
       "      <td>2022-04-09</td>\n",
       "      <td>VIEW_PRODUCT</td>\n",
       "    </tr>\n",
       "    <tr>\n",
       "      <th>47379</th>\n",
       "      <td>2022-04-09</td>\n",
       "      <td>VIEW_PRODUCT</td>\n",
       "    </tr>\n",
       "    <tr>\n",
       "      <th>47380</th>\n",
       "      <td>2022-04-09</td>\n",
       "      <td>VIEW_PRODUCT</td>\n",
       "    </tr>\n",
       "    <tr>\n",
       "      <th>47381</th>\n",
       "      <td>2022-04-09</td>\n",
       "      <td>VIEW_PRODUCT</td>\n",
       "    </tr>\n",
       "    <tr>\n",
       "      <th>47382</th>\n",
       "      <td>2022-04-09</td>\n",
       "      <td>VIEW_PRODUCT</td>\n",
       "    </tr>\n",
       "  </tbody>\n",
       "</table>\n",
       "<p>47383 rows × 2 columns</p>\n",
       "</div>"
      ],
      "text/plain": [
       "       timestamp    event_type\n",
       "0     2022-03-15  VIEW_PRODUCT\n",
       "1     2022-03-15  VIEW_PRODUCT\n",
       "2     2022-03-15  VIEW_PRODUCT\n",
       "3     2022-03-15  VIEW_PRODUCT\n",
       "4     2022-03-15  VIEW_PRODUCT\n",
       "...          ...           ...\n",
       "47378 2022-04-09  VIEW_PRODUCT\n",
       "47379 2022-04-09  VIEW_PRODUCT\n",
       "47380 2022-04-09  VIEW_PRODUCT\n",
       "47381 2022-04-09  VIEW_PRODUCT\n",
       "47382 2022-04-09  VIEW_PRODUCT\n",
       "\n",
       "[47383 rows x 2 columns]"
      ]
     },
     "execution_count": 178,
     "metadata": {},
     "output_type": "execute_result"
    }
   ],
   "source": [
    "df_sessions_analysis"
   ]
  },
  {
   "cell_type": "code",
   "execution_count": 153,
   "metadata": {},
   "outputs": [
    {
     "data": {
      "text/html": [
       "<div>\n",
       "<style scoped>\n",
       "    .dataframe tbody tr th:only-of-type {\n",
       "        vertical-align: middle;\n",
       "    }\n",
       "\n",
       "    .dataframe tbody tr th {\n",
       "        vertical-align: top;\n",
       "    }\n",
       "\n",
       "    .dataframe thead th {\n",
       "        text-align: right;\n",
       "    }\n",
       "</style>\n",
       "<table border=\"1\" class=\"dataframe\">\n",
       "  <thead>\n",
       "    <tr style=\"text-align: right;\">\n",
       "      <th></th>\n",
       "      <th></th>\n",
       "      <th>event_type</th>\n",
       "    </tr>\n",
       "    <tr>\n",
       "      <th>timestamp</th>\n",
       "      <th>event_type</th>\n",
       "      <th></th>\n",
       "    </tr>\n",
       "  </thead>\n",
       "  <tbody>\n",
       "    <tr>\n",
       "      <th rowspan=\"2\" valign=\"top\">2022-01-01</th>\n",
       "      <th>BUY_PRODUCT</th>\n",
       "      <td>72</td>\n",
       "    </tr>\n",
       "    <tr>\n",
       "      <th>VIEW_PRODUCT</th>\n",
       "      <td>448</td>\n",
       "    </tr>\n",
       "    <tr>\n",
       "      <th rowspan=\"2\" valign=\"top\">2022-01-02</th>\n",
       "      <th>BUY_PRODUCT</th>\n",
       "      <td>72</td>\n",
       "    </tr>\n",
       "    <tr>\n",
       "      <th>VIEW_PRODUCT</th>\n",
       "      <td>406</td>\n",
       "    </tr>\n",
       "    <tr>\n",
       "      <th>2022-01-03</th>\n",
       "      <th>BUY_PRODUCT</th>\n",
       "      <td>72</td>\n",
       "    </tr>\n",
       "    <tr>\n",
       "      <th>...</th>\n",
       "      <th>...</th>\n",
       "      <td>...</td>\n",
       "    </tr>\n",
       "    <tr>\n",
       "      <th>2022-04-21</th>\n",
       "      <th>RETURN_PRODUCT</th>\n",
       "      <td>1</td>\n",
       "    </tr>\n",
       "    <tr>\n",
       "      <th>2022-04-23</th>\n",
       "      <th>RETURN_PRODUCT</th>\n",
       "      <td>2</td>\n",
       "    </tr>\n",
       "    <tr>\n",
       "      <th>2022-04-24</th>\n",
       "      <th>RETURN_PRODUCT</th>\n",
       "      <td>1</td>\n",
       "    </tr>\n",
       "    <tr>\n",
       "      <th>2022-04-26</th>\n",
       "      <th>RETURN_PRODUCT</th>\n",
       "      <td>1</td>\n",
       "    </tr>\n",
       "    <tr>\n",
       "      <th>2022-04-30</th>\n",
       "      <th>RETURN_PRODUCT</th>\n",
       "      <td>1</td>\n",
       "    </tr>\n",
       "  </tbody>\n",
       "</table>\n",
       "<p>309 rows × 1 columns</p>\n",
       "</div>"
      ],
      "text/plain": [
       "                           event_type\n",
       "timestamp  event_type                \n",
       "2022-01-01 BUY_PRODUCT             72\n",
       "           VIEW_PRODUCT           448\n",
       "2022-01-02 BUY_PRODUCT             72\n",
       "           VIEW_PRODUCT           406\n",
       "2022-01-03 BUY_PRODUCT             72\n",
       "...                               ...\n",
       "2022-04-21 RETURN_PRODUCT           1\n",
       "2022-04-23 RETURN_PRODUCT           2\n",
       "2022-04-24 RETURN_PRODUCT           1\n",
       "2022-04-26 RETURN_PRODUCT           1\n",
       "2022-04-30 RETURN_PRODUCT           1\n",
       "\n",
       "[309 rows x 1 columns]"
      ]
     },
     "execution_count": 153,
     "metadata": {},
     "output_type": "execute_result"
    }
   ],
   "source": [
    "monthly_sessions = df_sessions_analysis.groupby(['timestamp', 'event_type']).agg({'event_type':'count'})\n",
    "monthly_sessions"
   ]
  },
  {
   "cell_type": "code",
   "execution_count": 157,
   "id": "4eabca22",
   "metadata": {},
   "outputs": [
    {
     "name": "stdout",
     "output_type": "stream",
     "text": [
      "<class 'pandas.core.frame.DataFrame'>\n",
      "MultiIndex: 309 entries, (Timestamp('2022-01-01 00:00:00'), 'BUY_PRODUCT') to (Timestamp('2022-04-30 00:00:00'), 'RETURN_PRODUCT')\n",
      "Data columns (total 1 columns):\n",
      " #   Column      Non-Null Count  Dtype\n",
      "---  ------      --------------  -----\n",
      " 0   event_type  309 non-null    int64\n",
      "dtypes: int64(1)\n",
      "memory usage: 4.0+ KB\n"
     ]
    }
   ],
   "source": [
    "monthly_sessions.info()"
   ]
  },
  {
   "cell_type": "code",
   "execution_count": null,
   "id": "a4a0dbfd",
   "metadata": {},
   "outputs": [],
   "source": []
  },
  {
   "cell_type": "code",
   "execution_count": 137,
   "id": "86856da4",
   "metadata": {},
   "outputs": [
    {
     "data": {
      "text/plain": [
       "<pandas.core.groupby.generic.DataFrameGroupBy object at 0x7f871ba2cac8>"
      ]
     },
     "execution_count": 137,
     "metadata": {},
     "output_type": "execute_result"
    }
   ],
   "source": []
  },
  {
   "cell_type": "code",
   "execution_count": 131,
   "id": "267df14f",
   "metadata": {},
   "outputs": [
    {
     "data": {
      "text/html": [
       "<div>\n",
       "<style scoped>\n",
       "    .dataframe tbody tr th:only-of-type {\n",
       "        vertical-align: middle;\n",
       "    }\n",
       "\n",
       "    .dataframe tbody tr th {\n",
       "        vertical-align: top;\n",
       "    }\n",
       "\n",
       "    .dataframe thead th {\n",
       "        text-align: right;\n",
       "    }\n",
       "</style>\n",
       "<table border=\"1\" class=\"dataframe\">\n",
       "  <thead>\n",
       "    <tr style=\"text-align: right;\">\n",
       "      <th></th>\n",
       "      <th>event_type</th>\n",
       "    </tr>\n",
       "    <tr>\n",
       "      <th>timestamp</th>\n",
       "      <th></th>\n",
       "    </tr>\n",
       "  </thead>\n",
       "  <tbody>\n",
       "    <tr>\n",
       "      <th>2022-01-31</th>\n",
       "      <td>14510</td>\n",
       "    </tr>\n",
       "    <tr>\n",
       "      <th>2022-02-28</th>\n",
       "      <td>13353</td>\n",
       "    </tr>\n",
       "    <tr>\n",
       "      <th>2022-03-31</th>\n",
       "      <td>14635</td>\n",
       "    </tr>\n",
       "    <tr>\n",
       "      <th>2022-04-30</th>\n",
       "      <td>4885</td>\n",
       "    </tr>\n",
       "  </tbody>\n",
       "</table>\n",
       "</div>"
      ],
      "text/plain": [
       "            event_type\n",
       "timestamp             \n",
       "2022-01-31       14510\n",
       "2022-02-28       13353\n",
       "2022-03-31       14635\n",
       "2022-04-30        4885"
      ]
     },
     "execution_count": 131,
     "metadata": {},
     "output_type": "execute_result"
    }
   ],
   "source": [
    "df_sessions_analysis.resample('M').count()"
   ]
  },
  {
   "cell_type": "code",
   "execution_count": null,
   "id": "af157acb",
   "metadata": {},
   "outputs": [],
   "source": []
  }
 ],
 "metadata": {
  "kernelspec": {
   "display_name": "Python 3",
   "language": "python",
   "name": "python3"
  },
  "language_info": {
   "codemirror_mode": {
    "name": "ipython",
    "version": 3
   },
   "file_extension": ".py",
   "mimetype": "text/x-python",
   "name": "python",
   "nbconvert_exporter": "python",
   "pygments_lexer": "ipython3",
   "version": "3.6.9"
  }
 },
 "nbformat": 4,
 "nbformat_minor": 5
}
